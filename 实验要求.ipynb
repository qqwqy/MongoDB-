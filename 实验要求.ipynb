{
 "cells": [
  {
   "cell_type": "markdown",
   "id": "43673c39",
   "metadata": {},
   "source": [
    "# 实验任务：MongoDB地理空间数据查询与分析\n",
    "## 一、实验目的\n",
    "1. 掌握MongoDB地理空间数据的基本结构与GeoJSON格式。\n",
    "2. 学会在MongoDB中导入地理空间数据并创建2dsphere索引。\n",
    "3. 熟悉$geoWithin、$geoIntersects、$nearSphere等地理空间查询操作符的使用方法。\n",
    "4. 能够结合实际需求，设计并实现地理空间相关的查询。\n",
    "\n",
    "## 二、实验数据\n",
    "- [neighborhoods.json](https://raw.githubusercontent.com/mongodb/docs-assets/geospatial/neighborhoods.json)\n",
    "- [restaurants.json](https://raw.githubusercontent.com/mongodb/docs-assets/geospatial/restaurants.json)\n",
    "\n",
    "## 三、实验步骤\n",
    "\n",
    "1. **数据导入**\n",
    "   - 使用`mongoimport`命令将上述两个数据集分别导入MongoDB的`neighborhoods`和`restaurants`集合。\n",
    "\n",
    "2. **索引创建**\n",
    "   - 在`restaurants`集合的`location`字段和`neighborhoods`集合的`geometry`字段上分别创建`2dsphere`索引。\n",
    "\n",
    "3. **基础查询**\n",
    "   - 查询任意一个餐馆和社区的文档，理解其GeoJSON结构。\n",
    "\n",
    "4. **空间查询实践**\n",
    "   - （1）假设用户位于经度-73.93414657、纬度40.82302903，使用`$geoIntersects`查询该点所在的社区名称。\n",
    "   - （2）统计该社区内的餐馆数量。\n",
    "   - （3）查找距离该点5英里范围内的所有餐馆，并按距离升序排序，输出前10家餐馆的名称和坐标。\n",
    "\n",
    "5. **距离计算**\n",
    "   - (1) 任选一个餐馆，查找距离它最近的5家其他餐馆，并输出它们的名称和距离。\n",
    "\n",
    "## 四、实验报告要求\n",
    "1. 简要描述实验过程和遇到的问题及解决方法。\n",
    "2. 给出主要查询语句及结果截图。\n",
    "3. 对实验结果进行分析和总结。\n",
    "\n",
    "---\n",
    "\n",
    "**提示：**  \n",
    "- 所有查询请使用MongoDB shell或Compass完成，推荐用shell。\n",
    "- 注意地理空间坐标顺序：[经度, 纬度]。"
   ]
  }
 ],
 "metadata": {
  "kernelspec": {
   "display_name": "Python 3",
   "language": "python",
   "name": "python3"
  },
  "language_info": {
   "name": "python",
   "version": "3.11.8"
  }
 },
 "nbformat": 4,
 "nbformat_minor": 5
}
