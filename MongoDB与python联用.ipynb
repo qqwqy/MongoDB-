{
 "cells": [
  {
   "cell_type": "markdown",
   "id": "563d351d",
   "metadata": {},
   "source": [
    "# MongoDB 与 Python 的结合教程\n",
    "\n",
    "## pymongo库\n",
    "- 安装 `pymongo` 库\n",
    "- 安装其他可选库（如 `folium`）\n"
   ]
  },
  {
   "cell_type": "code",
   "execution_count": 1,
   "id": "10554959",
   "metadata": {},
   "outputs": [
    {
     "name": "stdout",
     "output_type": "stream",
     "text": [
      "Requirement already satisfied: pymongo in d:\\python3.11\\lib\\site-packages (4.12.1)\n",
      "Requirement already satisfied: folium in d:\\python3.11\\lib\\site-packages (0.19.5)\n",
      "Requirement already satisfied: dnspython<3.0.0,>=1.16.0 in d:\\python3.11\\lib\\site-packages (from pymongo) (2.7.0)\n",
      "Requirement already satisfied: branca>=0.6.0 in d:\\python3.11\\lib\\site-packages (from folium) (0.8.1)\n",
      "Requirement already satisfied: jinja2>=2.9 in d:\\python3.11\\lib\\site-packages (from folium) (3.1.4)\n",
      "Requirement already satisfied: numpy in d:\\python3.11\\lib\\site-packages (from folium) (1.26.4)\n",
      "Requirement already satisfied: requests in d:\\python3.11\\lib\\site-packages (from folium) (2.31.0)\n",
      "Requirement already satisfied: xyzservices in d:\\python3.11\\lib\\site-packages (from folium) (2025.4.0)\n",
      "Requirement already satisfied: MarkupSafe>=2.0 in d:\\python3.11\\lib\\site-packages (from jinja2>=2.9->folium) (2.1.5)\n",
      "Requirement already satisfied: charset-normalizer<4,>=2 in d:\\python3.11\\lib\\site-packages (from requests->folium) (3.3.2)\n",
      "Requirement already satisfied: idna<4,>=2.5 in d:\\python3.11\\lib\\site-packages (from requests->folium) (3.7)\n",
      "Requirement already satisfied: urllib3<3,>=1.21.1 in d:\\python3.11\\lib\\site-packages (from requests->folium) (2.2.1)\n",
      "Requirement already satisfied: certifi>=2017.4.17 in d:\\python3.11\\lib\\site-packages (from requests->folium) (2024.2.2)\n"
     ]
    },
    {
     "name": "stderr",
     "output_type": "stream",
     "text": [
      "\n",
      "[notice] A new release of pip is available: 24.0 -> 25.1.1\n",
      "[notice] To update, run: python.exe -m pip install --upgrade pip\n"
     ]
    }
   ],
   "source": [
    "!pip install pymongo folium"
   ]
  },
  {
   "cell_type": "markdown",
   "id": "49ae7145",
   "metadata": {},
   "source": [
    "### 数据准备\n",
    "- 示例数据集介绍（如餐馆和社区数据）\n",
    "- 数据集下载链接\n",
    "- 数据导入 MongoDB 的方法"
   ]
  },
  {
   "cell_type": "code",
   "execution_count": null,
   "id": "32039893",
   "metadata": {},
   "outputs": [],
   "source": [
    "import pandas as pd\n",
    "from pymongo import MongoClient\n",
    "import requests\n",
    "import json\n",
    "\n",
    "# 示例 GeoJSON 数据集下载链接\n",
    "earthquakes_url = 'https://earthquake.usgs.gov/earthquakes/feed/v1.0/summary/all_week.geojson'\n",
    "people_url = 'https://datahub.io/core/geo-countries/r/countries.geojson'\n",
    "# 加载 earthquakes GeoJSON 数据\n",
    "earthquakes_response = requests.get(earthquakes_url)\n",
    "earthquakes_data = earthquakes_response.json()\n",
    "\n",
    "# 插入 earthquakes 数据到 MongoDB\n",
    "db.earthquakes.insert_many(earthquakes_data['features'])\n",
    "print(f\"已导入 {len(earthquakes_data['features'])} 条地震数据到 MongoDB。\")\n",
    "\n",
    "# 加载 people GeoJSON 数据\n",
    "people_response = requests.get(people_url)\n",
    "people_data = people_response.json()\n",
    "\n",
    "# 插入 people 数据到 MongoDB\n",
    "db.people.insert_many(people_data['features'])\n",
    "print(f\"已导入 {len(people_data['features'])} 条人口数据到 MongoDB。\")\n"
   ]
  },
  {
   "cell_type": "markdown",
   "id": "44b49e68",
   "metadata": {},
   "source": [
    "## 统计每个国家地震的数量"
   ]
  },
  {
   "cell_type": "code",
   "execution_count": 4,
   "id": "92bb9717",
   "metadata": {},
   "outputs": [
    {
     "name": "stdout",
     "output_type": "stream",
     "text": [
      "Country/Region: CA, Earthquake Count: 1366\n",
      "Country/Region: Alaska, Earthquake Count: 960\n",
      "Country/Region: Oklahoma, Earthquake Count: 208\n",
      "Country/Region: Nevada, Earthquake Count: 128\n",
      "Country/Region: Texas, Earthquake Count: 122\n",
      "Country/Region: Montana, Earthquake Count: 114\n",
      "Country/Region: Puerto Rico, Earthquake Count: 112\n",
      "Country/Region: Washington, Earthquake Count: 99\n",
      "Country/Region: Hawaii, Earthquake Count: 56\n",
      "Country/Region: New Mexico, Earthquake Count: 54\n",
      "Country/Region: Idaho, Earthquake Count: 52\n",
      "Country/Region: Utah, Earthquake Count: 32\n",
      "Country/Region: Oregon, Earthquake Count: 26\n",
      "Country/Region: California, Earthquake Count: 24\n",
      "Country/Region: Indonesia, Earthquake Count: 22\n",
      "Country/Region: U.S. Virgin Islands, Earthquake Count: 20\n",
      "Country/Region: Canada, Earthquake Count: 18\n",
      "Country/Region: Japan, Earthquake Count: 18\n",
      "Country/Region: Wyoming, Earthquake Count: 16\n",
      "Country/Region: Russia, Earthquake Count: 16\n",
      "Country/Region: Tonga, Earthquake Count: 14\n",
      "Country/Region: Peru, Earthquake Count: 14\n",
      "Country/Region: Chile, Earthquake Count: 12\n",
      "Country/Region: Papua New Guinea, Earthquake Count: 12\n",
      "Country/Region: Timor Leste, Earthquake Count: 10\n",
      "Country/Region: Dominican Republic, Earthquake Count: 10\n",
      "Country/Region: Argentina, Earthquake Count: 10\n",
      "Country/Region: Tennessee, Earthquake Count: 10\n",
      "Country/Region: Missouri, Earthquake Count: 8\n",
      "Country/Region: China, Earthquake Count: 8\n",
      "Country/Region: MX, Earthquake Count: 8\n",
      "Country/Region: Mexico, Earthquake Count: 6\n",
      "Country/Region: south of the Fiji Islands, Earthquake Count: 6\n",
      "Country/Region: Greece, Earthquake Count: 6\n",
      "Country/Region: Vanuatu, Earthquake Count: 6\n",
      "Country/Region: Pacific-Antarctic Ridge, Earthquake Count: 6\n",
      "Country/Region: Ecuador, Earthquake Count: 4\n",
      "Country/Region: Philippines, Earthquake Count: 4\n",
      "Country/Region: Iceland, Earthquake Count: 4\n",
      "Country/Region: Pakistan, Earthquake Count: 4\n",
      "Country/Region: Fiji, Earthquake Count: 4\n",
      "Country/Region: El Salvador, Earthquake Count: 4\n",
      "Country/Region: New Zealand, Earthquake Count: 4\n",
      "Country/Region: Turkey, Earthquake Count: 4\n",
      "Country/Region: Japan region, Earthquake Count: 4\n",
      "Country/Region: Afghanistan, Earthquake Count: 4\n",
      "Country/Region: Venezuela, Earthquake Count: 4\n",
      "Country/Region: Guatemala, Earthquake Count: 4\n",
      "Country/Region: Tanzania, Earthquake Count: 2\n",
      "Country/Region: southern East Pacific Rise, Earthquake Count: 2\n",
      "Country/Region: Colombia, Earthquake Count: 2\n",
      "Country/Region: Libya, Earthquake Count: 2\n",
      "Country/Region: Illinois, Earthquake Count: 2\n",
      "Country/Region: south of the Kermadec Islands, Earthquake Count: 2\n",
      "Country/Region: Kansas, Earthquake Count: 2\n",
      "Country/Region: central East Pacific Rise, Earthquake Count: 2\n",
      "Country/Region: Italy, Earthquake Count: 2\n",
      "Country/Region: Kentucky, Earthquake Count: 2\n",
      "Country/Region: Fiji region, Earthquake Count: 2\n",
      "Country/Region: Colorado, Earthquake Count: 2\n",
      "Country/Region: Northern Mariana Islands, Earthquake Count: 2\n",
      "Country/Region: Costa Rica, Earthquake Count: 2\n",
      "Country/Region: South Georgia Island region, Earthquake Count: 2\n",
      "Country/Region: Nicaragua, Earthquake Count: 2\n",
      "Country/Region: Kazakhstan, Earthquake Count: 2\n",
      "Country/Region: Arkansas, Earthquake Count: 2\n",
      "Country/Region: Romania, Earthquake Count: 2\n",
      "Country/Region: Taiwan, Earthquake Count: 2\n",
      "Country/Region: South Sandwich Islands region, Earthquake Count: 2\n",
      "Country/Region: Mid-Indian Ridge, Earthquake Count: 2\n",
      "Country/Region: Vietnam, Earthquake Count: 2\n",
      "Country/Region: Ohio, Earthquake Count: 2\n",
      "Country/Region: Guam, Earthquake Count: 2\n",
      "Country/Region: India region, Earthquake Count: 2\n",
      "Country/Region: southeast Indian Ridge, Earthquake Count: 2\n",
      "Country/Region: Kyrgyzstan, Earthquake Count: 2\n",
      "Country/Region: western Indian-Antarctic Ridge, Earthquake Count: 2\n",
      "Country/Region: West Chile Rise, Earthquake Count: 2\n"
     ]
    }
   ],
   "source": [
    "from pymongo import MongoClient\n",
    "\n",
    "# 连接到 MongoDB\n",
    "client = MongoClient('mongodb://localhost:27017/')\n",
    "db = client['geo_demo']\n",
    "collection = db['earthquakes']\n",
    "\n",
    "# 聚合查询提取国家或地区\n",
    "pipeline = [\n",
    "    {\"$project\": {\"place\": \"$properties.place\"}},  # 提取 place 字段\n",
    "    {\"$group\": {\n",
    "        \"_id\": {\"$arrayElemAt\": [{\"$split\": [\"$place\", \", \"]}, -1]},  # 获取最后一部分（国家或地区）\n",
    "        \"count\": {\"$sum\": 1}  # 统计每个国家或地区的地震记录数量\n",
    "    }},\n",
    "    {\"$sort\": {\"count\": -1}}  # 按地震数量降序排序\n",
    "]\n",
    "\n",
    "# 执行聚合查询并打印结果\n",
    "results = collection.aggregate(pipeline)\n",
    "for result in results:\n",
    "    print(f\"Country/Region: {result['_id']}, Earthquake Count: {result['count']}\")"
   ]
  },
  {
   "cell_type": "markdown",
   "id": "8a772dbe",
   "metadata": {},
   "source": [
    "## 3. MongoDB 基础操作\n",
    "### 3.1 数据库与集合\n",
    "- 创建数据库和集合\n",
    "- 查看现有数据库和集合\n"
   ]
  },
  {
   "cell_type": "code",
   "execution_count": null,
   "id": "8c22d3c0",
   "metadata": {},
   "outputs": [
    {
     "name": "stdout",
     "output_type": "stream",
     "text": [
      "现有数据库： ['admin', 'config', 'geo_demo', 'local']\n"
     ]
    }
   ],
   "source": [
    "# 查看现有数据库\n",
    "print(\"现有数据库：\", client.list_database_names())"
   ]
  },
  {
   "cell_type": "code",
   "execution_count": null,
   "id": "acfa32f3",
   "metadata": {},
   "outputs": [
    {
     "name": "stdout",
     "output_type": "stream",
     "text": [
      "当前数据库中的集合： ['earthquakes', 'people', 'test_collection']\n"
     ]
    }
   ],
   "source": [
    "# 查看当前数据库中的集合\n",
    "print(\"当前数据库中的集合：\", db.list_collection_names())"
   ]
  },
  {
   "cell_type": "markdown",
   "id": "219afd50",
   "metadata": {},
   "source": [
    "### 3.2 基本 CRUD 操作\n",
    "- 插入文档\n",
    "- 查询文档\n",
    "- 更新文档\n",
    "- 删除文档\n"
   ]
  },
  {
   "cell_type": "code",
   "execution_count": 7,
   "id": "e0c34cce",
   "metadata": {},
   "outputs": [
    {
     "name": "stdout",
     "output_type": "stream",
     "text": [
      "插入文档ID: 682a96759d453b2e55b23940\n"
     ]
    }
   ],
   "source": [
    "# 插入文档\n",
    "doc = {\"name\": \"Alice\", \"age\": 28, \"city\": \"Beijing\"}\n",
    "insert_result = db.test_collection.insert_one(doc)\n",
    "print(\"插入文档ID:\", insert_result.inserted_id)\n"
   ]
  },
  {
   "cell_type": "code",
   "execution_count": 8,
   "id": "c9a83b26",
   "metadata": {},
   "outputs": [
    {
     "name": "stdout",
     "output_type": "stream",
     "text": [
      "查询结果: {'_id': ObjectId('682a96759d453b2e55b23940'), 'name': 'Alice', 'age': 28, 'city': 'Beijing'}\n"
     ]
    }
   ],
   "source": [
    "# 查询文档\n",
    "found_doc = db.test_collection.find_one({\"name\": \"Alice\"})\n",
    "print(\"查询结果:\", found_doc)\n"
   ]
  },
  {
   "cell_type": "code",
   "execution_count": 9,
   "id": "4b4c0e9b",
   "metadata": {},
   "outputs": [
    {
     "name": "stdout",
     "output_type": "stream",
     "text": [
      "更新的文档数: 1\n"
     ]
    }
   ],
   "source": [
    "# 更新文档\n",
    "update_result = db.test_collection.update_one({\"name\": \"Alice\"}, {\"$set\": {\"age\": 29}})\n",
    "print(\"更新的文档数:\", update_result.modified_count)\n"
   ]
  },
  {
   "cell_type": "code",
   "execution_count": 10,
   "id": "ae9c8839",
   "metadata": {},
   "outputs": [
    {
     "name": "stdout",
     "output_type": "stream",
     "text": [
      "删除的文档数: 1\n"
     ]
    }
   ],
   "source": [
    "# 删除文档\n",
    "delete_result = db.test_collection.delete_one({\"name\": \"Alice\"})\n",
    "print(\"删除的文档数:\", delete_result.deleted_count)"
   ]
  },
  {
   "cell_type": "markdown",
   "id": "f4e8076f",
   "metadata": {},
   "source": [
    "## 4. Python 与 MongoDB 的结合\n",
    "### 4.1 使用 `pymongo` 连接 MongoDB\n",
    "- 连接本地 MongoDB\n",
    "- 连接远程 MongoDB Atlas\n",
    "\n",
    "### 4.2 数据库与集合操作\n",
    "- 切换数据库\n",
    "- 切换集合\n",
    "\n",
    "### 4.3 数据插入与查询\n",
    "- 插入单条和多条数据\n",
    "- 查询数据（条件查询、投影）\n",
    "\n",
    "### 4.4 数据更新与删除\n",
    "- 更新单条和多条数据\n",
    "- 删除单条和多条数据\n",
    "\n",
    "## 5. 地理空间查询\n",
    "### 5.1 地理空间索引\n",
    "- 什么是地理空间索引？\n",
    "- 创建 `2dsphere` 索引\n"
   ]
  },
  {
   "cell_type": "code",
   "execution_count": null,
   "id": "81f46a3f",
   "metadata": {},
   "outputs": [
    {
     "data": {
      "text/plain": [
       "'geometry_2dsphere'"
      ]
     },
     "execution_count": 12,
     "metadata": {},
     "output_type": "execute_result"
    }
   ],
   "source": [
    "# 为 earthquakes 集合创建 2dsphere 索引\n",
    "db.earthquakes.create_index([(\"geometry\", \"2dsphere\")])"
   ]
  },
  {
   "cell_type": "code",
   "execution_count": null,
   "id": "545d1da7",
   "metadata": {},
   "outputs": [
    {
     "data": {
      "text/plain": [
       "'geometry_2dsphere'"
      ]
     },
     "execution_count": 13,
     "metadata": {},
     "output_type": "execute_result"
    }
   ],
   "source": [
    "# 为 people 集合创建 2dsphere 索引\n",
    "db.people.create_index([(\"geometry\", \"2dsphere\")])"
   ]
  },
  {
   "cell_type": "markdown",
   "id": "3792bb73",
   "metadata": {},
   "source": [
    "### 5.2 地理空间查询操作符\n",
    "- `$geoWithin`：查询区域内的点\n",
    "- `$geoIntersects`：查询与区域相交的点\n",
    "- `$nearSphere`：查询距离某点最近的点\n"
   ]
  },
  {
   "cell_type": "code",
   "execution_count": 16,
   "id": "8d82eb42",
   "metadata": {},
   "outputs": [
    {
     "name": "stdout",
     "output_type": "stream",
     "text": [
      "日本区域内地震数量: 6\n"
     ]
    }
   ],
   "source": [
    "# 查询日本区域内发生的地震（$geoWithin）\n",
    "# 从 people_data 中提取日本的区域坐标\n",
    "# 查询日本的国界（Polygon）\n",
    "# 查找people 集合中日本的国界\n",
    "japan_feature = db.people.find_one({\"properties.name\": \"Japan\"})\n",
    "japan_polygon = japan_feature['geometry']\n",
    "japan_earthquakes = list(db.earthquakes.find({\n",
    "        \"geometry\": {\n",
    "            \"$geoWithin\": {\n",
    "                \"$geometry\": japan_polygon\n",
    "            }\n",
    "        }\n",
    "    }))\n",
    "print(f\"日本区域内地震数量: {len(japan_earthquakes)}\")"
   ]
  },
  {
   "cell_type": "code",
   "execution_count": 15,
   "id": "f06bf350",
   "metadata": {},
   "outputs": [
    {
     "name": "stdout",
     "output_type": "stream",
     "text": [
      "距离天安门最近的地震信息: {'_id': ObjectId('682757ba5f8b596c851cd4d2'), 'type': 'Feature', 'properties': {'mag': 4.7, 'place': '83 km SW of Kurio, Japan', 'time': 1746877515425, 'updated': 1746878586040, 'tz': None, 'url': 'https://earthquake.usgs.gov/earthquakes/eventpage/us7000pyev', 'detail': 'https://earthquake.usgs.gov/earthquakes/feed/v1.0/detail/us7000pyev.geojson', 'felt': None, 'cdi': None, 'mmi': None, 'alert': None, 'status': 'reviewed', 'tsunami': 0, 'sig': 340, 'net': 'us', 'code': '7000pyev', 'ids': ',us7000pyev,', 'sources': ',us,', 'types': ',origin,phase-data,', 'nst': 53, 'dmin': 1.882, 'rms': 0.83, 'gap': 119, 'magType': 'mb', 'type': 'earthquake', 'title': 'M 4.7 - 83 km SW of Kurio, Japan'}, 'geometry': {'type': 'Point', 'coordinates': [129.8769, 29.6884, 70.944]}, 'id': 'us7000pyev'}\n"
     ]
    }
   ],
   "source": [
    "# 题目2：查询距离北京最近的地震（$nearSphere）\n",
    "tiananmen_point = {\n",
    "    \"type\": \"Point\",\n",
    "    \"coordinates\": [116.397389, 39.908722]\n",
    "}\n",
    "nearest_earthquake = db.earthquakes.find_one({\n",
    "    \"geometry\": {\n",
    "        \"$nearSphere\": {\n",
    "            \"$geometry\": tiananmen_point\n",
    "        }\n",
    "    }\n",
    "})\n",
    "print(\"距离天安门最近的地震信息:\", nearest_earthquake)"
   ]
  },
  {
   "cell_type": "code",
   "execution_count": 2,
   "id": "a535885c",
   "metadata": {},
   "outputs": [],
   "source": [
    "from pymongo import MongoClient, GEOSPHERE\n",
    "import plotly.express as px\n",
    "import pandas as pd\n"
   ]
  },
  {
   "cell_type": "code",
   "execution_count": 3,
   "id": "b5b1d7d0",
   "metadata": {},
   "outputs": [
    {
     "name": "stdout",
     "output_type": "stream",
     "text": [
      "时间索引创建结果: date_1\n",
      "当前索引列表: ['_id_', 'geometry_2dsphere', 'location_2dsphere', 'date_1']\n"
     ]
    }
   ],
   "source": [
    "\n",
    "# 连接到 MongoDB\n",
    "client = MongoClient('mongodb://localhost:27017/')\n",
    "db = client['geo_demo']\n",
    "# 创建地理空间索引（仅需运行一次）\n",
    "db.earthquakes.create_index([(\"location\", GEOSPHERE)])\n",
    "db.countries.create_index([(\"borders\", GEOSPHERE)])\n",
    "\n",
    "# 创建时间索引（便于按时间查询）\n",
    "result = db.earthquakes.create_index(\"date\")\n",
    "print(\"时间索引创建结果:\", result)\n",
    "print(\"当前索引列表:\", list(db.earthquakes.index_information().keys()))\n"
   ]
  },
  {
   "cell_type": "markdown",
   "id": "13ed322f",
   "metadata": {},
   "source": [
    "# python联用的作业"
   ]
  },
  {
   "cell_type": "markdown",
   "id": "71612984",
   "metadata": {},
   "source": [
    "# 任务书：MongoDB与Python地震数据可视化\n",
    "\n",
    "## 一、任务目标\n",
    "\n",
    "利用MongoDB数据库和Python编程，实现对全球地震数据的存储、查询与可视化。通过本任务，掌握MongoDB的基本操作、地理空间数据的处理方法，以及如何用Python进行数据可视化。\n",
    "\n",
    "## 二、任务要求\n",
    "\n",
    "1. **数据准备**\n",
    "   - 下载全球地震数据（GeoJSON格式），并导入MongoDB数据库的`earthquakes`集合。\n",
    "   - 熟悉MongoDB的基本操作，包括数据插入、查询等。\n",
    "\n",
    "2. **数据查询**\n",
    "   - 使用`pymongo`库从MongoDB中查询地震的经度、纬度、地点、时间和震级等信息。\n",
    "\n",
    "3. **数据可视化**\n",
    "   - 使用`plotly`库，将查询到的地震数据在世界地图上进行可视化展示。\n",
    "   - 鼠标悬停时能显示地震的地点、时间和震级等详细信息。\n",
    "\n",
    "## 三、任务步骤\n",
    "\n",
    "1. **环境准备**\n",
    "   - 安装MongoDB数据库，并启动服务。\n",
    "   - 安装Python及相关库：`pymongo`、`pandas`、`plotly`。\n",
    "\n",
    "2. **数据导入**\n",
    "   - 下载\n",
    "   [地震数据](https://earthquake.usgs.gov/earthquakes/feed/v1.0/summary/all_week.geojson)\n",
    "   \n",
    "   - 使用Python将数据导入MongoDB的`earthquakes`集合。\n",
    "\n",
    "3. **数据查询与处理**\n",
    "   - 用`pymongo`查询地震的经纬度、地点、时间、震级等字段。\n",
    "   - 用`pandas`整理为DataFrame格式，便于后续可视化。\n",
    "\n",
    "4. **数据可视化**\n",
    "   - 用`plotly.express.scatter_geo`在世界地图上绘制地震分布图。\n",
    "   - 设置点的颜色和大小反映震级，鼠标悬停显示详细信息。\n",
    "\n",
    "5. **结果展示**\n",
    "   - 在Jupyter Notebook或Python脚本中展示可视化结果。\n",
    "\n",
    "## 四、提交内容\n",
    "\n",
    "1. 代码文件（.ipynb），要求有详细注释，以学号重命名，发邮箱`qqwqy@163.com`。\n",
    "2. 运行结果（包含地图可视化效果）。\n"
   ]
  },
  {
   "cell_type": "code",
   "execution_count": 1,
   "id": "a8d2d6a0",
   "metadata": {},
   "outputs": [
    {
     "data": {
      "application/vnd.plotly.v1+json": {
       "config": {
        "plotlyServerURL": "https://plot.ly"
       },
       "data": [
        {
         "customdata": [
          [
           "2025-05-16 15:04:21",
           1.08
          ],
          [
           "2025-05-16 15:02:11",
           1
          ],
          [
           "2025-05-16 14:51:01",
           2.16
          ],
          [
           "2025-05-16 14:44:03",
           1.5
          ],
          [
           "2025-05-16 14:37:25",
           2.83
          ],
          [
           "2025-05-16 14:27:42",
           1.31
          ],
          [
           "2025-05-16 13:58:12",
           0.9
          ],
          [
           "2025-05-16 13:46:33",
           1.3
          ],
          [
           "2025-05-16 13:46:22",
           1.8
          ],
          [
           "2025-05-16 13:40:44",
           2.1
          ],
          [
           "2025-05-16 13:28:39",
           0.77
          ],
          [
           "2025-05-16 13:25:35",
           1.6
          ],
          [
           "2025-05-16 13:22:04",
           0.91
          ],
          [
           "2025-05-16 13:20:19",
           0.4
          ],
          [
           "2025-05-16 13:15:29",
           4.2
          ],
          [
           "2025-05-16 13:13:56",
           0.46
          ],
          [
           "2025-05-16 13:13:11",
           1.31
          ],
          [
           "2025-05-16 12:46:46",
           1
          ],
          [
           "2025-05-16 12:34:45",
           1.03
          ],
          [
           "2025-05-16 12:22:11",
           0.74
          ],
          [
           "2025-05-16 12:16:47",
           0.72
          ],
          [
           "2025-05-16 12:16:26",
           4.4
          ],
          [
           "2025-05-16 12:13:10",
           0.49
          ],
          [
           "2025-05-16 12:12:47",
           2.47
          ],
          [
           "2025-05-16 12:07:14",
           1.4
          ],
          [
           "2025-05-16 12:05:51",
           1.19
          ],
          [
           "2025-05-16 12:03:25",
           3.65
          ],
          [
           "2025-05-16 11:56:11",
           0.69
          ],
          [
           "2025-05-16 11:46:37",
           1.6
          ],
          [
           "2025-05-16 11:44:30",
           1.11
          ],
          [
           "2025-05-16 11:30:37",
           1.11
          ],
          [
           "2025-05-16 11:26:28",
           2.5
          ],
          [
           "2025-05-16 11:10:01",
           0.57
          ],
          [
           "2025-05-16 11:02:57",
           0.78
          ],
          [
           "2025-05-16 10:59:23",
           0.22
          ],
          [
           "2025-05-16 10:57:02",
           0.77
          ],
          [
           "2025-05-16 10:56:38",
           0.56
          ],
          [
           "2025-05-16 10:50:35",
           1.44
          ],
          [
           "2025-05-16 10:49:31",
           0.62
          ],
          [
           "2025-05-16 10:37:23",
           1.4
          ],
          [
           "2025-05-16 10:30:30",
           0.63
          ],
          [
           "2025-05-16 10:10:21",
           0.7
          ],
          [
           "2025-05-16 09:38:15",
           0.8
          ],
          [
           "2025-05-16 09:28:00",
           0.25
          ],
          [
           "2025-05-16 09:22:09",
           0.64
          ],
          [
           "2025-05-16 09:19:40",
           1.1
          ],
          [
           "2025-05-16 09:12:42",
           2.32
          ],
          [
           "2025-05-16 09:12:06",
           2.32
          ],
          [
           "2025-05-16 09:03:16",
           0.46
          ],
          [
           "2025-05-16 08:40:56",
           0.53
          ],
          [
           "2025-05-16 08:36:27",
           1.44
          ],
          [
           "2025-05-16 08:31:36",
           1.4
          ],
          [
           "2025-05-16 08:17:13",
           1.2
          ],
          [
           "2025-05-16 08:14:14",
           0.87
          ],
          [
           "2025-05-16 08:12:46",
           0.71
          ],
          [
           "2025-05-16 08:10:36",
           0.84
          ],
          [
           "2025-05-16 08:01:27",
           1.56
          ],
          [
           "2025-05-16 07:47:58",
           0.75
          ],
          [
           "2025-05-16 07:23:50",
           2.1
          ],
          [
           "2025-05-16 07:18:42",
           0.71
          ],
          [
           "2025-05-16 07:18:21",
           0.89
          ],
          [
           "2025-05-16 07:16:31",
           0.79
          ],
          [
           "2025-05-16 07:06:54",
           1.35
          ],
          [
           "2025-05-16 06:58:00",
           0.94
          ],
          [
           "2025-05-16 06:57:24",
           1.7
          ],
          [
           "2025-05-16 06:51:23",
           2.48
          ],
          [
           "2025-05-16 06:49:27",
           0.72
          ],
          [
           "2025-05-16 06:37:31",
           2.31
          ],
          [
           "2025-05-16 06:36:01",
           0.32
          ],
          [
           "2025-05-16 06:35:55",
           1.04
          ],
          [
           "2025-05-16 06:27:33",
           2.83
          ],
          [
           "2025-05-16 06:20:11",
           0.71
          ],
          [
           "2025-05-16 06:06:45",
           0.65
          ],
          [
           "2025-05-16 06:05:47",
           0.43
          ],
          [
           "2025-05-16 06:05:03",
           0.68
          ],
          [
           "2025-05-16 06:04:34",
           2.08
          ],
          [
           "2025-05-16 05:55:42",
           0.48
          ],
          [
           "2025-05-16 05:54:54",
           1.53
          ],
          [
           "2025-05-16 05:52:14",
           1.7
          ],
          [
           "2025-05-16 05:34:28",
           4.9
          ],
          [
           "2025-05-16 05:22:36",
           0.32
          ],
          [
           "2025-05-16 05:17:22",
           4.7
          ],
          [
           "2025-05-16 05:09:35",
           1.5
          ],
          [
           "2025-05-16 04:56:51",
           0.93
          ],
          [
           "2025-05-16 04:53:21",
           1.5
          ],
          [
           "2025-05-16 04:26:27",
           0.72
          ],
          [
           "2025-05-16 04:24:41",
           0.46
          ],
          [
           "2025-05-16 04:21:09",
           1.7
          ],
          [
           "2025-05-16 04:20:04",
           1.78
          ],
          [
           "2025-05-16 04:17:21",
           4.5
          ],
          [
           "2025-05-16 04:17:00",
           1.29
          ],
          [
           "2025-05-16 03:58:55",
           1.03
          ],
          [
           "2025-05-16 03:40:01",
           1.08
          ],
          [
           "2025-05-16 03:39:33",
           1.84
          ],
          [
           "2025-05-16 03:23:56",
           1.1
          ],
          [
           "2025-05-16 03:14:18",
           0.19
          ],
          [
           "2025-05-16 03:12:36",
           1.7
          ],
          [
           "2025-05-16 03:02:52",
           4.3
          ],
          [
           "2025-05-16 02:48:45",
           1.93
          ],
          [
           "2025-05-16 02:43:43",
           0.42
          ],
          [
           "2025-05-16 02:33:43",
           3.1
          ],
          [
           "2025-05-16 02:25:05",
           2.22
          ],
          [
           "2025-05-16 02:23:47",
           1.99000001
          ],
          [
           "2025-05-16 02:22:05",
           0.6
          ],
          [
           "2025-05-16 02:19:51",
           1.25
          ],
          [
           "2025-05-16 01:59:57",
           1.7
          ],
          [
           "2025-05-16 01:50:27",
           2.17
          ],
          [
           "2025-05-16 01:41:03",
           1.31
          ],
          [
           "2025-05-16 01:40:28",
           0.76
          ],
          [
           "2025-05-16 01:34:23",
           2.12
          ],
          [
           "2025-05-16 01:32:04",
           0.53
          ],
          [
           "2025-05-16 01:31:50",
           0.96
          ],
          [
           "2025-05-16 01:10:44",
           2.87
          ],
          [
           "2025-05-16 01:04:23",
           1.08
          ],
          [
           "2025-05-16 01:02:39",
           2.14
          ],
          [
           "2025-05-16 01:00:08",
           4.6
          ],
          [
           "2025-05-16 00:53:22",
           4.7
          ],
          [
           "2025-05-16 00:23:46",
           1.05
          ],
          [
           "2025-05-16 00:20:30",
           0.33
          ],
          [
           "2025-05-16 00:19:39",
           1.8
          ],
          [
           "2025-05-16 00:09:27",
           1.8
          ],
          [
           "2025-05-15 23:56:35",
           0.77
          ],
          [
           "2025-05-15 23:55:20",
           1.75
          ],
          [
           "2025-05-15 23:47:29",
           1.9
          ],
          [
           "2025-05-15 23:45:56",
           1.03
          ],
          [
           "2025-05-15 23:43:28",
           4.2
          ],
          [
           "2025-05-15 23:42:08",
           1.05
          ],
          [
           "2025-05-15 23:18:16",
           1.2
          ],
          [
           "2025-05-15 23:15:52",
           1.8
          ],
          [
           "2025-05-15 23:12:47",
           1.01
          ],
          [
           "2025-05-15 23:12:04",
           1.9
          ],
          [
           "2025-05-15 23:09:38",
           1.7
          ],
          [
           "2025-05-15 23:01:03",
           1.1
          ],
          [
           "2025-05-15 22:53:20",
           1.6034521460533142
          ],
          [
           "2025-05-15 22:42:09",
           1.43
          ],
          [
           "2025-05-15 22:38:07",
           1.6
          ],
          [
           "2025-05-15 22:34:41",
           2.1
          ],
          [
           "2025-05-15 22:25:03",
           1.29
          ],
          [
           "2025-05-15 22:16:08",
           1.63
          ],
          [
           "2025-05-15 22:15:36",
           1.23
          ],
          [
           "2025-05-15 22:12:34",
           1.9
          ],
          [
           "2025-05-15 22:06:00",
           -1.05
          ],
          [
           "2025-05-15 22:05:18",
           1.03
          ],
          [
           "2025-05-15 22:05:17",
           2.1
          ],
          [
           "2025-05-15 22:00:08",
           0.75
          ],
          [
           "2025-05-15 21:43:35",
           1.1
          ],
          [
           "2025-05-15 21:33:24",
           3.6
          ],
          [
           "2025-05-15 21:32:07",
           1.27
          ],
          [
           "2025-05-15 21:22:48",
           0.91
          ],
          [
           "2025-05-15 21:00:37",
           2
          ],
          [
           "2025-05-15 20:58:49",
           2.36
          ],
          [
           "2025-05-15 20:56:03",
           1.05
          ],
          [
           "2025-05-15 20:47:08",
           1.25
          ],
          [
           "2025-05-15 20:36:15",
           1.5
          ],
          [
           "2025-05-15 20:34:42",
           0.3
          ],
          [
           "2025-05-15 20:26:52",
           1.2
          ],
          [
           "2025-05-15 20:11:57",
           1.91999996
          ],
          [
           "2025-05-15 20:02:58",
           1.01
          ],
          [
           "2025-05-15 19:59:00",
           1.33
          ],
          [
           "2025-05-15 19:47:44",
           5
          ],
          [
           "2025-05-15 19:43:43",
           1.02
          ],
          [
           "2025-05-15 19:31:32",
           1.22
          ],
          [
           "2025-05-15 19:16:05",
           4.6
          ],
          [
           "2025-05-15 19:13:10",
           1.59
          ],
          [
           "2025-05-15 19:09:35",
           1.9
          ],
          [
           "2025-05-15 19:03:12",
           1.65
          ],
          [
           "2025-05-15 18:54:07",
           1.2
          ],
          [
           "2025-05-15 18:45:55",
           1.25
          ],
          [
           "2025-05-15 18:45:20",
           0.45
          ],
          [
           "2025-05-15 18:41:13",
           0.49
          ],
          [
           "2025-05-15 18:17:01",
           1.4
          ],
          [
           "2025-05-15 18:04:44",
           2.2
          ],
          [
           "2025-05-15 18:01:34",
           -0.11
          ],
          [
           "2025-05-15 17:17:42",
           1.69
          ],
          [
           "2025-05-15 17:15:24",
           1
          ],
          [
           "2025-05-15 17:12:28",
           1.27
          ],
          [
           "2025-05-15 17:09:24",
           3.96
          ],
          [
           "2025-05-15 17:09:11",
           1.5
          ],
          [
           "2025-05-15 17:06:28",
           0.83
          ],
          [
           "2025-05-15 17:01:23",
           3.3
          ],
          [
           "2025-05-15 16:54:24",
           1.4
          ],
          [
           "2025-05-15 16:40:52",
           1
          ],
          [
           "2025-05-15 16:34:59",
           0.73
          ],
          [
           "2025-05-15 16:33:11",
           1.9
          ],
          [
           "2025-05-15 16:17:38",
           1.3
          ],
          [
           "2025-05-15 16:17:31",
           0.8
          ],
          [
           "2025-05-15 16:11:26",
           1.3
          ],
          [
           "2025-05-15 16:08:16",
           1.6400000000000001
          ],
          [
           "2025-05-15 15:29:04",
           4.9
          ],
          [
           "2025-05-15 15:28:17",
           1.02
          ],
          [
           "2025-05-15 15:18:54",
           2.29
          ],
          [
           "2025-05-15 15:10:03",
           0.52
          ],
          [
           "2025-05-15 15:08:13",
           1.05
          ],
          [
           "2025-05-15 15:05:36",
           0.4
          ],
          [
           "2025-05-15 14:39:14",
           2.2
          ],
          [
           "2025-05-15 14:37:02",
           0.38
          ],
          [
           "2025-05-15 14:15:00",
           1.8
          ],
          [
           "2025-05-15 14:08:29",
           0.9
          ],
          [
           "2025-05-15 14:08:10",
           1.2
          ],
          [
           "2025-05-15 14:02:26",
           1.03
          ],
          [
           "2025-05-15 14:01:43",
           4.3
          ],
          [
           "2025-05-15 13:52:53",
           0
          ],
          [
           "2025-05-15 13:51:02",
           1.35
          ],
          [
           "2025-05-15 13:50:32",
           1.92
          ],
          [
           "2025-05-15 13:41:03",
           1.98
          ],
          [
           "2025-05-15 13:11:18",
           0.65
          ],
          [
           "2025-05-15 13:05:49",
           5
          ],
          [
           "2025-05-15 12:59:20",
           5
          ],
          [
           "2025-05-15 12:51:20",
           4.7
          ],
          [
           "2025-05-15 12:46:37",
           5
          ],
          [
           "2025-05-15 12:31:37",
           1.6
          ],
          [
           "2025-05-15 12:29:32",
           3.1
          ],
          [
           "2025-05-15 12:27:54",
           0.23
          ],
          [
           "2025-05-15 12:26:51",
           0.81
          ],
          [
           "2025-05-15 12:25:45",
           0.73
          ],
          [
           "2025-05-15 12:25:15",
           1.8
          ],
          [
           "2025-05-15 12:23:03",
           1.44
          ],
          [
           "2025-05-15 12:17:49",
           0.68
          ],
          [
           "2025-05-15 12:17:15",
           0.97
          ],
          [
           "2025-05-15 12:15:04",
           0.21
          ],
          [
           "2025-05-15 12:12:55",
           1.98
          ],
          [
           "2025-05-15 12:12:52",
           1.7
          ],
          [
           "2025-05-15 12:04:49",
           -0.74
          ],
          [
           "2025-05-15 12:03:55",
           2.5
          ],
          [
           "2025-05-15 12:03:37",
           2.26
          ],
          [
           "2025-05-15 11:50:33",
           1.6300000000000001
          ],
          [
           "2025-05-15 11:48:56",
           2.1
          ],
          [
           "2025-05-15 11:44:24",
           2.13000011
          ],
          [
           "2025-05-15 11:40:54",
           1.5
          ],
          [
           "2025-05-15 11:35:21",
           2.47
          ],
          [
           "2025-05-15 11:33:00",
           1.1
          ],
          [
           "2025-05-15 11:28:50",
           0.62
          ],
          [
           "2025-05-15 11:26:21",
           -0.01
          ],
          [
           "2025-05-15 11:13:38",
           2.26
          ],
          [
           "2025-05-15 10:48:35",
           0.76
          ],
          [
           "2025-05-15 10:45:34",
           0.67
          ],
          [
           "2025-05-15 10:43:31",
           1.06
          ],
          [
           "2025-05-15 10:22:09",
           2.2
          ],
          [
           "2025-05-15 10:16:25",
           1.1
          ],
          [
           "2025-05-15 10:04:45",
           1.7
          ],
          [
           "2025-05-15 10:02:22",
           0.01
          ],
          [
           "2025-05-15 09:54:09",
           0.79
          ],
          [
           "2025-05-15 09:51:52",
           2
          ],
          [
           "2025-05-15 09:50:56",
           0.58
          ],
          [
           "2025-05-15 09:47:46",
           0.94
          ],
          [
           "2025-05-15 09:47:27",
           1.4
          ],
          [
           "2025-05-15 09:43:08",
           0.43
          ],
          [
           "2025-05-15 09:40:00",
           1.26
          ],
          [
           "2025-05-15 09:39:43",
           3.17
          ],
          [
           "2025-05-15 09:35:55",
           0.72
          ],
          [
           "2025-05-15 09:31:30",
           2.1
          ],
          [
           "2025-05-15 09:21:44",
           1.1
          ],
          [
           "2025-05-15 09:17:39",
           0.77
          ],
          [
           "2025-05-15 09:12:48",
           0.52
          ],
          [
           "2025-05-15 09:08:34",
           2.79
          ],
          [
           "2025-05-15 09:06:40",
           2.6
          ],
          [
           "2025-05-15 08:51:39",
           0.81
          ],
          [
           "2025-05-15 08:49:11",
           0.36
          ],
          [
           "2025-05-15 08:44:18",
           1.25
          ],
          [
           "2025-05-15 08:37:43",
           1.5
          ],
          [
           "2025-05-15 08:36:52",
           0.75
          ],
          [
           "2025-05-15 08:33:01",
           0.81
          ],
          [
           "2025-05-15 08:23:31",
           2.94
          ],
          [
           "2025-05-15 08:23:13",
           0.71
          ],
          [
           "2025-05-15 08:22:32",
           0.73
          ],
          [
           "2025-05-15 08:22:13",
           0.55
          ],
          [
           "2025-05-15 08:15:01",
           0.77
          ],
          [
           "2025-05-15 08:13:23",
           1.7
          ],
          [
           "2025-05-15 08:10:57",
           1.6
          ],
          [
           "2025-05-15 08:06:32",
           2
          ],
          [
           "2025-05-15 07:56:29",
           1.2
          ],
          [
           "2025-05-15 07:49:25",
           0.7
          ],
          [
           "2025-05-15 07:45:37",
           0.79
          ],
          [
           "2025-05-15 07:35:50",
           1.69
          ],
          [
           "2025-05-15 07:33:34",
           0.96
          ],
          [
           "2025-05-15 07:22:55",
           2.32
          ],
          [
           "2025-05-15 07:18:02",
           2.4
          ],
          [
           "2025-05-15 07:08:14",
           3.5
          ],
          [
           "2025-05-15 07:06:34",
           3.8
          ],
          [
           "2025-05-15 07:05:08",
           1.86
          ],
          [
           "2025-05-15 06:59:00",
           0.49
          ],
          [
           "2025-05-15 06:58:37",
           2.84
          ],
          [
           "2025-05-15 06:53:03",
           0.93
          ],
          [
           "2025-05-15 06:52:34",
           0.74
          ],
          [
           "2025-05-15 06:51:18",
           1.26
          ],
          [
           "2025-05-15 06:46:18",
           0.34
          ],
          [
           "2025-05-15 06:45:13",
           1.09
          ],
          [
           "2025-05-15 06:38:24",
           0.77
          ],
          [
           "2025-05-15 06:27:20",
           1.13
          ],
          [
           "2025-05-15 06:22:27",
           3.14
          ],
          [
           "2025-05-15 06:21:38",
           -0.14
          ],
          [
           "2025-05-15 06:18:24",
           0.38
          ],
          [
           "2025-05-15 06:09:39",
           1.7
          ],
          [
           "2025-05-15 05:56:37",
           1.1
          ],
          [
           "2025-05-15 05:51:14",
           1.04
          ],
          [
           "2025-05-15 05:35:42",
           4.3
          ],
          [
           "2025-05-15 05:23:04",
           -0.61
          ],
          [
           "2025-05-15 05:22:54",
           0.44
          ],
          [
           "2025-05-15 05:17:27",
           1.5
          ],
          [
           "2025-05-15 05:16:38",
           -0.57
          ],
          [
           "2025-05-15 05:09:25",
           -0.65
          ],
          [
           "2025-05-15 05:03:08",
           0.83
          ],
          [
           "2025-05-15 04:59:53",
           0.32
          ],
          [
           "2025-05-15 04:59:13",
           0.97
          ],
          [
           "2025-05-15 04:55:04",
           2.11
          ],
          [
           "2025-05-15 04:49:16",
           2.07
          ],
          [
           "2025-05-15 04:37:34",
           2.39
          ],
          [
           "2025-05-15 04:37:24",
           -0.64
          ],
          [
           "2025-05-15 04:31:52",
           2.98
          ],
          [
           "2025-05-15 04:29:31",
           1.51
          ],
          [
           "2025-05-15 04:26:43",
           2.66
          ],
          [
           "2025-05-15 04:22:47",
           1.9
          ],
          [
           "2025-05-15 04:19:24",
           3.43
          ],
          [
           "2025-05-15 04:07:57",
           1.6
          ],
          [
           "2025-05-15 03:56:51",
           0.76
          ],
          [
           "2025-05-15 03:56:16",
           1.6
          ],
          [
           "2025-05-15 03:55:49",
           1.11
          ],
          [
           "2025-05-15 03:45:39",
           2.3
          ],
          [
           "2025-05-15 03:45:18",
           3
          ],
          [
           "2025-05-15 03:36:21",
           0.39
          ],
          [
           "2025-05-15 03:30:38",
           -0.2
          ],
          [
           "2025-05-15 03:29:38",
           1.42
          ],
          [
           "2025-05-15 03:26:04",
           2.25
          ],
          [
           "2025-05-15 03:15:48",
           1.32
          ],
          [
           "2025-05-15 03:12:26",
           1.2
          ],
          [
           "2025-05-15 03:10:57",
           2.39
          ],
          [
           "2025-05-15 02:52:22",
           1.08
          ],
          [
           "2025-05-15 02:51:18",
           0.9
          ],
          [
           "2025-05-15 02:40:56",
           1.5
          ],
          [
           "2025-05-15 02:40:43",
           2.1
          ],
          [
           "2025-05-15 02:24:07",
           0.02
          ],
          [
           "2025-05-15 02:24:06",
           1.8
          ],
          [
           "2025-05-15 02:22:26",
           1.41
          ],
          [
           "2025-05-15 02:22:08",
           1.46
          ],
          [
           "2025-05-15 02:17:40",
           1.72
          ],
          [
           "2025-05-15 02:16:45",
           0.28
          ],
          [
           "2025-05-15 02:03:32",
           0.71
          ],
          [
           "2025-05-15 01:57:23",
           0.86
          ],
          [
           "2025-05-15 01:50:52",
           2.13
          ],
          [
           "2025-05-15 01:45:03",
           0.21
          ],
          [
           "2025-05-15 01:41:08",
           4.5
          ],
          [
           "2025-05-15 01:34:34",
           1.1
          ],
          [
           "2025-05-15 01:24:16",
           1.62
          ],
          [
           "2025-05-15 01:17:40",
           1.6
          ],
          [
           "2025-05-15 01:11:58",
           1.2
          ],
          [
           "2025-05-15 01:07:33",
           -0.1
          ],
          [
           "2025-05-15 00:50:51",
           5.9
          ],
          [
           "2025-05-15 00:43:00",
           2.3
          ],
          [
           "2025-05-15 00:35:58",
           1.5
          ],
          [
           "2025-05-15 00:28:18",
           1.5
          ],
          [
           "2025-05-15 00:27:37",
           1.2
          ],
          [
           "2025-05-15 00:25:18",
           1.29
          ],
          [
           "2025-05-15 00:24:08",
           0.87
          ],
          [
           "2025-05-15 00:07:24",
           0.6
          ],
          [
           "2025-05-15 00:04:07",
           2.25
          ],
          [
           "2025-05-15 00:00:52",
           0.35
          ],
          [
           "2025-05-14 23:57:55",
           0.45
          ],
          [
           "2025-05-14 23:53:06",
           1.6
          ],
          [
           "2025-05-14 23:45:17",
           2.77
          ],
          [
           "2025-05-14 23:44:31",
           1.3
          ],
          [
           "2025-05-14 23:42:09",
           1.58
          ],
          [
           "2025-05-14 23:41:05",
           1.88
          ],
          [
           "2025-05-14 23:40:20",
           2.56
          ],
          [
           "2025-05-14 23:39:46",
           2.7
          ],
          [
           "2025-05-14 23:36:57",
           1.13
          ],
          [
           "2025-05-14 23:24:36",
           0.95
          ],
          [
           "2025-05-14 23:23:58",
           1.63
          ],
          [
           "2025-05-14 23:10:15",
           1.4
          ],
          [
           "2025-05-14 23:08:22",
           -0.02
          ],
          [
           "2025-05-14 23:05:19",
           1.27
          ],
          [
           "2025-05-14 22:47:24",
           0.89
          ],
          [
           "2025-05-14 22:47:09",
           1.63
          ],
          [
           "2025-05-14 22:30:34",
           3.6
          ],
          [
           "2025-05-14 22:23:47",
           1.22
          ],
          [
           "2025-05-14 22:11:18",
           2.1
          ],
          [
           "2025-05-14 22:08:30",
           0.29
          ],
          [
           "2025-05-14 22:00:01",
           2.17
          ],
          [
           "2025-05-14 21:59:31",
           1.22
          ],
          [
           "2025-05-14 21:52:41",
           -0.39
          ],
          [
           "2025-05-14 21:38:47",
           1.7
          ],
          [
           "2025-05-14 21:33:48",
           -0.12
          ],
          [
           "2025-05-14 21:30:31",
           0.76
          ],
          [
           "2025-05-14 21:30:04",
           0.52
          ],
          [
           "2025-05-14 21:22:25",
           4.5
          ],
          [
           "2025-05-14 21:20:20",
           2.5
          ],
          [
           "2025-05-14 21:07:18",
           1.08
          ],
          [
           "2025-05-14 20:36:40",
           0.69
          ],
          [
           "2025-05-14 20:35:09",
           1.6
          ],
          [
           "2025-05-14 20:29:22",
           2.3
          ],
          [
           "2025-05-14 20:22:20",
           1.19
          ],
          [
           "2025-05-14 20:21:45",
           4.5
          ],
          [
           "2025-05-14 20:20:13",
           1.65
          ],
          [
           "2025-05-14 20:19:08",
           1.5
          ],
          [
           "2025-05-14 20:18:33",
           1.7
          ],
          [
           "2025-05-14 20:13:27",
           5.2
          ],
          [
           "2025-05-14 20:12:41",
           2.3
          ],
          [
           "2025-05-14 20:10:09",
           1.1
          ],
          [
           "2025-05-14 20:00:20",
           0.92
          ],
          [
           "2025-05-14 19:48:00",
           1.41
          ],
          [
           "2025-05-14 19:46:59",
           1
          ],
          [
           "2025-05-14 19:43:32",
           1.3800000000000001
          ],
          [
           "2025-05-14 19:41:53",
           3.65
          ],
          [
           "2025-05-14 19:37:16",
           0.99
          ],
          [
           "2025-05-14 19:31:41",
           1.6
          ],
          [
           "2025-05-14 19:27:42",
           0.87
          ],
          [
           "2025-05-14 19:25:03",
           -0.73
          ],
          [
           "2025-05-14 19:15:24",
           0.39
          ],
          [
           "2025-05-14 19:13:02",
           0.15
          ],
          [
           "2025-05-14 19:04:53",
           1.35
          ],
          [
           "2025-05-14 18:55:23",
           1.6
          ],
          [
           "2025-05-14 18:50:39",
           1.16
          ],
          [
           "2025-05-14 18:46:32",
           1.09
          ],
          [
           "2025-05-14 18:43:12",
           0.81
          ],
          [
           "2025-05-14 18:42:37",
           1.83
          ],
          [
           "2025-05-14 18:35:57",
           1.72
          ],
          [
           "2025-05-14 18:35:39",
           1.25
          ],
          [
           "2025-05-14 18:34:25",
           1.2
          ],
          [
           "2025-05-14 18:31:04",
           1.11
          ],
          [
           "2025-05-14 18:28:48",
           1.63
          ],
          [
           "2025-05-14 18:26:32",
           0.74
          ],
          [
           "2025-05-14 18:21:58",
           1.3
          ],
          [
           "2025-05-14 18:18:02",
           1.5
          ],
          [
           "2025-05-14 18:15:12",
           0.8300000000000001
          ],
          [
           "2025-05-14 18:14:20",
           1.71
          ],
          [
           "2025-05-14 18:14:05",
           0.71
          ],
          [
           "2025-05-14 18:14:03",
           1.3
          ],
          [
           "2025-05-14 18:06:02",
           0.47
          ],
          [
           "2025-05-14 17:58:17",
           1.48
          ],
          [
           "2025-05-14 17:47:02",
           0.77
          ],
          [
           "2025-05-14 17:46:55",
           1.1
          ],
          [
           "2025-05-14 17:45:37",
           1.16
          ],
          [
           "2025-05-14 17:35:38",
           1.3
          ],
          [
           "2025-05-14 17:34:39",
           1.36
          ],
          [
           "2025-05-14 17:29:20",
           1.9
          ],
          [
           "2025-05-14 17:22:50",
           1.44
          ],
          [
           "2025-05-14 16:55:36",
           0.9
          ],
          [
           "2025-05-14 16:46:52",
           1.12
          ],
          [
           "2025-05-14 16:33:15",
           4.5
          ],
          [
           "2025-05-14 16:33:05",
           5.2
          ],
          [
           "2025-05-14 16:30:32",
           1.23
          ],
          [
           "2025-05-14 16:26:21",
           1.85
          ],
          [
           "2025-05-14 16:19:47",
           1.25
          ],
          [
           "2025-05-14 16:19:31",
           4.7
          ],
          [
           "2025-05-14 16:08:39",
           2.05
          ],
          [
           "2025-05-14 16:08:17",
           1.45
          ],
          [
           "2025-05-14 16:03:34",
           0.9
          ],
          [
           "2025-05-14 16:01:36",
           2.74
          ],
          [
           "2025-05-14 15:46:49",
           0.65
          ],
          [
           "2025-05-14 15:35:29",
           2.01
          ],
          [
           "2025-05-14 15:18:02",
           1.66
          ],
          [
           "2025-05-14 15:09:33",
           2
          ],
          [
           "2025-05-14 15:07:32",
           1.29
          ],
          [
           "2025-05-14 15:02:10",
           1.15
          ],
          [
           "2025-05-14 14:55:37",
           0.25
          ],
          [
           "2025-05-14 14:52:22",
           0.42
          ],
          [
           "2025-05-14 14:42:17",
           1.4
          ],
          [
           "2025-05-14 14:32:39",
           1.72
          ],
          [
           "2025-05-14 14:16:54",
           0.28
          ],
          [
           "2025-05-14 14:07:11",
           1.51
          ],
          [
           "2025-05-14 14:06:29",
           1.89
          ],
          [
           "2025-05-14 14:06:06",
           0
          ],
          [
           "2025-05-14 13:51:02",
           1.5
          ],
          [
           "2025-05-14 13:41:47",
           1.4
          ],
          [
           "2025-05-14 13:41:08",
           1.32
          ],
          [
           "2025-05-14 13:35:59",
           1.9
          ],
          [
           "2025-05-14 13:32:18",
           2.8
          ],
          [
           "2025-05-14 13:31:56",
           1.11
          ],
          [
           "2025-05-14 13:26:30",
           1.66
          ],
          [
           "2025-05-14 13:26:24",
           2.04
          ],
          [
           "2025-05-14 13:23:32",
           1.35
          ],
          [
           "2025-05-14 13:22:42",
           1.9
          ],
          [
           "2025-05-14 13:20:14",
           0.7
          ],
          [
           "2025-05-14 13:09:54",
           1.17
          ],
          [
           "2025-05-14 13:08:59",
           1.3
          ],
          [
           "2025-05-14 13:07:37",
           0.78
          ],
          [
           "2025-05-14 12:53:33",
           1.8
          ],
          [
           "2025-05-14 12:51:43",
           2.1
          ],
          [
           "2025-05-14 12:51:26",
           2.2
          ],
          [
           "2025-05-14 12:51:04",
           2.1
          ],
          [
           "2025-05-14 12:35:18",
           3.9
          ],
          [
           "2025-05-14 12:24:41",
           1.17
          ],
          [
           "2025-05-14 12:24:06",
           0.68
          ],
          [
           "2025-05-14 12:15:30",
           1.2
          ],
          [
           "2025-05-14 12:09:23",
           1.03
          ],
          [
           "2025-05-14 12:06:15",
           1.06
          ],
          [
           "2025-05-14 12:03:23",
           1.52
          ],
          [
           "2025-05-14 12:02:09",
           3
          ],
          [
           "2025-05-14 12:01:21",
           3
          ],
          [
           "2025-05-14 11:58:36",
           1.63
          ],
          [
           "2025-05-14 11:36:45",
           0.63
          ],
          [
           "2025-05-14 11:33:23",
           1.44
          ],
          [
           "2025-05-14 11:26:04",
           1.3
          ],
          [
           "2025-05-14 11:24:46",
           3
          ],
          [
           "2025-05-14 11:24:02",
           4.5
          ],
          [
           "2025-05-14 11:15:50",
           2
          ],
          [
           "2025-05-14 11:11:41",
           -0.61
          ],
          [
           "2025-05-14 11:04:31",
           -0.48
          ],
          [
           "2025-05-14 11:01:22",
           1.4
          ],
          [
           "2025-05-14 10:53:23",
           2.83
          ],
          [
           "2025-05-14 10:47:56",
           4.9
          ],
          [
           "2025-05-14 10:36:52",
           0.21
          ],
          [
           "2025-05-14 10:35:27",
           1.79
          ],
          [
           "2025-05-14 10:34:40",
           -0.66
          ],
          [
           "2025-05-14 10:28:03",
           0.28
          ],
          [
           "2025-05-14 10:16:54",
           3.3
          ],
          [
           "2025-05-14 10:09:32",
           -0.27
          ],
          [
           "2025-05-14 10:07:23",
           -0.28
          ],
          [
           "2025-05-14 10:07:15",
           -0.5
          ],
          [
           "2025-05-14 10:06:41",
           1.02
          ],
          [
           "2025-05-14 10:02:16",
           0.4
          ],
          [
           "2025-05-14 10:02:12",
           4.4
          ],
          [
           "2025-05-14 09:59:17",
           -0.88
          ],
          [
           "2025-05-14 09:59:07",
           -0.45
          ],
          [
           "2025-05-14 09:58:48",
           0.8
          ],
          [
           "2025-05-14 09:49:48",
           0.81
          ],
          [
           "2025-05-14 09:45:47",
           0.17
          ],
          [
           "2025-05-14 09:43:14",
           1.31
          ],
          [
           "2025-05-14 09:42:39",
           0.6
          ],
          [
           "2025-05-14 09:39:15",
           1.46
          ],
          [
           "2025-05-14 09:36:11",
           0.83
          ],
          [
           "2025-05-14 09:33:48",
           4.8
          ],
          [
           "2025-05-14 09:22:48",
           0.55
          ],
          [
           "2025-05-14 09:15:27",
           2.1
          ],
          [
           "2025-05-14 09:02:47",
           1.04
          ],
          [
           "2025-05-14 09:00:45",
           1.7
          ],
          [
           "2025-05-14 09:00:13",
           0.75
          ],
          [
           "2025-05-14 08:57:13",
           -0.74
          ],
          [
           "2025-05-14 08:57:09",
           -0.71
          ],
          [
           "2025-05-14 08:52:00",
           3.37
          ],
          [
           "2025-05-14 08:49:23",
           2.6
          ],
          [
           "2025-05-14 08:46:28",
           0.99
          ],
          [
           "2025-05-14 08:45:19",
           3.6
          ],
          [
           "2025-05-14 08:44:38",
           2.2
          ],
          [
           "2025-05-14 08:43:06",
           1.27
          ],
          [
           "2025-05-14 08:33:35",
           -0.72
          ],
          [
           "2025-05-14 08:33:06",
           -0.57
          ],
          [
           "2025-05-14 08:29:27",
           0.5
          ],
          [
           "2025-05-14 08:09:48",
           1.57
          ],
          [
           "2025-05-14 08:07:07",
           0.49
          ],
          [
           "2025-05-14 08:05:39",
           2.4
          ],
          [
           "2025-05-14 08:04:49",
           1.34
          ],
          [
           "2025-05-14 08:04:05",
           1.9
          ],
          [
           "2025-05-14 08:02:10",
           2.36
          ],
          [
           "2025-05-14 08:01:03",
           -0.44
          ],
          [
           "2025-05-14 08:00:34",
           0.78
          ],
          [
           "2025-05-14 07:54:44",
           2.31
          ],
          [
           "2025-05-14 07:17:15",
           1.2
          ],
          [
           "2025-05-14 07:08:30",
           0.57
          ],
          [
           "2025-05-14 07:08:01",
           1.77
          ],
          [
           "2025-05-14 07:04:23",
           -0.47
          ],
          [
           "2025-05-14 06:58:07",
           1.2
          ],
          [
           "2025-05-14 06:57:32",
           -1.07
          ],
          [
           "2025-05-14 06:53:28",
           1.98
          ],
          [
           "2025-05-14 06:51:59",
           1.24
          ],
          [
           "2025-05-14 06:39:16",
           2.01
          ],
          [
           "2025-05-14 06:25:04",
           1.2
          ],
          [
           "2025-05-14 06:20:25",
           1.2
          ],
          [
           "2025-05-14 06:11:39",
           0.7
          ],
          [
           "2025-05-14 06:10:41",
           2.07
          ],
          [
           "2025-05-14 06:10:22",
           1
          ],
          [
           "2025-05-14 06:09:34",
           0.73
          ],
          [
           "2025-05-14 06:08:01",
           1.54
          ],
          [
           "2025-05-14 06:03:40",
           1.9
          ],
          [
           "2025-05-14 06:02:06",
           1.8
          ],
          [
           "2025-05-14 05:57:47",
           0.77
          ],
          [
           "2025-05-14 05:47:24",
           0.69
          ],
          [
           "2025-05-14 05:46:15",
           -0.44
          ],
          [
           "2025-05-14 05:20:51",
           4.6
          ],
          [
           "2025-05-14 05:20:41",
           0.33
          ],
          [
           "2025-05-14 05:20:26",
           1.87
          ],
          [
           "2025-05-14 05:20:14",
           2.27
          ],
          [
           "2025-05-14 05:19:56",
           1.83
          ],
          [
           "2025-05-14 05:19:00",
           -0.46
          ],
          [
           "2025-05-14 05:18:28",
           2.3
          ],
          [
           "2025-05-14 05:15:08",
           0.76
          ],
          [
           "2025-05-14 05:12:11",
           1.06
          ],
          [
           "2025-05-14 05:11:01",
           -0.37
          ],
          [
           "2025-05-14 05:10:54",
           -0.29
          ],
          [
           "2025-05-14 05:08:29",
           1.12
          ],
          [
           "2025-05-14 05:07:55",
           3.41
          ],
          [
           "2025-05-14 05:04:52",
           0.88
          ],
          [
           "2025-05-14 05:04:11",
           1.37
          ],
          [
           "2025-05-14 05:03:52",
           4.9
          ],
          [
           "2025-05-14 04:50:27",
           2.38
          ],
          [
           "2025-05-14 04:49:54",
           1.6
          ],
          [
           "2025-05-14 04:48:58",
           2.24
          ],
          [
           "2025-05-14 04:39:23",
           1.4
          ],
          [
           "2025-05-14 04:19:31",
           -0.6
          ],
          [
           "2025-05-14 04:15:38",
           6.4
          ],
          [
           "2025-05-14 04:13:16",
           2.52
          ],
          [
           "2025-05-14 04:12:12",
           1.7
          ],
          [
           "2025-05-14 04:10:13",
           1.7
          ],
          [
           "2025-05-14 04:10:08",
           2.2
          ],
          [
           "2025-05-14 04:01:46",
           1.03
          ],
          [
           "2025-05-14 03:51:41",
           1.01
          ],
          [
           "2025-05-14 03:50:41",
           0.87
          ],
          [
           "2025-05-14 03:42:29",
           1.36
          ],
          [
           "2025-05-14 03:41:22",
           0.29
          ],
          [
           "2025-05-14 03:39:16",
           3.56
          ],
          [
           "2025-05-14 03:37:58",
           2.03
          ],
          [
           "2025-05-14 03:36:59",
           1.08
          ],
          [
           "2025-05-14 03:36:06",
           0.4
          ],
          [
           "2025-05-14 03:29:39",
           1.13
          ],
          [
           "2025-05-14 03:27:16",
           1.03
          ],
          [
           "2025-05-14 03:16:58",
           4.8
          ],
          [
           "2025-05-14 03:14:51",
           1.61
          ],
          [
           "2025-05-14 03:13:35",
           1.85
          ],
          [
           "2025-05-14 03:13:22",
           0.34
          ],
          [
           "2025-05-14 03:09:02",
           1.09
          ],
          [
           "2025-05-14 03:05:54",
           0.42
          ],
          [
           "2025-05-14 03:05:31",
           1.13
          ],
          [
           "2025-05-14 03:04:50",
           0.35
          ],
          [
           "2025-05-14 03:03:45",
           1.55
          ],
          [
           "2025-05-14 03:01:39",
           1.48
          ],
          [
           "2025-05-14 02:48:28",
           4
          ],
          [
           "2025-05-14 02:47:17",
           0.7
          ],
          [
           "2025-05-14 02:44:23",
           2.4
          ],
          [
           "2025-05-14 02:38:09",
           0.78
          ],
          [
           "2025-05-14 02:33:28",
           1.01
          ],
          [
           "2025-05-14 02:33:17",
           2
          ],
          [
           "2025-05-14 02:33:11",
           1.77
          ],
          [
           "2025-05-14 02:27:47",
           1.6
          ],
          [
           "2025-05-14 02:27:16",
           1.11
          ],
          [
           "2025-05-14 02:11:55",
           0.99
          ],
          [
           "2025-05-14 02:08:31",
           2.6
          ],
          [
           "2025-05-14 01:37:01",
           1.4000000000000001
          ],
          [
           "2025-05-14 01:26:48",
           -1.04
          ],
          [
           "2025-05-14 01:23:56",
           -0.14
          ],
          [
           "2025-05-14 00:51:48",
           0.75
          ],
          [
           "2025-05-14 00:50:55",
           1.28
          ],
          [
           "2025-05-14 00:28:33",
           1.9
          ],
          [
           "2025-05-14 00:27:29",
           1.9
          ],
          [
           "2025-05-14 00:17:12",
           0.33
          ],
          [
           "2025-05-14 00:10:31",
           1.4
          ],
          [
           "2025-05-14 00:06:40",
           1.54
          ],
          [
           "2025-05-13 23:59:16",
           1.6
          ],
          [
           "2025-05-13 23:50:34",
           -0.12
          ],
          [
           "2025-05-13 23:49:26",
           1.6
          ],
          [
           "2025-05-13 23:45:00",
           2.03
          ],
          [
           "2025-05-13 23:34:54",
           -0.2
          ],
          [
           "2025-05-13 23:22:35",
           1.4
          ],
          [
           "2025-05-13 23:17:13",
           0.95
          ],
          [
           "2025-05-13 23:14:40",
           1.67
          ],
          [
           "2025-05-13 23:07:48",
           1.9
          ],
          [
           "2025-05-13 22:51:15",
           6
          ],
          [
           "2025-05-13 22:43:48",
           1.29
          ],
          [
           "2025-05-13 22:40:32",
           1.45
          ],
          [
           "2025-05-13 22:38:10",
           1.3
          ],
          [
           "2025-05-13 22:34:02",
           1.6
          ],
          [
           "2025-05-13 22:33:27",
           0.8
          ],
          [
           "2025-05-13 22:25:49",
           1.43
          ],
          [
           "2025-05-13 22:21:06",
           1.12
          ],
          [
           "2025-05-13 22:17:56",
           1.4
          ],
          [
           "2025-05-13 22:07:44",
           4.4
          ],
          [
           "2025-05-13 22:05:05",
           0.15
          ],
          [
           "2025-05-13 22:00:02",
           1.26
          ],
          [
           "2025-05-13 21:55:17",
           1.8
          ],
          [
           "2025-05-13 21:48:32",
           1.4
          ],
          [
           "2025-05-13 21:41:13",
           1.1
          ],
          [
           "2025-05-13 21:20:56",
           1.41
          ],
          [
           "2025-05-13 21:20:36",
           1.56
          ],
          [
           "2025-05-13 21:18:11",
           1.61
          ],
          [
           "2025-05-13 21:13:11",
           -0.16
          ],
          [
           "2025-05-13 21:11:50",
           2.6
          ],
          [
           "2025-05-13 21:02:44",
           1.25
          ],
          [
           "2025-05-13 20:43:04",
           5.9
          ],
          [
           "2025-05-13 20:36:48",
           1.09
          ],
          [
           "2025-05-13 20:36:41",
           0.13
          ],
          [
           "2025-05-13 20:28:10",
           1.45
          ],
          [
           "2025-05-13 20:23:38",
           0.26
          ],
          [
           "2025-05-13 20:23:26",
           2.1
          ],
          [
           "2025-05-13 20:21:23",
           1.78
          ],
          [
           "2025-05-13 20:15:44",
           1.65
          ],
          [
           "2025-05-13 20:15:42",
           2.5
          ],
          [
           "2025-05-13 20:14:50",
           1.5
          ],
          [
           "2025-05-13 20:08:39",
           1.5
          ],
          [
           "2025-05-13 20:06:01",
           0.45
          ],
          [
           "2025-05-13 19:58:44",
           1.22
          ],
          [
           "2025-05-13 19:45:05",
           0.85
          ],
          [
           "2025-05-13 19:44:14",
           1.06
          ],
          [
           "2025-05-13 19:27:46",
           0.34
          ],
          [
           "2025-05-13 19:23:24",
           1.67
          ],
          [
           "2025-05-13 19:22:09",
           1.41
          ],
          [
           "2025-05-13 19:16:02",
           1.81
          ],
          [
           "2025-05-13 19:10:37",
           1.48
          ],
          [
           "2025-05-13 19:06:04",
           1.25
          ],
          [
           "2025-05-13 18:56:10",
           1.2
          ],
          [
           "2025-05-13 18:53:02",
           1.5
          ],
          [
           "2025-05-13 18:50:19",
           1.2
          ],
          [
           "2025-05-13 18:50:12",
           0.99
          ],
          [
           "2025-05-13 18:29:52",
           1.4
          ],
          [
           "2025-05-13 18:22:33",
           0.39
          ],
          [
           "2025-05-13 18:18:48",
           0.45
          ],
          [
           "2025-05-13 18:18:35",
           1.07
          ],
          [
           "2025-05-13 18:08:05",
           1.58
          ],
          [
           "2025-05-13 18:06:26",
           1.29
          ],
          [
           "2025-05-13 18:04:35",
           -0.84
          ],
          [
           "2025-05-13 18:01:56",
           3.58
          ],
          [
           "2025-05-13 17:46:07",
           2.07
          ],
          [
           "2025-05-13 17:44:36",
           1.6
          ],
          [
           "2025-05-13 17:30:59",
           1.6
          ],
          [
           "2025-05-13 17:30:51",
           -0.64
          ],
          [
           "2025-05-13 17:30:17",
           -0.45
          ],
          [
           "2025-05-13 17:17:27",
           3.33
          ],
          [
           "2025-05-13 16:56:18",
           1.33
          ],
          [
           "2025-05-13 16:54:31",
           2.09
          ],
          [
           "2025-05-13 16:52:34",
           5.6
          ],
          [
           "2025-05-13 16:50:43",
           0.56
          ],
          [
           "2025-05-13 16:49:37",
           1.1
          ],
          [
           "2025-05-13 16:48:40",
           4.1
          ],
          [
           "2025-05-13 16:45:08",
           0.82
          ],
          [
           "2025-05-13 16:44:06",
           1.18
          ],
          [
           "2025-05-13 16:36:42",
           -0.34
          ],
          [
           "2025-05-13 16:36:36",
           -0.69
          ],
          [
           "2025-05-13 16:36:36",
           2.8
          ],
          [
           "2025-05-13 16:22:40",
           2.3
          ],
          [
           "2025-05-13 16:18:13",
           1.8
          ],
          [
           "2025-05-13 16:14:38",
           1.05
          ],
          [
           "2025-05-13 16:06:26",
           1.9
          ],
          [
           "2025-05-13 16:03:39",
           -0.78
          ],
          [
           "2025-05-13 16:03:32",
           -0.74
          ],
          [
           "2025-05-13 15:42:36",
           0.6
          ],
          [
           "2025-05-13 15:31:37",
           -0.22
          ],
          [
           "2025-05-13 15:26:05",
           0.86
          ],
          [
           "2025-05-13 15:25:34",
           1.09
          ],
          [
           "2025-05-13 15:21:23",
           -0.27
          ],
          [
           "2025-05-13 15:04:15",
           -0.84
          ],
          [
           "2025-05-13 15:02:44",
           2.2
          ],
          [
           "2025-05-13 15:00:29",
           2.7
          ],
          [
           "2025-05-13 14:58:50",
           0.76
          ],
          [
           "2025-05-13 14:58:00",
           0.95
          ],
          [
           "2025-05-13 14:36:25",
           0.75
          ],
          [
           "2025-05-13 14:32:14",
           5.2
          ],
          [
           "2025-05-13 14:28:33",
           1.5
          ],
          [
           "2025-05-13 14:27:59",
           0.46
          ],
          [
           "2025-05-13 14:25:54",
           2.5
          ],
          [
           "2025-05-13 14:24:41",
           1.7
          ],
          [
           "2025-05-13 14:18:34",
           0.59
          ],
          [
           "2025-05-13 14:07:12",
           -0.32
          ],
          [
           "2025-05-13 13:55:54",
           -0.27
          ],
          [
           "2025-05-13 13:37:09",
           2
          ],
          [
           "2025-05-13 13:17:02",
           1.2
          ],
          [
           "2025-05-13 13:06:23",
           0.9
          ],
          [
           "2025-05-13 13:01:48",
           0.42
          ],
          [
           "2025-05-13 12:58:29",
           1.8
          ],
          [
           "2025-05-13 12:57:00",
           0.69
          ],
          [
           "2025-05-13 12:55:24",
           2.04
          ],
          [
           "2025-05-13 12:51:13",
           -0.24
          ],
          [
           "2025-05-13 12:49:08",
           2.3
          ],
          [
           "2025-05-13 12:41:11",
           1.24
          ],
          [
           "2025-05-13 12:40:51",
           0.71
          ],
          [
           "2025-05-13 12:40:12",
           0.56
          ],
          [
           "2025-05-13 12:30:23",
           4.4
          ],
          [
           "2025-05-13 12:14:17",
           4
          ],
          [
           "2025-05-13 12:12:04",
           3.8
          ],
          [
           "2025-05-13 12:11:08",
           2.29
          ],
          [
           "2025-05-13 12:09:56",
           0.14
          ],
          [
           "2025-05-13 12:09:55",
           1.73
          ],
          [
           "2025-05-13 12:06:45",
           1.06
          ],
          [
           "2025-05-13 12:06:42",
           2
          ],
          [
           "2025-05-13 12:03:34",
           1.7
          ],
          [
           "2025-05-13 11:49:11",
           1.3
          ],
          [
           "2025-05-13 11:39:58",
           1.33
          ],
          [
           "2025-05-13 11:25:32",
           0.31
          ],
          [
           "2025-05-13 11:19:02",
           0.07
          ],
          [
           "2025-05-13 11:18:33",
           0.14
          ],
          [
           "2025-05-13 11:15:06",
           2.3
          ],
          [
           "2025-05-13 11:14:15",
           1.5
          ],
          [
           "2025-05-13 11:04:54",
           1.9
          ],
          [
           "2025-05-13 10:59:13",
           0.27
          ],
          [
           "2025-05-13 10:57:31",
           0.57
          ],
          [
           "2025-05-13 10:55:11",
           1.05
          ],
          [
           "2025-05-13 10:43:10",
           0.37
          ],
          [
           "2025-05-13 10:39:08",
           0.64
          ],
          [
           "2025-05-13 10:38:29",
           1.5
          ],
          [
           "2025-05-13 10:35:15",
           -0.27
          ],
          [
           "2025-05-13 10:11:54",
           -0.32
          ],
          [
           "2025-05-13 10:07:45",
           4.4
          ],
          [
           "2025-05-13 10:00:09",
           0.65
          ],
          [
           "2025-05-13 09:46:46",
           1.2
          ],
          [
           "2025-05-13 09:40:24",
           1.5
          ],
          [
           "2025-05-13 09:38:56",
           1.55
          ],
          [
           "2025-05-13 09:38:31",
           0.84
          ],
          [
           "2025-05-13 09:31:12",
           0.88
          ],
          [
           "2025-05-13 09:26:08",
           1.2
          ],
          [
           "2025-05-13 09:24:40",
           1.48
          ],
          [
           "2025-05-13 09:18:18",
           2.84
          ],
          [
           "2025-05-13 09:15:55",
           1.3
          ],
          [
           "2025-05-13 09:12:38",
           1.42
          ],
          [
           "2025-05-13 09:10:15",
           1.08
          ],
          [
           "2025-05-13 08:54:27",
           0.33
          ],
          [
           "2025-05-13 08:52:48",
           1.1
          ],
          [
           "2025-05-13 08:49:33",
           -0.16
          ],
          [
           "2025-05-13 08:49:26",
           -0.36
          ],
          [
           "2025-05-13 08:42:09",
           1.23
          ],
          [
           "2025-05-13 08:29:37",
           0.7
          ],
          [
           "2025-05-13 08:25:59",
           0.3
          ],
          [
           "2025-05-13 08:21:59",
           1.8
          ],
          [
           "2025-05-13 08:21:47",
           0.74
          ],
          [
           "2025-05-13 08:13:45",
           0.78
          ],
          [
           "2025-05-13 07:53:04",
           -0.11
          ],
          [
           "2025-05-13 07:50:11",
           0.82
          ],
          [
           "2025-05-13 07:48:51",
           -0.63
          ],
          [
           "2025-05-13 07:46:27",
           -0.87
          ],
          [
           "2025-05-13 07:39:28",
           2.22
          ],
          [
           "2025-05-13 07:36:59",
           0.4
          ],
          [
           "2025-05-13 07:36:32",
           -0.2
          ],
          [
           "2025-05-13 07:34:20",
           0.3
          ],
          [
           "2025-05-13 07:33:49",
           0.7
          ],
          [
           "2025-05-13 07:32:25",
           2.08
          ],
          [
           "2025-05-13 07:31:26",
           2.56
          ],
          [
           "2025-05-13 07:27:39",
           1.21
          ],
          [
           "2025-05-13 07:23:01",
           0.82
          ],
          [
           "2025-05-13 07:19:53",
           1.6
          ],
          [
           "2025-05-13 07:13:25",
           2.2
          ],
          [
           "2025-05-13 07:06:06",
           0.92
          ],
          [
           "2025-05-13 07:04:32",
           1.8
          ],
          [
           "2025-05-13 06:45:27",
           1.11
          ],
          [
           "2025-05-13 06:44:57",
           0.7
          ],
          [
           "2025-05-13 06:44:32",
           1.01
          ],
          [
           "2025-05-13 06:37:25",
           0.75
          ],
          [
           "2025-05-13 06:36:10",
           0.7
          ],
          [
           "2025-05-13 06:31:18",
           2.43
          ],
          [
           "2025-05-13 06:27:01",
           2.1
          ],
          [
           "2025-05-13 06:13:24",
           2.7
          ],
          [
           "2025-05-13 06:04:12",
           1.79
          ],
          [
           "2025-05-13 06:02:46",
           0.98
          ],
          [
           "2025-05-13 05:54:44",
           1.03
          ],
          [
           "2025-05-13 05:43:29",
           1.08
          ],
          [
           "2025-05-13 05:41:26",
           1.4
          ],
          [
           "2025-05-13 05:41:10",
           4.4
          ],
          [
           "2025-05-13 05:26:45",
           0.68
          ],
          [
           "2025-05-13 05:20:55",
           2.83
          ],
          [
           "2025-05-13 05:10:12",
           1.3
          ],
          [
           "2025-05-13 05:06:10",
           1.29
          ],
          [
           "2025-05-13 05:05:56",
           1.08
          ],
          [
           "2025-05-13 05:02:32",
           0.87
          ],
          [
           "2025-05-13 04:43:49",
           3.26
          ],
          [
           "2025-05-13 04:40:21",
           1.5
          ],
          [
           "2025-05-13 04:33:27",
           -0.34
          ],
          [
           "2025-05-13 04:25:45",
           0.04
          ],
          [
           "2025-05-13 04:16:04",
           -0.15
          ],
          [
           "2025-05-13 04:14:53",
           0.88
          ],
          [
           "2025-05-13 04:13:46",
           4.5
          ],
          [
           "2025-05-13 04:10:13",
           1.62
          ],
          [
           "2025-05-13 04:05:34",
           1.5
          ],
          [
           "2025-05-13 04:05:22",
           0.37
          ],
          [
           "2025-05-13 04:02:04",
           4.7
          ],
          [
           "2025-05-13 03:56:39",
           0.77
          ],
          [
           "2025-05-13 03:55:53",
           2.32
          ],
          [
           "2025-05-13 03:54:13",
           1.32
          ],
          [
           "2025-05-13 03:25:09",
           1.41
          ],
          [
           "2025-05-13 03:20:38",
           0.54
          ],
          [
           "2025-05-13 03:04:40",
           2.47
          ],
          [
           "2025-05-13 03:02:07",
           1.74
          ],
          [
           "2025-05-13 02:54:00",
           0.81
          ],
          [
           "2025-05-13 02:52:30",
           0.74
          ],
          [
           "2025-05-13 02:47:51",
           1.71
          ],
          [
           "2025-05-13 02:32:49",
           0.82
          ],
          [
           "2025-05-13 02:29:32",
           -0.37
          ],
          [
           "2025-05-13 02:20:05",
           1.6
          ],
          [
           "2025-05-13 02:19:40",
           2.5
          ],
          [
           "2025-05-13 02:17:21",
           2.5
          ],
          [
           "2025-05-13 01:56:24",
           1.4
          ],
          [
           "2025-05-13 01:49:30",
           -0.2
          ],
          [
           "2025-05-13 01:49:09",
           0.55
          ],
          [
           "2025-05-13 01:48:16",
           2.13
          ],
          [
           "2025-05-13 01:38:18",
           2.56
          ],
          [
           "2025-05-13 01:37:03",
           4.8
          ],
          [
           "2025-05-13 01:30:50",
           4.2
          ],
          [
           "2025-05-13 01:25:52",
           0.32
          ],
          [
           "2025-05-13 01:19:41",
           1.14
          ],
          [
           "2025-05-13 01:17:59",
           1.96
          ],
          [
           "2025-05-13 01:09:46",
           1.3
          ],
          [
           "2025-05-13 00:48:00",
           5.1
          ],
          [
           "2025-05-13 00:41:13",
           1.9
          ],
          [
           "2025-05-13 00:29:08",
           1.08
          ],
          [
           "2025-05-13 00:28:03",
           1.94
          ],
          [
           "2025-05-13 00:21:48",
           1.6
          ],
          [
           "2025-05-13 00:01:57",
           4.3
          ],
          [
           "2025-05-12 23:59:27",
           1.5
          ],
          [
           "2025-05-12 23:55:56",
           1.09
          ],
          [
           "2025-05-12 23:54:45",
           1.07
          ],
          [
           "2025-05-12 23:52:46",
           3.6
          ],
          [
           "2025-05-12 23:44:14",
           0.82
          ],
          [
           "2025-05-12 23:43:40",
           1.55
          ],
          [
           "2025-05-12 23:36:27",
           0.45
          ],
          [
           "2025-05-12 23:35:09",
           0.72
          ],
          [
           "2025-05-12 23:30:41",
           1.27
          ],
          [
           "2025-05-12 23:30:09",
           4.9
          ],
          [
           "2025-05-12 23:26:06",
           2.4
          ],
          [
           "2025-05-12 23:20:36",
           2.2
          ],
          [
           "2025-05-12 23:17:57",
           2.1
          ],
          [
           "2025-05-12 23:16:33",
           1.3
          ],
          [
           "2025-05-12 23:12:17",
           4.9
          ],
          [
           "2025-05-12 23:09:25",
           1.8
          ],
          [
           "2025-05-12 23:08:02",
           4
          ],
          [
           "2025-05-12 23:00:17",
           -0.23
          ],
          [
           "2025-05-12 22:59:10",
           0.25
          ],
          [
           "2025-05-12 22:58:42",
           -0.15
          ],
          [
           "2025-05-12 22:56:31",
           1.6
          ],
          [
           "2025-05-12 22:43:08",
           1.46
          ],
          [
           "2025-05-12 22:29:34",
           0.28
          ],
          [
           "2025-05-12 22:27:01",
           1.54
          ],
          [
           "2025-05-12 22:15:42",
           3.32
          ],
          [
           "2025-05-12 22:05:32",
           1.3
          ],
          [
           "2025-05-12 22:05:14",
           1.3
          ],
          [
           "2025-05-12 22:02:58",
           1.37
          ],
          [
           "2025-05-12 22:02:19",
           3.3
          ],
          [
           "2025-05-12 21:55:21",
           2
          ],
          [
           "2025-05-12 21:55:12",
           0.88
          ],
          [
           "2025-05-12 21:51:35",
           0.22
          ],
          [
           "2025-05-12 21:49:04",
           1.12
          ],
          [
           "2025-05-12 21:43:11",
           1.71
          ],
          [
           "2025-05-12 21:43:06",
           1.7
          ],
          [
           "2025-05-12 21:33:35",
           4.5
          ],
          [
           "2025-05-12 21:30:52",
           4.4
          ],
          [
           "2025-05-12 21:25:57",
           0.72
          ],
          [
           "2025-05-12 21:19:00",
           1.42
          ],
          [
           "2025-05-12 21:17:38",
           0.96
          ],
          [
           "2025-05-12 20:58:16",
           2.19
          ],
          [
           "2025-05-12 20:26:48",
           1.16
          ],
          [
           "2025-05-12 20:25:31",
           0.3
          ],
          [
           "2025-05-12 20:23:18",
           1.99
          ],
          [
           "2025-05-12 20:19:10",
           0.91
          ],
          [
           "2025-05-12 20:11:42",
           1.4
          ],
          [
           "2025-05-12 20:08:21",
           1.83
          ],
          [
           "2025-05-12 20:07:39",
           0.37
          ],
          [
           "2025-05-12 20:07:16",
           1.06
          ],
          [
           "2025-05-12 20:03:35",
           1.37
          ],
          [
           "2025-05-12 20:01:37",
           1.83
          ],
          [
           "2025-05-12 19:50:58",
           1.31
          ],
          [
           "2025-05-12 19:50:38",
           1.42
          ],
          [
           "2025-05-12 19:36:17",
           1.88
          ],
          [
           "2025-05-12 19:33:17",
           1.79
          ],
          [
           "2025-05-12 19:23:04",
           0.18
          ],
          [
           "2025-05-12 19:14:10",
           1.27
          ],
          [
           "2025-05-12 19:14:06",
           1.49
          ],
          [
           "2025-05-12 19:09:23",
           1.93
          ],
          [
           "2025-05-12 19:04:35",
           0.78
          ],
          [
           "2025-05-12 19:02:09",
           1.65
          ],
          [
           "2025-05-12 19:01:19",
           0.37
          ],
          [
           "2025-05-12 19:00:46",
           0.4
          ],
          [
           "2025-05-12 18:59:35",
           1.9
          ],
          [
           "2025-05-12 18:44:21",
           1.51
          ],
          [
           "2025-05-12 18:42:28",
           0.72
          ],
          [
           "2025-05-12 18:40:27",
           1.05
          ],
          [
           "2025-05-12 18:38:49",
           1.9
          ],
          [
           "2025-05-12 18:32:43",
           3.3
          ],
          [
           "2025-05-12 18:30:55",
           1.54
          ],
          [
           "2025-05-12 18:16:11",
           1.08
          ],
          [
           "2025-05-12 17:58:07",
           1.01
          ],
          [
           "2025-05-12 17:53:35",
           0.72
          ],
          [
           "2025-05-12 17:43:39",
           0.36
          ],
          [
           "2025-05-12 17:42:15",
           1.4
          ],
          [
           "2025-05-12 17:35:30",
           3.3
          ],
          [
           "2025-05-12 17:33:20",
           4.1
          ],
          [
           "2025-05-12 17:25:07",
           1.9
          ],
          [
           "2025-05-12 17:17:15",
           4.5
          ],
          [
           "2025-05-12 17:01:40",
           5.1
          ],
          [
           "2025-05-12 16:52:07",
           1.13
          ],
          [
           "2025-05-12 16:52:01",
           0.75
          ],
          [
           "2025-05-12 16:45:58",
           0.25
          ],
          [
           "2025-05-12 16:43:49",
           1.2
          ],
          [
           "2025-05-12 16:35:14",
           1.19
          ],
          [
           "2025-05-12 16:23:59",
           4.1
          ],
          [
           "2025-05-12 16:17:30",
           0.88
          ],
          [
           "2025-05-12 16:17:23",
           1.67
          ],
          [
           "2025-05-12 16:11:38",
           0.36
          ],
          [
           "2025-05-12 16:06:44",
           0.45
          ],
          [
           "2025-05-12 16:00:31",
           2.03
          ],
          [
           "2025-05-12 15:51:24",
           1.51
          ],
          [
           "2025-05-12 15:46:36",
           1.9
          ],
          [
           "2025-05-12 15:40:06",
           4.5
          ],
          [
           "2025-05-12 15:39:24",
           0.35
          ],
          [
           "2025-05-12 15:34:35",
           -0.72
          ],
          [
           "2025-05-12 15:30:58",
           0.78
          ],
          [
           "2025-05-12 15:28:28",
           0.35
          ],
          [
           "2025-05-12 15:26:59",
           0.21
          ],
          [
           "2025-05-12 15:25:22",
           2.13
          ],
          [
           "2025-05-12 15:14:28",
           2.64
          ],
          [
           "2025-05-12 15:11:22",
           0.41
          ],
          [
           "2025-05-12 15:09:35",
           0.51
          ],
          [
           "2025-05-12 15:02:45",
           0.23
          ],
          [
           "2025-05-12 15:02:29",
           0.9
          ],
          [
           "2025-05-12 15:01:50",
           0.48
          ],
          [
           "2025-05-12 15:01:09",
           1.19
          ],
          [
           "2025-05-12 14:57:50",
           5
          ],
          [
           "2025-05-12 14:54:29",
           5.3
          ],
          [
           "2025-05-12 14:47:39",
           -0.05
          ],
          [
           "2025-05-12 14:34:14",
           4.7
          ],
          [
           "2025-05-12 14:34:02",
           4.5
          ],
          [
           "2025-05-12 14:26:57",
           1.07
          ],
          [
           "2025-05-12 14:10:00",
           1.4
          ],
          [
           "2025-05-12 14:09:08",
           0.46
          ],
          [
           "2025-05-12 14:06:41",
           0.9
          ],
          [
           "2025-05-12 13:59:51",
           1.41
          ],
          [
           "2025-05-12 13:46:16",
           1.44
          ],
          [
           "2025-05-12 13:45:34",
           1.7
          ],
          [
           "2025-05-12 13:43:23",
           2.4
          ],
          [
           "2025-05-12 13:42:44",
           -0.9
          ],
          [
           "2025-05-12 13:36:45",
           1.46
          ],
          [
           "2025-05-12 13:28:25",
           0.72
          ],
          [
           "2025-05-12 13:20:20",
           1.8
          ],
          [
           "2025-05-12 13:10:14",
           1.7
          ],
          [
           "2025-05-12 12:59:40",
           0.71
          ],
          [
           "2025-05-12 12:56:00",
           0.77
          ],
          [
           "2025-05-12 12:54:21",
           0.33
          ],
          [
           "2025-05-12 12:40:33",
           0.87
          ],
          [
           "2025-05-12 12:06:32",
           1.9
          ],
          [
           "2025-05-12 11:53:16",
           1.5
          ],
          [
           "2025-05-12 11:51:08",
           2.4
          ],
          [
           "2025-05-12 11:49:39",
           -0.02
          ],
          [
           "2025-05-12 11:46:50",
           0.97
          ],
          [
           "2025-05-12 11:43:15",
           1.5
          ],
          [
           "2025-05-12 11:37:20",
           1.6
          ],
          [
           "2025-05-12 11:28:04",
           1.08
          ],
          [
           "2025-05-12 11:21:17",
           1.28
          ],
          [
           "2025-05-12 11:16:01",
           1.2
          ],
          [
           "2025-05-12 11:14:01",
           2.4
          ],
          [
           "2025-05-12 11:14:00",
           2.1
          ],
          [
           "2025-05-12 11:09:10",
           -0.47
          ],
          [
           "2025-05-12 11:07:53",
           1.86
          ],
          [
           "2025-05-12 11:07:18",
           1.5
          ],
          [
           "2025-05-12 10:50:16",
           0.78
          ],
          [
           "2025-05-12 10:27:52",
           -0.2
          ],
          [
           "2025-05-12 10:26:57",
           2.14
          ],
          [
           "2025-05-12 10:23:50",
           -0.05
          ],
          [
           "2025-05-12 09:53:57",
           1.34
          ],
          [
           "2025-05-12 09:52:58",
           1.07
          ],
          [
           "2025-05-12 09:36:30",
           1.08
          ],
          [
           "2025-05-12 09:35:40",
           0.46
          ],
          [
           "2025-05-12 09:34:09",
           0.79
          ],
          [
           "2025-05-12 09:28:37",
           3.1
          ],
          [
           "2025-05-12 09:27:42",
           0.59
          ],
          [
           "2025-05-12 09:26:20",
           3.24
          ],
          [
           "2025-05-12 09:25:50",
           1.27
          ],
          [
           "2025-05-12 09:23:57",
           4.3
          ],
          [
           "2025-05-12 09:22:59",
           0.31
          ],
          [
           "2025-05-12 09:15:53",
           4.2
          ],
          [
           "2025-05-12 09:15:41",
           1.07
          ],
          [
           "2025-05-12 09:14:00",
           2.7
          ],
          [
           "2025-05-12 09:10:52",
           -0.58
          ],
          [
           "2025-05-12 09:05:17",
           2.5
          ],
          [
           "2025-05-12 09:03:30",
           0.26
          ],
          [
           "2025-05-12 08:57:55",
           1.21
          ],
          [
           "2025-05-12 08:33:30",
           -0.54
          ],
          [
           "2025-05-12 08:32:48",
           1.08
          ],
          [
           "2025-05-12 08:31:09",
           0.58
          ],
          [
           "2025-05-12 08:31:02",
           0.45
          ],
          [
           "2025-05-12 08:30:50",
           1.11
          ],
          [
           "2025-05-12 08:30:26",
           1.8
          ],
          [
           "2025-05-12 08:29:54",
           3.56
          ],
          [
           "2025-05-12 08:11:21",
           0.69
          ],
          [
           "2025-05-12 08:09:55",
           2.12
          ],
          [
           "2025-05-12 08:09:40",
           0.48
          ],
          [
           "2025-05-12 08:08:31",
           1.25
          ],
          [
           "2025-05-12 07:56:33",
           4.4
          ],
          [
           "2025-05-12 07:53:10",
           2.24
          ],
          [
           "2025-05-12 07:42:15",
           2.7
          ],
          [
           "2025-05-12 07:41:23",
           0.69
          ],
          [
           "2025-05-12 07:35:10",
           4.1
          ],
          [
           "2025-05-12 07:24:09",
           0.74
          ],
          [
           "2025-05-12 07:12:49",
           3.39
          ],
          [
           "2025-05-12 07:09:51",
           0.71
          ],
          [
           "2025-05-12 07:07:47",
           3.1
          ],
          [
           "2025-05-12 07:03:49",
           0.75
          ],
          [
           "2025-05-12 07:01:29",
           1.5
          ],
          [
           "2025-05-12 07:00:34",
           0.79
          ],
          [
           "2025-05-12 06:59:37",
           2
          ],
          [
           "2025-05-12 06:57:04",
           1.6
          ],
          [
           "2025-05-12 06:49:19",
           4.5
          ],
          [
           "2025-05-12 06:41:26",
           0.74
          ],
          [
           "2025-05-12 06:38:21",
           5
          ],
          [
           "2025-05-12 06:34:29",
           2.4
          ],
          [
           "2025-05-12 06:23:46",
           0.77
          ],
          [
           "2025-05-12 06:20:41",
           2.2
          ],
          [
           "2025-05-12 06:20:38",
           4.9
          ],
          [
           "2025-05-12 06:07:24",
           1.6
          ],
          [
           "2025-05-12 05:45:33",
           1.48
          ],
          [
           "2025-05-12 05:44:07",
           0.29
          ],
          [
           "2025-05-12 05:43:55",
           0.59
          ],
          [
           "2025-05-12 05:43:17",
           1.72
          ],
          [
           "2025-05-12 05:36:19",
           4.4
          ],
          [
           "2025-05-12 05:23:37",
           0.73
          ],
          [
           "2025-05-12 05:21:00",
           2.3
          ],
          [
           "2025-05-12 04:51:08",
           1.63
          ],
          [
           "2025-05-12 04:48:52",
           1.7
          ],
          [
           "2025-05-12 04:43:33",
           1.5
          ],
          [
           "2025-05-12 04:39:53",
           0.97
          ],
          [
           "2025-05-12 04:35:14",
           1.51
          ],
          [
           "2025-05-12 04:25:06",
           2.54
          ],
          [
           "2025-05-12 04:22:54",
           1.6
          ],
          [
           "2025-05-12 04:05:59",
           -0.19
          ],
          [
           "2025-05-12 03:53:46",
           1.09
          ],
          [
           "2025-05-12 03:49:47",
           0.36
          ],
          [
           "2025-05-12 03:48:30",
           3.12
          ],
          [
           "2025-05-12 03:48:23",
           1.85
          ],
          [
           "2025-05-12 03:44:52",
           0.99
          ],
          [
           "2025-05-12 03:43:00",
           2.79
          ],
          [
           "2025-05-12 03:42:07",
           1.09
          ],
          [
           "2025-05-12 03:41:21",
           0.22
          ],
          [
           "2025-05-12 03:40:16",
           1.7
          ],
          [
           "2025-05-12 03:39:46",
           0.76
          ],
          [
           "2025-05-12 03:33:56",
           0.76
          ],
          [
           "2025-05-12 03:32:14",
           1.83
          ],
          [
           "2025-05-12 03:25:52",
           1.06
          ],
          [
           "2025-05-12 03:21:38",
           0.85
          ],
          [
           "2025-05-12 03:21:19",
           0.96
          ],
          [
           "2025-05-12 03:16:04",
           2.82
          ],
          [
           "2025-05-12 03:12:21",
           0.51
          ],
          [
           "2025-05-12 03:12:16",
           0.9
          ],
          [
           "2025-05-12 03:10:33",
           2.8
          ],
          [
           "2025-05-12 03:09:38",
           4.9
          ],
          [
           "2025-05-12 03:01:12",
           1.8
          ],
          [
           "2025-05-12 02:57:56",
           1.69
          ],
          [
           "2025-05-12 02:50:42",
           0.72
          ],
          [
           "2025-05-12 02:47:53",
           2.5
          ],
          [
           "2025-05-12 02:37:04",
           0.33
          ],
          [
           "2025-05-12 02:31:46",
           0.17
          ],
          [
           "2025-05-12 02:28:42",
           0.92
          ],
          [
           "2025-05-12 02:17:47",
           4.4
          ],
          [
           "2025-05-12 02:17:21",
           0.95
          ],
          [
           "2025-05-12 02:13:28",
           0.77
          ],
          [
           "2025-05-12 02:10:52",
           4.3
          ],
          [
           "2025-05-12 02:10:35",
           0.86
          ],
          [
           "2025-05-12 02:09:21",
           1
          ],
          [
           "2025-05-12 02:03:22",
           2
          ],
          [
           "2025-05-12 02:02:55",
           1.11
          ],
          [
           "2025-05-12 02:00:08",
           1.71
          ],
          [
           "2025-05-12 01:57:17",
           1.99
          ],
          [
           "2025-05-12 01:39:18",
           2.27
          ],
          [
           "2025-05-12 01:33:55",
           0.36
          ],
          [
           "2025-05-12 01:33:40",
           0.79
          ],
          [
           "2025-05-12 01:29:38",
           4.3
          ],
          [
           "2025-05-12 01:09:44",
           1.6
          ],
          [
           "2025-05-12 01:08:48",
           1.76
          ],
          [
           "2025-05-12 01:06:49",
           0.81
          ],
          [
           "2025-05-12 00:58:37",
           0.37
          ],
          [
           "2025-05-12 00:55:11",
           1.54
          ],
          [
           "2025-05-12 00:47:10",
           0.73
          ],
          [
           "2025-05-12 00:41:44",
           5
          ],
          [
           "2025-05-12 00:40:29",
           4.6
          ],
          [
           "2025-05-12 00:22:34",
           1.41
          ],
          [
           "2025-05-12 00:19:37",
           2
          ],
          [
           "2025-05-12 00:09:02",
           0.47
          ],
          [
           "2025-05-12 00:08:07",
           -0.04
          ],
          [
           "2025-05-12 00:02:34",
           1.03
          ],
          [
           "2025-05-12 00:01:17",
           2.3
          ],
          [
           "2025-05-11 23:54:36",
           0.8
          ],
          [
           "2025-05-11 23:52:21",
           1.12
          ],
          [
           "2025-05-11 23:40:59",
           0.5
          ],
          [
           "2025-05-11 23:40:30",
           0.85
          ],
          [
           "2025-05-11 23:39:10",
           1.09
          ],
          [
           "2025-05-11 23:27:57",
           1.5
          ],
          [
           "2025-05-11 23:17:31",
           0.76
          ],
          [
           "2025-05-11 23:04:07",
           2.3
          ],
          [
           "2025-05-11 23:02:54",
           1
          ],
          [
           "2025-05-11 22:52:57",
           1.47
          ],
          [
           "2025-05-11 22:46:48",
           0.69
          ],
          [
           "2025-05-11 22:35:48",
           0.9
          ],
          [
           "2025-05-11 22:35:19",
           2.47
          ],
          [
           "2025-05-11 22:22:37",
           0.43
          ],
          [
           "2025-05-11 22:22:00",
           0.36
          ],
          [
           "2025-05-11 22:21:31",
           0.02
          ],
          [
           "2025-05-11 22:21:25",
           -0.37
          ],
          [
           "2025-05-11 22:20:35",
           1.74
          ],
          [
           "2025-05-11 22:12:33",
           1.49
          ],
          [
           "2025-05-11 22:07:00",
           1.85
          ],
          [
           "2025-05-11 22:04:56",
           5.4
          ],
          [
           "2025-05-11 22:02:22",
           2.46
          ],
          [
           "2025-05-11 21:59:31",
           0.44
          ],
          [
           "2025-05-11 21:51:15",
           1.1
          ],
          [
           "2025-05-11 21:49:57",
           5.3
          ],
          [
           "2025-05-11 21:49:25",
           1.69
          ],
          [
           "2025-05-11 21:45:58",
           2.27
          ],
          [
           "2025-05-11 21:42:40",
           1.8
          ],
          [
           "2025-05-11 21:28:26",
           2
          ],
          [
           "2025-05-11 21:25:51",
           4.9
          ],
          [
           "2025-05-11 21:13:08",
           2.06
          ],
          [
           "2025-05-11 21:11:22",
           5.6
          ],
          [
           "2025-05-11 21:08:53",
           2
          ],
          [
           "2025-05-11 20:52:12",
           1.55
          ],
          [
           "2025-05-11 20:48:42",
           0.63
          ],
          [
           "2025-05-11 20:44:17",
           1.07
          ],
          [
           "2025-05-11 20:42:12",
           1.4
          ],
          [
           "2025-05-11 20:41:51",
           1.68
          ],
          [
           "2025-05-11 20:37:57",
           0.59
          ],
          [
           "2025-05-11 20:30:19",
           0.95
          ],
          [
           "2025-05-11 20:28:35",
           1.1
          ],
          [
           "2025-05-11 20:25:41",
           1
          ],
          [
           "2025-05-11 20:17:48",
           0.39
          ],
          [
           "2025-05-11 20:15:17",
           1.35
          ],
          [
           "2025-05-11 20:15:13",
           2
          ],
          [
           "2025-05-11 20:14:42",
           1.73
          ],
          [
           "2025-05-11 20:01:12",
           -0.87
          ],
          [
           "2025-05-11 19:52:49",
           0.42
          ],
          [
           "2025-05-11 19:47:18",
           1.21
          ],
          [
           "2025-05-11 19:47:11",
           1.73
          ],
          [
           "2025-05-11 19:44:43",
           2
          ],
          [
           "2025-05-11 19:33:07",
           0.95
          ],
          [
           "2025-05-11 19:28:55",
           0.6
          ],
          [
           "2025-05-11 18:50:45",
           1.62
          ],
          [
           "2025-05-11 18:48:45",
           4.7
          ],
          [
           "2025-05-11 18:43:36",
           1.2
          ],
          [
           "2025-05-11 18:34:57",
           4.2
          ],
          [
           "2025-05-11 18:27:50",
           0.68
          ],
          [
           "2025-05-11 18:06:13",
           1.3
          ],
          [
           "2025-05-11 18:05:39",
           0.45
          ],
          [
           "2025-05-11 18:05:07",
           0.68
          ],
          [
           "2025-05-11 17:50:40",
           2.8
          ],
          [
           "2025-05-11 17:38:36",
           4.7
          ],
          [
           "2025-05-11 17:32:19",
           0.02
          ],
          [
           "2025-05-11 17:30:50",
           1.89
          ],
          [
           "2025-05-11 17:28:19",
           1.17
          ],
          [
           "2025-05-11 17:24:34",
           1.8
          ],
          [
           "2025-05-11 17:24:06",
           1.6
          ],
          [
           "2025-05-11 17:15:25",
           1.25
          ],
          [
           "2025-05-11 17:08:44",
           1.18
          ],
          [
           "2025-05-11 17:05:24",
           4.7
          ],
          [
           "2025-05-11 16:57:50",
           0.6
          ],
          [
           "2025-05-11 16:44:55",
           1.4
          ],
          [
           "2025-05-11 16:44:54",
           0.28
          ],
          [
           "2025-05-11 16:34:41",
           1.8
          ],
          [
           "2025-05-11 16:28:38",
           1.8
          ],
          [
           "2025-05-11 16:12:54",
           1.9
          ],
          [
           "2025-05-11 16:12:30",
           1.16
          ],
          [
           "2025-05-11 16:05:05",
           0.22
          ],
          [
           "2025-05-11 16:03:05",
           0.9
          ],
          [
           "2025-05-11 16:00:23",
           0.2
          ],
          [
           "2025-05-11 16:00:12",
           1.3
          ],
          [
           "2025-05-11 15:38:39",
           1.6
          ],
          [
           "2025-05-11 15:34:20",
           1.78
          ],
          [
           "2025-05-11 15:28:29",
           0.2
          ],
          [
           "2025-05-11 15:16:34",
           1.3
          ],
          [
           "2025-05-11 15:15:59",
           1.8
          ],
          [
           "2025-05-11 15:15:16",
           0.42
          ],
          [
           "2025-05-11 15:15:11",
           1.1
          ],
          [
           "2025-05-11 14:37:49",
           0.78
          ],
          [
           "2025-05-11 14:35:24",
           1.01
          ],
          [
           "2025-05-11 14:27:53",
           1.19
          ],
          [
           "2025-05-11 14:25:34",
           0.8
          ],
          [
           "2025-05-11 14:25:16",
           0.53
          ],
          [
           "2025-05-11 14:25:02",
           1.4
          ],
          [
           "2025-05-11 14:23:27",
           1.92
          ],
          [
           "2025-05-11 14:12:49",
           -0.38
          ],
          [
           "2025-05-11 14:09:32",
           1.03
          ],
          [
           "2025-05-11 14:08:28",
           2.04
          ],
          [
           "2025-05-11 14:00:28",
           2.7
          ],
          [
           "2025-05-11 13:58:16",
           1.21
          ],
          [
           "2025-05-11 13:52:38",
           0.9
          ],
          [
           "2025-05-11 13:50:15",
           1.06
          ],
          [
           "2025-05-11 13:39:42",
           0.77
          ],
          [
           "2025-05-11 13:36:13",
           2.2
          ],
          [
           "2025-05-11 13:33:51",
           1.32
          ],
          [
           "2025-05-11 13:25:28",
           1.6
          ],
          [
           "2025-05-11 13:23:28",
           2.9
          ],
          [
           "2025-05-11 12:49:36",
           0.69
          ],
          [
           "2025-05-11 12:48:45",
           2.2
          ],
          [
           "2025-05-11 12:42:04",
           0.81
          ],
          [
           "2025-05-11 12:34:32",
           1
          ],
          [
           "2025-05-11 12:33:39",
           -0.2
          ],
          [
           "2025-05-11 12:30:45",
           2.19
          ],
          [
           "2025-05-11 12:25:34",
           0.66
          ],
          [
           "2025-05-11 12:12:41",
           3.52
          ],
          [
           "2025-05-11 12:03:47",
           0.77
          ],
          [
           "2025-05-11 11:56:10",
           2.4
          ],
          [
           "2025-05-11 11:54:54",
           1.9
          ],
          [
           "2025-05-11 11:49:14",
           0.14
          ],
          [
           "2025-05-11 11:41:05",
           2.2
          ],
          [
           "2025-05-11 11:39:48",
           0.9
          ],
          [
           "2025-05-11 11:39:08",
           4.6
          ],
          [
           "2025-05-11 11:38:00",
           0.63
          ],
          [
           "2025-05-11 11:28:03",
           0.76
          ],
          [
           "2025-05-11 11:24:09",
           3.67
          ],
          [
           "2025-05-11 11:23:07",
           0.2
          ],
          [
           "2025-05-11 11:22:21",
           5.9
          ],
          [
           "2025-05-11 11:20:02",
           0.57
          ],
          [
           "2025-05-11 11:19:26",
           1
          ],
          [
           "2025-05-11 11:13:12",
           1.93
          ],
          [
           "2025-05-11 11:10:31",
           0.18
          ],
          [
           "2025-05-11 10:58:48",
           0.37
          ],
          [
           "2025-05-11 10:56:00",
           -0.13
          ],
          [
           "2025-05-11 10:53:24",
           1.4
          ],
          [
           "2025-05-11 10:50:48",
           1.28
          ],
          [
           "2025-05-11 10:46:36",
           3.57
          ],
          [
           "2025-05-11 10:45:45",
           1.13
          ],
          [
           "2025-05-11 10:43:45",
           1.5
          ],
          [
           "2025-05-11 10:41:51",
           4.6
          ],
          [
           "2025-05-11 10:37:11",
           1.7
          ],
          [
           "2025-05-11 10:36:53",
           -0.58
          ],
          [
           "2025-05-11 10:35:30",
           1.8
          ],
          [
           "2025-05-11 10:12:10",
           1.2
          ],
          [
           "2025-05-11 10:10:38",
           4.4
          ],
          [
           "2025-05-11 10:09:54",
           0.23
          ],
          [
           "2025-05-11 10:04:25",
           0.9
          ],
          [
           "2025-05-11 09:56:18",
           1.8
          ],
          [
           "2025-05-11 09:55:56",
           3.85
          ],
          [
           "2025-05-11 09:51:11",
           1.1
          ],
          [
           "2025-05-11 09:49:10",
           1.76
          ],
          [
           "2025-05-11 09:46:51",
           4.6
          ],
          [
           "2025-05-11 09:44:10",
           1.23
          ],
          [
           "2025-05-11 09:39:33",
           2.32
          ],
          [
           "2025-05-11 09:39:25",
           0.75
          ],
          [
           "2025-05-11 09:32:21",
           0.99
          ],
          [
           "2025-05-11 09:31:15",
           1.3
          ],
          [
           "2025-05-11 09:29:01",
           4.4
          ],
          [
           "2025-05-11 09:24:28",
           1.2
          ],
          [
           "2025-05-11 09:20:35",
           1.49
          ],
          [
           "2025-05-11 09:10:52",
           0.89
          ],
          [
           "2025-05-11 09:07:39",
           2.07
          ],
          [
           "2025-05-11 09:06:01",
           2.9
          ],
          [
           "2025-05-11 08:57:44",
           5.8
          ],
          [
           "2025-05-11 08:46:07",
           1.6
          ],
          [
           "2025-05-11 08:43:40",
           2.04
          ],
          [
           "2025-05-11 08:41:24",
           0.76
          ],
          [
           "2025-05-11 08:30:05",
           1.4
          ],
          [
           "2025-05-11 08:28:25",
           1.6
          ],
          [
           "2025-05-11 08:27:06",
           3.05
          ],
          [
           "2025-05-11 08:26:34",
           1.9
          ],
          [
           "2025-05-11 08:23:00",
           2.2
          ],
          [
           "2025-05-11 08:20:19",
           0.58
          ],
          [
           "2025-05-11 08:19:12",
           1.68
          ],
          [
           "2025-05-11 08:09:15",
           4.4
          ],
          [
           "2025-05-11 08:08:25",
           0.3
          ],
          [
           "2025-05-11 08:03:12",
           0.64
          ],
          [
           "2025-05-11 07:58:03",
           1.1
          ],
          [
           "2025-05-11 07:47:30",
           1.32
          ],
          [
           "2025-05-11 07:45:30",
           2.9
          ],
          [
           "2025-05-11 07:41:18",
           2.75
          ],
          [
           "2025-05-11 07:34:25",
           1.63
          ],
          [
           "2025-05-11 07:34:13",
           1.08
          ],
          [
           "2025-05-11 07:27:28",
           2.96
          ],
          [
           "2025-05-11 07:24:57",
           3.12
          ],
          [
           "2025-05-11 07:23:04",
           1.71
          ],
          [
           "2025-05-11 07:18:27",
           1.29
          ],
          [
           "2025-05-11 07:18:14",
           1.4
          ],
          [
           "2025-05-11 07:15:46",
           1.54
          ],
          [
           "2025-05-11 07:15:35",
           4
          ],
          [
           "2025-05-11 07:06:04",
           2.9
          ],
          [
           "2025-05-11 07:00:08",
           1.6
          ],
          [
           "2025-05-11 06:57:08",
           1.6
          ],
          [
           "2025-05-11 06:54:38",
           0.63
          ],
          [
           "2025-05-11 06:47:14",
           0.84
          ],
          [
           "2025-05-11 06:45:29",
           1.8
          ],
          [
           "2025-05-11 06:44:30",
           4.2
          ],
          [
           "2025-05-11 06:43:27",
           4.6
          ],
          [
           "2025-05-11 06:27:34",
           1.87
          ],
          [
           "2025-05-11 06:27:17",
           0.7
          ],
          [
           "2025-05-11 06:25:26",
           4.3
          ],
          [
           "2025-05-11 06:25:14",
           1.7
          ],
          [
           "2025-05-11 06:23:57",
           0.92
          ],
          [
           "2025-05-11 06:22:13",
           1.3
          ],
          [
           "2025-05-11 06:16:14",
           1.2
          ],
          [
           "2025-05-11 06:05:37",
           2.95
          ],
          [
           "2025-05-11 05:38:28",
           0.9
          ],
          [
           "2025-05-11 05:34:50",
           0.19
          ],
          [
           "2025-05-11 05:25:43",
           1.11
          ],
          [
           "2025-05-11 05:16:50",
           4.7
          ],
          [
           "2025-05-11 05:03:24",
           1.8
          ],
          [
           "2025-05-11 05:02:22",
           1.6
          ],
          [
           "2025-05-11 05:00:49",
           4.8
          ],
          [
           "2025-05-11 05:00:46",
           -0.53
          ],
          [
           "2025-05-11 04:56:20",
           0.43
          ],
          [
           "2025-05-11 04:52:33",
           4.9
          ],
          [
           "2025-05-11 04:27:57",
           0.9
          ],
          [
           "2025-05-11 04:26:41",
           -0.54
          ],
          [
           "2025-05-11 04:10:16",
           2.71
          ],
          [
           "2025-05-11 04:06:35",
           3.05
          ],
          [
           "2025-05-11 04:05:32",
           1.28
          ],
          [
           "2025-05-11 04:05:06",
           -0.44
          ],
          [
           "2025-05-11 03:47:18",
           2.18
          ],
          [
           "2025-05-11 03:43:32",
           0.98
          ],
          [
           "2025-05-11 03:42:16",
           1.01
          ],
          [
           "2025-05-11 03:41:02",
           0.07
          ],
          [
           "2025-05-11 03:39:30",
           0.22
          ],
          [
           "2025-05-11 03:39:23",
           0.88
          ],
          [
           "2025-05-11 03:32:06",
           0.22
          ],
          [
           "2025-05-11 03:25:49",
           0.6
          ],
          [
           "2025-05-11 03:25:05",
           0.16
          ],
          [
           "2025-05-11 03:16:49",
           0.82
          ],
          [
           "2025-05-11 03:10:40",
           0.35
          ],
          [
           "2025-05-11 03:09:37",
           3.25
          ],
          [
           "2025-05-11 03:08:34",
           1.8
          ],
          [
           "2025-05-11 02:57:06",
           0.79
          ],
          [
           "2025-05-11 02:42:50",
           2.3
          ],
          [
           "2025-05-11 02:42:28",
           1.7
          ],
          [
           "2025-05-11 02:40:19",
           0.9
          ],
          [
           "2025-05-11 02:30:02",
           1.7
          ],
          [
           "2025-05-11 02:21:02",
           1.26
          ],
          [
           "2025-05-11 02:10:17",
           0.93
          ],
          [
           "2025-05-11 02:07:08",
           4.7
          ],
          [
           "2025-05-11 02:00:52",
           1.02
          ],
          [
           "2025-05-11 01:58:17",
           0.36
          ],
          [
           "2025-05-11 01:47:36",
           1.46
          ],
          [
           "2025-05-11 01:46:27",
           2.2
          ],
          [
           "2025-05-11 01:43:42",
           0.66
          ],
          [
           "2025-05-11 01:43:20",
           2
          ],
          [
           "2025-05-11 01:42:32",
           0.42
          ],
          [
           "2025-05-11 01:40:58",
           0.45
          ],
          [
           "2025-05-11 01:40:36",
           -0.48
          ],
          [
           "2025-05-11 01:37:42",
           1.1
          ],
          [
           "2025-05-11 01:31:45",
           1.94
          ],
          [
           "2025-05-11 01:29:58",
           4.7
          ],
          [
           "2025-05-11 01:22:09",
           -0.15
          ],
          [
           "2025-05-11 01:14:50",
           1.6
          ],
          [
           "2025-05-11 01:04:58",
           2.89
          ],
          [
           "2025-05-11 01:04:57",
           0.76
          ],
          [
           "2025-05-11 01:02:24",
           0.39
          ],
          [
           "2025-05-11 01:01:50",
           0.34
          ],
          [
           "2025-05-11 01:01:45",
           2.63
          ],
          [
           "2025-05-11 01:00:41",
           1.41
          ],
          [
           "2025-05-11 00:57:06",
           1.5
          ],
          [
           "2025-05-11 00:53:36",
           1.2
          ],
          [
           "2025-05-11 00:53:04",
           1.12
          ],
          [
           "2025-05-11 00:49:52",
           4.6
          ],
          [
           "2025-05-11 00:49:27",
           -0.61
          ],
          [
           "2025-05-11 00:49:21",
           -0.78
          ],
          [
           "2025-05-11 00:47:02",
           0.49
          ],
          [
           "2025-05-11 00:39:40",
           0.8
          ],
          [
           "2025-05-11 00:33:22",
           1.3
          ],
          [
           "2025-05-11 00:31:03",
           0.74
          ],
          [
           "2025-05-11 00:30:46",
           1.45
          ],
          [
           "2025-05-11 00:16:17",
           0.9
          ],
          [
           "2025-05-11 00:11:25",
           0.3
          ],
          [
           "2025-05-11 00:04:57",
           0.61
          ],
          [
           "2025-05-11 00:00:40",
           1.3
          ],
          [
           "2025-05-10 23:55:55",
           1.48
          ],
          [
           "2025-05-10 23:55:15",
           1.2
          ],
          [
           "2025-05-10 23:54:17",
           2.37
          ],
          [
           "2025-05-10 23:47:56",
           1.1
          ],
          [
           "2025-05-10 23:47:06",
           -0.49
          ],
          [
           "2025-05-10 23:43:51",
           1.57
          ],
          [
           "2025-05-10 23:33:52",
           0.83
          ],
          [
           "2025-05-10 23:32:42",
           0.78
          ],
          [
           "2025-05-10 23:31:02",
           2.6
          ],
          [
           "2025-05-10 23:30:57",
           1.44
          ],
          [
           "2025-05-10 23:25:44",
           0.1
          ],
          [
           "2025-05-10 23:22:00",
           1.1
          ],
          [
           "2025-05-10 23:18:54",
           0.89
          ],
          [
           "2025-05-10 23:16:27",
           1.97
          ],
          [
           "2025-05-10 23:13:52",
           -0.11
          ],
          [
           "2025-05-10 23:10:16",
           0.21
          ],
          [
           "2025-05-10 22:51:56",
           0.3
          ],
          [
           "2025-05-10 22:51:32",
           0.71
          ],
          [
           "2025-05-10 22:50:33",
           2.18
          ],
          [
           "2025-05-10 22:45:48",
           1.8
          ],
          [
           "2025-05-10 22:22:23",
           0.43
          ],
          [
           "2025-05-10 22:17:34",
           1.52
          ],
          [
           "2025-05-10 22:16:49",
           1.04
          ],
          [
           "2025-05-10 22:15:43",
           2.31
          ],
          [
           "2025-05-10 22:15:06",
           1.9
          ],
          [
           "2025-05-10 22:11:40",
           1.9
          ],
          [
           "2025-05-10 22:10:51",
           1.87
          ],
          [
           "2025-05-10 21:47:44",
           -0.66
          ],
          [
           "2025-05-10 21:47:17",
           0.76
          ],
          [
           "2025-05-10 21:44:31",
           0.85
          ],
          [
           "2025-05-10 21:38:34",
           1.26
          ],
          [
           "2025-05-10 21:33:13",
           0.37
          ],
          [
           "2025-05-10 21:29:53",
           1.26
          ],
          [
           "2025-05-10 21:25:56",
           1.2
          ],
          [
           "2025-05-10 21:22:17",
           1.83
          ],
          [
           "2025-05-10 21:16:44",
           0.81
          ],
          [
           "2025-05-10 21:14:02",
           0.32
          ],
          [
           "2025-05-10 21:12:14",
           0.51
          ],
          [
           "2025-05-10 21:10:31",
           0.57
          ],
          [
           "2025-05-10 21:06:22",
           -1.02
          ],
          [
           "2025-05-10 21:03:19",
           2.17
          ],
          [
           "2025-05-10 20:57:37",
           1.57
          ],
          [
           "2025-05-10 20:52:58",
           2.1
          ],
          [
           "2025-05-10 20:48:49",
           0.11
          ],
          [
           "2025-05-10 20:42:59",
           -0.05
          ],
          [
           "2025-05-10 20:40:10",
           0.64
          ],
          [
           "2025-05-10 20:36:47",
           0.67
          ],
          [
           "2025-05-10 20:36:25",
           0.6
          ],
          [
           "2025-05-10 20:30:21",
           1.18
          ],
          [
           "2025-05-10 20:28:55",
           1.1
          ],
          [
           "2025-05-10 20:27:52",
           0.5
          ],
          [
           "2025-05-10 20:24:48",
           -0.74
          ],
          [
           "2025-05-10 20:16:58",
           1.5
          ],
          [
           "2025-05-10 20:10:36",
           3.43
          ],
          [
           "2025-05-10 20:04:12",
           2.08
          ],
          [
           "2025-05-10 20:03:36",
           1.78
          ],
          [
           "2025-05-10 20:02:19",
           2.1
          ],
          [
           "2025-05-10 20:00:35",
           1.5
          ],
          [
           "2025-05-10 19:47:06",
           0.61
          ],
          [
           "2025-05-10 19:42:06",
           1.07
          ],
          [
           "2025-05-10 19:39:25",
           1.7
          ],
          [
           "2025-05-10 19:38:39",
           1.6
          ],
          [
           "2025-05-10 19:36:52",
           0.33
          ],
          [
           "2025-05-10 19:33:12",
           0.87
          ],
          [
           "2025-05-10 19:23:08",
           0.73
          ],
          [
           "2025-05-10 19:14:50",
           0.66
          ],
          [
           "2025-05-10 19:11:41",
           0.67
          ],
          [
           "2025-05-10 19:11:15",
           2.98
          ],
          [
           "2025-05-10 19:05:53",
           0.01
          ],
          [
           "2025-05-10 19:03:50",
           0.76
          ],
          [
           "2025-05-10 19:02:17",
           3.53
          ],
          [
           "2025-05-10 18:56:20",
           0.35
          ],
          [
           "2025-05-10 18:55:06",
           0.27
          ],
          [
           "2025-05-10 18:50:28",
           4.5
          ],
          [
           "2025-05-10 18:49:28",
           2.22
          ],
          [
           "2025-05-10 18:42:11",
           -0.4
          ],
          [
           "2025-05-10 18:42:01",
           -0.11
          ],
          [
           "2025-05-10 18:40:59",
           1.09
          ],
          [
           "2025-05-10 18:40:38",
           0.38
          ],
          [
           "2025-05-10 18:36:56",
           4.6
          ],
          [
           "2025-05-10 18:26:59",
           1.9
          ],
          [
           "2025-05-10 18:26:44",
           2.8
          ],
          [
           "2025-05-10 18:14:30",
           1.7
          ],
          [
           "2025-05-10 18:11:51",
           -0.44
          ],
          [
           "2025-05-10 18:04:49",
           0.54
          ],
          [
           "2025-05-10 18:02:42",
           1.3
          ],
          [
           "2025-05-10 18:02:26",
           4.2
          ],
          [
           "2025-05-10 17:51:16",
           4.2
          ],
          [
           "2025-05-10 17:50:44",
           1.4
          ],
          [
           "2025-05-10 17:50:02",
           0.57
          ],
          [
           "2025-05-10 17:40:37",
           1.35
          ],
          [
           "2025-05-10 17:39:35",
           -0.67
          ],
          [
           "2025-05-10 17:35:28",
           4.2
          ],
          [
           "2025-05-10 17:34:33",
           1.49
          ],
          [
           "2025-05-10 17:33:27",
           1.7
          ],
          [
           "2025-05-10 17:33:26",
           2.9
          ],
          [
           "2025-05-10 17:32:53",
           1.22
          ],
          [
           "2025-05-10 17:30:01",
           4.2
          ],
          [
           "2025-05-10 17:29:21",
           0.6
          ],
          [
           "2025-05-10 17:28:35",
           -0.85
          ],
          [
           "2025-05-10 17:26:36",
           -0.41
          ],
          [
           "2025-05-10 17:21:42",
           1.1
          ],
          [
           "2025-05-10 17:20:03",
           1.92
          ],
          [
           "2025-05-10 17:17:37",
           0.69
          ],
          [
           "2025-05-10 17:17:16",
           2.06
          ],
          [
           "2025-05-10 17:16:17",
           3
          ],
          [
           "2025-05-10 17:08:23",
           1.6
          ],
          [
           "2025-05-10 17:02:54",
           2.8
          ],
          [
           "2025-05-10 16:43:34",
           2.2
          ],
          [
           "2025-05-10 16:38:36",
           -0.4
          ],
          [
           "2025-05-10 16:25:49",
           -0.78
          ],
          [
           "2025-05-10 16:24:08",
           4.2
          ],
          [
           "2025-05-10 16:14:23",
           1.26
          ],
          [
           "2025-05-10 15:47:16",
           0.62
          ],
          [
           "2025-05-10 15:46:31",
           0.74
          ],
          [
           "2025-05-10 15:45:30",
           1.02
          ],
          [
           "2025-05-10 15:43:30",
           2.5
          ],
          [
           "2025-05-10 15:35:52",
           0.34
          ],
          [
           "2025-05-10 15:21:14",
           2.55
          ],
          [
           "2025-05-10 15:20:50",
           1.12
          ],
          [
           "2025-05-10 15:20:41",
           1.8
          ],
          [
           "2025-05-10 15:13:55",
           -0.17
          ],
          [
           "2025-05-10 15:13:23",
           0.76
          ],
          [
           "2025-05-10 15:11:24",
           0.9
          ],
          [
           "2025-05-10 15:07:32",
           2.3
          ],
          [
           "2025-05-10 14:57:23",
           1.07
          ],
          [
           "2025-05-10 14:53:27",
           0.8
          ],
          [
           "2025-05-10 14:52:02",
           1
          ],
          [
           "2025-05-10 14:37:11",
           0.78
          ],
          [
           "2025-05-10 14:27:03",
           0.59
          ],
          [
           "2025-05-10 14:10:41",
           0.77
          ],
          [
           "2025-05-10 14:09:50",
           2.24
          ],
          [
           "2025-05-10 14:09:37",
           -0.61
          ],
          [
           "2025-05-10 14:09:29",
           -0.8
          ],
          [
           "2025-05-10 14:06:21",
           1.58
          ],
          [
           "2025-05-10 14:03:25",
           -0.37
          ],
          [
           "2025-05-10 14:03:15",
           1.11
          ],
          [
           "2025-05-10 13:57:45",
           1.43
          ],
          [
           "2025-05-10 13:51:44",
           0.71
          ],
          [
           "2025-05-10 13:50:36",
           0.27
          ],
          [
           "2025-05-10 13:48:58",
           -0.21
          ],
          [
           "2025-05-10 13:42:55",
           4.5
          ],
          [
           "2025-05-10 13:40:01",
           -0.51
          ],
          [
           "2025-05-10 13:27:03",
           0.38
          ],
          [
           "2025-05-10 13:23:56",
           1.5
          ],
          [
           "2025-05-10 13:20:37",
           0.53
          ],
          [
           "2025-05-10 13:15:03",
           1.01
          ],
          [
           "2025-05-10 13:12:46",
           0.66
          ],
          [
           "2025-05-10 13:07:24",
           0.41
          ],
          [
           "2025-05-10 13:04:20",
           4.1
          ],
          [
           "2025-05-10 13:04:00",
           0.47
          ],
          [
           "2025-05-10 13:02:04",
           1.02
          ],
          [
           "2025-05-10 12:55:24",
           0.99
          ],
          [
           "2025-05-10 12:49:51",
           1.03
          ],
          [
           "2025-05-10 12:49:46",
           -0.22
          ],
          [
           "2025-05-10 12:44:45",
           1.8
          ],
          [
           "2025-05-10 12:36:38",
           4.2
          ],
          [
           "2025-05-10 12:31:41",
           1.8
          ],
          [
           "2025-05-10 12:29:48",
           1.4
          ],
          [
           "2025-05-10 12:28:22",
           1.4
          ],
          [
           "2025-05-10 12:22:11",
           0.9
          ],
          [
           "2025-05-10 12:16:49",
           0.88
          ],
          [
           "2025-05-10 12:13:36",
           0.6
          ],
          [
           "2025-05-10 12:12:53",
           4.7
          ],
          [
           "2025-05-10 12:10:43",
           0.6
          ],
          [
           "2025-05-10 11:57:47",
           -0.37
          ],
          [
           "2025-05-10 11:56:31",
           1.12
          ],
          [
           "2025-05-10 11:56:30",
           0.51
          ],
          [
           "2025-05-10 11:55:46",
           3.9
          ],
          [
           "2025-05-10 11:55:28",
           0.54
          ],
          [
           "2025-05-10 11:45:15",
           4.7
          ],
          [
           "2025-05-10 11:41:56",
           3.61
          ],
          [
           "2025-05-10 11:33:27",
           0.1
          ],
          [
           "2025-05-10 11:30:15",
           -0.5
          ],
          [
           "2025-05-10 11:28:55",
           1.6
          ],
          [
           "2025-05-10 11:28:05",
           1.2
          ],
          [
           "2025-05-10 11:26:55",
           0.59
          ],
          [
           "2025-05-10 11:19:50",
           0.3
          ],
          [
           "2025-05-10 11:17:58",
           1.45
          ],
          [
           "2025-05-10 11:13:06",
           0.62
          ],
          [
           "2025-05-10 11:08:26",
           0.48
          ],
          [
           "2025-05-10 11:02:29",
           2.1
          ],
          [
           "2025-05-10 10:51:04",
           1.6
          ],
          [
           "2025-05-10 10:33:58",
           1.4
          ],
          [
           "2025-05-10 10:32:52",
           1.5
          ],
          [
           "2025-05-10 10:32:49",
           0.9
          ],
          [
           "2025-05-10 10:30:53",
           2.9
          ],
          [
           "2025-05-10 10:23:24",
           1.7
          ],
          [
           "2025-05-10 10:20:30",
           0.83
          ],
          [
           "2025-05-10 10:19:31",
           0.9
          ],
          [
           "2025-05-10 10:07:27",
           0.28
          ],
          [
           "2025-05-10 09:58:20",
           1.2
          ],
          [
           "2025-05-10 09:51:35",
           2
          ],
          [
           "2025-05-10 09:51:34",
           1.8
          ],
          [
           "2025-05-10 09:46:09",
           1.4
          ],
          [
           "2025-05-10 09:44:05",
           0.74
          ],
          [
           "2025-05-10 09:43:18",
           2.1
          ],
          [
           "2025-05-10 09:37:31",
           1.1
          ],
          [
           "2025-05-10 09:32:44",
           2.2
          ],
          [
           "2025-05-10 09:25:35",
           2.1
          ],
          [
           "2025-05-10 09:20:33",
           1.9
          ],
          [
           "2025-05-10 09:16:53",
           1.8
          ],
          [
           "2025-05-10 09:13:07",
           1.56
          ],
          [
           "2025-05-10 08:54:24",
           1.6
          ],
          [
           "2025-05-10 08:45:54",
           -0.35
          ],
          [
           "2025-05-10 08:45:44",
           2.5
          ],
          [
           "2025-05-10 08:41:54",
           2
          ],
          [
           "2025-05-10 08:27:23",
           1.52
          ],
          [
           "2025-05-10 08:19:26",
           1.41
          ],
          [
           "2025-05-10 08:19:21",
           0.3
          ],
          [
           "2025-05-10 08:18:13",
           0.96
          ],
          [
           "2025-05-10 08:15:23",
           1.53
          ],
          [
           "2025-05-10 08:03:37",
           -0.58
          ],
          [
           "2025-05-10 08:01:05",
           1.8
          ],
          [
           "2025-05-10 07:53:36",
           3.9
          ],
          [
           "2025-05-10 07:48:43",
           1.04
          ],
          [
           "2025-05-10 07:45:35",
           1.38
          ],
          [
           "2025-05-10 07:40:01",
           1.1
          ],
          [
           "2025-05-10 07:37:58",
           -0.56
          ],
          [
           "2025-05-10 07:37:48",
           0.8
          ],
          [
           "2025-05-10 07:37:34",
           0.99
          ],
          [
           "2025-05-10 07:23:58",
           0.48
          ],
          [
           "2025-05-10 06:52:51",
           1.19
          ],
          [
           "2025-05-10 06:47:23",
           0.42
          ],
          [
           "2025-05-10 06:46:41",
           0.76
          ],
          [
           "2025-05-10 06:44:54",
           1.62
          ],
          [
           "2025-05-10 06:44:18",
           2.15
          ],
          [
           "2025-05-10 06:41:45",
           4.4
          ],
          [
           "2025-05-10 06:39:55",
           0.78
          ],
          [
           "2025-05-10 06:35:38",
           0.9
          ],
          [
           "2025-05-10 06:14:56",
           2.26
          ],
          [
           "2025-05-10 06:00:33",
           0.58
          ],
          [
           "2025-05-10 05:39:55",
           1.24
          ],
          [
           "2025-05-10 05:37:16",
           0.6
          ],
          [
           "2025-05-10 05:31:13",
           -0.42
          ],
          [
           "2025-05-10 05:27:33",
           1.21
          ],
          [
           "2025-05-10 05:24:25",
           0.43
          ],
          [
           "2025-05-10 05:22:39",
           -0.87
          ],
          [
           "2025-05-10 05:21:33",
           -1.27
          ],
          [
           "2025-05-10 05:21:12",
           0.37
          ],
          [
           "2025-05-10 05:18:23",
           -0.87
          ],
          [
           "2025-05-10 05:15:00",
           -0.2
          ],
          [
           "2025-05-10 05:12:34",
           1.9
          ],
          [
           "2025-05-10 05:09:53",
           -0.32
          ],
          [
           "2025-05-10 05:08:01",
           4.6
          ],
          [
           "2025-05-10 05:07:15",
           4.1
          ],
          [
           "2025-05-10 04:52:39",
           0.68
          ],
          [
           "2025-05-10 04:47:21",
           -1.22
          ],
          [
           "2025-05-10 04:42:48",
           -0.29
          ],
          [
           "2025-05-10 04:39:53",
           -1.17
          ],
          [
           "2025-05-10 04:38:39",
           1.02
          ],
          [
           "2025-05-10 04:36:15",
           0.58
          ],
          [
           "2025-05-10 04:35:00",
           4.4
          ],
          [
           "2025-05-10 04:31:23",
           2.14
          ],
          [
           "2025-05-10 04:30:50",
           0.64
          ],
          [
           "2025-05-10 04:30:48",
           0.46
          ],
          [
           "2025-05-10 04:30:27",
           -0.83
          ],
          [
           "2025-05-10 04:29:45",
           0.03
          ],
          [
           "2025-05-10 04:25:52",
           1.2
          ],
          [
           "2025-05-10 04:24:50",
           -0.8
          ],
          [
           "2025-05-10 04:24:21",
           -0.87
          ],
          [
           "2025-05-10 04:18:41",
           1.7
          ],
          [
           "2025-05-10 04:15:47",
           0.6
          ],
          [
           "2025-05-10 04:14:26",
           0.24
          ],
          [
           "2025-05-10 04:11:27",
           -0.51
          ],
          [
           "2025-05-10 04:09:56",
           0.44
          ],
          [
           "2025-05-10 04:09:47",
           1.26
          ],
          [
           "2025-05-10 04:07:54",
           2.1
          ],
          [
           "2025-05-10 04:07:30",
           0.09
          ],
          [
           "2025-05-10 04:01:45",
           0.51
          ],
          [
           "2025-05-10 04:00:55",
           0.82
          ],
          [
           "2025-05-10 03:55:37",
           0.26
          ],
          [
           "2025-05-10 03:53:36",
           2.1
          ],
          [
           "2025-05-10 03:51:59",
           -0.81
          ],
          [
           "2025-05-10 03:49:57",
           -0.78
          ],
          [
           "2025-05-10 03:45:40",
           0.76
          ],
          [
           "2025-05-10 03:44:31",
           1.07
          ],
          [
           "2025-05-10 03:44:15",
           0.65
          ],
          [
           "2025-05-10 03:43:31",
           3.04
          ],
          [
           "2025-05-10 03:43:18",
           -0.81
          ],
          [
           "2025-05-10 03:41:28",
           0.96
          ],
          [
           "2025-05-10 03:37:03",
           0.71
          ],
          [
           "2025-05-10 03:34:52",
           4.4
          ],
          [
           "2025-05-10 03:34:07",
           5.1
          ],
          [
           "2025-05-10 03:31:17",
           0.13
          ],
          [
           "2025-05-10 03:31:11",
           1.83
          ],
          [
           "2025-05-10 03:30:11",
           1
          ],
          [
           "2025-05-10 03:25:07",
           -1.48
          ],
          [
           "2025-05-10 03:23:59",
           0.24
          ],
          [
           "2025-05-10 03:22:39",
           -1.41
          ],
          [
           "2025-05-10 03:20:38",
           0.34
          ],
          [
           "2025-05-10 03:20:33",
           0.31
          ],
          [
           "2025-05-10 03:19:06",
           -0.76
          ],
          [
           "2025-05-10 03:18:09",
           0.22
          ],
          [
           "2025-05-10 03:17:21",
           0.87
          ],
          [
           "2025-05-10 03:16:19",
           1.8
          ],
          [
           "2025-05-10 03:14:22",
           0.49
          ],
          [
           "2025-05-10 03:12:38",
           0.91
          ],
          [
           "2025-05-10 03:12:31",
           -0.75
          ],
          [
           "2025-05-10 03:12:29",
           -0.75
          ],
          [
           "2025-05-10 03:11:36",
           -0.17
          ],
          [
           "2025-05-10 03:11:28",
           -0.35
          ],
          [
           "2025-05-10 03:11:02",
           0.01
          ],
          [
           "2025-05-10 03:10:12",
           3.1
          ],
          [
           "2025-05-10 02:51:48",
           -1.24
          ],
          [
           "2025-05-10 02:48:23",
           -1.57
          ],
          [
           "2025-05-10 02:47:17",
           0.8
          ],
          [
           "2025-05-10 02:37:45",
           2
          ],
          [
           "2025-05-10 02:36:44",
           0.73
          ],
          [
           "2025-05-10 02:35:20",
           0.6
          ],
          [
           "2025-05-10 02:34:42",
           3.7
          ],
          [
           "2025-05-10 02:30:03",
           0.8
          ],
          [
           "2025-05-10 02:29:18",
           3
          ],
          [
           "2025-05-10 02:25:09",
           0.77
          ],
          [
           "2025-05-10 02:12:51",
           1.04
          ],
          [
           "2025-05-10 02:11:40",
           4.3
          ],
          [
           "2025-05-10 02:07:16",
           2.19
          ],
          [
           "2025-05-10 02:02:25",
           1.02
          ],
          [
           "2025-05-10 01:56:54",
           1.37
          ],
          [
           "2025-05-10 01:55:54",
           1.03
          ],
          [
           "2025-05-10 01:55:35",
           1.06
          ],
          [
           "2025-05-10 01:46:35",
           0.56
          ],
          [
           "2025-05-10 01:42:37",
           2.1
          ],
          [
           "2025-05-10 01:37:34",
           3.2
          ],
          [
           "2025-05-10 01:30:44",
           -0.2
          ],
          [
           "2025-05-10 01:29:27",
           1.45
          ],
          [
           "2025-05-10 01:18:55",
           2.72
          ],
          [
           "2025-05-10 01:13:41",
           1.4000000000000001
          ],
          [
           "2025-05-10 01:06:50",
           1.4
          ],
          [
           "2025-05-10 01:06:15",
           4.5
          ],
          [
           "2025-05-10 01:02:41",
           1.9
          ],
          [
           "2025-05-10 00:58:25",
           1.83
          ],
          [
           "2025-05-10 00:57:22",
           2.9
          ],
          [
           "2025-05-10 00:56:13",
           1.81
          ],
          [
           "2025-05-10 00:53:22",
           1.29
          ],
          [
           "2025-05-10 00:44:24",
           0.98
          ],
          [
           "2025-05-10 00:39:34",
           4.9
          ],
          [
           "2025-05-10 00:32:44",
           -0.2
          ],
          [
           "2025-05-10 00:27:06",
           2.2
          ],
          [
           "2025-05-10 00:24:04",
           2.6
          ],
          [
           "2025-05-10 00:17:37",
           -0.54
          ],
          [
           "2025-05-10 00:10:36",
           1.63
          ],
          [
           "2025-05-10 00:05:19",
           2.5
          ],
          [
           "2025-05-10 00:00:08",
           1.6
          ],
          [
           "2025-05-09 23:18:41",
           1.28
          ],
          [
           "2025-05-09 23:09:12",
           1.23
          ],
          [
           "2025-05-09 22:53:43",
           2.07
          ],
          [
           "2025-05-09 22:45:44",
           5.3
          ],
          [
           "2025-05-09 22:43:38",
           -0.39
          ],
          [
           "2025-05-09 22:38:33",
           0.88
          ],
          [
           "2025-05-09 22:19:46",
           0.68
          ],
          [
           "2025-05-09 22:17:42",
           0.6
          ],
          [
           "2025-05-09 21:57:47",
           1.06
          ],
          [
           "2025-05-09 21:56:15",
           1.73
          ],
          [
           "2025-05-09 21:49:21",
           0.8
          ],
          [
           "2025-05-09 21:48:13",
           4.6
          ],
          [
           "2025-05-09 21:46:27",
           1.1
          ],
          [
           "2025-05-09 21:45:40",
           1.63
          ],
          [
           "2025-05-09 21:44:02",
           2.06
          ],
          [
           "2025-05-09 21:43:37",
           1.8
          ],
          [
           "2025-05-09 21:42:57",
           3
          ],
          [
           "2025-05-09 21:42:34",
           0.74
          ],
          [
           "2025-05-09 21:26:18",
           2.4
          ],
          [
           "2025-05-09 21:21:58",
           1.04
          ],
          [
           "2025-05-09 21:20:40",
           2.9
          ],
          [
           "2025-05-09 21:17:30",
           2.19
          ],
          [
           "2025-05-09 21:16:34",
           0.26
          ],
          [
           "2025-05-09 21:08:30",
           2.5
          ],
          [
           "2025-05-09 20:55:08",
           2.54
          ],
          [
           "2025-05-09 20:49:31",
           0.94
          ],
          [
           "2025-05-09 20:39:00",
           0.9
          ],
          [
           "2025-05-09 20:34:39",
           1.5
          ],
          [
           "2025-05-09 20:33:18",
           1.6
          ],
          [
           "2025-05-09 20:30:26",
           0.65
          ],
          [
           "2025-05-09 20:18:55",
           1.9
          ],
          [
           "2025-05-09 19:57:00",
           0.36
          ],
          [
           "2025-05-09 19:54:45",
           2.5
          ],
          [
           "2025-05-09 19:54:41",
           1.14
          ],
          [
           "2025-05-09 19:49:32",
           0.16
          ],
          [
           "2025-05-09 19:40:18",
           0.74
          ],
          [
           "2025-05-09 19:37:19",
           2.58
          ],
          [
           "2025-05-09 19:27:21",
           2.2
          ],
          [
           "2025-05-09 19:20:28",
           -0.14
          ],
          [
           "2025-05-09 19:16:31",
           3.1
          ],
          [
           "2025-05-09 19:16:04",
           -0.83
          ],
          [
           "2025-05-09 19:07:15",
           5
          ],
          [
           "2025-05-09 19:03:31",
           1.68
          ],
          [
           "2025-05-09 18:36:01",
           0.83
          ],
          [
           "2025-05-09 18:31:54",
           0.04
          ],
          [
           "2025-05-09 18:21:49",
           1.35
          ],
          [
           "2025-05-09 18:20:06",
           0.72
          ],
          [
           "2025-05-09 18:18:00",
           1.32
          ],
          [
           "2025-05-09 18:11:41",
           4.4
          ],
          [
           "2025-05-09 17:55:49",
           1.6
          ],
          [
           "2025-05-09 17:53:21",
           0.44
          ],
          [
           "2025-05-09 17:49:09",
           2.46
          ],
          [
           "2025-05-09 17:44:52",
           4.9
          ],
          [
           "2025-05-09 17:43:36",
           2
          ],
          [
           "2025-05-09 17:41:23",
           1.8800000000000001
          ],
          [
           "2025-05-09 17:36:20",
           0.86
          ],
          [
           "2025-05-09 17:35:58",
           2.13
          ],
          [
           "2025-05-09 17:33:16",
           1.1
          ],
          [
           "2025-05-09 17:30:07",
           1.64
          ],
          [
           "2025-05-09 17:07:25",
           1.7
          ],
          [
           "2025-05-09 17:05:17",
           1.8
          ],
          [
           "2025-05-09 16:56:51",
           1.19
          ],
          [
           "2025-05-09 16:53:47",
           1.9
          ],
          [
           "2025-05-09 16:52:45",
           1.9
          ],
          [
           "2025-05-09 16:49:06",
           4.7
          ],
          [
           "2025-05-09 16:36:42",
           1.8
          ],
          [
           "2025-05-09 16:33:21",
           1.71
          ],
          [
           "2025-05-09 16:32:29",
           -0.45
          ],
          [
           "2025-05-09 16:29:03",
           0.8
          ],
          [
           "2025-05-09 16:26:55",
           4.3
          ],
          [
           "2025-05-09 16:23:40",
           0.74
          ],
          [
           "2025-05-09 16:23:01",
           1.5
          ],
          [
           "2025-05-09 16:21:42",
           2.16
          ],
          [
           "2025-05-09 16:14:23",
           0.38
          ],
          [
           "2025-05-09 16:13:38",
           1.6
          ],
          [
           "2025-05-09 16:12:19",
           2.3
          ],
          [
           "2025-05-09 16:12:18",
           2.9
          ],
          [
           "2025-05-09 16:11:40",
           2.3
          ],
          [
           "2025-05-09 16:09:30",
           0.2
          ],
          [
           "2025-05-09 16:05:26",
           0.38
          ],
          [
           "2025-05-09 16:04:32",
           1.3800000000000001
          ],
          [
           "2025-05-09 15:51:54",
           1.3
          ],
          [
           "2025-05-09 15:48:38",
           1.37
          ],
          [
           "2025-05-09 15:46:57",
           -0.16
          ],
          [
           "2025-05-09 15:40:02",
           1.24
          ],
          [
           "2025-05-09 15:34:07",
           0.78
          ],
          [
           "2025-05-09 15:33:21",
           2.5
          ],
          [
           "2025-05-16 15:04:21",
           1.08
          ],
          [
           "2025-05-16 15:02:11",
           1
          ],
          [
           "2025-05-16 14:51:01",
           2.16
          ],
          [
           "2025-05-16 14:44:03",
           1.5
          ],
          [
           "2025-05-16 14:37:25",
           2.83
          ],
          [
           "2025-05-16 14:27:42",
           1.31
          ],
          [
           "2025-05-16 13:58:12",
           0.9
          ],
          [
           "2025-05-16 13:46:33",
           1.3
          ],
          [
           "2025-05-16 13:46:22",
           1.8
          ],
          [
           "2025-05-16 13:40:44",
           2.1
          ],
          [
           "2025-05-16 13:28:39",
           0.77
          ],
          [
           "2025-05-16 13:25:35",
           1.6
          ],
          [
           "2025-05-16 13:22:04",
           0.91
          ],
          [
           "2025-05-16 13:20:19",
           0.4
          ],
          [
           "2025-05-16 13:15:29",
           4.2
          ],
          [
           "2025-05-16 13:13:56",
           0.46
          ],
          [
           "2025-05-16 13:13:11",
           1.31
          ],
          [
           "2025-05-16 12:46:46",
           1
          ],
          [
           "2025-05-16 12:34:45",
           1.03
          ],
          [
           "2025-05-16 12:22:11",
           0.74
          ],
          [
           "2025-05-16 12:16:47",
           0.72
          ],
          [
           "2025-05-16 12:16:26",
           4.4
          ],
          [
           "2025-05-16 12:13:10",
           0.49
          ],
          [
           "2025-05-16 12:12:47",
           2.47
          ],
          [
           "2025-05-16 12:07:14",
           1.4
          ],
          [
           "2025-05-16 12:05:51",
           1.19
          ],
          [
           "2025-05-16 12:03:25",
           3.65
          ],
          [
           "2025-05-16 11:56:11",
           0.69
          ],
          [
           "2025-05-16 11:46:37",
           1.6
          ],
          [
           "2025-05-16 11:44:30",
           1.11
          ],
          [
           "2025-05-16 11:30:37",
           1.11
          ],
          [
           "2025-05-16 11:26:28",
           2.5
          ],
          [
           "2025-05-16 11:10:01",
           0.57
          ],
          [
           "2025-05-16 11:02:57",
           0.78
          ],
          [
           "2025-05-16 10:59:23",
           0.22
          ],
          [
           "2025-05-16 10:57:02",
           0.77
          ],
          [
           "2025-05-16 10:56:38",
           0.56
          ],
          [
           "2025-05-16 10:50:35",
           1.44
          ],
          [
           "2025-05-16 10:49:31",
           0.62
          ],
          [
           "2025-05-16 10:37:23",
           1.4
          ],
          [
           "2025-05-16 10:30:30",
           0.63
          ],
          [
           "2025-05-16 10:10:21",
           0.7
          ],
          [
           "2025-05-16 09:38:15",
           0.8
          ],
          [
           "2025-05-16 09:28:00",
           0.25
          ],
          [
           "2025-05-16 09:22:09",
           0.64
          ],
          [
           "2025-05-16 09:19:40",
           1.1
          ],
          [
           "2025-05-16 09:12:42",
           2.32
          ],
          [
           "2025-05-16 09:12:06",
           2.32
          ],
          [
           "2025-05-16 09:03:16",
           0.46
          ],
          [
           "2025-05-16 08:40:56",
           0.53
          ],
          [
           "2025-05-16 08:36:27",
           1.44
          ],
          [
           "2025-05-16 08:31:36",
           1.4
          ],
          [
           "2025-05-16 08:17:13",
           1.2
          ],
          [
           "2025-05-16 08:14:14",
           0.87
          ],
          [
           "2025-05-16 08:12:46",
           0.71
          ],
          [
           "2025-05-16 08:10:36",
           0.84
          ],
          [
           "2025-05-16 08:01:27",
           1.56
          ],
          [
           "2025-05-16 07:47:58",
           0.75
          ],
          [
           "2025-05-16 07:23:50",
           2.1
          ],
          [
           "2025-05-16 07:18:42",
           0.71
          ],
          [
           "2025-05-16 07:18:21",
           0.89
          ],
          [
           "2025-05-16 07:16:31",
           0.79
          ],
          [
           "2025-05-16 07:06:54",
           1.35
          ],
          [
           "2025-05-16 06:58:00",
           0.94
          ],
          [
           "2025-05-16 06:57:24",
           1.7
          ],
          [
           "2025-05-16 06:51:23",
           2.48
          ],
          [
           "2025-05-16 06:49:27",
           0.72
          ],
          [
           "2025-05-16 06:37:31",
           2.31
          ],
          [
           "2025-05-16 06:36:01",
           0.32
          ],
          [
           "2025-05-16 06:35:55",
           1.04
          ],
          [
           "2025-05-16 06:27:33",
           2.83
          ],
          [
           "2025-05-16 06:20:11",
           0.71
          ],
          [
           "2025-05-16 06:06:45",
           0.65
          ],
          [
           "2025-05-16 06:05:47",
           0.43
          ],
          [
           "2025-05-16 06:05:03",
           0.68
          ],
          [
           "2025-05-16 06:04:34",
           2.08
          ],
          [
           "2025-05-16 05:55:42",
           0.48
          ],
          [
           "2025-05-16 05:54:54",
           1.53
          ],
          [
           "2025-05-16 05:52:14",
           1.7
          ],
          [
           "2025-05-16 05:34:28",
           4.9
          ],
          [
           "2025-05-16 05:22:36",
           0.32
          ],
          [
           "2025-05-16 05:17:22",
           4.7
          ],
          [
           "2025-05-16 05:09:35",
           1.5
          ],
          [
           "2025-05-16 04:56:51",
           0.93
          ],
          [
           "2025-05-16 04:53:21",
           1.5
          ],
          [
           "2025-05-16 04:26:27",
           0.72
          ],
          [
           "2025-05-16 04:24:41",
           0.46
          ],
          [
           "2025-05-16 04:21:09",
           1.7
          ],
          [
           "2025-05-16 04:20:04",
           1.78
          ],
          [
           "2025-05-16 04:17:21",
           4.5
          ],
          [
           "2025-05-16 04:17:00",
           1.29
          ],
          [
           "2025-05-16 03:58:55",
           1.03
          ],
          [
           "2025-05-16 03:40:01",
           1.08
          ],
          [
           "2025-05-16 03:39:33",
           1.84
          ],
          [
           "2025-05-16 03:23:56",
           1.1
          ],
          [
           "2025-05-16 03:14:18",
           0.19
          ],
          [
           "2025-05-16 03:12:36",
           1.7
          ],
          [
           "2025-05-16 03:02:52",
           4.3
          ],
          [
           "2025-05-16 02:48:45",
           1.93
          ],
          [
           "2025-05-16 02:43:43",
           0.42
          ],
          [
           "2025-05-16 02:33:43",
           3.1
          ],
          [
           "2025-05-16 02:25:05",
           2.22
          ],
          [
           "2025-05-16 02:23:47",
           1.99000001
          ],
          [
           "2025-05-16 02:22:05",
           0.6
          ],
          [
           "2025-05-16 02:19:51",
           1.25
          ],
          [
           "2025-05-16 01:59:57",
           1.7
          ],
          [
           "2025-05-16 01:50:27",
           2.17
          ],
          [
           "2025-05-16 01:41:03",
           1.31
          ],
          [
           "2025-05-16 01:40:28",
           0.76
          ],
          [
           "2025-05-16 01:34:23",
           2.12
          ],
          [
           "2025-05-16 01:32:04",
           0.53
          ],
          [
           "2025-05-16 01:31:50",
           0.96
          ],
          [
           "2025-05-16 01:10:44",
           2.87
          ],
          [
           "2025-05-16 01:04:23",
           1.08
          ],
          [
           "2025-05-16 01:02:39",
           2.14
          ],
          [
           "2025-05-16 01:00:08",
           4.6
          ],
          [
           "2025-05-16 00:53:22",
           4.7
          ],
          [
           "2025-05-16 00:23:46",
           1.05
          ],
          [
           "2025-05-16 00:20:30",
           0.33
          ],
          [
           "2025-05-16 00:19:39",
           1.8
          ],
          [
           "2025-05-16 00:09:27",
           1.8
          ],
          [
           "2025-05-15 23:56:35",
           0.77
          ],
          [
           "2025-05-15 23:55:20",
           1.75
          ],
          [
           "2025-05-15 23:47:29",
           1.9
          ],
          [
           "2025-05-15 23:45:56",
           1.03
          ],
          [
           "2025-05-15 23:43:28",
           4.2
          ],
          [
           "2025-05-15 23:42:08",
           1.05
          ],
          [
           "2025-05-15 23:18:16",
           1.2
          ],
          [
           "2025-05-15 23:15:52",
           1.8
          ],
          [
           "2025-05-15 23:12:47",
           1.01
          ],
          [
           "2025-05-15 23:12:04",
           1.9
          ],
          [
           "2025-05-15 23:09:38",
           1.7
          ],
          [
           "2025-05-15 23:01:03",
           1.1
          ],
          [
           "2025-05-15 22:53:20",
           1.6034521460533142
          ],
          [
           "2025-05-15 22:42:09",
           1.43
          ],
          [
           "2025-05-15 22:38:07",
           1.6
          ],
          [
           "2025-05-15 22:34:41",
           2.1
          ],
          [
           "2025-05-15 22:25:03",
           1.29
          ],
          [
           "2025-05-15 22:16:08",
           1.63
          ],
          [
           "2025-05-15 22:15:36",
           1.23
          ],
          [
           "2025-05-15 22:12:34",
           1.9
          ],
          [
           "2025-05-15 22:06:00",
           -1.05
          ],
          [
           "2025-05-15 22:05:18",
           1.03
          ],
          [
           "2025-05-15 22:05:17",
           2.1
          ],
          [
           "2025-05-15 22:00:08",
           0.75
          ],
          [
           "2025-05-15 21:43:35",
           1.1
          ],
          [
           "2025-05-15 21:33:24",
           3.6
          ],
          [
           "2025-05-15 21:32:07",
           1.27
          ],
          [
           "2025-05-15 21:22:48",
           0.91
          ],
          [
           "2025-05-15 21:00:37",
           2
          ],
          [
           "2025-05-15 20:58:49",
           2.36
          ],
          [
           "2025-05-15 20:56:03",
           1.05
          ],
          [
           "2025-05-15 20:47:08",
           1.25
          ],
          [
           "2025-05-15 20:36:15",
           1.5
          ],
          [
           "2025-05-15 20:34:42",
           0.3
          ],
          [
           "2025-05-15 20:26:52",
           1.2
          ],
          [
           "2025-05-15 20:11:57",
           1.91999996
          ],
          [
           "2025-05-15 20:02:58",
           1.01
          ],
          [
           "2025-05-15 19:59:00",
           1.33
          ],
          [
           "2025-05-15 19:47:44",
           5
          ],
          [
           "2025-05-15 19:43:43",
           1.02
          ],
          [
           "2025-05-15 19:31:32",
           1.22
          ],
          [
           "2025-05-15 19:16:05",
           4.6
          ],
          [
           "2025-05-15 19:13:10",
           1.59
          ],
          [
           "2025-05-15 19:09:35",
           1.9
          ],
          [
           "2025-05-15 19:03:12",
           1.65
          ],
          [
           "2025-05-15 18:54:07",
           1.2
          ],
          [
           "2025-05-15 18:45:55",
           1.25
          ],
          [
           "2025-05-15 18:45:20",
           0.45
          ],
          [
           "2025-05-15 18:41:13",
           0.49
          ],
          [
           "2025-05-15 18:17:01",
           1.4
          ],
          [
           "2025-05-15 18:04:44",
           2.2
          ],
          [
           "2025-05-15 18:01:34",
           -0.11
          ],
          [
           "2025-05-15 17:17:42",
           1.69
          ],
          [
           "2025-05-15 17:15:24",
           1
          ],
          [
           "2025-05-15 17:12:28",
           1.27
          ],
          [
           "2025-05-15 17:09:24",
           3.96
          ],
          [
           "2025-05-15 17:09:11",
           1.5
          ],
          [
           "2025-05-15 17:06:28",
           0.83
          ],
          [
           "2025-05-15 17:01:23",
           3.3
          ],
          [
           "2025-05-15 16:54:24",
           1.4
          ],
          [
           "2025-05-15 16:40:52",
           1
          ],
          [
           "2025-05-15 16:34:59",
           0.73
          ],
          [
           "2025-05-15 16:33:11",
           1.9
          ],
          [
           "2025-05-15 16:17:38",
           1.3
          ],
          [
           "2025-05-15 16:17:31",
           0.8
          ],
          [
           "2025-05-15 16:11:26",
           1.3
          ],
          [
           "2025-05-15 16:08:16",
           1.6400000000000001
          ],
          [
           "2025-05-15 15:29:04",
           4.9
          ],
          [
           "2025-05-15 15:28:17",
           1.02
          ],
          [
           "2025-05-15 15:18:54",
           2.29
          ],
          [
           "2025-05-15 15:10:03",
           0.52
          ],
          [
           "2025-05-15 15:08:13",
           1.05
          ],
          [
           "2025-05-15 15:05:36",
           0.4
          ],
          [
           "2025-05-15 14:39:14",
           2.2
          ],
          [
           "2025-05-15 14:37:02",
           0.38
          ],
          [
           "2025-05-15 14:15:00",
           1.8
          ],
          [
           "2025-05-15 14:08:29",
           0.9
          ],
          [
           "2025-05-15 14:08:10",
           1.2
          ],
          [
           "2025-05-15 14:02:26",
           1.03
          ],
          [
           "2025-05-15 14:01:43",
           4.3
          ],
          [
           "2025-05-15 13:52:53",
           0
          ],
          [
           "2025-05-15 13:51:02",
           1.35
          ],
          [
           "2025-05-15 13:50:32",
           1.92
          ],
          [
           "2025-05-15 13:41:03",
           1.98
          ],
          [
           "2025-05-15 13:11:18",
           0.65
          ],
          [
           "2025-05-15 13:05:49",
           5
          ],
          [
           "2025-05-15 12:59:20",
           5
          ],
          [
           "2025-05-15 12:51:20",
           4.7
          ],
          [
           "2025-05-15 12:46:37",
           5
          ],
          [
           "2025-05-15 12:31:37",
           1.6
          ],
          [
           "2025-05-15 12:29:32",
           3.1
          ],
          [
           "2025-05-15 12:27:54",
           0.23
          ],
          [
           "2025-05-15 12:26:51",
           0.81
          ],
          [
           "2025-05-15 12:25:45",
           0.73
          ],
          [
           "2025-05-15 12:25:15",
           1.8
          ],
          [
           "2025-05-15 12:23:03",
           1.44
          ],
          [
           "2025-05-15 12:17:49",
           0.68
          ],
          [
           "2025-05-15 12:17:15",
           0.97
          ],
          [
           "2025-05-15 12:15:04",
           0.21
          ],
          [
           "2025-05-15 12:12:55",
           1.98
          ],
          [
           "2025-05-15 12:12:52",
           1.7
          ],
          [
           "2025-05-15 12:04:49",
           -0.74
          ],
          [
           "2025-05-15 12:03:55",
           2.5
          ],
          [
           "2025-05-15 12:03:37",
           2.26
          ],
          [
           "2025-05-15 11:50:33",
           1.6300000000000001
          ],
          [
           "2025-05-15 11:48:56",
           2.1
          ],
          [
           "2025-05-15 11:44:24",
           2.13000011
          ],
          [
           "2025-05-15 11:40:54",
           1.5
          ],
          [
           "2025-05-15 11:35:21",
           2.47
          ],
          [
           "2025-05-15 11:33:00",
           1.1
          ],
          [
           "2025-05-15 11:28:50",
           0.62
          ],
          [
           "2025-05-15 11:26:21",
           -0.01
          ],
          [
           "2025-05-15 11:13:38",
           2.26
          ],
          [
           "2025-05-15 10:48:35",
           0.76
          ],
          [
           "2025-05-15 10:45:34",
           0.67
          ],
          [
           "2025-05-15 10:43:31",
           1.06
          ],
          [
           "2025-05-15 10:22:09",
           2.2
          ],
          [
           "2025-05-15 10:16:25",
           1.1
          ],
          [
           "2025-05-15 10:04:45",
           1.7
          ],
          [
           "2025-05-15 10:02:22",
           0.01
          ],
          [
           "2025-05-15 09:54:09",
           0.79
          ],
          [
           "2025-05-15 09:51:52",
           2
          ],
          [
           "2025-05-15 09:50:56",
           0.58
          ],
          [
           "2025-05-15 09:47:46",
           0.94
          ],
          [
           "2025-05-15 09:47:27",
           1.4
          ],
          [
           "2025-05-15 09:43:08",
           0.43
          ],
          [
           "2025-05-15 09:40:00",
           1.26
          ],
          [
           "2025-05-15 09:39:43",
           3.17
          ],
          [
           "2025-05-15 09:35:55",
           0.72
          ],
          [
           "2025-05-15 09:31:30",
           2.1
          ],
          [
           "2025-05-15 09:21:44",
           1.1
          ],
          [
           "2025-05-15 09:17:39",
           0.77
          ],
          [
           "2025-05-15 09:12:48",
           0.52
          ],
          [
           "2025-05-15 09:08:34",
           2.79
          ],
          [
           "2025-05-15 09:06:40",
           2.6
          ],
          [
           "2025-05-15 08:51:39",
           0.81
          ],
          [
           "2025-05-15 08:49:11",
           0.36
          ],
          [
           "2025-05-15 08:44:18",
           1.25
          ],
          [
           "2025-05-15 08:37:43",
           1.5
          ],
          [
           "2025-05-15 08:36:52",
           0.75
          ],
          [
           "2025-05-15 08:33:01",
           0.81
          ],
          [
           "2025-05-15 08:23:31",
           2.94
          ],
          [
           "2025-05-15 08:23:13",
           0.71
          ],
          [
           "2025-05-15 08:22:32",
           0.73
          ],
          [
           "2025-05-15 08:22:13",
           0.55
          ],
          [
           "2025-05-15 08:15:01",
           0.77
          ],
          [
           "2025-05-15 08:13:23",
           1.7
          ],
          [
           "2025-05-15 08:10:57",
           1.6
          ],
          [
           "2025-05-15 08:06:32",
           2
          ],
          [
           "2025-05-15 07:56:29",
           1.2
          ],
          [
           "2025-05-15 07:49:25",
           0.7
          ],
          [
           "2025-05-15 07:45:37",
           0.79
          ],
          [
           "2025-05-15 07:35:50",
           1.69
          ],
          [
           "2025-05-15 07:33:34",
           0.96
          ],
          [
           "2025-05-15 07:22:55",
           2.32
          ],
          [
           "2025-05-15 07:18:02",
           2.4
          ],
          [
           "2025-05-15 07:08:14",
           3.5
          ],
          [
           "2025-05-15 07:06:34",
           3.8
          ],
          [
           "2025-05-15 07:05:08",
           1.86
          ],
          [
           "2025-05-15 06:59:00",
           0.49
          ],
          [
           "2025-05-15 06:58:37",
           2.84
          ],
          [
           "2025-05-15 06:53:03",
           0.93
          ],
          [
           "2025-05-15 06:52:34",
           0.74
          ],
          [
           "2025-05-15 06:51:18",
           1.26
          ],
          [
           "2025-05-15 06:46:18",
           0.34
          ],
          [
           "2025-05-15 06:45:13",
           1.09
          ],
          [
           "2025-05-15 06:38:24",
           0.77
          ],
          [
           "2025-05-15 06:27:20",
           1.13
          ],
          [
           "2025-05-15 06:22:27",
           3.14
          ],
          [
           "2025-05-15 06:21:38",
           -0.14
          ],
          [
           "2025-05-15 06:18:24",
           0.38
          ],
          [
           "2025-05-15 06:09:39",
           1.7
          ],
          [
           "2025-05-15 05:56:37",
           1.1
          ],
          [
           "2025-05-15 05:51:14",
           1.04
          ],
          [
           "2025-05-15 05:35:42",
           4.3
          ],
          [
           "2025-05-15 05:23:04",
           -0.61
          ],
          [
           "2025-05-15 05:22:54",
           0.44
          ],
          [
           "2025-05-15 05:17:27",
           1.5
          ],
          [
           "2025-05-15 05:16:38",
           -0.57
          ],
          [
           "2025-05-15 05:09:25",
           -0.65
          ],
          [
           "2025-05-15 05:03:08",
           0.83
          ],
          [
           "2025-05-15 04:59:53",
           0.32
          ],
          [
           "2025-05-15 04:59:13",
           0.97
          ],
          [
           "2025-05-15 04:55:04",
           2.11
          ],
          [
           "2025-05-15 04:49:16",
           2.07
          ],
          [
           "2025-05-15 04:37:34",
           2.39
          ],
          [
           "2025-05-15 04:37:24",
           -0.64
          ],
          [
           "2025-05-15 04:31:52",
           2.98
          ],
          [
           "2025-05-15 04:29:31",
           1.51
          ],
          [
           "2025-05-15 04:26:43",
           2.66
          ],
          [
           "2025-05-15 04:22:47",
           1.9
          ],
          [
           "2025-05-15 04:19:24",
           3.43
          ],
          [
           "2025-05-15 04:07:57",
           1.6
          ],
          [
           "2025-05-15 03:56:51",
           0.76
          ],
          [
           "2025-05-15 03:56:16",
           1.6
          ],
          [
           "2025-05-15 03:55:49",
           1.11
          ],
          [
           "2025-05-15 03:45:39",
           2.3
          ],
          [
           "2025-05-15 03:45:18",
           3
          ],
          [
           "2025-05-15 03:36:21",
           0.39
          ],
          [
           "2025-05-15 03:30:38",
           -0.2
          ],
          [
           "2025-05-15 03:29:38",
           1.42
          ],
          [
           "2025-05-15 03:26:04",
           2.25
          ],
          [
           "2025-05-15 03:15:48",
           1.32
          ],
          [
           "2025-05-15 03:12:26",
           1.2
          ],
          [
           "2025-05-15 03:10:57",
           2.39
          ],
          [
           "2025-05-15 02:52:22",
           1.08
          ],
          [
           "2025-05-15 02:51:18",
           0.9
          ],
          [
           "2025-05-15 02:40:56",
           1.5
          ],
          [
           "2025-05-15 02:40:43",
           2.1
          ],
          [
           "2025-05-15 02:24:07",
           0.02
          ],
          [
           "2025-05-15 02:24:06",
           1.8
          ],
          [
           "2025-05-15 02:22:26",
           1.41
          ],
          [
           "2025-05-15 02:22:08",
           1.46
          ],
          [
           "2025-05-15 02:17:40",
           1.72
          ],
          [
           "2025-05-15 02:16:45",
           0.28
          ],
          [
           "2025-05-15 02:03:32",
           0.71
          ],
          [
           "2025-05-15 01:57:23",
           0.86
          ],
          [
           "2025-05-15 01:50:52",
           2.13
          ],
          [
           "2025-05-15 01:45:03",
           0.21
          ],
          [
           "2025-05-15 01:41:08",
           4.5
          ],
          [
           "2025-05-15 01:34:34",
           1.1
          ],
          [
           "2025-05-15 01:24:16",
           1.62
          ],
          [
           "2025-05-15 01:17:40",
           1.6
          ],
          [
           "2025-05-15 01:11:58",
           1.2
          ],
          [
           "2025-05-15 01:07:33",
           -0.1
          ],
          [
           "2025-05-15 00:50:51",
           5.9
          ],
          [
           "2025-05-15 00:43:00",
           2.3
          ],
          [
           "2025-05-15 00:35:58",
           1.5
          ],
          [
           "2025-05-15 00:28:18",
           1.5
          ],
          [
           "2025-05-15 00:27:37",
           1.2
          ],
          [
           "2025-05-15 00:25:18",
           1.29
          ],
          [
           "2025-05-15 00:24:08",
           0.87
          ],
          [
           "2025-05-15 00:07:24",
           0.6
          ],
          [
           "2025-05-15 00:04:07",
           2.25
          ],
          [
           "2025-05-15 00:00:52",
           0.35
          ],
          [
           "2025-05-14 23:57:55",
           0.45
          ],
          [
           "2025-05-14 23:53:06",
           1.6
          ],
          [
           "2025-05-14 23:45:17",
           2.77
          ],
          [
           "2025-05-14 23:44:31",
           1.3
          ],
          [
           "2025-05-14 23:42:09",
           1.58
          ],
          [
           "2025-05-14 23:41:05",
           1.88
          ],
          [
           "2025-05-14 23:40:20",
           2.56
          ],
          [
           "2025-05-14 23:39:46",
           2.7
          ],
          [
           "2025-05-14 23:36:57",
           1.13
          ],
          [
           "2025-05-14 23:24:36",
           0.95
          ],
          [
           "2025-05-14 23:23:58",
           1.63
          ],
          [
           "2025-05-14 23:10:15",
           1.4
          ],
          [
           "2025-05-14 23:08:22",
           -0.02
          ],
          [
           "2025-05-14 23:05:19",
           1.27
          ],
          [
           "2025-05-14 22:47:24",
           0.89
          ],
          [
           "2025-05-14 22:47:09",
           1.63
          ],
          [
           "2025-05-14 22:30:34",
           3.6
          ],
          [
           "2025-05-14 22:23:47",
           1.22
          ],
          [
           "2025-05-14 22:11:18",
           2.1
          ],
          [
           "2025-05-14 22:08:30",
           0.29
          ],
          [
           "2025-05-14 22:00:01",
           2.17
          ],
          [
           "2025-05-14 21:59:31",
           1.22
          ],
          [
           "2025-05-14 21:52:41",
           -0.39
          ],
          [
           "2025-05-14 21:38:47",
           1.7
          ],
          [
           "2025-05-14 21:33:48",
           -0.12
          ],
          [
           "2025-05-14 21:30:31",
           0.76
          ],
          [
           "2025-05-14 21:30:04",
           0.52
          ],
          [
           "2025-05-14 21:22:25",
           4.5
          ],
          [
           "2025-05-14 21:20:20",
           2.5
          ],
          [
           "2025-05-14 21:07:18",
           1.08
          ],
          [
           "2025-05-14 20:36:40",
           0.69
          ],
          [
           "2025-05-14 20:35:09",
           1.6
          ],
          [
           "2025-05-14 20:29:22",
           2.3
          ],
          [
           "2025-05-14 20:22:20",
           1.19
          ],
          [
           "2025-05-14 20:21:45",
           4.5
          ],
          [
           "2025-05-14 20:20:13",
           1.65
          ],
          [
           "2025-05-14 20:19:08",
           1.5
          ],
          [
           "2025-05-14 20:18:33",
           1.7
          ],
          [
           "2025-05-14 20:13:27",
           5.2
          ],
          [
           "2025-05-14 20:12:41",
           2.3
          ],
          [
           "2025-05-14 20:10:09",
           1.1
          ],
          [
           "2025-05-14 20:00:20",
           0.92
          ],
          [
           "2025-05-14 19:48:00",
           1.41
          ],
          [
           "2025-05-14 19:46:59",
           1
          ],
          [
           "2025-05-14 19:43:32",
           1.3800000000000001
          ],
          [
           "2025-05-14 19:41:53",
           3.65
          ],
          [
           "2025-05-14 19:37:16",
           0.99
          ],
          [
           "2025-05-14 19:31:41",
           1.6
          ],
          [
           "2025-05-14 19:27:42",
           0.87
          ],
          [
           "2025-05-14 19:25:03",
           -0.73
          ],
          [
           "2025-05-14 19:15:24",
           0.39
          ],
          [
           "2025-05-14 19:13:02",
           0.15
          ],
          [
           "2025-05-14 19:04:53",
           1.35
          ],
          [
           "2025-05-14 18:55:23",
           1.6
          ],
          [
           "2025-05-14 18:50:39",
           1.16
          ],
          [
           "2025-05-14 18:46:32",
           1.09
          ],
          [
           "2025-05-14 18:43:12",
           0.81
          ],
          [
           "2025-05-14 18:42:37",
           1.83
          ],
          [
           "2025-05-14 18:35:57",
           1.72
          ],
          [
           "2025-05-14 18:35:39",
           1.25
          ],
          [
           "2025-05-14 18:34:25",
           1.2
          ],
          [
           "2025-05-14 18:31:04",
           1.11
          ],
          [
           "2025-05-14 18:28:48",
           1.63
          ],
          [
           "2025-05-14 18:26:32",
           0.74
          ],
          [
           "2025-05-14 18:21:58",
           1.3
          ],
          [
           "2025-05-14 18:18:02",
           1.5
          ],
          [
           "2025-05-14 18:15:12",
           0.8300000000000001
          ],
          [
           "2025-05-14 18:14:20",
           1.71
          ],
          [
           "2025-05-14 18:14:05",
           0.71
          ],
          [
           "2025-05-14 18:14:03",
           1.3
          ],
          [
           "2025-05-14 18:06:02",
           0.47
          ],
          [
           "2025-05-14 17:58:17",
           1.48
          ],
          [
           "2025-05-14 17:47:02",
           0.77
          ],
          [
           "2025-05-14 17:46:55",
           1.1
          ],
          [
           "2025-05-14 17:45:37",
           1.16
          ],
          [
           "2025-05-14 17:35:38",
           1.3
          ],
          [
           "2025-05-14 17:34:39",
           1.36
          ],
          [
           "2025-05-14 17:29:20",
           1.9
          ],
          [
           "2025-05-14 17:22:50",
           1.44
          ],
          [
           "2025-05-14 16:55:36",
           0.9
          ],
          [
           "2025-05-14 16:46:52",
           1.12
          ],
          [
           "2025-05-14 16:33:15",
           4.5
          ],
          [
           "2025-05-14 16:33:05",
           5.2
          ],
          [
           "2025-05-14 16:30:32",
           1.23
          ],
          [
           "2025-05-14 16:26:21",
           1.85
          ],
          [
           "2025-05-14 16:19:47",
           1.25
          ],
          [
           "2025-05-14 16:19:31",
           4.7
          ],
          [
           "2025-05-14 16:08:39",
           2.05
          ],
          [
           "2025-05-14 16:08:17",
           1.45
          ],
          [
           "2025-05-14 16:03:34",
           0.9
          ],
          [
           "2025-05-14 16:01:36",
           2.74
          ],
          [
           "2025-05-14 15:46:49",
           0.65
          ],
          [
           "2025-05-14 15:35:29",
           2.01
          ],
          [
           "2025-05-14 15:18:02",
           1.66
          ],
          [
           "2025-05-14 15:09:33",
           2
          ],
          [
           "2025-05-14 15:07:32",
           1.29
          ],
          [
           "2025-05-14 15:02:10",
           1.15
          ],
          [
           "2025-05-14 14:55:37",
           0.25
          ],
          [
           "2025-05-14 14:52:22",
           0.42
          ],
          [
           "2025-05-14 14:42:17",
           1.4
          ],
          [
           "2025-05-14 14:32:39",
           1.72
          ],
          [
           "2025-05-14 14:16:54",
           0.28
          ],
          [
           "2025-05-14 14:07:11",
           1.51
          ],
          [
           "2025-05-14 14:06:29",
           1.89
          ],
          [
           "2025-05-14 14:06:06",
           0
          ],
          [
           "2025-05-14 13:51:02",
           1.5
          ],
          [
           "2025-05-14 13:41:47",
           1.4
          ],
          [
           "2025-05-14 13:41:08",
           1.32
          ],
          [
           "2025-05-14 13:35:59",
           1.9
          ],
          [
           "2025-05-14 13:32:18",
           2.8
          ],
          [
           "2025-05-14 13:31:56",
           1.11
          ],
          [
           "2025-05-14 13:26:30",
           1.66
          ],
          [
           "2025-05-14 13:26:24",
           2.04
          ],
          [
           "2025-05-14 13:23:32",
           1.35
          ],
          [
           "2025-05-14 13:22:42",
           1.9
          ],
          [
           "2025-05-14 13:20:14",
           0.7
          ],
          [
           "2025-05-14 13:09:54",
           1.17
          ],
          [
           "2025-05-14 13:08:59",
           1.3
          ],
          [
           "2025-05-14 13:07:37",
           0.78
          ],
          [
           "2025-05-14 12:53:33",
           1.8
          ],
          [
           "2025-05-14 12:51:43",
           2.1
          ],
          [
           "2025-05-14 12:51:26",
           2.2
          ],
          [
           "2025-05-14 12:51:04",
           2.1
          ],
          [
           "2025-05-14 12:35:18",
           3.9
          ],
          [
           "2025-05-14 12:24:41",
           1.17
          ],
          [
           "2025-05-14 12:24:06",
           0.68
          ],
          [
           "2025-05-14 12:15:30",
           1.2
          ],
          [
           "2025-05-14 12:09:23",
           1.03
          ],
          [
           "2025-05-14 12:06:15",
           1.06
          ],
          [
           "2025-05-14 12:03:23",
           1.52
          ],
          [
           "2025-05-14 12:02:09",
           3
          ],
          [
           "2025-05-14 12:01:21",
           3
          ],
          [
           "2025-05-14 11:58:36",
           1.63
          ],
          [
           "2025-05-14 11:36:45",
           0.63
          ],
          [
           "2025-05-14 11:33:23",
           1.44
          ],
          [
           "2025-05-14 11:26:04",
           1.3
          ],
          [
           "2025-05-14 11:24:46",
           3
          ],
          [
           "2025-05-14 11:24:02",
           4.5
          ],
          [
           "2025-05-14 11:15:50",
           2
          ],
          [
           "2025-05-14 11:11:41",
           -0.61
          ],
          [
           "2025-05-14 11:04:31",
           -0.48
          ],
          [
           "2025-05-14 11:01:22",
           1.4
          ],
          [
           "2025-05-14 10:53:23",
           2.83
          ],
          [
           "2025-05-14 10:47:56",
           4.9
          ],
          [
           "2025-05-14 10:36:52",
           0.21
          ],
          [
           "2025-05-14 10:35:27",
           1.79
          ],
          [
           "2025-05-14 10:34:40",
           -0.66
          ],
          [
           "2025-05-14 10:28:03",
           0.28
          ],
          [
           "2025-05-14 10:16:54",
           3.3
          ],
          [
           "2025-05-14 10:09:32",
           -0.27
          ],
          [
           "2025-05-14 10:07:23",
           -0.28
          ],
          [
           "2025-05-14 10:07:15",
           -0.5
          ],
          [
           "2025-05-14 10:06:41",
           1.02
          ],
          [
           "2025-05-14 10:02:16",
           0.4
          ],
          [
           "2025-05-14 10:02:12",
           4.4
          ],
          [
           "2025-05-14 09:59:17",
           -0.88
          ],
          [
           "2025-05-14 09:59:07",
           -0.45
          ],
          [
           "2025-05-14 09:58:48",
           0.8
          ],
          [
           "2025-05-14 09:49:48",
           0.81
          ],
          [
           "2025-05-14 09:45:47",
           0.17
          ],
          [
           "2025-05-14 09:43:14",
           1.31
          ],
          [
           "2025-05-14 09:42:39",
           0.6
          ],
          [
           "2025-05-14 09:39:15",
           1.46
          ],
          [
           "2025-05-14 09:36:11",
           0.83
          ],
          [
           "2025-05-14 09:33:48",
           4.8
          ],
          [
           "2025-05-14 09:22:48",
           0.55
          ],
          [
           "2025-05-14 09:15:27",
           2.1
          ],
          [
           "2025-05-14 09:02:47",
           1.04
          ],
          [
           "2025-05-14 09:00:45",
           1.7
          ],
          [
           "2025-05-14 09:00:13",
           0.75
          ],
          [
           "2025-05-14 08:57:13",
           -0.74
          ],
          [
           "2025-05-14 08:57:09",
           -0.71
          ],
          [
           "2025-05-14 08:52:00",
           3.37
          ],
          [
           "2025-05-14 08:49:23",
           2.6
          ],
          [
           "2025-05-14 08:46:28",
           0.99
          ],
          [
           "2025-05-14 08:45:19",
           3.6
          ],
          [
           "2025-05-14 08:44:38",
           2.2
          ],
          [
           "2025-05-14 08:43:06",
           1.27
          ],
          [
           "2025-05-14 08:33:35",
           -0.72
          ],
          [
           "2025-05-14 08:33:06",
           -0.57
          ],
          [
           "2025-05-14 08:29:27",
           0.5
          ],
          [
           "2025-05-14 08:09:48",
           1.57
          ],
          [
           "2025-05-14 08:07:07",
           0.49
          ],
          [
           "2025-05-14 08:05:39",
           2.4
          ],
          [
           "2025-05-14 08:04:49",
           1.34
          ],
          [
           "2025-05-14 08:04:05",
           1.9
          ],
          [
           "2025-05-14 08:02:10",
           2.36
          ],
          [
           "2025-05-14 08:01:03",
           -0.44
          ],
          [
           "2025-05-14 08:00:34",
           0.78
          ],
          [
           "2025-05-14 07:54:44",
           2.31
          ],
          [
           "2025-05-14 07:17:15",
           1.2
          ],
          [
           "2025-05-14 07:08:30",
           0.57
          ],
          [
           "2025-05-14 07:08:01",
           1.77
          ],
          [
           "2025-05-14 07:04:23",
           -0.47
          ],
          [
           "2025-05-14 06:58:07",
           1.2
          ],
          [
           "2025-05-14 06:57:32",
           -1.07
          ],
          [
           "2025-05-14 06:53:28",
           1.98
          ],
          [
           "2025-05-14 06:51:59",
           1.24
          ],
          [
           "2025-05-14 06:39:16",
           2.01
          ],
          [
           "2025-05-14 06:25:04",
           1.2
          ],
          [
           "2025-05-14 06:20:25",
           1.2
          ],
          [
           "2025-05-14 06:11:39",
           0.7
          ],
          [
           "2025-05-14 06:10:41",
           2.07
          ],
          [
           "2025-05-14 06:10:22",
           1
          ],
          [
           "2025-05-14 06:09:34",
           0.73
          ],
          [
           "2025-05-14 06:08:01",
           1.54
          ],
          [
           "2025-05-14 06:03:40",
           1.9
          ],
          [
           "2025-05-14 06:02:06",
           1.8
          ],
          [
           "2025-05-14 05:57:47",
           0.77
          ],
          [
           "2025-05-14 05:47:24",
           0.69
          ],
          [
           "2025-05-14 05:46:15",
           -0.44
          ],
          [
           "2025-05-14 05:20:51",
           4.6
          ],
          [
           "2025-05-14 05:20:41",
           0.33
          ],
          [
           "2025-05-14 05:20:26",
           1.87
          ],
          [
           "2025-05-14 05:20:14",
           2.27
          ],
          [
           "2025-05-14 05:19:56",
           1.83
          ],
          [
           "2025-05-14 05:19:00",
           -0.46
          ],
          [
           "2025-05-14 05:18:28",
           2.3
          ],
          [
           "2025-05-14 05:15:08",
           0.76
          ],
          [
           "2025-05-14 05:12:11",
           1.06
          ],
          [
           "2025-05-14 05:11:01",
           -0.37
          ],
          [
           "2025-05-14 05:10:54",
           -0.29
          ],
          [
           "2025-05-14 05:08:29",
           1.12
          ],
          [
           "2025-05-14 05:07:55",
           3.41
          ],
          [
           "2025-05-14 05:04:52",
           0.88
          ],
          [
           "2025-05-14 05:04:11",
           1.37
          ],
          [
           "2025-05-14 05:03:52",
           4.9
          ],
          [
           "2025-05-14 04:50:27",
           2.38
          ],
          [
           "2025-05-14 04:49:54",
           1.6
          ],
          [
           "2025-05-14 04:48:58",
           2.24
          ],
          [
           "2025-05-14 04:39:23",
           1.4
          ],
          [
           "2025-05-14 04:19:31",
           -0.6
          ],
          [
           "2025-05-14 04:15:38",
           6.4
          ],
          [
           "2025-05-14 04:13:16",
           2.52
          ],
          [
           "2025-05-14 04:12:12",
           1.7
          ],
          [
           "2025-05-14 04:10:13",
           1.7
          ],
          [
           "2025-05-14 04:10:08",
           2.2
          ],
          [
           "2025-05-14 04:01:46",
           1.03
          ],
          [
           "2025-05-14 03:51:41",
           1.01
          ],
          [
           "2025-05-14 03:50:41",
           0.87
          ],
          [
           "2025-05-14 03:42:29",
           1.36
          ],
          [
           "2025-05-14 03:41:22",
           0.29
          ],
          [
           "2025-05-14 03:39:16",
           3.56
          ],
          [
           "2025-05-14 03:37:58",
           2.03
          ],
          [
           "2025-05-14 03:36:59",
           1.08
          ],
          [
           "2025-05-14 03:36:06",
           0.4
          ],
          [
           "2025-05-14 03:29:39",
           1.13
          ],
          [
           "2025-05-14 03:27:16",
           1.03
          ],
          [
           "2025-05-14 03:16:58",
           4.8
          ],
          [
           "2025-05-14 03:14:51",
           1.61
          ],
          [
           "2025-05-14 03:13:35",
           1.85
          ],
          [
           "2025-05-14 03:13:22",
           0.34
          ],
          [
           "2025-05-14 03:09:02",
           1.09
          ],
          [
           "2025-05-14 03:05:54",
           0.42
          ],
          [
           "2025-05-14 03:05:31",
           1.13
          ],
          [
           "2025-05-14 03:04:50",
           0.35
          ],
          [
           "2025-05-14 03:03:45",
           1.55
          ],
          [
           "2025-05-14 03:01:39",
           1.48
          ],
          [
           "2025-05-14 02:48:28",
           4
          ],
          [
           "2025-05-14 02:47:17",
           0.7
          ],
          [
           "2025-05-14 02:44:23",
           2.4
          ],
          [
           "2025-05-14 02:38:09",
           0.78
          ],
          [
           "2025-05-14 02:33:28",
           1.01
          ],
          [
           "2025-05-14 02:33:17",
           2
          ],
          [
           "2025-05-14 02:33:11",
           1.77
          ],
          [
           "2025-05-14 02:27:47",
           1.6
          ],
          [
           "2025-05-14 02:27:16",
           1.11
          ],
          [
           "2025-05-14 02:11:55",
           0.99
          ],
          [
           "2025-05-14 02:08:31",
           2.6
          ],
          [
           "2025-05-14 01:37:01",
           1.4000000000000001
          ],
          [
           "2025-05-14 01:26:48",
           -1.04
          ],
          [
           "2025-05-14 01:23:56",
           -0.14
          ],
          [
           "2025-05-14 00:51:48",
           0.75
          ],
          [
           "2025-05-14 00:50:55",
           1.28
          ],
          [
           "2025-05-14 00:28:33",
           1.9
          ],
          [
           "2025-05-14 00:27:29",
           1.9
          ],
          [
           "2025-05-14 00:17:12",
           0.33
          ],
          [
           "2025-05-14 00:10:31",
           1.4
          ],
          [
           "2025-05-14 00:06:40",
           1.54
          ],
          [
           "2025-05-13 23:59:16",
           1.6
          ],
          [
           "2025-05-13 23:50:34",
           -0.12
          ],
          [
           "2025-05-13 23:49:26",
           1.6
          ],
          [
           "2025-05-13 23:45:00",
           2.03
          ],
          [
           "2025-05-13 23:34:54",
           -0.2
          ],
          [
           "2025-05-13 23:22:35",
           1.4
          ],
          [
           "2025-05-13 23:17:13",
           0.95
          ],
          [
           "2025-05-13 23:14:40",
           1.67
          ],
          [
           "2025-05-13 23:07:48",
           1.9
          ],
          [
           "2025-05-13 22:51:15",
           6
          ],
          [
           "2025-05-13 22:43:48",
           1.29
          ],
          [
           "2025-05-13 22:40:32",
           1.45
          ],
          [
           "2025-05-13 22:38:10",
           1.3
          ],
          [
           "2025-05-13 22:34:02",
           1.6
          ],
          [
           "2025-05-13 22:33:27",
           0.8
          ],
          [
           "2025-05-13 22:25:49",
           1.43
          ],
          [
           "2025-05-13 22:21:06",
           1.12
          ],
          [
           "2025-05-13 22:17:56",
           1.4
          ],
          [
           "2025-05-13 22:07:44",
           4.4
          ],
          [
           "2025-05-13 22:05:05",
           0.15
          ],
          [
           "2025-05-13 22:00:02",
           1.26
          ],
          [
           "2025-05-13 21:55:17",
           1.8
          ],
          [
           "2025-05-13 21:48:32",
           1.4
          ],
          [
           "2025-05-13 21:41:13",
           1.1
          ],
          [
           "2025-05-13 21:20:56",
           1.41
          ],
          [
           "2025-05-13 21:20:36",
           1.56
          ],
          [
           "2025-05-13 21:18:11",
           1.61
          ],
          [
           "2025-05-13 21:13:11",
           -0.16
          ],
          [
           "2025-05-13 21:11:50",
           2.6
          ],
          [
           "2025-05-13 21:02:44",
           1.25
          ],
          [
           "2025-05-13 20:43:04",
           5.9
          ],
          [
           "2025-05-13 20:36:48",
           1.09
          ],
          [
           "2025-05-13 20:36:41",
           0.13
          ],
          [
           "2025-05-13 20:28:10",
           1.45
          ],
          [
           "2025-05-13 20:23:38",
           0.26
          ],
          [
           "2025-05-13 20:23:26",
           2.1
          ],
          [
           "2025-05-13 20:21:23",
           1.78
          ],
          [
           "2025-05-13 20:15:44",
           1.65
          ],
          [
           "2025-05-13 20:15:42",
           2.5
          ],
          [
           "2025-05-13 20:14:50",
           1.5
          ],
          [
           "2025-05-13 20:08:39",
           1.5
          ],
          [
           "2025-05-13 20:06:01",
           0.45
          ],
          [
           "2025-05-13 19:58:44",
           1.22
          ],
          [
           "2025-05-13 19:45:05",
           0.85
          ],
          [
           "2025-05-13 19:44:14",
           1.06
          ],
          [
           "2025-05-13 19:27:46",
           0.34
          ],
          [
           "2025-05-13 19:23:24",
           1.67
          ],
          [
           "2025-05-13 19:22:09",
           1.41
          ],
          [
           "2025-05-13 19:16:02",
           1.81
          ],
          [
           "2025-05-13 19:10:37",
           1.48
          ],
          [
           "2025-05-13 19:06:04",
           1.25
          ],
          [
           "2025-05-13 18:56:10",
           1.2
          ],
          [
           "2025-05-13 18:53:02",
           1.5
          ],
          [
           "2025-05-13 18:50:19",
           1.2
          ],
          [
           "2025-05-13 18:50:12",
           0.99
          ],
          [
           "2025-05-13 18:29:52",
           1.4
          ],
          [
           "2025-05-13 18:22:33",
           0.39
          ],
          [
           "2025-05-13 18:18:48",
           0.45
          ],
          [
           "2025-05-13 18:18:35",
           1.07
          ],
          [
           "2025-05-13 18:08:05",
           1.58
          ],
          [
           "2025-05-13 18:06:26",
           1.29
          ],
          [
           "2025-05-13 18:04:35",
           -0.84
          ],
          [
           "2025-05-13 18:01:56",
           3.58
          ],
          [
           "2025-05-13 17:46:07",
           2.07
          ],
          [
           "2025-05-13 17:44:36",
           1.6
          ],
          [
           "2025-05-13 17:30:59",
           1.6
          ],
          [
           "2025-05-13 17:30:51",
           -0.64
          ],
          [
           "2025-05-13 17:30:17",
           -0.45
          ],
          [
           "2025-05-13 17:17:27",
           3.33
          ],
          [
           "2025-05-13 16:56:18",
           1.33
          ],
          [
           "2025-05-13 16:54:31",
           2.09
          ],
          [
           "2025-05-13 16:52:34",
           5.6
          ],
          [
           "2025-05-13 16:50:43",
           0.56
          ],
          [
           "2025-05-13 16:49:37",
           1.1
          ],
          [
           "2025-05-13 16:48:40",
           4.1
          ],
          [
           "2025-05-13 16:45:08",
           0.82
          ],
          [
           "2025-05-13 16:44:06",
           1.18
          ],
          [
           "2025-05-13 16:36:42",
           -0.34
          ],
          [
           "2025-05-13 16:36:36",
           -0.69
          ],
          [
           "2025-05-13 16:36:36",
           2.8
          ],
          [
           "2025-05-13 16:22:40",
           2.3
          ],
          [
           "2025-05-13 16:18:13",
           1.8
          ],
          [
           "2025-05-13 16:14:38",
           1.05
          ],
          [
           "2025-05-13 16:06:26",
           1.9
          ],
          [
           "2025-05-13 16:03:39",
           -0.78
          ],
          [
           "2025-05-13 16:03:32",
           -0.74
          ],
          [
           "2025-05-13 15:42:36",
           0.6
          ],
          [
           "2025-05-13 15:31:37",
           -0.22
          ],
          [
           "2025-05-13 15:26:05",
           0.86
          ],
          [
           "2025-05-13 15:25:34",
           1.09
          ],
          [
           "2025-05-13 15:21:23",
           -0.27
          ],
          [
           "2025-05-13 15:04:15",
           -0.84
          ],
          [
           "2025-05-13 15:02:44",
           2.2
          ],
          [
           "2025-05-13 15:00:29",
           2.7
          ],
          [
           "2025-05-13 14:58:50",
           0.76
          ],
          [
           "2025-05-13 14:58:00",
           0.95
          ],
          [
           "2025-05-13 14:36:25",
           0.75
          ],
          [
           "2025-05-13 14:32:14",
           5.2
          ],
          [
           "2025-05-13 14:28:33",
           1.5
          ],
          [
           "2025-05-13 14:27:59",
           0.46
          ],
          [
           "2025-05-13 14:25:54",
           2.5
          ],
          [
           "2025-05-13 14:24:41",
           1.7
          ],
          [
           "2025-05-13 14:18:34",
           0.59
          ],
          [
           "2025-05-13 14:07:12",
           -0.32
          ],
          [
           "2025-05-13 13:55:54",
           -0.27
          ],
          [
           "2025-05-13 13:37:09",
           2
          ],
          [
           "2025-05-13 13:17:02",
           1.2
          ],
          [
           "2025-05-13 13:06:23",
           0.9
          ],
          [
           "2025-05-13 13:01:48",
           0.42
          ],
          [
           "2025-05-13 12:58:29",
           1.8
          ],
          [
           "2025-05-13 12:57:00",
           0.69
          ],
          [
           "2025-05-13 12:55:24",
           2.04
          ],
          [
           "2025-05-13 12:51:13",
           -0.24
          ],
          [
           "2025-05-13 12:49:08",
           2.3
          ],
          [
           "2025-05-13 12:41:11",
           1.24
          ],
          [
           "2025-05-13 12:40:51",
           0.71
          ],
          [
           "2025-05-13 12:40:12",
           0.56
          ],
          [
           "2025-05-13 12:30:23",
           4.4
          ],
          [
           "2025-05-13 12:14:17",
           4
          ],
          [
           "2025-05-13 12:12:04",
           3.8
          ],
          [
           "2025-05-13 12:11:08",
           2.29
          ],
          [
           "2025-05-13 12:09:56",
           0.14
          ],
          [
           "2025-05-13 12:09:55",
           1.73
          ],
          [
           "2025-05-13 12:06:45",
           1.06
          ],
          [
           "2025-05-13 12:06:42",
           2
          ],
          [
           "2025-05-13 12:03:34",
           1.7
          ],
          [
           "2025-05-13 11:49:11",
           1.3
          ],
          [
           "2025-05-13 11:39:58",
           1.33
          ],
          [
           "2025-05-13 11:25:32",
           0.31
          ],
          [
           "2025-05-13 11:19:02",
           0.07
          ],
          [
           "2025-05-13 11:18:33",
           0.14
          ],
          [
           "2025-05-13 11:15:06",
           2.3
          ],
          [
           "2025-05-13 11:14:15",
           1.5
          ],
          [
           "2025-05-13 11:04:54",
           1.9
          ],
          [
           "2025-05-13 10:59:13",
           0.27
          ],
          [
           "2025-05-13 10:57:31",
           0.57
          ],
          [
           "2025-05-13 10:55:11",
           1.05
          ],
          [
           "2025-05-13 10:43:10",
           0.37
          ],
          [
           "2025-05-13 10:39:08",
           0.64
          ],
          [
           "2025-05-13 10:38:29",
           1.5
          ],
          [
           "2025-05-13 10:35:15",
           -0.27
          ],
          [
           "2025-05-13 10:11:54",
           -0.32
          ],
          [
           "2025-05-13 10:07:45",
           4.4
          ],
          [
           "2025-05-13 10:00:09",
           0.65
          ],
          [
           "2025-05-13 09:46:46",
           1.2
          ],
          [
           "2025-05-13 09:40:24",
           1.5
          ],
          [
           "2025-05-13 09:38:56",
           1.55
          ],
          [
           "2025-05-13 09:38:31",
           0.84
          ],
          [
           "2025-05-13 09:31:12",
           0.88
          ],
          [
           "2025-05-13 09:26:08",
           1.2
          ],
          [
           "2025-05-13 09:24:40",
           1.48
          ],
          [
           "2025-05-13 09:18:18",
           2.84
          ],
          [
           "2025-05-13 09:15:55",
           1.3
          ],
          [
           "2025-05-13 09:12:38",
           1.42
          ],
          [
           "2025-05-13 09:10:15",
           1.08
          ],
          [
           "2025-05-13 08:54:27",
           0.33
          ],
          [
           "2025-05-13 08:52:48",
           1.1
          ],
          [
           "2025-05-13 08:49:33",
           -0.16
          ],
          [
           "2025-05-13 08:49:26",
           -0.36
          ],
          [
           "2025-05-13 08:42:09",
           1.23
          ],
          [
           "2025-05-13 08:29:37",
           0.7
          ],
          [
           "2025-05-13 08:25:59",
           0.3
          ],
          [
           "2025-05-13 08:21:59",
           1.8
          ],
          [
           "2025-05-13 08:21:47",
           0.74
          ],
          [
           "2025-05-13 08:13:45",
           0.78
          ],
          [
           "2025-05-13 07:53:04",
           -0.11
          ],
          [
           "2025-05-13 07:50:11",
           0.82
          ],
          [
           "2025-05-13 07:48:51",
           -0.63
          ],
          [
           "2025-05-13 07:46:27",
           -0.87
          ],
          [
           "2025-05-13 07:39:28",
           2.22
          ],
          [
           "2025-05-13 07:36:59",
           0.4
          ],
          [
           "2025-05-13 07:36:32",
           -0.2
          ],
          [
           "2025-05-13 07:34:20",
           0.3
          ],
          [
           "2025-05-13 07:33:49",
           0.7
          ],
          [
           "2025-05-13 07:32:25",
           2.08
          ],
          [
           "2025-05-13 07:31:26",
           2.56
          ],
          [
           "2025-05-13 07:27:39",
           1.21
          ],
          [
           "2025-05-13 07:23:01",
           0.82
          ],
          [
           "2025-05-13 07:19:53",
           1.6
          ],
          [
           "2025-05-13 07:13:25",
           2.2
          ],
          [
           "2025-05-13 07:06:06",
           0.92
          ],
          [
           "2025-05-13 07:04:32",
           1.8
          ],
          [
           "2025-05-13 06:45:27",
           1.11
          ],
          [
           "2025-05-13 06:44:57",
           0.7
          ],
          [
           "2025-05-13 06:44:32",
           1.01
          ],
          [
           "2025-05-13 06:37:25",
           0.75
          ],
          [
           "2025-05-13 06:36:10",
           0.7
          ],
          [
           "2025-05-13 06:31:18",
           2.43
          ],
          [
           "2025-05-13 06:27:01",
           2.1
          ],
          [
           "2025-05-13 06:13:24",
           2.7
          ],
          [
           "2025-05-13 06:04:12",
           1.79
          ],
          [
           "2025-05-13 06:02:46",
           0.98
          ],
          [
           "2025-05-13 05:54:44",
           1.03
          ],
          [
           "2025-05-13 05:43:29",
           1.08
          ],
          [
           "2025-05-13 05:41:26",
           1.4
          ],
          [
           "2025-05-13 05:41:10",
           4.4
          ],
          [
           "2025-05-13 05:26:45",
           0.68
          ],
          [
           "2025-05-13 05:20:55",
           2.83
          ],
          [
           "2025-05-13 05:10:12",
           1.3
          ],
          [
           "2025-05-13 05:06:10",
           1.29
          ],
          [
           "2025-05-13 05:05:56",
           1.08
          ],
          [
           "2025-05-13 05:02:32",
           0.87
          ],
          [
           "2025-05-13 04:43:49",
           3.26
          ],
          [
           "2025-05-13 04:40:21",
           1.5
          ],
          [
           "2025-05-13 04:33:27",
           -0.34
          ],
          [
           "2025-05-13 04:25:45",
           0.04
          ],
          [
           "2025-05-13 04:16:04",
           -0.15
          ],
          [
           "2025-05-13 04:14:53",
           0.88
          ],
          [
           "2025-05-13 04:13:46",
           4.5
          ],
          [
           "2025-05-13 04:10:13",
           1.62
          ],
          [
           "2025-05-13 04:05:34",
           1.5
          ],
          [
           "2025-05-13 04:05:22",
           0.37
          ],
          [
           "2025-05-13 04:02:04",
           4.7
          ],
          [
           "2025-05-13 03:56:39",
           0.77
          ],
          [
           "2025-05-13 03:55:53",
           2.32
          ],
          [
           "2025-05-13 03:54:13",
           1.32
          ],
          [
           "2025-05-13 03:25:09",
           1.41
          ],
          [
           "2025-05-13 03:20:38",
           0.54
          ],
          [
           "2025-05-13 03:04:40",
           2.47
          ],
          [
           "2025-05-13 03:02:07",
           1.74
          ],
          [
           "2025-05-13 02:54:00",
           0.81
          ],
          [
           "2025-05-13 02:52:30",
           0.74
          ],
          [
           "2025-05-13 02:47:51",
           1.71
          ],
          [
           "2025-05-13 02:32:49",
           0.82
          ],
          [
           "2025-05-13 02:29:32",
           -0.37
          ],
          [
           "2025-05-13 02:20:05",
           1.6
          ],
          [
           "2025-05-13 02:19:40",
           2.5
          ],
          [
           "2025-05-13 02:17:21",
           2.5
          ],
          [
           "2025-05-13 01:56:24",
           1.4
          ],
          [
           "2025-05-13 01:49:30",
           -0.2
          ],
          [
           "2025-05-13 01:49:09",
           0.55
          ],
          [
           "2025-05-13 01:48:16",
           2.13
          ],
          [
           "2025-05-13 01:38:18",
           2.56
          ],
          [
           "2025-05-13 01:37:03",
           4.8
          ],
          [
           "2025-05-13 01:30:50",
           4.2
          ],
          [
           "2025-05-13 01:25:52",
           0.32
          ],
          [
           "2025-05-13 01:19:41",
           1.14
          ],
          [
           "2025-05-13 01:17:59",
           1.96
          ],
          [
           "2025-05-13 01:09:46",
           1.3
          ],
          [
           "2025-05-13 00:48:00",
           5.1
          ],
          [
           "2025-05-13 00:41:13",
           1.9
          ],
          [
           "2025-05-13 00:29:08",
           1.08
          ],
          [
           "2025-05-13 00:28:03",
           1.94
          ],
          [
           "2025-05-13 00:21:48",
           1.6
          ],
          [
           "2025-05-13 00:01:57",
           4.3
          ],
          [
           "2025-05-12 23:59:27",
           1.5
          ],
          [
           "2025-05-12 23:55:56",
           1.09
          ],
          [
           "2025-05-12 23:54:45",
           1.07
          ],
          [
           "2025-05-12 23:52:46",
           3.6
          ],
          [
           "2025-05-12 23:44:14",
           0.82
          ],
          [
           "2025-05-12 23:43:40",
           1.55
          ],
          [
           "2025-05-12 23:36:27",
           0.45
          ],
          [
           "2025-05-12 23:35:09",
           0.72
          ],
          [
           "2025-05-12 23:30:41",
           1.27
          ],
          [
           "2025-05-12 23:30:09",
           4.9
          ],
          [
           "2025-05-12 23:26:06",
           2.4
          ],
          [
           "2025-05-12 23:20:36",
           2.2
          ],
          [
           "2025-05-12 23:17:57",
           2.1
          ],
          [
           "2025-05-12 23:16:33",
           1.3
          ],
          [
           "2025-05-12 23:12:17",
           4.9
          ],
          [
           "2025-05-12 23:09:25",
           1.8
          ],
          [
           "2025-05-12 23:08:02",
           4
          ],
          [
           "2025-05-12 23:00:17",
           -0.23
          ],
          [
           "2025-05-12 22:59:10",
           0.25
          ],
          [
           "2025-05-12 22:58:42",
           -0.15
          ],
          [
           "2025-05-12 22:56:31",
           1.6
          ],
          [
           "2025-05-12 22:43:08",
           1.46
          ],
          [
           "2025-05-12 22:29:34",
           0.28
          ],
          [
           "2025-05-12 22:27:01",
           1.54
          ],
          [
           "2025-05-12 22:15:42",
           3.32
          ],
          [
           "2025-05-12 22:05:32",
           1.3
          ],
          [
           "2025-05-12 22:05:14",
           1.3
          ],
          [
           "2025-05-12 22:02:58",
           1.37
          ],
          [
           "2025-05-12 22:02:19",
           3.3
          ],
          [
           "2025-05-12 21:55:21",
           2
          ],
          [
           "2025-05-12 21:55:12",
           0.88
          ],
          [
           "2025-05-12 21:51:35",
           0.22
          ],
          [
           "2025-05-12 21:49:04",
           1.12
          ],
          [
           "2025-05-12 21:43:11",
           1.71
          ],
          [
           "2025-05-12 21:43:06",
           1.7
          ],
          [
           "2025-05-12 21:33:35",
           4.5
          ],
          [
           "2025-05-12 21:30:52",
           4.4
          ],
          [
           "2025-05-12 21:25:57",
           0.72
          ],
          [
           "2025-05-12 21:19:00",
           1.42
          ],
          [
           "2025-05-12 21:17:38",
           0.96
          ],
          [
           "2025-05-12 20:58:16",
           2.19
          ],
          [
           "2025-05-12 20:26:48",
           1.16
          ],
          [
           "2025-05-12 20:25:31",
           0.3
          ],
          [
           "2025-05-12 20:23:18",
           1.99
          ],
          [
           "2025-05-12 20:19:10",
           0.91
          ],
          [
           "2025-05-12 20:17:32",
           0.33
          ],
          [
           "2025-05-12 20:11:42",
           1.4
          ],
          [
           "2025-05-12 20:08:21",
           1.83
          ],
          [
           "2025-05-12 20:07:39",
           0.37
          ],
          [
           "2025-05-12 20:07:16",
           1.06
          ],
          [
           "2025-05-12 20:03:35",
           1.37
          ],
          [
           "2025-05-12 20:01:37",
           1.83
          ],
          [
           "2025-05-12 19:50:58",
           1.31
          ],
          [
           "2025-05-12 19:50:38",
           1.42
          ],
          [
           "2025-05-12 19:36:17",
           1.88
          ],
          [
           "2025-05-12 19:33:17",
           1.79
          ],
          [
           "2025-05-12 19:23:04",
           0.18
          ],
          [
           "2025-05-12 19:14:10",
           1.27
          ],
          [
           "2025-05-12 19:14:06",
           1.49
          ],
          [
           "2025-05-12 19:09:23",
           1.93
          ],
          [
           "2025-05-12 19:04:35",
           0.78
          ],
          [
           "2025-05-12 19:02:09",
           1.65
          ],
          [
           "2025-05-12 19:01:19",
           0.37
          ],
          [
           "2025-05-12 19:00:46",
           0.4
          ],
          [
           "2025-05-12 18:59:35",
           1.9
          ],
          [
           "2025-05-12 18:44:21",
           1.51
          ],
          [
           "2025-05-12 18:42:28",
           0.72
          ],
          [
           "2025-05-12 18:40:27",
           1.05
          ],
          [
           "2025-05-12 18:38:49",
           1.9
          ],
          [
           "2025-05-12 18:32:43",
           3.3
          ],
          [
           "2025-05-12 18:30:55",
           1.54
          ],
          [
           "2025-05-12 18:16:11",
           1.08
          ],
          [
           "2025-05-12 17:58:07",
           1.01
          ],
          [
           "2025-05-12 17:53:35",
           0.72
          ],
          [
           "2025-05-12 17:43:39",
           0.36
          ],
          [
           "2025-05-12 17:42:15",
           1.4
          ],
          [
           "2025-05-12 17:35:30",
           3.3
          ],
          [
           "2025-05-12 17:33:20",
           4.1
          ],
          [
           "2025-05-12 17:25:07",
           1.9
          ],
          [
           "2025-05-12 17:17:15",
           4.5
          ],
          [
           "2025-05-12 17:01:40",
           5.1
          ],
          [
           "2025-05-12 16:52:07",
           1.13
          ],
          [
           "2025-05-12 16:52:01",
           0.75
          ],
          [
           "2025-05-12 16:45:58",
           0.25
          ],
          [
           "2025-05-12 16:43:49",
           1.2
          ],
          [
           "2025-05-12 16:35:14",
           1.19
          ],
          [
           "2025-05-12 16:23:59",
           4.1
          ],
          [
           "2025-05-12 16:17:30",
           0.88
          ],
          [
           "2025-05-12 16:17:23",
           1.67
          ],
          [
           "2025-05-12 16:11:38",
           0.36
          ],
          [
           "2025-05-12 16:06:44",
           0.45
          ],
          [
           "2025-05-12 16:00:31",
           2.03
          ],
          [
           "2025-05-12 15:51:24",
           1.51
          ],
          [
           "2025-05-12 15:46:36",
           1.9
          ],
          [
           "2025-05-12 15:40:06",
           4.5
          ],
          [
           "2025-05-12 15:39:24",
           0.35
          ],
          [
           "2025-05-12 15:34:35",
           -0.72
          ],
          [
           "2025-05-12 15:30:58",
           0.78
          ],
          [
           "2025-05-12 15:28:28",
           0.35
          ],
          [
           "2025-05-12 15:26:59",
           0.21
          ],
          [
           "2025-05-12 15:25:22",
           2.13
          ],
          [
           "2025-05-12 15:14:28",
           2.64
          ],
          [
           "2025-05-12 15:11:22",
           0.41
          ],
          [
           "2025-05-12 15:09:35",
           0.51
          ],
          [
           "2025-05-12 15:02:45",
           0.23
          ],
          [
           "2025-05-12 15:02:29",
           0.9
          ],
          [
           "2025-05-12 15:01:50",
           0.48
          ],
          [
           "2025-05-12 15:01:09",
           1.19
          ],
          [
           "2025-05-12 14:57:50",
           5
          ],
          [
           "2025-05-12 14:54:29",
           5.3
          ],
          [
           "2025-05-12 14:47:39",
           -0.05
          ],
          [
           "2025-05-12 14:34:14",
           4.7
          ],
          [
           "2025-05-12 14:34:02",
           4.5
          ],
          [
           "2025-05-12 14:26:57",
           1.07
          ],
          [
           "2025-05-12 14:10:00",
           1.4
          ],
          [
           "2025-05-12 14:09:08",
           0.46
          ],
          [
           "2025-05-12 14:06:41",
           0.9
          ],
          [
           "2025-05-12 13:59:51",
           1.41
          ],
          [
           "2025-05-12 13:46:16",
           1.44
          ],
          [
           "2025-05-12 13:45:34",
           1.7
          ],
          [
           "2025-05-12 13:43:23",
           2.4
          ],
          [
           "2025-05-12 13:42:44",
           -0.9
          ],
          [
           "2025-05-12 13:36:45",
           1.46
          ],
          [
           "2025-05-12 13:28:25",
           0.72
          ],
          [
           "2025-05-12 13:20:20",
           1.8
          ],
          [
           "2025-05-12 13:10:14",
           1.7
          ],
          [
           "2025-05-12 12:59:40",
           0.71
          ],
          [
           "2025-05-12 12:56:00",
           0.77
          ],
          [
           "2025-05-12 12:54:21",
           0.33
          ],
          [
           "2025-05-12 12:40:33",
           0.87
          ],
          [
           "2025-05-12 12:06:32",
           1.9
          ],
          [
           "2025-05-12 11:53:16",
           1.5
          ],
          [
           "2025-05-12 11:51:08",
           2.4
          ],
          [
           "2025-05-12 11:49:39",
           -0.02
          ],
          [
           "2025-05-12 11:46:50",
           0.97
          ],
          [
           "2025-05-12 11:43:15",
           1.5
          ],
          [
           "2025-05-12 11:37:20",
           1.6
          ],
          [
           "2025-05-12 11:28:04",
           1.08
          ],
          [
           "2025-05-12 11:21:17",
           1.28
          ],
          [
           "2025-05-12 11:16:01",
           1.2
          ],
          [
           "2025-05-12 11:14:01",
           2.4
          ],
          [
           "2025-05-12 11:14:00",
           2.1
          ],
          [
           "2025-05-12 11:09:10",
           -0.47
          ],
          [
           "2025-05-12 11:07:53",
           1.86
          ],
          [
           "2025-05-12 11:07:18",
           1.5
          ],
          [
           "2025-05-12 10:50:16",
           0.78
          ],
          [
           "2025-05-12 10:27:52",
           -0.2
          ],
          [
           "2025-05-12 10:26:57",
           2.14
          ],
          [
           "2025-05-12 10:23:50",
           -0.05
          ],
          [
           "2025-05-12 09:53:57",
           1.34
          ],
          [
           "2025-05-12 09:52:58",
           1.07
          ],
          [
           "2025-05-12 09:36:30",
           1.08
          ],
          [
           "2025-05-12 09:35:40",
           0.46
          ],
          [
           "2025-05-12 09:34:09",
           0.79
          ],
          [
           "2025-05-12 09:28:37",
           3.1
          ],
          [
           "2025-05-12 09:27:42",
           0.59
          ],
          [
           "2025-05-12 09:26:20",
           3.24
          ],
          [
           "2025-05-12 09:25:50",
           1.27
          ],
          [
           "2025-05-12 09:23:57",
           4.3
          ],
          [
           "2025-05-12 09:22:59",
           0.31
          ],
          [
           "2025-05-12 09:15:53",
           4.2
          ],
          [
           "2025-05-12 09:15:41",
           1.07
          ],
          [
           "2025-05-12 09:14:00",
           2.7
          ],
          [
           "2025-05-12 09:10:52",
           -0.58
          ],
          [
           "2025-05-12 09:05:17",
           2.5
          ],
          [
           "2025-05-12 09:03:30",
           0.26
          ],
          [
           "2025-05-12 08:57:55",
           1.21
          ],
          [
           "2025-05-12 08:33:30",
           -0.54
          ],
          [
           "2025-05-12 08:32:48",
           1.08
          ],
          [
           "2025-05-12 08:31:09",
           0.58
          ],
          [
           "2025-05-12 08:31:02",
           0.45
          ],
          [
           "2025-05-12 08:30:50",
           1.11
          ],
          [
           "2025-05-12 08:30:26",
           1.8
          ],
          [
           "2025-05-12 08:29:54",
           3.56
          ],
          [
           "2025-05-12 08:11:21",
           0.69
          ],
          [
           "2025-05-12 08:09:55",
           2.12
          ],
          [
           "2025-05-12 08:09:40",
           0.48
          ],
          [
           "2025-05-12 08:08:31",
           1.25
          ],
          [
           "2025-05-12 07:56:33",
           4.4
          ],
          [
           "2025-05-12 07:53:10",
           2.24
          ],
          [
           "2025-05-12 07:42:15",
           2.7
          ],
          [
           "2025-05-12 07:41:23",
           0.69
          ],
          [
           "2025-05-12 07:35:10",
           4.1
          ],
          [
           "2025-05-12 07:24:09",
           0.74
          ],
          [
           "2025-05-12 07:12:49",
           3.39
          ],
          [
           "2025-05-12 07:09:51",
           0.71
          ],
          [
           "2025-05-12 07:07:47",
           3.1
          ],
          [
           "2025-05-12 07:03:49",
           0.75
          ],
          [
           "2025-05-12 07:01:29",
           1.5
          ],
          [
           "2025-05-12 07:00:34",
           0.79
          ],
          [
           "2025-05-12 06:59:37",
           2
          ],
          [
           "2025-05-12 06:57:04",
           1.6
          ],
          [
           "2025-05-12 06:49:19",
           4.5
          ],
          [
           "2025-05-12 06:41:26",
           0.74
          ],
          [
           "2025-05-12 06:38:21",
           5
          ],
          [
           "2025-05-12 06:34:29",
           2.4
          ],
          [
           "2025-05-12 06:23:46",
           0.77
          ],
          [
           "2025-05-12 06:20:41",
           2.2
          ],
          [
           "2025-05-12 06:20:38",
           4.9
          ],
          [
           "2025-05-12 06:07:24",
           1.6
          ],
          [
           "2025-05-12 05:45:33",
           1.48
          ],
          [
           "2025-05-12 05:44:07",
           0.29
          ],
          [
           "2025-05-12 05:43:55",
           0.59
          ],
          [
           "2025-05-12 05:43:17",
           1.72
          ],
          [
           "2025-05-12 05:36:19",
           4.4
          ],
          [
           "2025-05-12 05:23:37",
           0.73
          ],
          [
           "2025-05-12 05:21:00",
           2.3
          ],
          [
           "2025-05-12 04:51:08",
           1.63
          ],
          [
           "2025-05-12 04:48:52",
           1.7
          ],
          [
           "2025-05-12 04:43:33",
           1.5
          ],
          [
           "2025-05-12 04:39:53",
           0.97
          ],
          [
           "2025-05-12 04:35:14",
           1.51
          ],
          [
           "2025-05-12 04:25:06",
           2.54
          ],
          [
           "2025-05-12 04:22:54",
           1.6
          ],
          [
           "2025-05-12 04:05:59",
           -0.19
          ],
          [
           "2025-05-12 03:53:46",
           1.09
          ],
          [
           "2025-05-12 03:49:47",
           0.36
          ],
          [
           "2025-05-12 03:48:30",
           3.12
          ],
          [
           "2025-05-12 03:48:23",
           1.85
          ],
          [
           "2025-05-12 03:44:52",
           0.99
          ],
          [
           "2025-05-12 03:43:00",
           2.79
          ],
          [
           "2025-05-12 03:42:07",
           1.09
          ],
          [
           "2025-05-12 03:41:21",
           0.22
          ],
          [
           "2025-05-12 03:40:16",
           1.7
          ],
          [
           "2025-05-12 03:39:46",
           0.76
          ],
          [
           "2025-05-12 03:33:56",
           0.76
          ],
          [
           "2025-05-12 03:32:14",
           1.83
          ],
          [
           "2025-05-12 03:25:52",
           1.06
          ],
          [
           "2025-05-12 03:21:38",
           0.85
          ],
          [
           "2025-05-12 03:21:19",
           0.96
          ],
          [
           "2025-05-12 03:16:04",
           2.82
          ],
          [
           "2025-05-12 03:12:21",
           0.51
          ],
          [
           "2025-05-12 03:12:16",
           0.9
          ],
          [
           "2025-05-12 03:10:33",
           2.8
          ],
          [
           "2025-05-12 03:09:38",
           4.9
          ],
          [
           "2025-05-12 03:01:12",
           1.8
          ],
          [
           "2025-05-12 02:57:56",
           1.69
          ],
          [
           "2025-05-12 02:50:42",
           0.72
          ],
          [
           "2025-05-12 02:47:53",
           2.5
          ],
          [
           "2025-05-12 02:37:04",
           0.33
          ],
          [
           "2025-05-12 02:31:46",
           0.17
          ],
          [
           "2025-05-12 02:28:42",
           0.92
          ],
          [
           "2025-05-12 02:17:47",
           4.4
          ],
          [
           "2025-05-12 02:17:21",
           0.95
          ],
          [
           "2025-05-12 02:13:28",
           0.77
          ],
          [
           "2025-05-12 02:10:52",
           4.3
          ],
          [
           "2025-05-12 02:10:35",
           0.86
          ],
          [
           "2025-05-12 02:09:21",
           1
          ],
          [
           "2025-05-12 02:03:22",
           2
          ],
          [
           "2025-05-12 02:02:55",
           1.11
          ],
          [
           "2025-05-12 02:00:08",
           1.71
          ],
          [
           "2025-05-12 01:57:17",
           1.99
          ],
          [
           "2025-05-12 01:39:18",
           2.27
          ],
          [
           "2025-05-12 01:33:55",
           0.36
          ],
          [
           "2025-05-12 01:33:40",
           0.79
          ],
          [
           "2025-05-12 01:29:38",
           4.3
          ],
          [
           "2025-05-12 01:09:44",
           1.6
          ],
          [
           "2025-05-12 01:08:48",
           1.76
          ],
          [
           "2025-05-12 01:06:49",
           0.81
          ],
          [
           "2025-05-12 00:58:37",
           0.37
          ],
          [
           "2025-05-12 00:55:11",
           1.54
          ],
          [
           "2025-05-12 00:47:10",
           0.73
          ],
          [
           "2025-05-12 00:41:44",
           5
          ],
          [
           "2025-05-12 00:40:29",
           4.6
          ],
          [
           "2025-05-12 00:22:34",
           1.41
          ],
          [
           "2025-05-12 00:19:37",
           2
          ],
          [
           "2025-05-12 00:09:02",
           0.47
          ],
          [
           "2025-05-12 00:08:07",
           -0.04
          ],
          [
           "2025-05-12 00:02:34",
           1.03
          ],
          [
           "2025-05-12 00:01:17",
           2.3
          ],
          [
           "2025-05-11 23:54:36",
           0.8
          ],
          [
           "2025-05-11 23:52:21",
           1.12
          ],
          [
           "2025-05-11 23:40:59",
           0.5
          ],
          [
           "2025-05-11 23:40:30",
           0.85
          ],
          [
           "2025-05-11 23:39:10",
           1.09
          ],
          [
           "2025-05-11 23:27:57",
           1.5
          ],
          [
           "2025-05-11 23:17:31",
           0.76
          ],
          [
           "2025-05-11 23:04:07",
           2.3
          ],
          [
           "2025-05-11 23:02:54",
           1
          ],
          [
           "2025-05-11 22:52:57",
           1.47
          ],
          [
           "2025-05-11 22:46:48",
           0.69
          ],
          [
           "2025-05-11 22:35:48",
           0.9
          ],
          [
           "2025-05-11 22:35:19",
           2.47
          ],
          [
           "2025-05-11 22:22:37",
           0.43
          ],
          [
           "2025-05-11 22:22:00",
           0.36
          ],
          [
           "2025-05-11 22:21:31",
           0.02
          ],
          [
           "2025-05-11 22:21:25",
           -0.37
          ],
          [
           "2025-05-11 22:20:35",
           1.74
          ],
          [
           "2025-05-11 22:12:33",
           1.49
          ],
          [
           "2025-05-11 22:07:00",
           1.85
          ],
          [
           "2025-05-11 22:04:56",
           5.4
          ],
          [
           "2025-05-11 22:02:22",
           2.46
          ],
          [
           "2025-05-11 21:59:31",
           0.44
          ],
          [
           "2025-05-11 21:51:15",
           1.1
          ],
          [
           "2025-05-11 21:49:57",
           5.3
          ],
          [
           "2025-05-11 21:49:25",
           1.69
          ],
          [
           "2025-05-11 21:45:58",
           2.27
          ],
          [
           "2025-05-11 21:42:40",
           1.8
          ],
          [
           "2025-05-11 21:28:26",
           2
          ],
          [
           "2025-05-11 21:25:51",
           4.9
          ],
          [
           "2025-05-11 21:13:08",
           2.06
          ],
          [
           "2025-05-11 21:11:22",
           5.6
          ],
          [
           "2025-05-11 21:08:53",
           2
          ],
          [
           "2025-05-11 20:52:12",
           1.55
          ],
          [
           "2025-05-11 20:48:42",
           0.63
          ],
          [
           "2025-05-11 20:44:17",
           1.07
          ],
          [
           "2025-05-11 20:42:12",
           1.4
          ],
          [
           "2025-05-11 20:41:51",
           1.68
          ],
          [
           "2025-05-11 20:37:57",
           0.59
          ],
          [
           "2025-05-11 20:30:19",
           0.95
          ],
          [
           "2025-05-11 20:28:35",
           1.1
          ],
          [
           "2025-05-11 20:25:41",
           1
          ],
          [
           "2025-05-11 20:17:48",
           0.39
          ],
          [
           "2025-05-11 20:15:17",
           1.35
          ],
          [
           "2025-05-11 20:15:13",
           2
          ],
          [
           "2025-05-11 20:14:42",
           1.73
          ],
          [
           "2025-05-11 20:01:12",
           -0.87
          ],
          [
           "2025-05-11 19:52:49",
           0.42
          ],
          [
           "2025-05-11 19:47:18",
           1.21
          ],
          [
           "2025-05-11 19:47:11",
           1.73
          ],
          [
           "2025-05-11 19:44:43",
           2
          ],
          [
           "2025-05-11 19:33:07",
           0.95
          ],
          [
           "2025-05-11 19:28:55",
           0.6
          ],
          [
           "2025-05-11 18:50:45",
           1.62
          ],
          [
           "2025-05-11 18:48:45",
           4.7
          ],
          [
           "2025-05-11 18:43:36",
           1.2
          ],
          [
           "2025-05-11 18:34:57",
           4.2
          ],
          [
           "2025-05-11 18:27:50",
           0.68
          ],
          [
           "2025-05-11 18:06:13",
           1.3
          ],
          [
           "2025-05-11 18:05:39",
           0.45
          ],
          [
           "2025-05-11 18:05:07",
           0.68
          ],
          [
           "2025-05-11 17:50:40",
           2.8
          ],
          [
           "2025-05-11 17:38:36",
           4.7
          ],
          [
           "2025-05-11 17:32:19",
           0.02
          ],
          [
           "2025-05-11 17:30:50",
           1.89
          ],
          [
           "2025-05-11 17:28:19",
           1.17
          ],
          [
           "2025-05-11 17:24:34",
           1.8
          ],
          [
           "2025-05-11 17:24:06",
           1.6
          ],
          [
           "2025-05-11 17:15:25",
           1.25
          ],
          [
           "2025-05-11 17:08:44",
           1.18
          ],
          [
           "2025-05-11 17:05:24",
           4.7
          ],
          [
           "2025-05-11 16:57:50",
           0.6
          ],
          [
           "2025-05-11 16:44:55",
           1.4
          ],
          [
           "2025-05-11 16:44:54",
           0.28
          ],
          [
           "2025-05-11 16:34:41",
           1.8
          ],
          [
           "2025-05-11 16:28:38",
           1.8
          ],
          [
           "2025-05-11 16:12:54",
           1.9
          ],
          [
           "2025-05-11 16:12:30",
           1.16
          ],
          [
           "2025-05-11 16:05:05",
           0.22
          ],
          [
           "2025-05-11 16:03:05",
           0.9
          ],
          [
           "2025-05-11 16:00:23",
           0.2
          ],
          [
           "2025-05-11 16:00:12",
           1.3
          ],
          [
           "2025-05-11 15:38:39",
           1.6
          ],
          [
           "2025-05-11 15:34:20",
           1.78
          ],
          [
           "2025-05-11 15:28:29",
           0.2
          ],
          [
           "2025-05-11 15:16:34",
           1.3
          ],
          [
           "2025-05-11 15:15:59",
           1.8
          ],
          [
           "2025-05-11 15:15:16",
           0.42
          ],
          [
           "2025-05-11 15:15:11",
           1.1
          ],
          [
           "2025-05-11 14:37:49",
           0.78
          ],
          [
           "2025-05-11 14:35:24",
           1.01
          ],
          [
           "2025-05-11 14:27:53",
           1.19
          ],
          [
           "2025-05-11 14:25:34",
           0.8
          ],
          [
           "2025-05-11 14:25:16",
           0.53
          ],
          [
           "2025-05-11 14:25:02",
           1.4
          ],
          [
           "2025-05-11 14:23:27",
           1.92
          ],
          [
           "2025-05-11 14:12:49",
           -0.38
          ],
          [
           "2025-05-11 14:09:32",
           1.03
          ],
          [
           "2025-05-11 14:08:28",
           2.04
          ],
          [
           "2025-05-11 14:00:28",
           2.7
          ],
          [
           "2025-05-11 13:58:16",
           1.21
          ],
          [
           "2025-05-11 13:52:38",
           0.9
          ],
          [
           "2025-05-11 13:50:15",
           1.06
          ],
          [
           "2025-05-11 13:39:42",
           0.77
          ],
          [
           "2025-05-11 13:36:13",
           2.2
          ],
          [
           "2025-05-11 13:33:51",
           1.32
          ],
          [
           "2025-05-11 13:25:28",
           1.6
          ],
          [
           "2025-05-11 13:23:28",
           2.9
          ],
          [
           "2025-05-11 12:49:36",
           0.69
          ],
          [
           "2025-05-11 12:48:45",
           2.2
          ],
          [
           "2025-05-11 12:42:04",
           0.81
          ],
          [
           "2025-05-11 12:34:32",
           1
          ],
          [
           "2025-05-11 12:33:39",
           -0.2
          ],
          [
           "2025-05-11 12:30:45",
           2.19
          ],
          [
           "2025-05-11 12:25:34",
           0.66
          ],
          [
           "2025-05-11 12:12:41",
           3.52
          ],
          [
           "2025-05-11 12:03:47",
           0.77
          ],
          [
           "2025-05-11 11:56:10",
           2.4
          ],
          [
           "2025-05-11 11:54:54",
           1.9
          ],
          [
           "2025-05-11 11:49:14",
           0.14
          ],
          [
           "2025-05-11 11:41:05",
           2.2
          ],
          [
           "2025-05-11 11:39:48",
           0.9
          ],
          [
           "2025-05-11 11:39:08",
           4.6
          ],
          [
           "2025-05-11 11:38:00",
           0.63
          ],
          [
           "2025-05-11 11:28:03",
           0.76
          ],
          [
           "2025-05-11 11:24:09",
           3.67
          ],
          [
           "2025-05-11 11:23:07",
           0.2
          ],
          [
           "2025-05-11 11:22:21",
           5.9
          ],
          [
           "2025-05-11 11:20:02",
           0.57
          ],
          [
           "2025-05-11 11:19:26",
           1
          ],
          [
           "2025-05-11 11:13:12",
           1.93
          ],
          [
           "2025-05-11 11:10:31",
           0.18
          ],
          [
           "2025-05-11 10:58:48",
           0.37
          ],
          [
           "2025-05-11 10:56:00",
           -0.13
          ],
          [
           "2025-05-11 10:53:24",
           1.4
          ],
          [
           "2025-05-11 10:50:48",
           1.28
          ],
          [
           "2025-05-11 10:46:36",
           3.57
          ],
          [
           "2025-05-11 10:45:45",
           1.13
          ],
          [
           "2025-05-11 10:43:45",
           1.5
          ],
          [
           "2025-05-11 10:41:51",
           4.6
          ],
          [
           "2025-05-11 10:37:11",
           1.7
          ],
          [
           "2025-05-11 10:36:53",
           -0.58
          ],
          [
           "2025-05-11 10:35:30",
           1.8
          ],
          [
           "2025-05-11 10:12:10",
           1.2
          ],
          [
           "2025-05-11 10:10:38",
           4.4
          ],
          [
           "2025-05-11 10:09:54",
           0.23
          ],
          [
           "2025-05-11 10:04:25",
           0.9
          ],
          [
           "2025-05-11 09:56:18",
           1.8
          ],
          [
           "2025-05-11 09:55:56",
           3.85
          ],
          [
           "2025-05-11 09:51:11",
           1.1
          ],
          [
           "2025-05-11 09:49:10",
           1.76
          ],
          [
           "2025-05-11 09:46:51",
           4.6
          ],
          [
           "2025-05-11 09:44:10",
           1.23
          ],
          [
           "2025-05-11 09:39:33",
           2.32
          ],
          [
           "2025-05-11 09:39:25",
           0.75
          ],
          [
           "2025-05-11 09:32:21",
           0.99
          ],
          [
           "2025-05-11 09:31:15",
           1.3
          ],
          [
           "2025-05-11 09:29:01",
           4.4
          ],
          [
           "2025-05-11 09:24:28",
           1.2
          ],
          [
           "2025-05-11 09:20:35",
           1.49
          ],
          [
           "2025-05-11 09:10:52",
           0.89
          ],
          [
           "2025-05-11 09:07:39",
           2.07
          ],
          [
           "2025-05-11 09:06:01",
           2.9
          ],
          [
           "2025-05-11 08:57:44",
           5.8
          ],
          [
           "2025-05-11 08:46:07",
           1.6
          ],
          [
           "2025-05-11 08:43:40",
           2.04
          ],
          [
           "2025-05-11 08:41:24",
           0.76
          ],
          [
           "2025-05-11 08:30:05",
           1.4
          ],
          [
           "2025-05-11 08:28:25",
           1.6
          ],
          [
           "2025-05-11 08:27:06",
           3.05
          ],
          [
           "2025-05-11 08:26:34",
           1.9
          ],
          [
           "2025-05-11 08:23:00",
           2.2
          ],
          [
           "2025-05-11 08:20:19",
           0.58
          ],
          [
           "2025-05-11 08:19:12",
           1.68
          ],
          [
           "2025-05-11 08:09:15",
           4.4
          ],
          [
           "2025-05-11 08:08:25",
           0.3
          ],
          [
           "2025-05-11 08:03:12",
           0.64
          ],
          [
           "2025-05-11 07:58:03",
           1.1
          ],
          [
           "2025-05-11 07:47:30",
           1.32
          ],
          [
           "2025-05-11 07:45:30",
           2.9
          ],
          [
           "2025-05-11 07:41:18",
           2.75
          ],
          [
           "2025-05-11 07:34:25",
           1.63
          ],
          [
           "2025-05-11 07:34:13",
           1.08
          ],
          [
           "2025-05-11 07:27:28",
           2.96
          ],
          [
           "2025-05-11 07:24:57",
           3.12
          ],
          [
           "2025-05-11 07:23:04",
           1.71
          ],
          [
           "2025-05-11 07:18:27",
           1.29
          ],
          [
           "2025-05-11 07:18:14",
           1.4
          ],
          [
           "2025-05-11 07:15:46",
           1.54
          ],
          [
           "2025-05-11 07:15:35",
           4
          ],
          [
           "2025-05-11 07:06:04",
           2.9
          ],
          [
           "2025-05-11 07:00:08",
           1.6
          ],
          [
           "2025-05-11 06:57:08",
           1.6
          ],
          [
           "2025-05-11 06:54:38",
           0.63
          ],
          [
           "2025-05-11 06:47:14",
           0.84
          ],
          [
           "2025-05-11 06:45:29",
           1.8
          ],
          [
           "2025-05-11 06:44:30",
           4.2
          ],
          [
           "2025-05-11 06:43:27",
           4.6
          ],
          [
           "2025-05-11 06:27:34",
           1.87
          ],
          [
           "2025-05-11 06:27:17",
           0.7
          ],
          [
           "2025-05-11 06:25:26",
           4.3
          ],
          [
           "2025-05-11 06:25:14",
           1.7
          ],
          [
           "2025-05-11 06:23:57",
           0.92
          ],
          [
           "2025-05-11 06:22:13",
           1.3
          ],
          [
           "2025-05-11 06:16:14",
           1.2
          ],
          [
           "2025-05-11 06:05:37",
           2.95
          ],
          [
           "2025-05-11 05:38:28",
           0.9
          ],
          [
           "2025-05-11 05:34:50",
           0.19
          ],
          [
           "2025-05-11 05:25:43",
           1.11
          ],
          [
           "2025-05-11 05:16:50",
           4.7
          ],
          [
           "2025-05-11 05:03:24",
           1.8
          ],
          [
           "2025-05-11 05:02:22",
           1.6
          ],
          [
           "2025-05-11 05:00:49",
           4.8
          ],
          [
           "2025-05-11 05:00:46",
           -0.53
          ],
          [
           "2025-05-11 04:56:20",
           0.43
          ],
          [
           "2025-05-11 04:52:33",
           4.9
          ],
          [
           "2025-05-11 04:27:57",
           0.9
          ],
          [
           "2025-05-11 04:26:41",
           -0.54
          ],
          [
           "2025-05-11 04:10:16",
           2.71
          ],
          [
           "2025-05-11 04:06:35",
           3.05
          ],
          [
           "2025-05-11 04:05:32",
           1.28
          ],
          [
           "2025-05-11 04:05:06",
           -0.44
          ],
          [
           "2025-05-11 03:47:18",
           2.18
          ],
          [
           "2025-05-11 03:43:32",
           0.98
          ],
          [
           "2025-05-11 03:42:16",
           1.01
          ],
          [
           "2025-05-11 03:41:02",
           0.07
          ],
          [
           "2025-05-11 03:39:30",
           0.22
          ],
          [
           "2025-05-11 03:39:23",
           0.88
          ],
          [
           "2025-05-11 03:32:06",
           0.22
          ],
          [
           "2025-05-11 03:25:49",
           0.6
          ],
          [
           "2025-05-11 03:25:05",
           0.16
          ],
          [
           "2025-05-11 03:16:49",
           0.82
          ],
          [
           "2025-05-11 03:10:40",
           0.35
          ],
          [
           "2025-05-11 03:09:37",
           3.25
          ],
          [
           "2025-05-11 03:08:34",
           1.8
          ],
          [
           "2025-05-11 02:57:06",
           0.79
          ],
          [
           "2025-05-11 02:42:50",
           2.3
          ],
          [
           "2025-05-11 02:42:28",
           1.7
          ],
          [
           "2025-05-11 02:40:19",
           0.9
          ],
          [
           "2025-05-11 02:30:02",
           1.7
          ],
          [
           "2025-05-11 02:21:02",
           1.26
          ],
          [
           "2025-05-11 02:10:17",
           0.93
          ],
          [
           "2025-05-11 02:07:08",
           4.7
          ],
          [
           "2025-05-11 02:00:52",
           1.02
          ],
          [
           "2025-05-11 01:58:17",
           0.36
          ],
          [
           "2025-05-11 01:47:36",
           1.46
          ],
          [
           "2025-05-11 01:46:27",
           2.2
          ],
          [
           "2025-05-11 01:43:42",
           0.66
          ],
          [
           "2025-05-11 01:43:20",
           2
          ],
          [
           "2025-05-11 01:42:32",
           0.42
          ],
          [
           "2025-05-11 01:40:58",
           0.45
          ],
          [
           "2025-05-11 01:40:36",
           -0.48
          ],
          [
           "2025-05-11 01:37:42",
           1.1
          ],
          [
           "2025-05-11 01:31:45",
           1.94
          ],
          [
           "2025-05-11 01:29:58",
           4.7
          ],
          [
           "2025-05-11 01:22:09",
           -0.15
          ],
          [
           "2025-05-11 01:14:50",
           1.6
          ],
          [
           "2025-05-11 01:04:58",
           2.89
          ],
          [
           "2025-05-11 01:04:57",
           0.76
          ],
          [
           "2025-05-11 01:02:24",
           0.39
          ],
          [
           "2025-05-11 01:01:50",
           0.34
          ],
          [
           "2025-05-11 01:01:45",
           2.63
          ],
          [
           "2025-05-11 01:00:41",
           1.41
          ],
          [
           "2025-05-11 00:57:06",
           1.5
          ],
          [
           "2025-05-11 00:53:36",
           1.2
          ],
          [
           "2025-05-11 00:53:04",
           1.12
          ],
          [
           "2025-05-11 00:49:52",
           4.6
          ],
          [
           "2025-05-11 00:49:27",
           -0.61
          ],
          [
           "2025-05-11 00:49:21",
           -0.78
          ],
          [
           "2025-05-11 00:47:02",
           0.49
          ],
          [
           "2025-05-11 00:39:40",
           0.8
          ],
          [
           "2025-05-11 00:33:22",
           1.3
          ],
          [
           "2025-05-11 00:31:03",
           0.74
          ],
          [
           "2025-05-11 00:30:46",
           1.45
          ],
          [
           "2025-05-11 00:16:17",
           0.9
          ],
          [
           "2025-05-11 00:11:25",
           0.3
          ],
          [
           "2025-05-11 00:04:57",
           0.61
          ],
          [
           "2025-05-11 00:00:40",
           1.3
          ],
          [
           "2025-05-10 23:55:55",
           1.48
          ],
          [
           "2025-05-10 23:55:15",
           1.2
          ],
          [
           "2025-05-10 23:54:17",
           2.37
          ],
          [
           "2025-05-10 23:47:56",
           1.1
          ],
          [
           "2025-05-10 23:47:06",
           -0.49
          ],
          [
           "2025-05-10 23:43:51",
           1.57
          ],
          [
           "2025-05-10 23:33:52",
           0.83
          ],
          [
           "2025-05-10 23:32:42",
           0.78
          ],
          [
           "2025-05-10 23:31:02",
           2.6
          ],
          [
           "2025-05-10 23:30:57",
           1.44
          ],
          [
           "2025-05-10 23:25:44",
           0.1
          ],
          [
           "2025-05-10 23:22:00",
           1.1
          ],
          [
           "2025-05-10 23:18:54",
           0.89
          ],
          [
           "2025-05-10 23:16:27",
           1.97
          ],
          [
           "2025-05-10 23:13:52",
           -0.11
          ],
          [
           "2025-05-10 23:10:16",
           0.21
          ],
          [
           "2025-05-10 22:51:56",
           0.3
          ],
          [
           "2025-05-10 22:51:32",
           0.71
          ],
          [
           "2025-05-10 22:50:33",
           2.18
          ],
          [
           "2025-05-10 22:45:48",
           1.8
          ],
          [
           "2025-05-10 22:22:23",
           0.43
          ],
          [
           "2025-05-10 22:17:34",
           1.52
          ],
          [
           "2025-05-10 22:16:49",
           1.04
          ],
          [
           "2025-05-10 22:15:43",
           2.31
          ],
          [
           "2025-05-10 22:15:06",
           1.9
          ],
          [
           "2025-05-10 22:11:40",
           1.9
          ],
          [
           "2025-05-10 22:10:51",
           1.87
          ],
          [
           "2025-05-10 21:47:44",
           -0.66
          ],
          [
           "2025-05-10 21:47:17",
           0.76
          ],
          [
           "2025-05-10 21:44:31",
           0.85
          ],
          [
           "2025-05-10 21:38:34",
           1.26
          ],
          [
           "2025-05-10 21:33:13",
           0.37
          ],
          [
           "2025-05-10 21:29:53",
           1.26
          ],
          [
           "2025-05-10 21:25:56",
           1.2
          ],
          [
           "2025-05-10 21:22:17",
           1.83
          ],
          [
           "2025-05-10 21:16:44",
           0.81
          ],
          [
           "2025-05-10 21:14:02",
           0.32
          ],
          [
           "2025-05-10 21:12:14",
           0.51
          ],
          [
           "2025-05-10 21:10:31",
           0.57
          ],
          [
           "2025-05-10 21:06:22",
           -1.02
          ],
          [
           "2025-05-10 21:03:19",
           2.17
          ],
          [
           "2025-05-10 20:57:37",
           1.57
          ],
          [
           "2025-05-10 20:52:58",
           2.1
          ],
          [
           "2025-05-10 20:48:49",
           0.11
          ],
          [
           "2025-05-10 20:42:59",
           -0.05
          ],
          [
           "2025-05-10 20:40:10",
           0.64
          ],
          [
           "2025-05-10 20:36:47",
           0.67
          ],
          [
           "2025-05-10 20:36:25",
           0.6
          ],
          [
           "2025-05-10 20:30:21",
           1.18
          ],
          [
           "2025-05-10 20:28:55",
           1.1
          ],
          [
           "2025-05-10 20:27:52",
           0.5
          ],
          [
           "2025-05-10 20:24:48",
           -0.74
          ],
          [
           "2025-05-10 20:16:58",
           1.5
          ],
          [
           "2025-05-10 20:10:36",
           3.43
          ],
          [
           "2025-05-10 20:04:12",
           2.08
          ],
          [
           "2025-05-10 20:03:36",
           1.78
          ],
          [
           "2025-05-10 20:02:19",
           2.1
          ],
          [
           "2025-05-10 20:00:35",
           1.5
          ],
          [
           "2025-05-10 19:47:06",
           0.61
          ],
          [
           "2025-05-10 19:42:06",
           1.07
          ],
          [
           "2025-05-10 19:39:25",
           1.7
          ],
          [
           "2025-05-10 19:38:39",
           1.6
          ],
          [
           "2025-05-10 19:36:52",
           0.33
          ],
          [
           "2025-05-10 19:33:12",
           0.87
          ],
          [
           "2025-05-10 19:23:08",
           0.73
          ],
          [
           "2025-05-10 19:14:50",
           0.66
          ],
          [
           "2025-05-10 19:11:41",
           0.67
          ],
          [
           "2025-05-10 19:11:15",
           2.98
          ],
          [
           "2025-05-10 19:05:53",
           0.01
          ],
          [
           "2025-05-10 19:03:50",
           0.76
          ],
          [
           "2025-05-10 19:02:17",
           3.53
          ],
          [
           "2025-05-10 18:56:20",
           0.35
          ],
          [
           "2025-05-10 18:55:06",
           0.27
          ],
          [
           "2025-05-10 18:50:28",
           4.5
          ],
          [
           "2025-05-10 18:49:28",
           2.22
          ],
          [
           "2025-05-10 18:42:11",
           -0.4
          ],
          [
           "2025-05-10 18:42:01",
           -0.11
          ],
          [
           "2025-05-10 18:40:59",
           1.09
          ],
          [
           "2025-05-10 18:40:38",
           0.38
          ],
          [
           "2025-05-10 18:36:56",
           4.6
          ],
          [
           "2025-05-10 18:26:59",
           1.9
          ],
          [
           "2025-05-10 18:26:44",
           2.8
          ],
          [
           "2025-05-10 18:14:30",
           1.7
          ],
          [
           "2025-05-10 18:11:51",
           -0.44
          ],
          [
           "2025-05-10 18:04:49",
           0.54
          ],
          [
           "2025-05-10 18:02:42",
           1.3
          ],
          [
           "2025-05-10 18:02:26",
           4.2
          ],
          [
           "2025-05-10 17:51:16",
           4.2
          ],
          [
           "2025-05-10 17:50:44",
           1.4
          ],
          [
           "2025-05-10 17:50:02",
           0.57
          ],
          [
           "2025-05-10 17:40:37",
           1.35
          ],
          [
           "2025-05-10 17:39:35",
           -0.67
          ],
          [
           "2025-05-10 17:35:28",
           4.2
          ],
          [
           "2025-05-10 17:34:33",
           1.49
          ],
          [
           "2025-05-10 17:33:27",
           1.7
          ],
          [
           "2025-05-10 17:33:26",
           2.9
          ],
          [
           "2025-05-10 17:32:53",
           1.22
          ],
          [
           "2025-05-10 17:30:01",
           4.2
          ],
          [
           "2025-05-10 17:29:21",
           0.6
          ],
          [
           "2025-05-10 17:28:35",
           -0.85
          ],
          [
           "2025-05-10 17:26:36",
           -0.41
          ],
          [
           "2025-05-10 17:21:42",
           1.1
          ],
          [
           "2025-05-10 17:20:03",
           1.92
          ],
          [
           "2025-05-10 17:17:37",
           0.69
          ],
          [
           "2025-05-10 17:17:16",
           2.06
          ],
          [
           "2025-05-10 17:16:17",
           3
          ],
          [
           "2025-05-10 17:08:23",
           1.6
          ],
          [
           "2025-05-10 17:02:54",
           2.8
          ],
          [
           "2025-05-10 16:43:34",
           2.2
          ],
          [
           "2025-05-10 16:38:36",
           -0.4
          ],
          [
           "2025-05-10 16:25:49",
           -0.78
          ],
          [
           "2025-05-10 16:24:08",
           4.2
          ],
          [
           "2025-05-10 16:14:23",
           1.26
          ],
          [
           "2025-05-10 15:47:16",
           0.62
          ],
          [
           "2025-05-10 15:46:31",
           0.74
          ],
          [
           "2025-05-10 15:45:30",
           1.02
          ],
          [
           "2025-05-10 15:43:30",
           2.5
          ],
          [
           "2025-05-10 15:35:52",
           0.34
          ],
          [
           "2025-05-10 15:21:14",
           2.55
          ],
          [
           "2025-05-10 15:20:50",
           1.12
          ],
          [
           "2025-05-10 15:20:41",
           1.8
          ],
          [
           "2025-05-10 15:13:55",
           -0.17
          ],
          [
           "2025-05-10 15:13:23",
           0.76
          ],
          [
           "2025-05-10 15:11:24",
           0.9
          ],
          [
           "2025-05-10 15:07:32",
           2.3
          ],
          [
           "2025-05-10 14:57:23",
           1.07
          ],
          [
           "2025-05-10 14:53:27",
           0.8
          ],
          [
           "2025-05-10 14:52:02",
           1
          ],
          [
           "2025-05-10 14:37:11",
           0.78
          ],
          [
           "2025-05-10 14:27:03",
           0.59
          ],
          [
           "2025-05-10 14:10:41",
           0.77
          ],
          [
           "2025-05-10 14:09:50",
           2.24
          ],
          [
           "2025-05-10 14:09:37",
           -0.61
          ],
          [
           "2025-05-10 14:09:29",
           -0.8
          ],
          [
           "2025-05-10 14:06:21",
           1.58
          ],
          [
           "2025-05-10 14:03:25",
           -0.37
          ],
          [
           "2025-05-10 14:03:15",
           1.11
          ],
          [
           "2025-05-10 13:57:45",
           1.43
          ],
          [
           "2025-05-10 13:51:44",
           0.71
          ],
          [
           "2025-05-10 13:50:36",
           0.27
          ],
          [
           "2025-05-10 13:48:58",
           -0.21
          ],
          [
           "2025-05-10 13:42:55",
           4.5
          ],
          [
           "2025-05-10 13:40:01",
           -0.51
          ],
          [
           "2025-05-10 13:27:03",
           0.38
          ],
          [
           "2025-05-10 13:23:56",
           1.5
          ],
          [
           "2025-05-10 13:20:37",
           0.53
          ],
          [
           "2025-05-10 13:15:03",
           1.01
          ],
          [
           "2025-05-10 13:12:46",
           0.66
          ],
          [
           "2025-05-10 13:07:24",
           0.41
          ],
          [
           "2025-05-10 13:04:20",
           4.1
          ],
          [
           "2025-05-10 13:04:00",
           0.47
          ],
          [
           "2025-05-10 13:02:04",
           1.02
          ],
          [
           "2025-05-10 12:55:24",
           0.99
          ],
          [
           "2025-05-10 12:49:51",
           1.03
          ],
          [
           "2025-05-10 12:49:46",
           -0.22
          ],
          [
           "2025-05-10 12:44:45",
           1.8
          ],
          [
           "2025-05-10 12:36:38",
           4.2
          ],
          [
           "2025-05-10 12:31:41",
           1.8
          ],
          [
           "2025-05-10 12:29:48",
           1.4
          ],
          [
           "2025-05-10 12:28:22",
           1.4
          ],
          [
           "2025-05-10 12:22:11",
           0.9
          ],
          [
           "2025-05-10 12:16:49",
           0.88
          ],
          [
           "2025-05-10 12:13:36",
           0.6
          ],
          [
           "2025-05-10 12:12:53",
           4.7
          ],
          [
           "2025-05-10 12:10:43",
           0.6
          ],
          [
           "2025-05-10 11:57:47",
           -0.37
          ],
          [
           "2025-05-10 11:56:31",
           1.12
          ],
          [
           "2025-05-10 11:56:30",
           0.51
          ],
          [
           "2025-05-10 11:55:46",
           3.9
          ],
          [
           "2025-05-10 11:55:28",
           0.54
          ],
          [
           "2025-05-10 11:45:15",
           4.7
          ],
          [
           "2025-05-10 11:41:56",
           3.61
          ],
          [
           "2025-05-10 11:33:27",
           0.1
          ],
          [
           "2025-05-10 11:30:15",
           -0.5
          ],
          [
           "2025-05-10 11:28:55",
           1.6
          ],
          [
           "2025-05-10 11:28:05",
           1.2
          ],
          [
           "2025-05-10 11:26:55",
           0.59
          ],
          [
           "2025-05-10 11:19:50",
           0.3
          ],
          [
           "2025-05-10 11:17:58",
           1.45
          ],
          [
           "2025-05-10 11:13:06",
           0.62
          ],
          [
           "2025-05-10 11:08:26",
           0.48
          ],
          [
           "2025-05-10 11:02:29",
           2.1
          ],
          [
           "2025-05-10 10:51:04",
           1.6
          ],
          [
           "2025-05-10 10:33:58",
           1.4
          ],
          [
           "2025-05-10 10:32:52",
           1.5
          ],
          [
           "2025-05-10 10:32:49",
           0.9
          ],
          [
           "2025-05-10 10:30:53",
           2.9
          ],
          [
           "2025-05-10 10:23:24",
           1.7
          ],
          [
           "2025-05-10 10:20:30",
           0.83
          ],
          [
           "2025-05-10 10:19:31",
           0.9
          ],
          [
           "2025-05-10 10:07:27",
           0.28
          ],
          [
           "2025-05-10 09:58:20",
           1.2
          ],
          [
           "2025-05-10 09:51:35",
           2
          ],
          [
           "2025-05-10 09:51:34",
           1.8
          ],
          [
           "2025-05-10 09:46:09",
           1.4
          ],
          [
           "2025-05-10 09:44:05",
           0.74
          ],
          [
           "2025-05-10 09:43:18",
           2.1
          ],
          [
           "2025-05-10 09:37:31",
           1.1
          ],
          [
           "2025-05-10 09:32:44",
           2.2
          ],
          [
           "2025-05-10 09:25:35",
           2.1
          ],
          [
           "2025-05-10 09:20:33",
           1.9
          ],
          [
           "2025-05-10 09:16:53",
           1.8
          ],
          [
           "2025-05-10 09:13:07",
           1.56
          ],
          [
           "2025-05-10 08:54:24",
           1.6
          ],
          [
           "2025-05-10 08:45:54",
           -0.35
          ],
          [
           "2025-05-10 08:45:44",
           2.5
          ],
          [
           "2025-05-10 08:41:54",
           2
          ],
          [
           "2025-05-10 08:27:23",
           1.52
          ],
          [
           "2025-05-10 08:19:26",
           1.41
          ],
          [
           "2025-05-10 08:19:21",
           0.3
          ],
          [
           "2025-05-10 08:18:13",
           0.96
          ],
          [
           "2025-05-10 08:15:23",
           1.53
          ],
          [
           "2025-05-10 08:03:37",
           -0.58
          ],
          [
           "2025-05-10 08:01:05",
           1.8
          ],
          [
           "2025-05-10 07:53:36",
           3.9
          ],
          [
           "2025-05-10 07:48:43",
           1.04
          ],
          [
           "2025-05-10 07:45:35",
           1.38
          ],
          [
           "2025-05-10 07:40:01",
           1.1
          ],
          [
           "2025-05-10 07:37:58",
           -0.56
          ],
          [
           "2025-05-10 07:37:48",
           0.8
          ],
          [
           "2025-05-10 07:37:34",
           0.99
          ],
          [
           "2025-05-10 07:23:58",
           0.48
          ],
          [
           "2025-05-10 06:52:51",
           1.19
          ],
          [
           "2025-05-10 06:47:23",
           0.42
          ],
          [
           "2025-05-10 06:46:41",
           0.76
          ],
          [
           "2025-05-10 06:44:54",
           1.62
          ],
          [
           "2025-05-10 06:44:18",
           2.15
          ],
          [
           "2025-05-10 06:41:45",
           4.4
          ],
          [
           "2025-05-10 06:39:55",
           0.78
          ],
          [
           "2025-05-10 06:35:38",
           0.9
          ],
          [
           "2025-05-10 06:14:56",
           2.26
          ],
          [
           "2025-05-10 06:00:33",
           0.58
          ],
          [
           "2025-05-10 05:39:55",
           1.24
          ],
          [
           "2025-05-10 05:37:16",
           0.6
          ],
          [
           "2025-05-10 05:31:13",
           -0.42
          ],
          [
           "2025-05-10 05:27:33",
           1.21
          ],
          [
           "2025-05-10 05:24:25",
           0.43
          ],
          [
           "2025-05-10 05:22:39",
           -0.87
          ],
          [
           "2025-05-10 05:21:33",
           -1.27
          ],
          [
           "2025-05-10 05:21:12",
           0.37
          ],
          [
           "2025-05-10 05:18:23",
           -0.87
          ],
          [
           "2025-05-10 05:15:00",
           -0.2
          ],
          [
           "2025-05-10 05:12:34",
           1.9
          ],
          [
           "2025-05-10 05:09:53",
           -0.32
          ],
          [
           "2025-05-10 05:08:01",
           4.6
          ],
          [
           "2025-05-10 05:07:15",
           4.1
          ],
          [
           "2025-05-10 04:52:39",
           0.68
          ],
          [
           "2025-05-10 04:47:21",
           -1.22
          ],
          [
           "2025-05-10 04:42:48",
           -0.29
          ],
          [
           "2025-05-10 04:39:53",
           -1.17
          ],
          [
           "2025-05-10 04:38:39",
           1.02
          ],
          [
           "2025-05-10 04:36:15",
           0.58
          ],
          [
           "2025-05-10 04:35:00",
           4.4
          ],
          [
           "2025-05-10 04:31:23",
           2.14
          ],
          [
           "2025-05-10 04:30:50",
           0.64
          ],
          [
           "2025-05-10 04:30:48",
           0.46
          ],
          [
           "2025-05-10 04:30:27",
           -0.83
          ],
          [
           "2025-05-10 04:29:45",
           0.03
          ],
          [
           "2025-05-10 04:25:52",
           1.2
          ],
          [
           "2025-05-10 04:24:50",
           -0.8
          ],
          [
           "2025-05-10 04:24:21",
           -0.87
          ],
          [
           "2025-05-10 04:18:41",
           1.7
          ],
          [
           "2025-05-10 04:15:47",
           0.6
          ],
          [
           "2025-05-10 04:14:26",
           0.24
          ],
          [
           "2025-05-10 04:11:27",
           -0.51
          ],
          [
           "2025-05-10 04:09:56",
           0.44
          ],
          [
           "2025-05-10 04:09:47",
           1.26
          ],
          [
           "2025-05-10 04:07:54",
           2.1
          ],
          [
           "2025-05-10 04:07:30",
           0.09
          ],
          [
           "2025-05-10 04:01:45",
           0.51
          ],
          [
           "2025-05-10 04:00:55",
           0.82
          ],
          [
           "2025-05-10 03:55:37",
           0.26
          ],
          [
           "2025-05-10 03:53:36",
           2.1
          ],
          [
           "2025-05-10 03:51:59",
           -0.81
          ],
          [
           "2025-05-10 03:49:57",
           -0.78
          ],
          [
           "2025-05-10 03:45:40",
           0.76
          ],
          [
           "2025-05-10 03:44:31",
           1.07
          ],
          [
           "2025-05-10 03:44:15",
           0.65
          ],
          [
           "2025-05-10 03:43:31",
           3.04
          ],
          [
           "2025-05-10 03:43:18",
           -0.81
          ],
          [
           "2025-05-10 03:41:28",
           0.96
          ],
          [
           "2025-05-10 03:37:03",
           0.71
          ],
          [
           "2025-05-10 03:34:52",
           4.4
          ],
          [
           "2025-05-10 03:34:07",
           5.1
          ],
          [
           "2025-05-10 03:31:17",
           0.13
          ],
          [
           "2025-05-10 03:31:11",
           1.83
          ],
          [
           "2025-05-10 03:30:11",
           1
          ],
          [
           "2025-05-10 03:25:07",
           -1.48
          ],
          [
           "2025-05-10 03:23:59",
           0.24
          ],
          [
           "2025-05-10 03:22:39",
           -1.41
          ],
          [
           "2025-05-10 03:20:38",
           0.34
          ],
          [
           "2025-05-10 03:20:33",
           0.31
          ],
          [
           "2025-05-10 03:19:06",
           -0.76
          ],
          [
           "2025-05-10 03:18:09",
           0.22
          ],
          [
           "2025-05-10 03:17:21",
           0.87
          ],
          [
           "2025-05-10 03:16:19",
           1.8
          ],
          [
           "2025-05-10 03:14:22",
           0.49
          ],
          [
           "2025-05-10 03:12:38",
           0.91
          ],
          [
           "2025-05-10 03:12:31",
           -0.75
          ],
          [
           "2025-05-10 03:12:29",
           -0.75
          ],
          [
           "2025-05-10 03:11:36",
           -0.17
          ],
          [
           "2025-05-10 03:11:28",
           -0.35
          ],
          [
           "2025-05-10 03:11:02",
           0.01
          ],
          [
           "2025-05-10 03:10:12",
           3.1
          ],
          [
           "2025-05-10 02:51:48",
           -1.24
          ],
          [
           "2025-05-10 02:48:23",
           -1.57
          ],
          [
           "2025-05-10 02:47:17",
           0.8
          ],
          [
           "2025-05-10 02:37:45",
           2
          ],
          [
           "2025-05-10 02:36:44",
           0.73
          ],
          [
           "2025-05-10 02:35:20",
           0.6
          ],
          [
           "2025-05-10 02:34:42",
           3.7
          ],
          [
           "2025-05-10 02:30:03",
           0.8
          ],
          [
           "2025-05-10 02:29:18",
           3
          ],
          [
           "2025-05-10 02:25:09",
           0.77
          ],
          [
           "2025-05-10 02:12:51",
           1.04
          ],
          [
           "2025-05-10 02:11:40",
           4.3
          ],
          [
           "2025-05-10 02:07:16",
           2.19
          ],
          [
           "2025-05-10 02:02:25",
           1.02
          ],
          [
           "2025-05-10 01:56:54",
           1.37
          ],
          [
           "2025-05-10 01:55:54",
           1.03
          ],
          [
           "2025-05-10 01:55:35",
           1.06
          ],
          [
           "2025-05-10 01:46:35",
           0.56
          ],
          [
           "2025-05-10 01:42:37",
           2.1
          ],
          [
           "2025-05-10 01:37:34",
           3.2
          ],
          [
           "2025-05-10 01:30:44",
           -0.2
          ],
          [
           "2025-05-10 01:29:27",
           1.45
          ],
          [
           "2025-05-10 01:18:55",
           2.72
          ],
          [
           "2025-05-10 01:13:41",
           1.4000000000000001
          ],
          [
           "2025-05-10 01:06:50",
           1.4
          ],
          [
           "2025-05-10 01:06:15",
           4.5
          ],
          [
           "2025-05-10 01:02:41",
           1.9
          ],
          [
           "2025-05-10 00:58:25",
           1.83
          ],
          [
           "2025-05-10 00:57:22",
           2.9
          ],
          [
           "2025-05-10 00:56:13",
           1.81
          ],
          [
           "2025-05-10 00:53:22",
           1.29
          ],
          [
           "2025-05-10 00:44:24",
           0.98
          ],
          [
           "2025-05-10 00:39:34",
           4.9
          ],
          [
           "2025-05-10 00:32:44",
           -0.2
          ],
          [
           "2025-05-10 00:27:06",
           2.2
          ],
          [
           "2025-05-10 00:24:04",
           2.6
          ],
          [
           "2025-05-10 00:17:37",
           -0.54
          ],
          [
           "2025-05-10 00:10:36",
           1.63
          ],
          [
           "2025-05-10 00:05:19",
           2.5
          ],
          [
           "2025-05-10 00:00:08",
           1.6
          ],
          [
           "2025-05-09 23:18:41",
           1.28
          ],
          [
           "2025-05-09 23:09:12",
           1.23
          ],
          [
           "2025-05-09 22:53:43",
           2.07
          ],
          [
           "2025-05-09 22:45:44",
           5.3
          ],
          [
           "2025-05-09 22:43:38",
           -0.39
          ],
          [
           "2025-05-09 22:38:33",
           0.88
          ],
          [
           "2025-05-09 22:19:46",
           0.68
          ],
          [
           "2025-05-09 22:17:42",
           0.6
          ],
          [
           "2025-05-09 21:57:47",
           1.06
          ],
          [
           "2025-05-09 21:56:15",
           1.73
          ],
          [
           "2025-05-09 21:49:21",
           0.8
          ],
          [
           "2025-05-09 21:48:13",
           4.6
          ],
          [
           "2025-05-09 21:46:27",
           1.1
          ],
          [
           "2025-05-09 21:45:40",
           1.63
          ],
          [
           "2025-05-09 21:44:02",
           2.06
          ],
          [
           "2025-05-09 21:43:37",
           1.8
          ],
          [
           "2025-05-09 21:42:57",
           3
          ],
          [
           "2025-05-09 21:42:34",
           0.74
          ],
          [
           "2025-05-09 21:26:18",
           2.4
          ],
          [
           "2025-05-09 21:21:58",
           1.04
          ],
          [
           "2025-05-09 21:20:40",
           2.9
          ],
          [
           "2025-05-09 21:17:30",
           2.19
          ],
          [
           "2025-05-09 21:16:34",
           0.26
          ],
          [
           "2025-05-09 21:08:30",
           2.5
          ],
          [
           "2025-05-09 20:55:08",
           2.54
          ],
          [
           "2025-05-09 20:49:31",
           0.94
          ],
          [
           "2025-05-09 20:39:00",
           0.9
          ],
          [
           "2025-05-09 20:34:39",
           1.5
          ],
          [
           "2025-05-09 20:33:18",
           1.6
          ],
          [
           "2025-05-09 20:30:26",
           0.65
          ],
          [
           "2025-05-09 20:18:55",
           1.9
          ],
          [
           "2025-05-09 19:57:00",
           0.36
          ],
          [
           "2025-05-09 19:54:45",
           2.5
          ],
          [
           "2025-05-09 19:54:41",
           1.14
          ],
          [
           "2025-05-09 19:49:32",
           0.16
          ],
          [
           "2025-05-09 19:40:18",
           0.74
          ],
          [
           "2025-05-09 19:37:19",
           2.58
          ],
          [
           "2025-05-09 19:27:21",
           2.2
          ],
          [
           "2025-05-09 19:20:28",
           -0.14
          ],
          [
           "2025-05-09 19:16:31",
           3.1
          ],
          [
           "2025-05-09 19:16:04",
           -0.83
          ],
          [
           "2025-05-09 19:07:15",
           5
          ],
          [
           "2025-05-09 19:03:31",
           1.68
          ],
          [
           "2025-05-09 18:36:01",
           0.83
          ],
          [
           "2025-05-09 18:31:54",
           0.04
          ],
          [
           "2025-05-09 18:21:49",
           1.35
          ],
          [
           "2025-05-09 18:20:06",
           0.72
          ],
          [
           "2025-05-09 18:18:00",
           1.32
          ],
          [
           "2025-05-09 18:11:41",
           4.4
          ],
          [
           "2025-05-09 17:55:49",
           1.6
          ],
          [
           "2025-05-09 17:53:21",
           0.44
          ],
          [
           "2025-05-09 17:49:09",
           2.46
          ],
          [
           "2025-05-09 17:44:52",
           4.9
          ],
          [
           "2025-05-09 17:43:36",
           2
          ],
          [
           "2025-05-09 17:41:23",
           1.8800000000000001
          ],
          [
           "2025-05-09 17:36:20",
           0.86
          ],
          [
           "2025-05-09 17:35:58",
           2.13
          ],
          [
           "2025-05-09 17:33:16",
           1.1
          ],
          [
           "2025-05-09 17:30:07",
           1.64
          ],
          [
           "2025-05-09 17:07:25",
           1.7
          ],
          [
           "2025-05-09 17:05:17",
           1.8
          ],
          [
           "2025-05-09 16:56:51",
           1.19
          ],
          [
           "2025-05-09 16:53:47",
           1.9
          ],
          [
           "2025-05-09 16:52:45",
           1.9
          ],
          [
           "2025-05-09 16:49:06",
           4.7
          ],
          [
           "2025-05-09 16:36:42",
           1.8
          ],
          [
           "2025-05-09 16:33:21",
           1.71
          ],
          [
           "2025-05-09 16:32:29",
           -0.45
          ],
          [
           "2025-05-09 16:29:03",
           0.8
          ],
          [
           "2025-05-09 16:26:55",
           4.3
          ],
          [
           "2025-05-09 16:23:40",
           0.74
          ],
          [
           "2025-05-09 16:23:01",
           1.5
          ],
          [
           "2025-05-09 16:21:42",
           2.16
          ],
          [
           "2025-05-09 16:14:23",
           0.38
          ],
          [
           "2025-05-09 16:13:38",
           1.6
          ],
          [
           "2025-05-09 16:12:19",
           2.3
          ],
          [
           "2025-05-09 16:12:18",
           2.9
          ],
          [
           "2025-05-09 16:11:40",
           2.3
          ],
          [
           "2025-05-09 16:09:30",
           0.2
          ],
          [
           "2025-05-09 16:05:26",
           0.38
          ],
          [
           "2025-05-09 16:04:32",
           1.3800000000000001
          ],
          [
           "2025-05-09 15:51:54",
           1.3
          ],
          [
           "2025-05-09 15:48:38",
           1.37
          ],
          [
           "2025-05-09 15:46:57",
           -0.16
          ],
          [
           "2025-05-09 15:40:02",
           1.24
          ],
          [
           "2025-05-09 15:34:07",
           0.78
          ],
          [
           "2025-05-09 15:33:21",
           2.5
          ]
         ],
         "geo": "geo",
         "hovertemplate": "<b>%{hovertext}</b><br><br>marker_size=%{marker.size}<br>纬度=%{lat}<br>经度=%{lon}<br>时间=%{customdata[0]}<br>震级=%{marker.color}<extra></extra>",
         "hovertext": [
          "7 km NNW of The Geysers, CA",
          "13 km W of Livengood, Alaska",
          "2 km SSW of Indios, Puerto Rico",
          "69 km SE of Denali National Park, Alaska",
          "34 km W of Petrolia, CA",
          "10 km NW of The Geysers, CA",
          "6 km NNW of The Geysers, CA",
          "14 km NNW of Point Possession, Alaska",
          "63 km W of Anchor Point, Alaska",
          "23 km NNE of Yerington, Nevada",
          "5 km NW of The Geysers, CA",
          "37 km NNW of Valdez, Alaska",
          "11 km ESE of Ocotillo Wells, CA",
          "6 km WSW of Anza, CA",
          "28 km SE of Kushiro, Japan",
          "4 km WSW of Anza, CA",
          "6 km WSW of Anza, CA",
          "17 km E of Pleasant Valley, Alaska",
          "6 km NNW of The Geysers, CA",
          "30 km S of Mammoth, Wyoming",
          "1 km ESE of The Geysers, CA",
          "21 km NE of Komodo, Indonesia",
          "10 km WSW of Anza, CA",
          "1 km ESE of The Geysers, CA",
          "40 km E of Denali National Park, Alaska",
          "9 km NW of The Geysers, CA",
          "14 km NE of Boca de Yuma, Dominican Republic",
          "6 km WNW of Cobb, CA",
          "34 km SSW of Cantwell, Alaska",
          "14 km SE of Bodfish, CA",
          "16 km WSW of Johannesburg, CA",
          "44 km NNW of Glacier View, Alaska",
          "21 km WSW of Challis, Idaho",
          "2 km NW of The Geysers, CA",
          "8 km WNW of Cobb, CA",
          "8 km WNW of Cobb, CA",
          "4 km NNW of The Geysers, CA",
          "1 km WSW of Anderson Springs, CA",
          "18 km NW of Parkfield, CA",
          "25 km SSW of Caliente, Nevada",
          "17 km NNW of Parkfield, CA",
          "8 km WNW of Cobb, CA",
          "0 km SSE of Carnelian Bay, California",
          "9 km NW of The Geysers, CA",
          "7 km NE of West Yellowstone, Montana",
          "5 km WNW of Cobb, CA",
          "2 km SSE of Indios, Puerto Rico",
          "1 km SE of Indios, Puerto Rico",
          "2 km NE of The Geysers, CA",
          "14 km S of West Yellowstone, Montana",
          "31 km S of Mammoth, Wyoming",
          "12 km SSE of Elmendorf Air Force Base, Alaska",
          "34 km NW of Indian Springs, Nevada",
          "5 km NW of Cobb, CA",
          "5 km WSW of Anza, CA",
          "5 km WSW of Anza, CA",
          "16 km NW of Emery, Utah",
          "5 km NNW of The Geysers, CA",
          "55 km W of Nanwalek, Alaska",
          "8 km NE of West Yellowstone, Montana",
          "32 km S of Mammoth, Wyoming",
          "8 km NE of West Yellowstone, Montana",
          "8 km NE of West Yellowstone, Montana",
          "8 km NNW of The Geysers, CA",
          "44 km W of Petersville, Alaska",
          "3 km SW of Guánica, Puerto Rico",
          "9 km WNW of Cobb, CA",
          "5 km NE of Windsor, CA",
          "7 km S of Idyllwild, CA",
          "2 km NNE of The Geysers, CA",
          "23 km ESE of Maneadero, B.C., MX",
          "5 km WSW of Anza, CA",
          "8 km NNE of Borrego Springs, CA",
          "5 km WSW of Anza, CA",
          "6 km WSW of Anza, CA",
          "8 km NE of West Yellowstone, Montana",
          "5 km WSW of Anza, CA",
          "6 km WSW of Anza, CA",
          "112 km NNE of Kobuk, Alaska",
          "Kermadec Islands, New Zealand",
          "5 km WSW of Anza, CA",
          "southern East Pacific Rise",
          "80 km ESE of Denali Park, Alaska",
          "3 km NE of Banning, CA",
          "42 km WSW of Alamo, Nevada",
          "9 km SW of Idyllwild, CA",
          "4 km NNW of The Geysers, CA",
          "8 km NE of West Yellowstone, Montana",
          "2 km NNW of Fontana, CA",
          "16 km S of Mường Lay, Vietnam",
          "2 km NNW of Fontana, CA",
          "7 km S of Idyllwild, CA",
          "7 km NW of The Geysers, CA",
          "6 km NW of The Geysers, CA",
          "7 km WNW of Cobb, CA",
          "3 km W of Anza, CA",
          "13 km NNW of Stagecoach, Nevada",
          "Bonin Islands, Japan region",
          "26 km NW of Stanley, Idaho",
          "16 km NNE of Ridgecrest, CA",
          "25 km NW of Stanley, Idaho",
          "11 km SSE of Volcano, Hawaii",
          "12 km SSE of Volcano, Hawaii",
          "42 km NW of Beatty, Nevada",
          "2 km  of The Geysers, CA",
          "21 km NNE of Yerington, Nevada",
          "4 km NNW of The Geysers, CA",
          "31 km S of Mammoth, Wyoming",
          "8 km NE of West Yellowstone, Montana",
          "13 km SSE of Volcano, Hawaii",
          "8 km NNW of The Geysers, CA",
          "31 km S of Mammoth, Wyoming",
          "6 km SW of Alamo, CA",
          "12 km NW of The Geysers, CA",
          "8 km W of Kailua-Kona, Hawaii",
          "25 km WNW of Zhonghe, China",
          "3 km NW of Mbeya, Tanzania",
          "7 km NW of The Geysers, CA",
          "6 km WNW of Cobb, CA",
          "47 km NNE of Chase, Alaska",
          "55 km NE of Port Alsworth, Alaska",
          "3 km NNW of The Geysers, CA",
          "4 km NNW of Huntington Beach, CA",
          "25 km NNE of Valdez, Alaska",
          "8 km NNW of The Geysers, CA",
          "7 km SW of Santa María Tonameca, Mexico",
          "7 km NW of The Geysers, CA",
          "19 km SW of Simmler, CA",
          "42 km N of Valdez, Alaska",
          "155 km W of Adak, Alaska",
          "32 km NNE of Chickaloon, Alaska",
          "61 km NW of Tatitlek, Alaska",
          "5 km NW of The Geysers, CA",
          "3 km WNW of Yacolt, Washington",
          "45 km NE of Holtville, CA",
          "48 km SSE of Nelchina, Alaska",
          "15 km ENE of Yerington, Nevada",
          "15 km S of Anza, CA",
          "157 km W of Adak, Alaska",
          "2 km ESE of Loma Linda, CA",
          "48 km N of Petersville, Alaska",
          "78 km W of Salamatof, Alaska",
          "15 km E of Ocotillo Wells, CA",
          "56 km S of Kingston, Nevada",
          "7 km NW of The Geysers, CA",
          "4 km W of Cobb, CA",
          "5 km NNW of Herington, Kansas",
          "8 km WSW of Davis, Oklahoma",
          "7 km S of Banning, CA",
          "25 km SSW of Nanwalek, Alaska",
          "16 km WSW of Johannesburg, CA",
          "8 km NNW of The Geysers, CA",
          "29 km NNE of Adelanto, CA",
          "40 km SSE of Nelchina, Alaska",
          "8 km NNW of The Geysers, CA",
          "8 km WNW of Four Mile Road, Alaska",
          "10 km NW of Pāhala, Hawaii",
          "6 km SE of Toms Place, CA",
          "11 km W of Davis, Oklahoma",
          "South Sandwich Islands region",
          "2 km ESE of The Geysers, CA",
          "6 km NNW of The Geysers, CA",
          "161 km W of Gorontalo, Indonesia",
          "63 km WSW of Nikolski, Alaska",
          "70 km N of Chickaloon, Alaska",
          "7 km SSW of Mojave, CA",
          "9 km NNE of Coso Junction, CA",
          "23 km WNW of Stanley, Idaho",
          "9 km NW of The Geysers, CA",
          "3 km NE of Magna, Utah",
          "9 km SE of Beluga, Alaska",
          "19 km SW of Moapa Town, Nevada",
          "6 km WNW of Cobb, CA",
          "4 km SSE of Home Gardens, CA",
          "22 km NNE of Yerington, Nevada",
          "9 km ENE of Adelanto, CA",
          "135 km NNE of Vieques, Puerto Rico",
          "76 km WNW of Nikiski, Alaska",
          "8 km S of Idyllwild, CA",
          "47 km SSW of Ugashik, Alaska",
          "44 km WSW of Petersville, Alaska",
          "68 km W of Tyonek, Alaska",
          "8 km NNW of The Geysers, CA",
          "11 km W of Valdez, Alaska",
          "12 km NW of Fox, Alaska",
          "44 km ENE of Beatty, Nevada",
          "2 km SW of Owasso, Oklahoma",
          "25 km WNW of Klamath Falls, Oregon",
          "Pacific-Antarctic Ridge",
          "11 km NNE of Cloverdale, CA",
          "3 km NNW of The Geysers, CA",
          "22 km NE of Pine Valley, CA",
          "17 km WSW of Johannesburg, CA",
          "12 km E of Cloverdale, CA",
          "2 km S of Tyonek, Alaska",
          "7 km NW of The Geysers, CA",
          "36 km NNW of Valdez, Alaska",
          "107 km W of Adak, Alaska",
          "33 km E of McKinney Acres, Texas",
          "5 km NNW of The Geysers, CA",
          "75 km W of Luwuk, Indonesia",
          "6 km N of Dutch Harbor, Alaska",
          "4 km N of Talmage, CA",
          "11 km NNE of Brooktrails, CA",
          "18 km ENE of West Yellowstone, Montana",
          "3 km NW of The Geysers, CA",
          "16 km SE of Obihiro, Japan",
          "Pacific-Antarctic Ridge",
          "269 km WSW of Merizo Village, Guam",
          "11 km ENE of Kulu, Turkey",
          "11 km NW of Point Possession, Alaska",
          "57 km NE of Valmy, Nevada",
          "7 km NW of The Geysers, CA",
          "8 km WNW of Anza, CA",
          "7 km NW of The Geysers, CA",
          "3 km E of Ridgeway, Alaska",
          "24 km SE of Pinnacles, CA",
          "15 km W of Johannesburg, CA",
          "17 km WSW of Johannesburg, CA",
          "5 km WSW of Anza, CA",
          "3 km SSE of Indios, Puerto Rico",
          "57 km S of Whites City, New Mexico",
          "64 km WNW of Tyonek, Alaska",
          "56 km S of Whites City, New Mexico",
          "6 km SW of Alamo, CA",
          "7 km ESE of Okanagan Falls, Canada",
          "21 km NW of Beluga, Alaska",
          "16 km NE of Pāhala, Hawaii",
          "12 km NNW of Toyah, Texas",
          "2 km NE of Marston, Missouri",
          "10 km NW of The Geysers, CA",
          "14 km NNE of West Yellowstone, Montana",
          "77 km W of Salamatof, Alaska",
          "2 km WSW of Palmarejo, Puerto Rico",
          "7 km NW of The Geysers, CA",
          "10 km NW of The Geysers, CA",
          "10 km NW of The Geysers, CA",
          "48 km NE of Valmy, Nevada",
          "6 km NNW of The Geysers, CA",
          "26 km W of Susitna, Alaska",
          "24 km W of Dutch Harbor, Alaska",
          "5 km WNW of Borrego Springs, CA",
          "34 km SSE of Midland, Texas",
          "18 km ESE of Anza, CA",
          "22 km NE of Pine Valley, CA",
          "3 km NW of Dover, Oklahoma",
          "16 km E of Hebgen Lake Estates, Montana",
          "22 km NE of Pine Valley, CA",
          "92 km NNW of Charlotte Amalie, U.S. Virgin Islands",
          "7 km NNW of The Geysers, CA",
          "38 km W of Kalifornsky, Alaska",
          "13 km NE of Yerington, Nevada",
          "15 km SSW of Searles Valley, CA",
          "2 km WNW of Anderson Springs, CA",
          "23 km SSE of Waimea, Hawaii",
          "32 km SSW of Minto, Alaska",
          "1 km E of The Geysers, CA",
          "6 km WNW of Cobb, CA",
          "26 km W of Westley, CA",
          "3 km SSE of Big Lake, Alaska",
          "10 km NNW of The Geysers, CA",
          "16 km SSW of Searles Valley, CA",
          "24 km N of Pāhala, Hawaii",
          "16 km SSW of Searles Valley, CA",
          "17 km SSW of Searles Valley, CA",
          "4 km WNW of Borrego Springs, CA",
          "7 km NW of The Geysers, CA",
          "59 km S of Whites City, New Mexico",
          "9 km SSW of Ackerly, Texas",
          "9 km S of Ackerly, Texas",
          "40 km NNW of Paxson, Alaska",
          "6 km WNW of Cobb, CA",
          "8 km WNW of Anza, CA",
          "4 km WSW of San Francisco Zoo, CA",
          "4 km WSW of Clinton, Washington",
          "9 km SSW of Volcano, Hawaii",
          "15 km ESE of Kelly, Wyoming",
          "54 km NE of Valmy, Nevada",
          "59 km NE of Valmy, Nevada",
          "7 km NNW of Challis, Idaho",
          "77 km WNW of Ninilchik, Alaska",
          "14 km SSE of Volcano, Hawaii",
          "8 km WNW of Anza, CA",
          "3 km ESE of The Geysers, CA",
          "16 km WNW of Emery, Utah",
          "7 km WNW of Cobb, CA",
          "12 km SW of Searles Valley, CA",
          "9 km NNW of Cabazon, CA",
          "3 km SW of Cobb, CA",
          "9 km NW of Tonasket, Washington",
          "66 km WNW of Beluga, Alaska",
          "65 km WNW of Beluga, Alaska",
          "1 km WNW of Beluga, Alaska",
          "20 km NW of Stanton, Texas",
          "8 km WNW of Anza, CA",
          "1 km N of Calatagan, Philippines",
          "62 km WNW of Tyonek, Alaska",
          "6 km NW of The Geysers, CA",
          "6 km NW of The Geysers, CA",
          "63 km WNW of Tyonek, Alaska",
          "65 km WNW of Beluga, Alaska",
          "6 km NE of Muscoy, CA",
          "6 km WNW of Cobb, CA",
          "6 km WNW of Cobb, CA",
          "15 km W of Neilton, Washington",
          "7 km NNW of Challis, Idaho",
          "2 km WNW of Walker, CA",
          "64 km WNW of Beluga, Alaska",
          "12 km N of San Antonio, Puerto Rico",
          "2 km SSE of Loma Linda, CA",
          "11 km SW of La Playa, Puerto Rico",
          "10 km SE of Nixon, Nevada",
          "55 km SE of Punta Cana, Dominican Republic",
          "31 km W of Rachel, Nevada",
          "7 km NW of The Geysers, CA",
          "58 km NNE of Chickaloon, Alaska",
          "3 km S of Highland Park, CA",
          "58 km NNE of Chickaloon, Alaska",
          "8 km NNW of Challis, Idaho",
          "11 km NNW of Parkfield, CA",
          "44 km ESE of Beatty, Nevada",
          "3 km SSE of Highland Park, CA",
          "14 km WNW of Petrolia, CA",
          "4 km NNW of Pinnacles, CA",
          "19 km SE of Livermore, CA",
          "10 km NNW of Truckee, CA",
          "3 km NW of Dover, Oklahoma",
          "3 km NW of Dover, Oklahoma",
          "16 km SSW of Goldfield, Nevada",
          "32 km SE of Mina, Nevada",
          "8 km WNW of Cobb, CA",
          "57 km S of Whites City, New Mexico",
          "3 km NW of Dover, Oklahoma",
          "16 km ENE of Hebgen Lake Estates, Montana",
          "6 km E of Coalinga, CA",
          "3 km NNW of The Geysers, CA",
          "4 km W of Cobb, CA",
          "9 km NE of Yucaipa, CA",
          "24 km NNW of Tehachapi, CA",
          "7 km WNW of Cobb, CA",
          "273 km WNW of Houma, Tonga",
          "16 km NE of Hermleigh, Texas",
          "10 km SSE of Redway, CA",
          "54 km S of Whites City, New Mexico",
          "0 km SE of Anza, CA",
          "51 km WNW of Indian Springs, Nevada",
          "151 km N of Manatutu, Timor Leste",
          "11 km N of Meadow Lakes, Alaska",
          "36 km NW of Rampart, Alaska",
          "9 km SE of Midland, Texas",
          "35 km SSW of Los Ybanez, Texas",
          "12 km NE of Julian, CA",
          "10 km S of Borrego Springs, CA",
          "9 km NW of Parkfield, CA",
          "16 km ENE of Hebgen Lake Estates, Montana",
          "14 km E of Hebgen Lake Estates, Montana",
          "10 km NW of The Geysers, CA",
          "51 km NW of Yakutat, Alaska",
          "10 km ESE of Coalinga, CA",
          "18 km ESE of Sparks, Nevada",
          "2 km NNW of Universal City, CA",
          "2 km NNW of Universal City, CA",
          "14 km S of Fern Forest, Hawaii",
          "52 km NNW of Yakutat, Alaska",
          "15 km SSW of Searles Valley, CA",
          "5 km N of San Jacinto, CA",
          "6 km WNW of Cobb, CA",
          "11 km N of Meadow Lakes, Alaska",
          "4 km NNW of The Geysers, CA",
          "8 km E of Clearlake, CA",
          "12 km NE of Yucaipa, CA",
          "8 km W of Townsend, Montana",
          "40 km NNW of Beluga, Alaska",
          "9 km ESE of Livermore, CA",
          "58 km N of Petersville, Alaska",
          "3 km W of Cobb, CA",
          "1 km E of Princeton, Canada",
          "4 km W of Cobb, CA",
          "63 km WNW of Tyonek, Alaska",
          "57 km S of Whites City, New Mexico",
          "12 km W of Akutan, Alaska",
          "9 km WNW of Cobb, CA",
          "5 km NW of The Geysers, CA",
          "51 km N of Finschhafen, Papua New Guinea",
          "148 km W of Ferndale, California",
          "1 km NE of The Geysers, CA",
          "9 km NW of The Geysers, CA",
          "57 km S of Whites City, New Mexico",
          "58 km S of Whites City, New Mexico",
          "4 km NE of Cooperton, Oklahoma",
          "256 km WNW of Houma, Tonga",
          "7 km NW of The Geysers, CA",
          "2 km SSE of Gorst, Washington",
          "54 km NW of Toyah, Texas",
          "50 km SW of Sechura, Peru",
          "54 km NW of Toyah, Texas",
          "4 km SSE of Floriston, California",
          "6 km NW of The Geysers, CA",
          "1 km N of Universal City, CA",
          "2 km SSW of Julian, CA",
          "18 km WNW of Culver, Oregon",
          "1 km SSE of Galateo, Puerto Rico",
          "3 km NNW of Dover, Oklahoma",
          "25 km NE of Chase, Alaska",
          "4 km W of Banning, CA",
          "64 km WNW of Tyonek, Alaska",
          "4 km W of Mammoth Lakes, CA",
          "6 km WNW of Cobb, CA",
          "2 km S of Burbank, Washington",
          "61 km S of Whites City, New Mexico",
          "4 km NNW of Dover, Oklahoma",
          "3 km NNW of Dover, Oklahoma",
          "8 km ENE of Moreno Valley, CA",
          "3 km NW of Dover, Oklahoma",
          "3 km NNW of Dover, Oklahoma",
          "3 km NW of Dover, Oklahoma",
          "15 km ENE of Yerington, Nevada",
          "3 km NNW of Dover, Oklahoma",
          "3 km NNW of Dover, Oklahoma",
          "6 km NNW of The Geysers, CA",
          "15 km NE of Yerington, Nevada",
          "20 km WNW of Salamatof, Alaska",
          "11 km E of Abbotsford, Canada",
          "3 km NNW of Dover, Oklahoma",
          "7 km WNW of Cobb, CA",
          "28 km SW of Trapper Creek, Alaska",
          "2 km E of The Geysers, CA",
          "5 km E of Coalinga, CA",
          "2 km NNW of The Geysers, CA",
          "6 km SW of Houston, Alaska",
          "3 km NNW of The Geysers, CA",
          "32 km SSE of Hawthorne, Nevada",
          "4 km SSW of Anderson Springs, CA",
          "38 km SSW of Los Ybanez, Texas",
          "14 km WNW of McMinnville, Oregon",
          "79 km NNW of Karluk, Alaska",
          "5 km WSW of Valley Park, Oklahoma",
          "166 km SSE of Tateyama, Japan",
          "Pacific-Antarctic Ridge",
          "10 km S of Borrego Springs, CA",
          "3 km NNW of Dover, Oklahoma",
          "3 km NW of Dover, Oklahoma",
          "60 km SSW of Intipucá, El Salvador",
          "3 km NNW of Dover, Oklahoma",
          "17 km S of Tres Pinos, CA",
          "48 km NE of King Cove, Alaska",
          "3 km NNW of Dover, Oklahoma",
          "61 km SSW of Skwentna, Alaska",
          "13 km N of Taft, CA",
          "2 km NNE of Huntington Park, CA",
          "57 km NE of Valmy, Nevada",
          "3 km NNW of The Geysers, CA",
          "12 km NNW of Rancho Cucamonga, CA",
          "71 km SW of Skwentna, Alaska",
          "5 km WNW of Cobb, CA",
          "13 km S of Trapper Creek, Alaska",
          "8 km WNW of Cobb, CA",
          "2 km NW of The Geysers, CA",
          "4 km NNW of Dover, Oklahoma",
          "3 km NNW of Dover, Oklahoma",
          "51 km ESE of Beatty, Nevada",
          "30 km NNE of Valdez, Alaska",
          "33 km NW of Valdez, Alaska",
          "2 km NW of The Geysers, CA",
          "2 km WSW of Wasilla, Alaska",
          "51 km NE of Valmy, Nevada",
          "2 km NW of The Geysers, CA",
          "2 km NW of The Geysers, CA",
          "2 km NW of The Geysers, CA",
          "8 km NNW of The Geysers, CA",
          "5 km NW of Point MacKenzie, Alaska",
          "2 km NW of The Geysers, CA",
          "2 km NW of The Geysers, CA",
          "26 km ESE of Point Possession, Alaska",
          "2 km NW of The Geysers, CA",
          "17 km N of Beluga, Alaska",
          "74 km NE of Valmy, Nevada",
          "58 km NE of Valmy, Nevada",
          "54 km NE of Valmy, Nevada",
          "57 km NE of Valmy, Nevada",
          "2 km ENE of Lilbourn, Missouri",
          "6 km WNW of Cobb, CA",
          "36 km SSW of Los Ybanez, Texas",
          "4 km SW of Dibble, Oklahoma",
          "4 km S of Highland Park, CA",
          "2 km ENE of The Geysers, CA",
          "60 km NE of Valmy, Nevada",
          "53 km NE of Valmy, Nevada",
          "4 km NNW of Dover, Oklahoma",
          "9 km NW of Idyllwild, CA",
          "16 km WNW of Emery, Utah",
          "55 km NNW of Eureka Roadhouse, Alaska",
          "172 km WNW of Port Orford, Oregon",
          "34 km NW of Tamarindo, Costa Rica",
          "22 km WSW of Cooper Landing, Alaska",
          "66 km WNW of Beluga, Alaska",
          "83 km NW of Karluk, Alaska",
          "14 km SSE of Chickaloon, Alaska",
          "5 km E of Naranjito, Puerto Rico",
          "Mid-Indian Ridge",
          "63 km W of Tyonek, Alaska",
          "13 km S of Fern Forest, Hawaii",
          "65 km WNW of Beluga, Alaska",
          "5 km WNW of Cobb, CA",
          "16 km WSW of Kailua-Kona, Hawaii",
          "84 km NW of Karluk, Alaska",
          "84 km NW of Karluk, Alaska",
          "84 km NW of Karluk, Alaska",
          "5 km WNW of Borrego Springs, CA",
          "4 km NW of The Geysers, CA",
          "34 km WNW of Zhob, Pakistan",
          "64 km WNW of Tyonek, Alaska",
          "64 km WNW of Tyonek, Alaska",
          "5 km WNW of Cobb, CA",
          "10 km ENE of Gilroy, CA",
          "2 km NW of The Geysers, CA",
          "25 km W of Augusta, Montana",
          "60 km WNW of Tyonek, Alaska",
          "16 km NW of Emery, Utah",
          "11 km NNE of Borrego Springs, CA",
          "121 km NNW of Finschhafen, Papua New Guinea",
          "14 km SSE of Beaver, Utah",
          "63 km SSE of Kokhanok, Alaska",
          "1 km NE of The Geysers, CA",
          "54 km W of Tatitlek, Alaska",
          "8 km NE of West Yellowstone, Montana",
          "64 km WNW of Tyonek, Alaska",
          "64 km WNW of Tyonek, Alaska",
          "53 km SE of Boca de Yuma, Dominican Republic",
          "57 km WNW of Ninilchik, Alaska",
          "15 km W of Johannesburg, CA",
          "45 km S of Patea, New Zealand",
          "59 km W of Nanwalek, Alaska",
          "3 km NNW of Dover, Oklahoma",
          "64 km WNW of Tyonek, Alaska",
          "63 km WNW of Tyonek, Alaska",
          "21 km SW of Susitna North, Alaska",
          "23 km ENE of Arvin, CA",
          "14 km WSW of Akutan, Alaska",
          "45 km SSW of Cantwell, Alaska",
          "15 km WSW of Akutan, Alaska",
          "24 km WNW of Akutan, Alaska",
          "14 km WSW of Akutan, Alaska",
          "8 km WSW of Akutan, Alaska",
          "13 km WSW of Akutan, Alaska",
          "2 km NNW of San Bernardino, CA",
          "3 km NW of Dover, Oklahoma",
          "6 km NW of The Geysers, CA",
          "6 km NNW of The Geysers, CA",
          "63 km WNW of Tyonek, Alaska",
          "20 km NNE of Yerington, Nevada",
          "65 km WNW of Beluga, Alaska",
          "3 km NNW of Dover, Oklahoma",
          "4 km NNW of Dover, Oklahoma",
          "3 km NNW of Dover, Oklahoma",
          "37 km NNE of Toms Place, CA",
          "18 km ESE of Anza, CA",
          "87 km W of Tyonek, Alaska",
          "3 km NNW of Dover, Oklahoma",
          "25 km NW of Eureka Roadhouse, Alaska",
          "35 km ESE of West Yellowstone, Montana",
          "16 km NNW of Tehachapi, CA",
          "3 km NNW of Dover, Oklahoma",
          "64 km W of Petersville, Alaska",
          "4 km NNW of The Geysers, CA",
          "21 km E of Finley Point, Montana",
          "61 km WNW of Tyonek, Alaska",
          "58 km NNW of Norðurþing, Iceland",
          "8 km WNW of Cobb, CA",
          "11 km W of Petrolia, CA",
          "1 km S of Indios, Puerto Rico",
          "0 km E of Indios, Puerto Rico",
          "84 km NNW of Karluk, Alaska",
          "33 km ENE of Skwentna, Alaska",
          "8 km NNW of The Geysers, CA",
          "11 km N of Borrego Springs, CA",
          "63 km WNW of Tyonek, Alaska",
          "63 km WNW of Tyonek, Alaska",
          "9 km E of Chickasha, Oklahoma",
          "31 km N of Charlotte Amalie, U.S. Virgin Islands",
          "7 km SSE of Banning, CA",
          "6 km ESE of West Yellowstone, Montana",
          "western Indian-Antarctic Ridge",
          "0 km NE of Indios, Puerto Rico",
          "28 km NW of Toyah, Texas",
          "0 km SE of Indios, Puerto Rico",
          "54 km W of Tyonek, Alaska",
          "66 km WNW of Beluga, Alaska",
          "137 km W of Neiafu, Tonga",
          "10 km NW of Willow Creek, CA",
          "37 km WSW of Salamatof, Alaska",
          "58 km WNW of Petersville, Alaska",
          "2 km SSW of Guánica, Puerto Rico",
          "3 km NNW of Dover, Oklahoma",
          "7 km NE of West Yellowstone, Montana",
          "8 km NE of West Yellowstone, Montana",
          "3 km NW of Dover, Oklahoma",
          "5 km WNW of Cobb, CA",
          "36 km NNW of Culebra, Puerto Rico",
          "14 km W of Stanley, Idaho",
          "3 km NNW of Dover, Oklahoma",
          "41 km SW of Unalaska, Alaska",
          "3 km NNW of Dover, Oklahoma",
          "3 km NW of Dover, Oklahoma",
          "63 km S of Bengkulu, Indonesia",
          "14 km WSW of Stanley, Idaho",
          "3 km NNW of Dover, Oklahoma",
          "4 km NNW of The Geysers, CA",
          "3 km NNW of Dover, Oklahoma",
          "7 km WNW of Cobb, CA",
          "9 km ENE of Milpitas, CA",
          "7 km WNW of Cobb, CA",
          "4 km NNW of Dover, Oklahoma",
          "14 km WSW of Stanley, Idaho",
          "20 km SSE of Pizitou, Taiwan",
          "10 km NW of The Geysers, CA",
          "16 km W of Stanley, Idaho",
          "6 km NW of The Geysers, CA",
          "12 km ENE of Verlot, Washington",
          "63 km SSE of Kokhanok, Alaska",
          "17 km WSW of Johannesburg, CA",
          "50 km W of Mentone, Texas",
          "3 km NNW of Dover, Oklahoma",
          "17 km S of Morton, Washington",
          "39 km NNW of Toyah, Texas",
          "22 km SSE of Mossyrock, Washington",
          "63 km WNW of Tyonek, Alaska",
          "86 km NW of Karluk, Alaska",
          "7 km NW of The Geysers, CA",
          "3 km NW of The Geysers, CA",
          "31 km NNE of Skwentna, Alaska",
          "27 km SE of Susitna North, Alaska",
          "3 km SE of The Geysers, CA",
          "9 km SSW of Tyonek, Alaska",
          "15 km S of Joshua Tree, CA",
          "2 km SSW of La Mirada, CA",
          "65 km WNW of Beluga, Alaska",
          "10 km E of Sparks, Nevada",
          "2 km SW of Guánica, Puerto Rico",
          "62 km WNW of Tyonek, Alaska",
          "16 km WNW of Kalifornsky, Alaska",
          "1 km NNW of The Geysers, CA",
          "14 km N of Mehama, Oregon",
          "41 km ENE of Susitna North, Alaska",
          "23 km SSE of Fry, Greece",
          "18 km ESE of Anza, CA",
          "16 km ESE of South Park, Wyoming",
          "20 km ESE of Spanish Springs, Nevada",
          "43 km E of Denali National Park, Alaska",
          "2 km SE of The Geysers, CA",
          "14 km SSE of Waynoka, Oklahoma",
          "52 km WSW of False Pass, Alaska",
          "56 km S of Silver Peak, Nevada",
          "223 km E of Levuka, Fiji",
          "77 km WNW of Nikiski, Alaska",
          "11 km ENE of Gilroy, CA",
          "81 km SE of Ugashik, Alaska",
          "14 km WNW of Ninilchik, Alaska",
          "23 km ENE of San Lucas, CA",
          "7 km NNW of The Geysers, CA",
          "6 km SW of Palmdale, CA",
          "2 km NNE of Raymond, Washington",
          "48 km N of Chignik Lagoon, Alaska",
          "40 km WNW of Skwentna, Alaska",
          "7 km NNW of The Geysers, CA",
          "235 km SW of La Cruz de Loreto, Mexico",
          "86 km NW of Karluk, Alaska",
          "86 km NW of Karluk, Alaska",
          "5 km NNW of Anza, CA",
          "7 km NW of The Geysers, CA",
          "44 km SW of Nanwalek, Alaska",
          "7 km ESE of Valley Center, CA",
          "5 km S of Guánica, Puerto Rico",
          "53 km NNW of Yakutat, Alaska",
          "11 km NE of Borrego Springs, CA",
          "51 km S of Silver Peak, Nevada",
          "9 km NW of Belfair, Washington",
          "13 km SE of Tehachapi, CA",
          "8 km NW of Orcas, Washington",
          "5 km WNW of Borrego Springs, CA",
          "2 km NNE of The Geysers, CA",
          "3 km NNW of Dover, Oklahoma",
          "3 km ENE of Swede Heaven, Washington",
          "1 km NNW of The Geysers, CA",
          "8 km W of Townsend, Montana",
          "15 km WNW of Emery, Utah",
          "17 km NE of Manley Hot Springs, Alaska",
          "63 km NNE of Petersville, Alaska",
          "51 km SSE of Denali National Park, Alaska",
          "6 km ESE of Valle Vista, CA",
          "48 km ESE of Cordova, Alaska",
          "95 km N of Karluk, Alaska",
          "8 km WNW of Anza, CA",
          "8 km WNW of Anza, CA",
          "2 km E of Aromas, CA",
          "28 km S of Ennis, Montana",
          "63 km WNW of Tyonek, Alaska",
          "24 km ESE of Leilani Estates, Hawaii",
          "4 km WSW of Ault Field, Washington",
          "58 km SSE of Denali National Park, Alaska",
          "24 km ENE of Schurz, Nevada",
          "60 km WNW of Tyonek, Alaska",
          "83 km NW of Karluk, Alaska",
          "93 km NE of Punta Cana, Dominican Republic",
          "8 km E of Meeker, Oklahoma",
          "15 km ENE of Pāhala, Hawaii",
          "Bonin Islands, Japan region",
          "7 km NNW of The Geysers, CA",
          "7 km NNW of The Geysers, CA",
          "Nicobar Islands, India region",
          "3 km ESE of Lake Henshaw, CA",
          "7 km NW of The Geysers, CA",
          "63 km WNW of Tyonek, Alaska",
          "63 km WNW of Tyonek, Alaska",
          "102 km SSW of Cordova, Alaska",
          "23 km E of Dilley, Texas",
          "34 km ESE of Denali National Park, Alaska",
          "3 km NNW of The Geysers, CA",
          "37 km WNW of Nanwalek, Alaska",
          "63 km WNW of Tyonek, Alaska",
          "63 km WNW of Tyonek, Alaska",
          "33 km SSE of Virginia City, Montana",
          "7 km NNW of The Geysers, CA",
          "9 km NW of Anza, CA",
          "18 km ESE of Anza, CA",
          "29 km W of Chignik Lake, Alaska",
          "63 km WNW of Tyonek, Alaska",
          "38 km WSW of Kotzebue, Alaska",
          "246 km WSW of Yakutat, Alaska",
          "6 km NNW of The Geysers, CA",
          "10 km SE of Yucca Valley, CA",
          "2 km  of The Geysers, CA",
          "central East Pacific Rise",
          "6 km WNW of Westbrook, Texas",
          "64 km W of Tyonek, Alaska",
          "64 km W of Tyonek, Alaska",
          "63 km WNW of Anchor Point, Alaska",
          "14 km E of King Cove, Alaska",
          "62 km WNW of Tyonek, Alaska",
          "86 km NNW of Karluk, Alaska",
          "77 km SSE of Perryville, Alaska",
          "71 km SW of Whitestone, Alaska",
          "22 km S of South Van Horn, Alaska",
          "9 km NW of The Geysers, CA",
          "41 km SE of Ugashik, Alaska",
          "5 km WNW of Cobb, CA",
          "16 km WSW of Ferndale, CA",
          "65 km WNW of Beluga, Alaska",
          "35 km WSW of Cantwell, Alaska",
          "2 km SE of Mullan, Idaho",
          "2 km N of Palomar Observatory, CA",
          "38 km N of Chignik Lagoon, Alaska",
          "28 km SE of Caburan, Philippines",
          "37 km S of Jurm, Afghanistan",
          "38 km W of Akhiok, Alaska",
          "2 km WSW of Indios, Puerto Rico",
          "83 km NW of Karluk, Alaska",
          "13 km SSW of Tres Pinos, CA",
          "4 km NNW of The Geysers, CA",
          "61 km SE of Denali National Park, Alaska",
          "37 km NE of Yakutat, Alaska",
          "20 km NE of Gardendale, Texas",
          "7 km NNW of The Geysers, CA",
          "3 km SSW of Cobb, CA",
          "38 km SSE of Morton, Washington",
          "3 km NW of The Geysers, CA",
          "12 km W of Stanton, Texas",
          "10 km SSW of Trapper Creek, Alaska",
          "32 km WSW of Cantwell, Alaska",
          "3 km WNW of Cobb, CA",
          "63 km W of Salamatof, Alaska",
          "8 km NNW of The Geysers, CA",
          "13 km W of Akutan, Alaska",
          "2 km NNE of Palomar Observatory, CA",
          "6 km WNW of Westbrook, Texas",
          "21 km N of Ivanof Bay, Alaska",
          "6 km NW of The Geysers, CA",
          "2 km SW of Pozzuoli, Italy",
          "4 km WSW of Palomar Observatory, CA",
          "17 km WNW of Fishhook, Alaska",
          "39 km NNW of Sutton-Alpine, Alaska",
          "2 km SSE of Banning, CA",
          "5 km N of Moreno Valley, CA",
          "15 km SSE of Waynoka, Oklahoma",
          "41 km W of Salamatof, Alaska",
          "7 km N of Tiptonville, Tennessee",
          "25 km WNW of Hoodsport, Washington",
          "77 km ENE of Tonopah, Nevada",
          "9 km SE of Viola, CA",
          "8 km NNW of Borrego Springs, CA",
          "21 km WNW of Hebgen Lake Estates, Montana",
          "46 km NW of Beatty, Nevada",
          "62 km WNW of Tyonek, Alaska",
          "64 km WNW of Tyonek, Alaska",
          "6 km NNE of Twin Bridges, Montana",
          "8 km WNW of Cobb, CA",
          "64 km WNW of Tyonek, Alaska",
          "58 km WNW of Happy Valley, Alaska",
          "20 km NNW of Wisdom, Montana",
          "6 km WNW of Cobb, CA",
          "16 km W of Dutch Harbor, Alaska",
          "7 km NNW of The Geysers, CA",
          "64 km WNW of Tyonek, Alaska",
          "64 km WNW of Tyonek, Alaska",
          "40 km WSW of Carlsbad, CA",
          "4 km S of Condon, Montana",
          "4 km SSE of Floriston, California",
          "5 km SSE of Floriston, California",
          "5 km SSE of Floriston, California",
          "1 km SSW of Indios, Puerto Rico",
          "2 km SW of Indios, Puerto Rico",
          "3 km E of The Geysers, CA",
          "1 km SSW of Julian, CA",
          "1 km SW of Burien, Washington",
          "111 km WNW of Yakutat, Alaska",
          "1 km SE of Loma Linda, CA",
          "46 km NW of Beatty, Nevada",
          "15 km W of Akutan, Alaska",
          "13 km W of Akutan, Alaska",
          "14 km WSW of Akutan, Alaska",
          "3 km NW of The Geysers, CA",
          "28 km S of Chickaloon, Alaska",
          "4 km E of La Parguera, Puerto Rico",
          "32 km W of Tatitlek, Alaska",
          "46 km NW of Beatty, Nevada",
          "2 km NW of The Geysers, CA",
          "13 km SE of Middletown, CA",
          "17 km NNE of Helena Valley Northwest, Montana",
          "7 km WNW of Palomar Observatory, CA",
          "23 km WSW of Point MacKenzie, Alaska",
          "173 km W of Gorontalo, Indonesia",
          "15 km SSW of Desert Aire, Washington",
          "26 km SE of El Negro, Puerto Rico",
          "7 km NW of The Geysers, CA",
          "7 km WNW of Cobb, CA",
          "20 km ESE of Little Lake, CA",
          "8 km NW of The Geysers, CA",
          "7 km SSW of Lerna, Illinois",
          "17 km NNE of Yerington, Nevada",
          "82 km NNW of Karluk, Alaska",
          "6 km WSW of Anza, CA",
          "17 km E of Finley Point, Montana",
          "11 km NE of Kendrick, Oklahoma",
          "209 km NNW of Houma, Tonga",
          "14 km W of Stanley, Idaho",
          "22 km E of Susitna North, Alaska",
          "13 km NE of Ashford, Washington",
          "48 km N of Norðurþing, Iceland",
          "3 km NNW of The Geysers, CA",
          "3 km W of Orinda, CA",
          "4 km SSE of Devore, CA",
          "16 km W of Johannesburg, CA",
          "62 km ESE of Egegik, Alaska",
          "14 km NE of Pāhala, Hawaii",
          "13 km SW of Toms Place, CA",
          "9 km S of Livermore, CA",
          "8 km NNE of Government Camp, Oregon",
          "22 km SSE of Fern Forest, Hawaii",
          "5 km SSW of Lytle Creek, CA",
          "65 km WNW of Tyonek, Alaska",
          "31 km NNE of Fox River, Alaska",
          "13 km N of Four Mile Road, Alaska",
          "40 km W of Akhiok, Alaska",
          "31 km WNW of Petersville, Alaska",
          "5 km WSW of Julian, CA",
          "14 km SE of Anza, CA",
          "19 km NNW of Halfway, Oregon",
          "21 km NE of San Lucas, CA",
          "11 km ESE of Ishikawa, Japan",
          "60 km W of Atka, Alaska",
          "7 km NW of The Geysers, CA",
          "24 km NE of King City, CA",
          "24 km SSE of Pinnacles, CA",
          "10 km N of Midland, Texas",
          "30 km NE of 28 de Noviembre, Argentina",
          "15 km WSW of Akutan, Alaska",
          "3 km S of Key Center, Washington",
          "6 km ESE of West Yellowstone, Montana",
          "20 km ESE of Susitna North, Alaska",
          "182 km E of Qamdo, China",
          "22 km NW of Valdez, Alaska",
          "15 km E of Little Lake, CA",
          "15 km ESE of Little Lake, CA",
          "44 km W of Akhiok, Alaska",
          "8 km WNW of The Geysers, CA",
          "15 km E of Little Lake, CA",
          "65 km WNW of Beluga, Alaska",
          "8 km NE of West Yellowstone, Montana",
          "15 km E of Little Lake, CA",
          "30 km NE of Firá, Greece",
          "11 km WNW of Nikiski, Alaska",
          "32 km SE of Mina, Nevada",
          "56 km S of Whites City, New Mexico",
          "52 km WSW of Tyonek, Alaska",
          "185 km ESE of Kimbe, Papua New Guinea",
          "12 km WNW of Susitna North, Alaska",
          "18 km WSW of La Ligua, Chile",
          "56 km WNW of Beluga, Alaska",
          "13 km NE of Ashford, Washington",
          "64 km WNW of Tyonek, Alaska",
          "67 km SE of Pedro Bay, Alaska",
          "14 km WSW of Stanley, Idaho",
          "4 km NNW of The Geysers, CA",
          "5 km NNE of Banning, CA",
          "11 km SW of La Playa, Puerto Rico",
          "13 km W of Stanley, Idaho",
          "10 km N of Midland, Texas",
          "29 km NNE of Spencer, Idaho",
          "30 km W of Akhiok, Alaska",
          "83 km NW of Aleneva, Alaska",
          "21 km SSW of La Quinta, CA",
          "25 km N of Ivanof Bay, Alaska",
          "5 km WNW of Borrego Springs, CA",
          "5 km SW of Alamo, CA",
          "16 km WNW of Susitna, Alaska",
          "15 km W of Biratori, Japan",
          "101 km WNW of San Antonio de los Cobres, Argentina",
          "7 km NW of The Geysers, CA",
          "4 km SE of Owasso, Oklahoma",
          "20 km ESE of Anza, CA",
          "6 km WNW of Borrego Springs, CA",
          "1 km SW of East Richmond Heights, CA",
          "0 km N of The Geysers, CA",
          "1 km SSE of Paris, Idaho",
          "4 km S of Idyllwild, CA",
          "0 km WNW of Susitna North, Alaska",
          "2 km ENE of Marston, Missouri",
          "13 km E of Cloverdale, CA",
          "13 km E of Cloverdale, CA",
          "3 km SE of Sherwood, Oregon",
          "5 km NW of Tiptonville, Tennessee",
          "8 km ENE of McCleary, Washington",
          "46 km WSW of False Pass, Alaska",
          "6 km E of Bonadelle Ranchos-Madera Ranchos, CA",
          "2 km SE of Home Gardens, CA",
          "5 km NNW of The Geysers, CA",
          "7 km ENE of Drumright, Oklahoma",
          "8 km N of Pinnacles, CA",
          "4 km ENE of Ritzville, Washington",
          "7 km NW of The Geysers, CA",
          "5 km E of Butte, Montana",
          "3 km SW of Anderson Springs, CA",
          "4 km WNW of Cobb, CA",
          "51 km WNW of Ninilchik, Alaska",
          "16 km N of Borrego Springs, CA",
          "4 km NNW of The Geysers, CA",
          "8 km NNW of The Geysers, CA",
          "21 km SW of Tyonek, Alaska",
          "71 km N of San Juan, Puerto Rico",
          "4 km SW of Imperial, CA",
          "6 km SSW of Devore, CA",
          "13 km NW of The Geysers, CA",
          "8 km WNW of Cobb, CA",
          "22 km ENE of Ashford, Washington",
          "21 km ENE of Skwentna, Alaska",
          "44 km WNW of Tatitlek, Alaska",
          "55 km WSW of San Antonio, Chile",
          "52 km SSE of Whites City, New Mexico",
          "40 km ENE of Petropavlovsk-Kamchatsky, Russia",
          "145 km WNW of Tobelo, Indonesia",
          "4 km SW of Beaumont, CA",
          "10 km NW of The Geysers, CA",
          "3 km ESE of The Geysers, CA",
          "35 km SSW of Los Ybanez, Texas",
          "19 km SSW of Ocotillo Wells, CA",
          "248 km ENE of Lospalos, Timor Leste",
          "1 km SE of The Geysers, CA",
          "12 km ENE of Borrego Springs, CA",
          "5 km NNW of The Geysers, CA",
          "8 km WNW of Cobb, CA",
          "10 km E of Pāhala, Hawaii",
          "13 km ENE of Borrego Springs, CA",
          "44 km SE of Nelchina, Alaska",
          "51 km WSW of Sungai Penuh, Indonesia",
          "3 km NNW of The Geysers, CA",
          "65 km WNW of Beluga, Alaska",
          "8 km WNW of Cobb, CA",
          "4 km W of Danville, CA",
          "6 km WSW of Anza, CA",
          "6 km SSE of La Parguera, Puerto Rico",
          "3 km SE of The Geysers, CA",
          "7 km NW of The Geysers, CA",
          "10 km NW of The Geysers, CA",
          "7 km WNW of Cobb, CA",
          "6 km WNW of Cobb, CA",
          "8 km WNW of Cobb, CA",
          "8 km WNW of Cobb, CA",
          "94 km SE of Palca, Peru",
          "78 km ENE of Mutsu, Japan",
          "21 km W of Sitka, Alaska",
          "south of the Fiji Islands",
          "16 km SW of Puerto San José, Guatemala",
          "3 km NNW of The Geysers, CA",
          "16 km ENE of Talkeetna, Alaska",
          "7 km NNW of Julian, CA",
          "6 km NNE of Badger, Alaska",
          "10 km NNW of Borrego Springs, CA",
          "15 km SSE of Waynoka, Oklahoma",
          "25 km W of Ninilchik, Alaska",
          "6 km NW of Ridgely, Tennessee",
          "77 km NW of Ninilchik, Alaska",
          "10 km ENE of Nuevo, CA",
          "10 km WNW of Cobb, CA",
          "55 km SE of Denali National Park, Alaska",
          "77 km NE of Tonopah, Nevada",
          "14 km ENE of Borrego Springs, CA",
          "6 km NE of Morgan Hill, CA",
          "8 km NNW of The Geysers, CA",
          "4 km W of Cobb, CA",
          "35 km E of Independence, California",
          "18 km NW of Midland, Texas",
          "22 km SSE of Twentynine Palms, CA",
          "3 km NNW of The Geysers, CA",
          "8 km NNW of The Geysers, CA",
          "29 km S of Chickaloon, Alaska",
          "56 km NW of Tatitlek, Alaska",
          "5 km E of Interlaken, CA",
          "5 km NNW of The Geysers, CA",
          "19 km NW of Midland, Texas",
          "31 km S of Atka, Alaska",
          "19 km NE of Gardendale, Texas",
          "63 km W of Tyonek, Alaska",
          "19 km SSW of Irwin, Idaho",
          "59 km S of Glacier View, Alaska",
          "6 km NNW of The Geysers, CA",
          "43 km WNW of Indian Springs, Nevada",
          "22 km SSW of La Quinta, CA",
          "73 km W of Tyonek, Alaska",
          "17 km SW of Nile, Washington",
          "11 km NE of Running Springs, CA",
          "6 km W of Cobb, CA",
          "5 km NW of The Geysers, CA",
          "68 km WNW of Tyonek, Alaska",
          "12 km SSE of Wasilla, Alaska",
          "6 km ESE of Julian, CA",
          "106 km N of Brenas, Puerto Rico",
          "7 km WNW of Cobb, CA",
          "7 km NNW of Gümüşhacıköy, Turkey",
          "7 km NW of The Geysers, CA",
          "100 km WSW of Ollagüe, Chile",
          "15 km SSE of Waynoka, Oklahoma",
          "58 km ENE of King Cove, Alaska",
          "62 km WNW of Tyonek, Alaska",
          "86 km SSE of King Cove, Alaska",
          "2 km NW of The Geysers, CA",
          "11 km E of Chickasha, Oklahoma",
          "63 km WNW of Tyonek, Alaska",
          "7 km NNW of The Geysers, CA",
          "63 km WNW of Tyonek, Alaska",
          "65 km WNW of Tyonek, Alaska",
          "7 km NNW of The Geysers, CA",
          "53 km W of Nanwalek, Alaska",
          "73 km NE of Punta Cana, Dominican Republic",
          "10 km NW of The Geysers, CA",
          "3 km E of Howardville, Missouri",
          "11 km ESE of Mammoth Lakes, CA",
          "20 km S of Morton, Washington",
          "24 km NNE of Kalat, Pakistan",
          "14 km NE of Pelsor, Arkansas",
          "2 km E of Big Pine, CA",
          "86 km NNW of Karluk, Alaska",
          "116 km SSW of Puerto San José, Guatemala",
          "3 km NNW of The Geysers, CA",
          "108 km N of Charlotte Amalie, U.S. Virgin Islands",
          "2 km ESE of Banning, CA",
          "5 km S of Indios, Puerto Rico",
          "2 km E of Cabazon, CA",
          "3 km NE of The Geysers, CA",
          "3 km NW of The Geysers, CA",
          "40 km W of Akhiok, Alaska",
          "2 km NNE of Diamond Bar, CA",
          "51 km N of Güiria, Venezuela",
          "2 km ESE of Banning, CA",
          "43 km N of Baetovo, Kyrgyzstan",
          "137 km WSW of Akhiok, Alaska",
          "3 km NW of The Geysers, CA",
          "43 km W of Nanwalek, Alaska",
          "South Georgia Island region",
          "16 km W of Anchor Point, Alaska",
          "8 km N of Nash, Oklahoma",
          "8 km WNW of Cobb, CA",
          "13 km SE of Anza, CA",
          "5 km WSW of Mount Vernon, Washington",
          "43 km SW of Beringovskiy, Russia",
          "6 km WNW of Cobb, CA",
          "60 km NW of Toyah, Texas",
          "20 km E of Little Lake, CA",
          "18 km WNW of Aleneva, Alaska",
          "10 km WSW of Niland, CA",
          "12 km E of Dillon, Montana",
          "15 km NW of Lake Pillsbury, CA",
          "15 km NW of Lake Pillsbury, CA",
          "52 km NW of Ninilchik, Alaska",
          "5 km NW of The Geysers, CA",
          "16 km NNE of Borrego Springs, CA",
          "8 km WNW of Cobb, CA",
          "33 km NNW of Charlotte Amalie, U.S. Virgin Islands",
          "32 km NW of Stanley, Idaho",
          "7 km WNW of Cobb, CA",
          "15 km NW of Lake Pillsbury, CA",
          "5 km WNW of Cobb, CA",
          "6 km NNW of The Geysers, CA",
          "60 km WNW of Beluga, Alaska",
          "4 km S of Idyllwild, CA",
          "8 km NNW of The Geysers, CA",
          "8 km WNW of Cobb, CA",
          "15 km SSE of Waynoka, Oklahoma",
          "9 km ESE of Running Springs, CA",
          "11 km S of Metchosin, Canada",
          "8 km NNW of Prague, Oklahoma",
          "16 km NE of Borrego Springs, CA",
          "16 km NE of Borrego Springs, CA",
          "178 km ENE of Dawson City, Canada",
          "50 km WSW of Padangsidempuan, Indonesia",
          "59 km WNW of Nanwalek, Alaska",
          "14 km WSW of Stanley, Idaho",
          "9 km NW of The Geysers, CA",
          "6 km ESE of Madison, Ohio",
          "85 km NNW of Karluk, Alaska",
          "4 km NNW of The Geysers, CA",
          "8 km ESE of Running Springs, CA",
          "109 km W of Palaióchora, Greece",
          "3 km NE of Ocotillo Wells, CA",
          "11 km E of Healdsburg, CA",
          "145 km SE of Atlasovo, Russia",
          "9 km ESE of Running Springs, CA",
          "15 km S of Snowville, Utah",
          "36 km ENE of Pedro Bay, Alaska",
          "8 km ESE of Running Springs, CA",
          "19 km N of Stanley, Idaho",
          "2 km SW of Indios, Puerto Rico",
          "2 km WSW of Indios, Puerto Rico",
          "13 km W of Akutan, Alaska",
          "5 km NNW of The Geysers, CA",
          "9 km ESE of Ciudad General Terán, Mexico",
          "8 km SSW of Trapper Creek, Alaska",
          "14 km W of Stanley, Idaho",
          "5 km WSW of Anza, CA",
          "5 km WSW of Anza, CA",
          "0 km WNW of Ridgely, Tennessee",
          "7 km ESE of Chickasha, Oklahoma",
          "33 km NNW of Güiria, Venezuela",
          "118 km SW of Hihifo, Tonga",
          "4 km ENE of Magna, Utah",
          "59 km NNW of Petersville, Alaska",
          "4 km NNW of The Geysers, CA",
          "14 km ENE of Ronan, Montana",
          "16 km W of Searles Valley, CA",
          "82 km SSE of King Cove, Alaska",
          "3 km E of Magna, Utah",
          "8 km WNW of Cobb, CA",
          "24 km SE of Chickaloon, Alaska",
          "16 km ENE of Borrego Springs, CA",
          "7 km NNW of The Geysers, CA",
          "24 km NNW of Nikiski, Alaska",
          "3 km ESE of Lake Henshaw, CA",
          "82 km WSW of Akhiok, Alaska",
          "25 km W of Anderson, Alaska",
          "17 km W of Searles Valley, CA",
          "30 km W of Hebgen Lake Estates, Montana",
          "24 km W of Garden City, Texas",
          "3 km SW of Indios, Puerto Rico",
          "3 km WNW of Cobb, CA",
          "3 km WNW of Cobb, CA",
          "63 km WNW of Tyonek, Alaska",
          "63 km WNW of Tyonek, Alaska",
          "16 km NE of Pāhala, Hawaii",
          "8 km SW of Niland, CA",
          "4 km N of Lake Isabella, CA",
          "74 km SSE of Pangai, Tonga",
          "8 km ESE of Forks, Washington",
          "3 km WNW of Cobb, CA",
          "13 km SSE of Mammoth Lakes, CA",
          "55 km SW of Beringovskiy, Russia",
          "12 km S of Mammoth Lakes, CA",
          "56 km NE of Adak, Alaska",
          "49 km WSW of Denali National Park, Alaska",
          "5 km S of Meadow Lakes, Alaska",
          "64 km WNW of Yonakuni, Japan",
          "11 km S of Princeton, Canada",
          "124 km W of Rikaze, China",
          "13 km SE of Ocotillo, CA",
          "16 km ENE of Yountville, CA",
          "16 km N of Borrego Springs, CA",
          "6 km NW of The Geysers, CA",
          "7 km SW of Kenai, Alaska",
          "7 km NW of The Geysers, CA",
          "12 km SSE of Anza, CA",
          "2 km ENE of The Geysers, CA",
          "6 km SE of Beluga, Alaska",
          "23 km E of Point Possession, Alaska",
          "7 km NNW of The Geysers, CA",
          "6 km NW of The Geysers, CA",
          "50 km WSW of Akhiok, Alaska",
          "21 km NE of Lebec, CA",
          "64 km WNW of Tyonek, Alaska",
          "6 km WNW of Cobb, CA",
          "15 km NW of Emery, Utah",
          "3 km SW of Volcano, Hawaii",
          "35 km SE of Malaga, New Mexico",
          "3 km S of Anderson Springs, CA",
          "21 km SSW of Ackerly, Texas",
          "13 km S of Fern Forest, Hawaii",
          "162 km ESE of Kimbe, Papua New Guinea",
          "51 km SW of Salcha, Alaska",
          "13 km NNE of Gura Teghii, Romania",
          "9 km WNW of Cobb, CA",
          "19 km N of Susitna, Alaska",
          "7 km NNW of The Geysers, CA",
          "20 km W of Searles Valley, CA",
          "71 km ENE of Chase, Alaska",
          "27 km W of Port-Vila, Vanuatu",
          "62 km WNW of Tyonek, Alaska",
          "141 km W of Adak, Alaska",
          "10 km E of Chickasha, Oklahoma",
          "56 km S of Whites City, New Mexico",
          "55 km WNW of Happy Valley, Alaska",
          "11 km ENE of Kanarraville, Utah",
          "2 km NNW of San Bernardino, CA",
          "West Chile Rise",
          "12 km SSE of Whitehall, Montana",
          "41 km S of Tatitlek, Alaska",
          "8 km WNW of Cobb, CA",
          "25 km NW of Toyah, Texas",
          "31 km NW of Toyah, Texas",
          "121 km WNW of Yakutat, Alaska",
          "11 km N of Borrego Springs, CA",
          "2 km NNE of The Geysers, CA",
          "15 km ESE of Livengood, Alaska",
          "6 km WNW of Cobb, CA",
          "8 km WSW of Central, Alaska",
          "29 km NE of Skwentna, Alaska",
          "8 km ESE of Carbonado, Washington",
          "28 km SSE of Livengood, Alaska",
          "18 km ENE of McKinney Acres, Texas",
          "58 km S of Whites City, New Mexico",
          "21 km ESE of Little Lake, CA",
          "23 km SSW of Knik River, Alaska",
          "2 km SSW of Quilcene, Washington",
          "5 km SSE of Coso Junction, CA",
          "4 km NW of Ault Field, Washington",
          "2 km SW of Anderson Springs, CA",
          "8 km WNW of Cobb, CA",
          "41 km NNW of Chickaloon, Alaska",
          "17 km N of Pāhala, Hawaii",
          "63 km WNW of Tyonek, Alaska",
          "16 km NW of Parkfield, CA",
          "2 km SSE of Indios, Puerto Rico",
          "1 km SSE of Indios, Puerto Rico",
          "13 km SE of Ocotillo, CA",
          "16 km ESE of Livengood, Alaska",
          "15 km SSW of Searles Valley, CA",
          "7 km NNW of The Geysers, CA",
          "35 km NW of Toyah, Texas",
          "7 km NW of The Geysers, CA",
          "30 km NW of Toyah, Texas",
          "37 km WSW of Skwentna, Alaska",
          "6 km WNW of Cobb, CA",
          "54 km WNW of Anchor Point, Alaska",
          "7 km NW of The Geysers, CA",
          "9 km E of Midland, Texas",
          "26 km WNW of Indian Springs, Nevada",
          "5 km SSW of Liborio Negron Torres, Puerto Rico",
          "4 km NNE of Fontana, CA",
          "100 km N of Charlotte Amalie, U.S. Virgin Islands",
          "8 km NNW of The Geysers, CA",
          "58 km NW of Toyah, Texas",
          "38 km ENE of Independence, California",
          "4 km SE of Julian, CA",
          "42 km ENE of Independence, California",
          "5 km N of Susitna, Alaska",
          "39 km SE of Vostok, Russia",
          "3 km NE of Cobb, CA",
          "8 km WNW of Cobb, CA",
          "69 km N of Culebra, Puerto Rico",
          "2 km NNW of The Geysers, CA",
          "5 km NNW of Port-Vila, Vanuatu",
          "13 km NW of The Geysers, CA",
          "22 km SE of Susitna North, Alaska",
          "15 km SE of Waimea, Hawaii",
          "64 km WNW of Tyonek, Alaska",
          "6 km WSW of Anza, CA",
          "24 km N of Ivanof Bay, Alaska",
          "38 km SSW of Los Ybanez, Texas",
          "7 km NW of The Geysers, CA",
          "89 km N of Charlotte Amalie, U.S. Virgin Islands",
          "9 km NW of The Geysers, CA",
          "31 km NNE of Chenega, Alaska",
          "6 km ENE of Puerto Wilches, Colombia",
          "59 km S of Whites City, New Mexico",
          "69 km NW of Ninilchik, Alaska",
          "16 km WNW of Cape Vizcaino, CA",
          "8 km E of Kasilof, Alaska",
          "134 km WNW of Ternate, Indonesia",
          "9 km WNW of Cobb, CA",
          "22 km W of Garden City, Texas",
          "57 km S of Whites City, New Mexico",
          "81 km N of Charlotte Amalie, U.S. Virgin Islands",
          "73 km SSW of Harding-Birch Lakes, Alaska",
          "19 km WSW of Petrolia, CA",
          "108 km W of San Antonio de los Cobres, Argentina",
          "20 km NW of Desert Center, CA",
          "20 km NW of Desert Center, CA",
          "1 km NE of Sedro-Woolley, Washington",
          "4 km E of Avila Beach, CA",
          "64 km NW of Rampart, Alaska",
          "32 km SW of Unalaska, Alaska",
          "21 km WSW of Point MacKenzie, Alaska",
          "6 km SE of Hebgen Lake Estates, Montana",
          "6 km SE of Valle Vista, CA",
          "7 km NW of Jamestown, Washington",
          "Rat Islands, Aleutian Islands, Alaska",
          "33 km ENE of Blangpidie, Indonesia",
          "57 km S of Whites City, New Mexico",
          "15 km W of Petrolia, CA",
          "3 km S of Rowland Heights, CA",
          "45 km WNW of Anchor Point, Alaska",
          "9 km S of Trapper Creek, Alaska",
          "70 km N of Tierras Nuevas Poniente, Puerto Rico",
          "7 km SSE of Midland, Texas",
          "64 km W of Karluk, Alaska",
          "7 km WNW of Lake Elsinore, CA",
          "8 km N of Julian, CA",
          "142 km NNW of Tumxuk, China",
          "11 km NNW of Warner Springs, CA",
          "5 km WNW of Borrego Springs, CA",
          "38 km SSE of Nelchina, Alaska",
          "15 km NW of Stanley, Idaho",
          "80 km NNW of Karluk, Alaska",
          "11 km SE of High Bridge, Kentucky",
          "4 km SW of San Bernardino, CA",
          "4 km SE of Tres Pinos, CA",
          "70 km N of Tierras Nuevas Poniente, Puerto Rico",
          "71 km N of Tierras Nuevas Poniente, Puerto Rico",
          "16 km SE of Pinnacles, CA",
          "24 km W of Lima, Montana",
          "89 km E of Cantwell, Alaska",
          "22 km SE of Pinnacles, CA",
          "180 km SE of Kushimoto, Japan",
          "58 km S of Whites City, New Mexico",
          "22 km NNE of Karluk, Alaska",
          "55 km S of Whites City, New Mexico",
          "4 km SW of Idyllwild, CA",
          "15 km E of Little Lake, CA",
          "16 km SE of Pinnacles, CA",
          "32 km SSW of Karaton, Kazakhstan",
          "22 km SE of San Antonio, Chile",
          "12 km S of Fern Forest, Hawaii",
          "10 km NE of Aguanga, CA",
          "27 km WSW of Atiquipa, Peru",
          "25 km SSW of Westbrook, Texas",
          "17 km WSW of Johannesburg, CA",
          "58 km NNW of Glacier View, Alaska",
          "42 km WNW of Ninilchik, Alaska",
          "73 km NNW of Charlotte Amalie, U.S. Virgin Islands",
          "14 km ENE of Yerington, Nevada",
          "1 km NNW of The Geysers, CA",
          "7 km E of Ridgecrest, CA",
          "19 km NW of Papayal, Peru",
          "54 km NW of Toyah, Texas",
          "9 km ENE of Gardendale, Texas",
          "27 km NNE of Severo-Kuril’sk, Russia",
          "64 km WNW of Tyonek, Alaska",
          "7 km NW of The Geysers, CA",
          "86 km NNW of Finschhafen, Papua New Guinea",
          "71 km E of Cantwell, Alaska",
          "76 km NW of Ninilchik, Alaska",
          "14 km E of Willows, CA",
          "4 km NW of Orocovis, Puerto Rico",
          "6 km ENE of Westmorland, CA",
          "85 km NNW of Karluk, Alaska",
          "11 km S of Guánica, Puerto Rico",
          "6 km WNW of Borrego Springs, CA",
          "16 km NW of Emery, Utah",
          "4 km NNW of The Geysers, CA",
          "5 km WSW of Anza, CA",
          "81 km W of Adak, Alaska",
          "7 km WNW of Cobb, CA",
          "72 km WNW of Beluga, Alaska",
          "38 km S of Morton, Washington",
          "11 km NW of Anza, CA",
          "6 km NNW of The Geysers, CA",
          "91 km N of Brenas, Puerto Rico",
          "57 km S of Whites City, New Mexico",
          "8 km SE of Lake Henshaw, CA",
          "54 km NW of Toyah, Texas",
          "39 km WSW of Clear, Alaska",
          "11 km W of Forsan, Texas",
          "16 km SW of Susitna, Alaska",
          "1 km NE of Esperance, Washington",
          "22 km S of Morton, Washington",
          "16 km WNW of Papayal, Peru",
          "81 km W of Adak, Alaska",
          "16 km NNE of Atka, Alaska",
          "11 km ESE of Cascadia, Oregon",
          "57 km S of Whites City, New Mexico",
          "4 km WNW of Borrego Springs, CA",
          "60 km NW of Rampart, Alaska",
          "15 km E of Happys Inn, Montana",
          "17 km NNW of Lima, Montana",
          "63 km WNW of Tyonek, Alaska",
          "18 km WNW of Beluga, Alaska",
          "3 km SW of Volcano, Hawaii",
          "15 km W of Cañaveral, Peru",
          "10 km NW of The Geysers, CA",
          "57 km S of Whites City, New Mexico",
          "12 km ESE of Puebla, B.C., MX",
          "9 km NW of The Geysers, CA",
          "4 km NNW of The Geysers, CA",
          "4 km NNW of The Geysers, CA",
          "10 km ESE of Puebla, B.C., MX",
          "12 km ESE of Puebla, B.C., MX",
          "55 km S of Whites City, New Mexico",
          "3 km W of Mount Vernon, Washington",
          "18 km WSW of Johannesburg, CA",
          "south of the Fiji Islands",
          "63 km WNW of Tyonek, Alaska",
          "64 km WNW of Tyonek, Alaska",
          "18 km NNE of Atka, Alaska",
          "9 km SSW of South Van Horn, Alaska",
          "Rat Islands, Aleutian Islands, Alaska",
          "6 km WNW of Cobb, CA",
          "9 km N of New Idria, CA",
          "33 km S of Manley Hot Springs, Alaska",
          "1 km NW of The Geysers, CA",
          "81 km W of Adak, Alaska",
          "4 km WSW of Mount Vernon, Washington",
          "6 km E of La Conner, Washington",
          "50 km NE of Chase, Alaska",
          "4 km W of Mount Vernon, Washington",
          "16 km SE of Livengood, Alaska",
          "25 km W of Sitka, Alaska",
          "13 km W of Malibu, CA",
          "14 km ENE of Borrego Springs, CA",
          "5 km WNW of Borrego Springs, CA",
          "55 km SSW of Whites City, New Mexico",
          "16 km WSW of Johannesburg, CA",
          "48 km ESE of Beatty, Nevada",
          "1 km E of Deer Island, Oregon",
          "Rat Islands, Aleutian Islands, Alaska",
          "1 km N of Palomas, Puerto Rico",
          "21 km W of Sitka, Alaska",
          "7 km NW of The Geysers, CA",
          "5 km WNW of Cobb, CA",
          "7 km SSW of Concrete, Washington",
          "6 km WNW of Borrego Springs, CA",
          "47 km ESE of Pedro Bay, Alaska",
          "Rat Islands, Aleutian Islands, Alaska",
          "Rat Islands, Aleutian Islands, Alaska",
          "Rat Islands, Aleutian Islands, Alaska",
          "8 km SSE of Okanagan Falls, Canada",
          "52 km W of Mentone, Texas",
          "Rat Islands, Aleutian Islands, Alaska",
          "Rat Islands, Aleutian Islands, Alaska",
          "63 km WNW of Tyonek, Alaska",
          "3 km NNW of The Geysers, CA",
          "11 km W of Anza, CA",
          "8 km NNW of Anza, CA",
          "9 km WNW of Cobb, CA",
          "9 km E of Ridgecrest, CA",
          "23 km ENE of Cantwell, Alaska",
          "58 km W of Nikolski, Alaska",
          "1 km NNW of The Geysers, CA",
          "8 km WNW of Cobb, CA",
          "65 km W of Tyonek, Alaska",
          "2 km ENE of The Geysers, CA",
          "63 km WNW of Tyonek, Alaska",
          "0 km NNW of Indios, Puerto Rico",
          "8 km NNW of The Geysers, CA",
          "46 km WNW of Petrolia, CA",
          "66 km W of Tyonek, Alaska",
          "67 km W of Tyonek, Alaska",
          "13 km NW of The Geysers, CA",
          "9 km N of Anza, CA",
          "9 km N of Anza, CA",
          "81 km W of Adak, Alaska",
          "2 km WNW of Valdez, Alaska",
          "81 km W of Adak, Alaska",
          "69 km WNW of Tyonek, Alaska",
          "40 km W of Karluk, Alaska",
          "67 km NNE of Arecibo, Puerto Rico",
          "8 km NNW of Anza, CA",
          "81 km W of Adak, Alaska",
          "80 km W of Adak, Alaska",
          "9 km WSW of Marshall, Oklahoma",
          "6 km NNW of The Geysers, CA",
          "7 km NW of The Geysers, CA",
          "24 km W of Cantwell, Alaska",
          "55 km S of Whites City, New Mexico",
          "6 km NNW of The Geysers, CA",
          "4 km SE of Kelly, Wyoming",
          "8 km WNW of Cobb, CA",
          "13 km ENE of Verlot, Washington",
          "2 km SSW of Julian, CA",
          "72 km N of Tierras Nuevas Poniente, Puerto Rico",
          "83 km NNW of Karluk, Alaska",
          "10 km NW of The Geysers, CA",
          "83 km NNW of San Antonio, Puerto Rico",
          "8 km WNW of Cobb, CA",
          "261 km W of Adak, Alaska",
          "27 km S of Masachapa, Nicaragua",
          "4 km SSE of La Parguera, Puerto Rico",
          "63 km WNW of Tyonek, Alaska",
          "61 km WNW of Tyonek, Alaska",
          "8 km E of Kalama, Washington",
          "4 km W of Cobb, CA",
          "55 km SW of Puerto El Triunfo, El Salvador",
          "9 km ENE of Port Lions, Alaska",
          "88 km SE of Chiniak, Alaska",
          "38 km W of Nanwalek, Alaska",
          "26 km W of Sitka, Alaska",
          "6 km ESE of West Yellowstone, Montana",
          "17 km W of Tyonek, Alaska",
          "35 km ENE of Palora, Ecuador",
          "249 km E of Levuka, Fiji",
          "65 km ESE of Pope-Vannoy Landing, Alaska",
          "23 km W of Hebgen Lake Estates, Montana",
          "7 km ESE of West Yellowstone, Montana",
          "19 km E of Finley Point, Montana",
          "72 km N of Masallātah, Libya",
          "7 km ESE of Okanagan Falls, Canada",
          "49 km E of Pedro Bay, Alaska",
          "211 km SE of Perryville, Alaska",
          "5 km SE of Redlands, CA",
          "110 km W of San Antonio de los Cobres, Argentina",
          "72 km WNW of Beluga, Alaska",
          "64 km WNW of Tyonek, Alaska",
          "84 km NW of Ninilchik, Alaska",
          "44 km W of Anchor Point, Alaska",
          "6 km ESE of West Yellowstone, Montana",
          "6 km WNW of Cobb, CA",
          "6 km ESE of West Yellowstone, Montana",
          "39 km NNE of Atka, Alaska",
          "24 km SSE of Skwentna, Alaska",
          "34 km SSE of Hawthorne, Nevada",
          "25 km S of Sequndo, Colorado",
          "61 km WNW of Beluga, Alaska",
          "64 km WNW of Tyonek, Alaska",
          "272 km NNE of Lospalos, Timor Leste",
          "7 km NNE of Orinda, CA",
          "7 km NW of The Geysers, CA",
          "11 km W of Anza, CA",
          "3 km SW of Hidden Valley Lake, CA",
          "135 km SE of Perryville, Alaska",
          "2 km NNW of The Geysers, CA",
          "2 km N of Guayanilla, Puerto Rico",
          "17 km W of Searles Valley, CA",
          "61 km W of Anchor Point, Alaska",
          "83 km NNW of Karluk, Alaska",
          "3 km W of Cobb, CA",
          "10 km ENE of Borrego Springs, CA",
          "52 km W of Mentone, Texas",
          "7 km WNW of Cobb, CA",
          "27 km S of Chickaloon, Alaska",
          "28 km SSE of Mina, Nevada",
          "4 km NNW of The Geysers, CA",
          "6 km WNW of Cobb, CA",
          "8 km WSW of Calimesa, CA",
          "6 km E of La Parguera, Puerto Rico",
          "63 km WNW of Tyonek, Alaska",
          "63 km WNW of Tyonek, Alaska",
          "6 km SE of Hebgen Lake Estates, Montana",
          "67 km WNW of Tyonek, Alaska",
          "12 km NW of The Geysers, CA",
          "11 km NE of Concrete, Washington",
          "7 km NNW of The Geysers, CA",
          "3 km W of Cobb, CA",
          "60 km WNW of Tyonek, Alaska",
          "178 km W of Abepura, Indonesia",
          "64 km WNW of Beluga, Alaska",
          "13 km NW of The Geysers, CA",
          "65 km SSW of Whites City, New Mexico",
          "18 km E of Little Lake, CA",
          "11 km NE of Trabuco Canyon, CA",
          "5 km NW of Aguanga, CA",
          "7 km WNW of Cobb, CA",
          "21 km SE of Greenback, Tennessee",
          "18 km N of Borrego Springs, CA",
          "15 km ESE of Ocotillo, CA",
          "2 km W of Anderson Springs, CA",
          "24 km ESE of Ridgecrest, CA",
          "15 km ESE of Little Lake, CA",
          "24 km E of Funny River, Alaska",
          "south of the Fiji Islands",
          "62 km E of Ugashik, Alaska",
          "30 km SSE of Chickaloon, Alaska",
          "56 km W of Anchor Point, Alaska",
          "4 km NNW of The Geysers, CA",
          "8 km NW of Prague, Oklahoma",
          "12 km WSW of Searles Valley, CA",
          "18 km NW of Naranjal, Ecuador",
          "9 km WNW of Cobb, CA",
          "5 km NNW of The Geysers, CA",
          "4 km ENE of Meridian, Oklahoma",
          "5 km NNW of The Geysers, CA",
          "191 km SSE of Atka, Alaska",
          "5 km NNW of The Geysers, CA",
          "83 km SW of Kurio, Japan",
          "67 km NNW of Charlotte Amalie, U.S. Virgin Islands",
          "10 km NW of The Geysers, CA",
          "64 km WNW of Tyonek, Alaska",
          "12 km NNW of Virginia City, Nevada",
          "12 km NNW of Virginia City, Nevada",
          "263 km W of Adak, Alaska",
          "3 km SE of The Geysers, CA",
          "16 km NNE of Amanda Park, Washington",
          "9 km NW of The Geysers, CA",
          "2 km ENE of Magna, Utah",
          "56 km SSW of Whites City, New Mexico",
          "9 km NE of Kaktovik, Alaska",
          "34 km SSW of Caliente, Nevada",
          "13 km SSE of Fern Forest, Hawaii",
          "32 km NW of Furnace Creek, California",
          "144 km SE of Perryville, Alaska",
          "66 km S of Kokhanok, Alaska",
          "9 km ESE of Chickasha, Oklahoma",
          "15 km ENE of Yerington, Nevada",
          "8 km NNW of The Geysers, CA",
          "2 km WSW of Coleville, California",
          "80 km ESE of Egegik, Alaska",
          "42 km SSE of Adak, Alaska",
          "8 km NW of Prague, Oklahoma",
          "65 km WNW of Beluga, Alaska",
          "64 km SE of Denali National Park, Alaska",
          "7 km NNW of The Geysers, CA",
          "82 km SW of Kaktovik, Alaska",
          "7 km NE of Gardendale, Texas",
          "9 km ENE of Gardendale, Texas",
          "60 km SSE of Adak, Alaska",
          "11 km SSE of Pinnacles, CA",
          "45 km ESE of Pedro Bay, Alaska",
          "86 km NW of Karluk, Alaska",
          "91 km SE of King Cove, Alaska",
          "45 km SE of Akhiok, Alaska",
          "2 km NW of The Geysers, CA",
          "8 km NW of Prague, Oklahoma",
          "17 km S of Pony, Montana",
          "15 km WNW of Emery, Utah",
          "7 km NW of The Geysers, CA",
          "83 km NW of Ninilchik, Alaska",
          "2 km NNW of Hollister, CA",
          "67 km NNE of Cruz Bay, U.S. Virgin Islands",
          "2 km NNE of The Geysers, CA",
          "4 km SSE of Concord, CA",
          "8 km WNW of Cobb, CA",
          "66 km WNW of Beluga, Alaska",
          "5 km NNW of The Geysers, CA",
          "29 km N of Ivanof Bay, Alaska",
          "7 km NE of Ninnekah, Oklahoma",
          "11 km E of Chickasha, Oklahoma",
          "12 km SE of Mammoth Lakes, CA",
          "7 km NNW of The Geysers, CA",
          "2 km SSW of Anderson Springs, CA",
          "2 km SSW of Tallaboa Alta, Puerto Rico",
          "89 km E of Kimbe, Papua New Guinea",
          "6 km NNW of The Geysers, CA",
          "48 km NW of Beatty, Nevada",
          "3 km WNW of Maricao, Puerto Rico",
          "14 km SE of Anza, CA",
          "23 km ENE of West Yellowstone, Montana",
          "80 km WNW of Karluk, Alaska",
          "8 km NW of Prague, Oklahoma",
          "15 km W of Johannesburg, CA",
          "7 km NW of Prague, Oklahoma",
          "8 km NW of Prague, Oklahoma",
          "8 km NW of Prague, Oklahoma",
          "5 km WNW of Cobb, CA",
          "8 km NW of Prague, Oklahoma",
          "68 km NW of Ninilchik, Alaska",
          "70 km SE of Unalaska, Alaska",
          "8 km NW of Prague, Oklahoma",
          "34 km W of Ashkāsham, Afghanistan",
          "83 km NW of Ollagüe, Chile",
          "8 km NW of Prague, Oklahoma",
          "8 km NW of Prague, Oklahoma",
          "70 km WNW of Tyonek, Alaska",
          "8 km NW of Prague, Oklahoma",
          "2 km WSW of Rubidoux, CA",
          "8 km NW of Prague, Oklahoma",
          "163 km SE of Petropavlovsk-Kamchatsky, Russia",
          "21 km WNW of Stanley, Idaho",
          "21 km ESE of Little Lake, CA",
          "17 km WSW of Johannesburg, CA",
          "62 km WNW of Tyonek, Alaska",
          "81 km NW of Ninilchik, Alaska",
          "29 km WSW of Ackerly, Texas",
          "70 km WNW of Tyonek, Alaska",
          "68 km WNW of Tyonek, Alaska",
          "101 km S of McCarthy, Alaska",
          "8 km NW of Prague, Oklahoma",
          "8 km NW of Prague, Oklahoma",
          "80 km NW of Ninilchik, Alaska",
          "8 km NW of Prague, Oklahoma",
          "16 km W of Johannesburg, CA",
          "123 km S of Chenega, Alaska",
          "8 km NW of Prague, Oklahoma",
          "7 km ESE of Valle Vista, CA",
          "7 km ESE of Valle Vista, CA",
          "8 km NW of Prague, Oklahoma",
          "48 km SSE of False Pass, Alaska",
          "8 km NW of Prague, Oklahoma",
          "8 km NW of Prague, Oklahoma",
          "7 km NNW of The Geysers, CA",
          "8 km NW of Prague, Oklahoma",
          "8 km NW of Prague, Oklahoma",
          "66 km N of Tierras Nuevas Poniente, Puerto Rico",
          "8 km NW of Prague, Oklahoma",
          "12 km ENE of Borrego Springs, CA",
          "7 km SSW of Idyllwild, CA",
          "182 km N of Maubara, Timor Leste",
          "48 km SW of Atiquipa, Peru",
          "8 km NW of Prague, Oklahoma",
          "7 km NW of Logan, Montana",
          "8 km NW of Prague, Oklahoma",
          "8 km NW of Prague, Oklahoma",
          "10 km NW of The Geysers, CA",
          "8 km NW of Prague, Oklahoma",
          "8 km NW of Prague, Oklahoma",
          "8 km NW of Prague, Oklahoma",
          "8 km NW of Prague, Oklahoma",
          "8 km NW of Prague, Oklahoma",
          "8 km NW of Prague, Oklahoma",
          "21 km E of Pedro Bay, Alaska",
          "11 km WSW of Akutan, Alaska",
          "8 km NW of Prague, Oklahoma",
          "8 km NW of Prague, Oklahoma",
          "8 km NW of Prague, Oklahoma",
          "7 km NW of Prague, Oklahoma",
          "8 km NW of Prague, Oklahoma",
          "8 km NW of Prague, Oklahoma",
          "8 km NW of Prague, Oklahoma",
          "79 km NW of Ninilchik, Alaska",
          "8 km NW of Prague, Oklahoma",
          "17 km NE of Yerington, Nevada",
          "27 km NE of Beaver, Alaska",
          "6 km NW of The Geysers, CA",
          "19 km W of Searles Valley, CA",
          "66 km ESE of Adak, Alaska",
          "37 km NW of Stanton, Texas",
          "128 km SW of Adak, Alaska",
          "7 km NNW of The Geysers, CA",
          "5 km WNW of Cobb, CA",
          "78 km W of San Antonio de los Cobres, Argentina",
          "3 km NE of Rincón, Puerto Rico",
          "15 km NNE of Atka, Alaska",
          "24 km ESE of Little Lake, CA",
          "4 km W of Cobb, CA",
          "4 km W of Cobb, CA",
          "12 km SSE of Anza, CA",
          "21 km W of Willow, Alaska",
          "Rat Islands, Aleutian Islands, Alaska",
          "64 km W of Tyonek, Alaska",
          "32 km NW of Stanley, Idaho",
          "135 km WNW of Petrolia, CA",
          "11 km ESE of Cascadia, Oregon",
          "23 km NNE of Yerington, Nevada",
          "273 km W of Houma, Tonga",
          "60 km SE of Adak, Alaska",
          "21 km NNW of Tehachapi, CA",
          "187 km E of Atka, Alaska",
          "13 km SSE of Fern Forest, Hawaii",
          "10 km S of Idyllwild, CA",
          "3 km SE of The Geysers, CA",
          "Fiji region",
          "45 km NNW of Pahrump, Nevada",
          "145 km WSW of Adak, Alaska",
          "146 km WSW of Adak, Alaska",
          "63 km W of Tyonek, Alaska",
          "7 km SW of Volcano, Hawaii",
          "94 km SE of King Cove, Alaska",
          "80 km ESE of Denali Park, Alaska",
          "11 km ESE of Chickasha, Oklahoma",
          "2 km SSW of Amboy, Washington",
          "11 km SE of Gorman, CA",
          "282 km ENE of Lospalos, Timor Leste",
          "15 km E of Finley Point, Montana",
          "25 km NNW of Parkfield, CA",
          "2 km WNW of Carnation, Washington",
          "5 km WSW of Anza, CA",
          "4 km WNW of Cobb, CA",
          "30 km E of Bunker Hill, Oregon",
          "15 km SSE of Stanton, Texas",
          "southeast Indian Ridge",
          "15 km SSE of Stanton, Texas",
          "2 km W of Home Gardens, CA",
          "15 km WNW of Malibu, CA",
          "56 km E of Pedro Bay, Alaska",
          "194 km ESE of Atka, Alaska",
          "7 km WNW of Cobb, CA",
          "33 km N of Nikolski, Alaska",
          "10 km E of Pinnacles, CA",
          "185 km E of Atka, Alaska",
          "10 km S of Princeton, Canada",
          "6 km NNW of The Geysers, CA",
          "196 km W of Adak, Alaska",
          "2 km SSW of Indios, Puerto Rico",
          "16 km NW of Emery, Utah",
          "16 km NNE of Ridgecrest, CA",
          "57 km NW of Rampart, Alaska",
          "15 km SSE of Stanton, Texas",
          "9 km NW of The Geysers, CA",
          "63 km SE of Adak, Alaska",
          "7 km WNW of Cobb, CA",
          "47 km E of Fort Bidwell, California",
          "11 km ESE of Boonville, CA",
          "4 km W of Mammoth Lakes, CA",
          "9 km E of Morgan Hill, CA",
          "17 km SSE of Mammoth Lakes, CA",
          "36 km WNW of Tyonek, Alaska",
          "59 km WNW of Tyonek, Alaska",
          "270 km W of Adak, Alaska",
          "78 km NW of Ninilchik, Alaska",
          "south of the Kermadec Islands",
          "5 km ENE of Butte, Montana",
          "8 km NW of The Geysers, CA",
          "72 km NNW of Karluk, Alaska",
          "15 km SSE of Ocotillo Wells, CA",
          "6 km WNW of Cobb, CA",
          "44 km NE of Holtville, CA",
          "89 km NNW of Vallenar, Chile",
          "39 km SW of Skwentna, Alaska",
          "16 km NNE of Indio, CA",
          "57 km W of Petrolia, CA",
          "39 km NE of Yelizovo, Russia",
          "60 km SW of Adak, Alaska",
          "5 km ENE of Lebanon, Oregon",
          "6 km SE of Bonita, CA",
          "5 km ENE of Vallejo, CA",
          "12 km WSW of Stanton, Texas",
          "32 km W of Freedom, Idaho",
          "40 km SW of Skwentna, Alaska",
          "10 km SSE of Dilley, Texas",
          "22 km NNW of Wisdom, Montana",
          "6 km S of Dilley, Texas",
          "74 km WNW of Karluk, Alaska",
          "9 km NE of Port-Vila, Vanuatu",
          "73 km SW of Unalaska, Alaska",
          "3 km ENE of San Fernando, CA",
          "64 km WNW of Tyonek, Alaska",
          "6 km WNW of Cobb, CA",
          "Pagan region, Northern Mariana Islands",
          "13 km NW of The Geysers, CA",
          "37 km NE of Whittier, Alaska",
          "3 km SSW of Tallaboa, Puerto Rico",
          "2 km  of The Geysers, CA",
          "52 km W of Mentone, Texas",
          "46 km NW of Toyah, Texas",
          "35 km E of Larsen Bay, Alaska",
          "45 km NW of Toyah, Texas",
          "13 km WNW of Whitehall, Montana",
          "16 km W of Johannesburg, CA",
          "11 km ENE of East Cathlamet, Washington",
          "17 km NNE of Yerington, Nevada",
          "38 km S of Silver Gate, Montana",
          "88 km NNW of Karluk, Alaska",
          "9 km SSE of McKenna, Washington",
          "5 km WNW of Cobb, CA",
          "27 km S of Westbrook, Texas",
          "7 km NNW of The Geysers, CA",
          "13 km W of Livengood, Alaska",
          "2 km SSW of Indios, Puerto Rico",
          "69 km SE of Denali National Park, Alaska",
          "34 km W of Petrolia, CA",
          "10 km NW of The Geysers, CA",
          "6 km NNW of The Geysers, CA",
          "14 km NNW of Point Possession, Alaska",
          "63 km W of Anchor Point, Alaska",
          "23 km NNE of Yerington, Nevada",
          "5 km NW of The Geysers, CA",
          "37 km NNW of Valdez, Alaska",
          "11 km ESE of Ocotillo Wells, CA",
          "6 km WSW of Anza, CA",
          "28 km SE of Kushiro, Japan",
          "4 km WSW of Anza, CA",
          "6 km WSW of Anza, CA",
          "17 km E of Pleasant Valley, Alaska",
          "6 km NNW of The Geysers, CA",
          "30 km S of Mammoth, Wyoming",
          "1 km ESE of The Geysers, CA",
          "21 km NE of Komodo, Indonesia",
          "10 km WSW of Anza, CA",
          "1 km ESE of The Geysers, CA",
          "40 km E of Denali National Park, Alaska",
          "9 km NW of The Geysers, CA",
          "14 km NE of Boca de Yuma, Dominican Republic",
          "6 km WNW of Cobb, CA",
          "34 km SSW of Cantwell, Alaska",
          "14 km SE of Bodfish, CA",
          "16 km WSW of Johannesburg, CA",
          "44 km NNW of Glacier View, Alaska",
          "21 km WSW of Challis, Idaho",
          "2 km NW of The Geysers, CA",
          "8 km WNW of Cobb, CA",
          "8 km WNW of Cobb, CA",
          "4 km NNW of The Geysers, CA",
          "1 km WSW of Anderson Springs, CA",
          "18 km NW of Parkfield, CA",
          "25 km SSW of Caliente, Nevada",
          "17 km NNW of Parkfield, CA",
          "8 km WNW of Cobb, CA",
          "0 km SSE of Carnelian Bay, California",
          "9 km NW of The Geysers, CA",
          "7 km NE of West Yellowstone, Montana",
          "5 km WNW of Cobb, CA",
          "2 km SSE of Indios, Puerto Rico",
          "1 km SE of Indios, Puerto Rico",
          "2 km NE of The Geysers, CA",
          "14 km S of West Yellowstone, Montana",
          "31 km S of Mammoth, Wyoming",
          "12 km SSE of Elmendorf Air Force Base, Alaska",
          "34 km NW of Indian Springs, Nevada",
          "5 km NW of Cobb, CA",
          "5 km WSW of Anza, CA",
          "5 km WSW of Anza, CA",
          "16 km NW of Emery, Utah",
          "5 km NNW of The Geysers, CA",
          "55 km W of Nanwalek, Alaska",
          "8 km NE of West Yellowstone, Montana",
          "32 km S of Mammoth, Wyoming",
          "8 km NE of West Yellowstone, Montana",
          "8 km NE of West Yellowstone, Montana",
          "8 km NNW of The Geysers, CA",
          "44 km W of Petersville, Alaska",
          "3 km SW of Guánica, Puerto Rico",
          "9 km WNW of Cobb, CA",
          "5 km NE of Windsor, CA",
          "7 km S of Idyllwild, CA",
          "2 km NNE of The Geysers, CA",
          "23 km ESE of Maneadero, B.C., MX",
          "5 km WSW of Anza, CA",
          "8 km NNE of Borrego Springs, CA",
          "5 km WSW of Anza, CA",
          "6 km WSW of Anza, CA",
          "8 km NE of West Yellowstone, Montana",
          "5 km WSW of Anza, CA",
          "6 km WSW of Anza, CA",
          "112 km NNE of Kobuk, Alaska",
          "Kermadec Islands, New Zealand",
          "5 km WSW of Anza, CA",
          "southern East Pacific Rise",
          "80 km ESE of Denali Park, Alaska",
          "3 km NE of Banning, CA",
          "42 km WSW of Alamo, Nevada",
          "9 km SW of Idyllwild, CA",
          "4 km NNW of The Geysers, CA",
          "8 km NE of West Yellowstone, Montana",
          "2 km NNW of Fontana, CA",
          "16 km S of Mường Lay, Vietnam",
          "2 km NNW of Fontana, CA",
          "7 km S of Idyllwild, CA",
          "7 km NW of The Geysers, CA",
          "6 km NW of The Geysers, CA",
          "7 km WNW of Cobb, CA",
          "3 km W of Anza, CA",
          "13 km NNW of Stagecoach, Nevada",
          "Bonin Islands, Japan region",
          "26 km NW of Stanley, Idaho",
          "16 km NNE of Ridgecrest, CA",
          "25 km NW of Stanley, Idaho",
          "11 km SSE of Volcano, Hawaii",
          "12 km SSE of Volcano, Hawaii",
          "42 km NW of Beatty, Nevada",
          "2 km  of The Geysers, CA",
          "21 km NNE of Yerington, Nevada",
          "4 km NNW of The Geysers, CA",
          "31 km S of Mammoth, Wyoming",
          "8 km NE of West Yellowstone, Montana",
          "13 km SSE of Volcano, Hawaii",
          "8 km NNW of The Geysers, CA",
          "31 km S of Mammoth, Wyoming",
          "6 km SW of Alamo, CA",
          "12 km NW of The Geysers, CA",
          "8 km W of Kailua-Kona, Hawaii",
          "25 km WNW of Zhonghe, China",
          "3 km NW of Mbeya, Tanzania",
          "7 km NW of The Geysers, CA",
          "6 km WNW of Cobb, CA",
          "47 km NNE of Chase, Alaska",
          "55 km NE of Port Alsworth, Alaska",
          "3 km NNW of The Geysers, CA",
          "4 km NNW of Huntington Beach, CA",
          "25 km NNE of Valdez, Alaska",
          "8 km NNW of The Geysers, CA",
          "7 km SW of Santa María Tonameca, Mexico",
          "7 km NW of The Geysers, CA",
          "19 km SW of Simmler, CA",
          "42 km N of Valdez, Alaska",
          "155 km W of Adak, Alaska",
          "32 km NNE of Chickaloon, Alaska",
          "61 km NW of Tatitlek, Alaska",
          "5 km NW of The Geysers, CA",
          "3 km WNW of Yacolt, Washington",
          "45 km NE of Holtville, CA",
          "48 km SSE of Nelchina, Alaska",
          "15 km ENE of Yerington, Nevada",
          "15 km S of Anza, CA",
          "157 km W of Adak, Alaska",
          "2 km ESE of Loma Linda, CA",
          "48 km N of Petersville, Alaska",
          "78 km W of Salamatof, Alaska",
          "15 km E of Ocotillo Wells, CA",
          "56 km S of Kingston, Nevada",
          "7 km NW of The Geysers, CA",
          "4 km W of Cobb, CA",
          "5 km NNW of Herington, Kansas",
          "8 km WSW of Davis, Oklahoma",
          "7 km S of Banning, CA",
          "25 km SSW of Nanwalek, Alaska",
          "16 km WSW of Johannesburg, CA",
          "8 km NNW of The Geysers, CA",
          "29 km NNE of Adelanto, CA",
          "40 km SSE of Nelchina, Alaska",
          "8 km NNW of The Geysers, CA",
          "8 km WNW of Four Mile Road, Alaska",
          "10 km NW of Pāhala, Hawaii",
          "6 km SE of Toms Place, CA",
          "11 km W of Davis, Oklahoma",
          "South Sandwich Islands region",
          "2 km ESE of The Geysers, CA",
          "6 km NNW of The Geysers, CA",
          "161 km W of Gorontalo, Indonesia",
          "63 km WSW of Nikolski, Alaska",
          "70 km N of Chickaloon, Alaska",
          "7 km SSW of Mojave, CA",
          "9 km NNE of Coso Junction, CA",
          "23 km WNW of Stanley, Idaho",
          "9 km NW of The Geysers, CA",
          "3 km NE of Magna, Utah",
          "9 km SE of Beluga, Alaska",
          "19 km SW of Moapa Town, Nevada",
          "6 km WNW of Cobb, CA",
          "4 km SSE of Home Gardens, CA",
          "22 km NNE of Yerington, Nevada",
          "9 km ENE of Adelanto, CA",
          "135 km NNE of Vieques, Puerto Rico",
          "76 km WNW of Nikiski, Alaska",
          "8 km S of Idyllwild, CA",
          "47 km SSW of Ugashik, Alaska",
          "44 km WSW of Petersville, Alaska",
          "68 km W of Tyonek, Alaska",
          "8 km NNW of The Geysers, CA",
          "11 km W of Valdez, Alaska",
          "12 km NW of Fox, Alaska",
          "44 km ENE of Beatty, Nevada",
          "2 km SW of Owasso, Oklahoma",
          "25 km WNW of Klamath Falls, Oregon",
          "Pacific-Antarctic Ridge",
          "11 km NNE of Cloverdale, CA",
          "3 km NNW of The Geysers, CA",
          "22 km NE of Pine Valley, CA",
          "17 km WSW of Johannesburg, CA",
          "12 km E of Cloverdale, CA",
          "2 km S of Tyonek, Alaska",
          "7 km NW of The Geysers, CA",
          "36 km NNW of Valdez, Alaska",
          "107 km W of Adak, Alaska",
          "33 km E of McKinney Acres, Texas",
          "5 km NNW of The Geysers, CA",
          "75 km W of Luwuk, Indonesia",
          "6 km N of Dutch Harbor, Alaska",
          "4 km N of Talmage, CA",
          "11 km NNE of Brooktrails, CA",
          "18 km ENE of West Yellowstone, Montana",
          "3 km NW of The Geysers, CA",
          "16 km SE of Obihiro, Japan",
          "Pacific-Antarctic Ridge",
          "269 km WSW of Merizo Village, Guam",
          "11 km ENE of Kulu, Turkey",
          "11 km NW of Point Possession, Alaska",
          "57 km NE of Valmy, Nevada",
          "7 km NW of The Geysers, CA",
          "8 km WNW of Anza, CA",
          "7 km NW of The Geysers, CA",
          "3 km E of Ridgeway, Alaska",
          "24 km SE of Pinnacles, CA",
          "15 km W of Johannesburg, CA",
          "17 km WSW of Johannesburg, CA",
          "5 km WSW of Anza, CA",
          "3 km SSE of Indios, Puerto Rico",
          "57 km S of Whites City, New Mexico",
          "64 km WNW of Tyonek, Alaska",
          "56 km S of Whites City, New Mexico",
          "6 km SW of Alamo, CA",
          "7 km ESE of Okanagan Falls, Canada",
          "21 km NW of Beluga, Alaska",
          "16 km NE of Pāhala, Hawaii",
          "12 km NNW of Toyah, Texas",
          "2 km NE of Marston, Missouri",
          "10 km NW of The Geysers, CA",
          "14 km NNE of West Yellowstone, Montana",
          "77 km W of Salamatof, Alaska",
          "2 km WSW of Palmarejo, Puerto Rico",
          "7 km NW of The Geysers, CA",
          "10 km NW of The Geysers, CA",
          "10 km NW of The Geysers, CA",
          "48 km NE of Valmy, Nevada",
          "6 km NNW of The Geysers, CA",
          "26 km W of Susitna, Alaska",
          "24 km W of Dutch Harbor, Alaska",
          "5 km WNW of Borrego Springs, CA",
          "34 km SSE of Midland, Texas",
          "18 km ESE of Anza, CA",
          "22 km NE of Pine Valley, CA",
          "3 km NW of Dover, Oklahoma",
          "16 km E of Hebgen Lake Estates, Montana",
          "22 km NE of Pine Valley, CA",
          "92 km NNW of Charlotte Amalie, U.S. Virgin Islands",
          "7 km NNW of The Geysers, CA",
          "38 km W of Kalifornsky, Alaska",
          "13 km NE of Yerington, Nevada",
          "15 km SSW of Searles Valley, CA",
          "2 km WNW of Anderson Springs, CA",
          "23 km SSE of Waimea, Hawaii",
          "32 km SSW of Minto, Alaska",
          "1 km E of The Geysers, CA",
          "6 km WNW of Cobb, CA",
          "26 km W of Westley, CA",
          "3 km SSE of Big Lake, Alaska",
          "10 km NNW of The Geysers, CA",
          "16 km SSW of Searles Valley, CA",
          "24 km N of Pāhala, Hawaii",
          "16 km SSW of Searles Valley, CA",
          "17 km SSW of Searles Valley, CA",
          "4 km WNW of Borrego Springs, CA",
          "7 km NW of The Geysers, CA",
          "59 km S of Whites City, New Mexico",
          "9 km SSW of Ackerly, Texas",
          "9 km S of Ackerly, Texas",
          "40 km NNW of Paxson, Alaska",
          "6 km WNW of Cobb, CA",
          "8 km WNW of Anza, CA",
          "4 km WSW of San Francisco Zoo, CA",
          "4 km WSW of Clinton, Washington",
          "9 km SSW of Volcano, Hawaii",
          "15 km ESE of Kelly, Wyoming",
          "54 km NE of Valmy, Nevada",
          "59 km NE of Valmy, Nevada",
          "7 km NNW of Challis, Idaho",
          "77 km WNW of Ninilchik, Alaska",
          "14 km SSE of Volcano, Hawaii",
          "8 km WNW of Anza, CA",
          "3 km ESE of The Geysers, CA",
          "16 km WNW of Emery, Utah",
          "7 km WNW of Cobb, CA",
          "12 km SW of Searles Valley, CA",
          "9 km NNW of Cabazon, CA",
          "3 km SW of Cobb, CA",
          "9 km NW of Tonasket, Washington",
          "66 km WNW of Beluga, Alaska",
          "65 km WNW of Beluga, Alaska",
          "1 km WNW of Beluga, Alaska",
          "20 km NW of Stanton, Texas",
          "8 km WNW of Anza, CA",
          "1 km N of Calatagan, Philippines",
          "62 km WNW of Tyonek, Alaska",
          "6 km NW of The Geysers, CA",
          "6 km NW of The Geysers, CA",
          "63 km WNW of Tyonek, Alaska",
          "65 km WNW of Beluga, Alaska",
          "6 km NE of Muscoy, CA",
          "6 km WNW of Cobb, CA",
          "6 km WNW of Cobb, CA",
          "15 km W of Neilton, Washington",
          "7 km NNW of Challis, Idaho",
          "2 km WNW of Walker, CA",
          "64 km WNW of Beluga, Alaska",
          "12 km N of San Antonio, Puerto Rico",
          "2 km SSE of Loma Linda, CA",
          "11 km SW of La Playa, Puerto Rico",
          "10 km SE of Nixon, Nevada",
          "55 km SE of Punta Cana, Dominican Republic",
          "31 km W of Rachel, Nevada",
          "7 km NW of The Geysers, CA",
          "58 km NNE of Chickaloon, Alaska",
          "3 km S of Highland Park, CA",
          "58 km NNE of Chickaloon, Alaska",
          "8 km NNW of Challis, Idaho",
          "11 km NNW of Parkfield, CA",
          "44 km ESE of Beatty, Nevada",
          "3 km SSE of Highland Park, CA",
          "14 km WNW of Petrolia, CA",
          "4 km NNW of Pinnacles, CA",
          "19 km SE of Livermore, CA",
          "10 km NNW of Truckee, CA",
          "3 km NW of Dover, Oklahoma",
          "3 km NW of Dover, Oklahoma",
          "16 km SSW of Goldfield, Nevada",
          "32 km SE of Mina, Nevada",
          "8 km WNW of Cobb, CA",
          "57 km S of Whites City, New Mexico",
          "3 km NW of Dover, Oklahoma",
          "16 km ENE of Hebgen Lake Estates, Montana",
          "6 km E of Coalinga, CA",
          "3 km NNW of The Geysers, CA",
          "4 km W of Cobb, CA",
          "9 km NE of Yucaipa, CA",
          "24 km NNW of Tehachapi, CA",
          "7 km WNW of Cobb, CA",
          "273 km WNW of Houma, Tonga",
          "16 km NE of Hermleigh, Texas",
          "10 km SSE of Redway, CA",
          "54 km S of Whites City, New Mexico",
          "0 km SE of Anza, CA",
          "51 km WNW of Indian Springs, Nevada",
          "151 km N of Manatutu, Timor Leste",
          "11 km N of Meadow Lakes, Alaska",
          "36 km NW of Rampart, Alaska",
          "9 km SE of Midland, Texas",
          "35 km SSW of Los Ybanez, Texas",
          "12 km NE of Julian, CA",
          "10 km S of Borrego Springs, CA",
          "9 km NW of Parkfield, CA",
          "16 km ENE of Hebgen Lake Estates, Montana",
          "14 km E of Hebgen Lake Estates, Montana",
          "10 km NW of The Geysers, CA",
          "51 km NW of Yakutat, Alaska",
          "10 km ESE of Coalinga, CA",
          "18 km ESE of Sparks, Nevada",
          "2 km NNW of Universal City, CA",
          "2 km NNW of Universal City, CA",
          "14 km S of Fern Forest, Hawaii",
          "52 km NNW of Yakutat, Alaska",
          "15 km SSW of Searles Valley, CA",
          "5 km N of San Jacinto, CA",
          "6 km WNW of Cobb, CA",
          "11 km N of Meadow Lakes, Alaska",
          "4 km NNW of The Geysers, CA",
          "8 km E of Clearlake, CA",
          "12 km NE of Yucaipa, CA",
          "8 km W of Townsend, Montana",
          "40 km NNW of Beluga, Alaska",
          "9 km ESE of Livermore, CA",
          "58 km N of Petersville, Alaska",
          "3 km W of Cobb, CA",
          "1 km E of Princeton, Canada",
          "4 km W of Cobb, CA",
          "63 km WNW of Tyonek, Alaska",
          "57 km S of Whites City, New Mexico",
          "12 km W of Akutan, Alaska",
          "9 km WNW of Cobb, CA",
          "5 km NW of The Geysers, CA",
          "51 km N of Finschhafen, Papua New Guinea",
          "148 km W of Ferndale, California",
          "1 km NE of The Geysers, CA",
          "9 km NW of The Geysers, CA",
          "57 km S of Whites City, New Mexico",
          "58 km S of Whites City, New Mexico",
          "4 km NE of Cooperton, Oklahoma",
          "256 km WNW of Houma, Tonga",
          "7 km NW of The Geysers, CA",
          "2 km SSE of Gorst, Washington",
          "54 km NW of Toyah, Texas",
          "50 km SW of Sechura, Peru",
          "54 km NW of Toyah, Texas",
          "4 km SSE of Floriston, California",
          "6 km NW of The Geysers, CA",
          "1 km N of Universal City, CA",
          "2 km SSW of Julian, CA",
          "18 km WNW of Culver, Oregon",
          "1 km SSE of Galateo, Puerto Rico",
          "3 km NNW of Dover, Oklahoma",
          "25 km NE of Chase, Alaska",
          "4 km W of Banning, CA",
          "64 km WNW of Tyonek, Alaska",
          "4 km W of Mammoth Lakes, CA",
          "6 km WNW of Cobb, CA",
          "2 km S of Burbank, Washington",
          "61 km S of Whites City, New Mexico",
          "4 km NNW of Dover, Oklahoma",
          "3 km NNW of Dover, Oklahoma",
          "8 km ENE of Moreno Valley, CA",
          "3 km NW of Dover, Oklahoma",
          "3 km NNW of Dover, Oklahoma",
          "3 km NW of Dover, Oklahoma",
          "15 km ENE of Yerington, Nevada",
          "3 km NNW of Dover, Oklahoma",
          "3 km NNW of Dover, Oklahoma",
          "6 km NNW of The Geysers, CA",
          "15 km NE of Yerington, Nevada",
          "20 km WNW of Salamatof, Alaska",
          "11 km E of Abbotsford, Canada",
          "3 km NNW of Dover, Oklahoma",
          "7 km WNW of Cobb, CA",
          "28 km SW of Trapper Creek, Alaska",
          "2 km E of The Geysers, CA",
          "5 km E of Coalinga, CA",
          "2 km NNW of The Geysers, CA",
          "6 km SW of Houston, Alaska",
          "3 km NNW of The Geysers, CA",
          "32 km SSE of Hawthorne, Nevada",
          "4 km SSW of Anderson Springs, CA",
          "38 km SSW of Los Ybanez, Texas",
          "14 km WNW of McMinnville, Oregon",
          "79 km NNW of Karluk, Alaska",
          "5 km WSW of Valley Park, Oklahoma",
          "166 km SSE of Tateyama, Japan",
          "Pacific-Antarctic Ridge",
          "10 km S of Borrego Springs, CA",
          "3 km NNW of Dover, Oklahoma",
          "3 km NW of Dover, Oklahoma",
          "60 km SSW of Intipucá, El Salvador",
          "3 km NNW of Dover, Oklahoma",
          "17 km S of Tres Pinos, CA",
          "48 km NE of King Cove, Alaska",
          "3 km NNW of Dover, Oklahoma",
          "61 km SSW of Skwentna, Alaska",
          "13 km N of Taft, CA",
          "2 km NNE of Huntington Park, CA",
          "57 km NE of Valmy, Nevada",
          "3 km NNW of The Geysers, CA",
          "12 km NNW of Rancho Cucamonga, CA",
          "71 km SW of Skwentna, Alaska",
          "5 km WNW of Cobb, CA",
          "13 km S of Trapper Creek, Alaska",
          "8 km WNW of Cobb, CA",
          "2 km NW of The Geysers, CA",
          "4 km NNW of Dover, Oklahoma",
          "3 km NNW of Dover, Oklahoma",
          "51 km ESE of Beatty, Nevada",
          "30 km NNE of Valdez, Alaska",
          "33 km NW of Valdez, Alaska",
          "2 km NW of The Geysers, CA",
          "2 km WSW of Wasilla, Alaska",
          "51 km NE of Valmy, Nevada",
          "2 km NW of The Geysers, CA",
          "2 km NW of The Geysers, CA",
          "2 km NW of The Geysers, CA",
          "8 km NNW of The Geysers, CA",
          "5 km NW of Point MacKenzie, Alaska",
          "2 km NW of The Geysers, CA",
          "2 km NW of The Geysers, CA",
          "26 km ESE of Point Possession, Alaska",
          "2 km NW of The Geysers, CA",
          "17 km N of Beluga, Alaska",
          "74 km NE of Valmy, Nevada",
          "58 km NE of Valmy, Nevada",
          "54 km NE of Valmy, Nevada",
          "57 km NE of Valmy, Nevada",
          "2 km ENE of Lilbourn, Missouri",
          "6 km WNW of Cobb, CA",
          "36 km SSW of Los Ybanez, Texas",
          "4 km SW of Dibble, Oklahoma",
          "4 km S of Highland Park, CA",
          "2 km ENE of The Geysers, CA",
          "60 km NE of Valmy, Nevada",
          "53 km NE of Valmy, Nevada",
          "4 km NNW of Dover, Oklahoma",
          "9 km NW of Idyllwild, CA",
          "16 km WNW of Emery, Utah",
          "55 km NNW of Eureka Roadhouse, Alaska",
          "172 km WNW of Port Orford, Oregon",
          "34 km NW of Tamarindo, Costa Rica",
          "22 km WSW of Cooper Landing, Alaska",
          "66 km WNW of Beluga, Alaska",
          "83 km NW of Karluk, Alaska",
          "14 km SSE of Chickaloon, Alaska",
          "5 km E of Naranjito, Puerto Rico",
          "Mid-Indian Ridge",
          "63 km W of Tyonek, Alaska",
          "13 km S of Fern Forest, Hawaii",
          "65 km WNW of Beluga, Alaska",
          "5 km WNW of Cobb, CA",
          "16 km WSW of Kailua-Kona, Hawaii",
          "84 km NW of Karluk, Alaska",
          "84 km NW of Karluk, Alaska",
          "84 km NW of Karluk, Alaska",
          "5 km WNW of Borrego Springs, CA",
          "4 km NW of The Geysers, CA",
          "34 km WNW of Zhob, Pakistan",
          "64 km WNW of Tyonek, Alaska",
          "64 km WNW of Tyonek, Alaska",
          "5 km WNW of Cobb, CA",
          "10 km ENE of Gilroy, CA",
          "2 km NW of The Geysers, CA",
          "25 km W of Augusta, Montana",
          "60 km WNW of Tyonek, Alaska",
          "16 km NW of Emery, Utah",
          "11 km NNE of Borrego Springs, CA",
          "121 km NNW of Finschhafen, Papua New Guinea",
          "14 km SSE of Beaver, Utah",
          "63 km SSE of Kokhanok, Alaska",
          "1 km NE of The Geysers, CA",
          "54 km W of Tatitlek, Alaska",
          "8 km NE of West Yellowstone, Montana",
          "64 km WNW of Tyonek, Alaska",
          "64 km WNW of Tyonek, Alaska",
          "53 km SE of Boca de Yuma, Dominican Republic",
          "57 km WNW of Ninilchik, Alaska",
          "15 km W of Johannesburg, CA",
          "45 km S of Patea, New Zealand",
          "59 km W of Nanwalek, Alaska",
          "3 km NNW of Dover, Oklahoma",
          "64 km WNW of Tyonek, Alaska",
          "63 km WNW of Tyonek, Alaska",
          "21 km SW of Susitna North, Alaska",
          "23 km ENE of Arvin, CA",
          "14 km WSW of Akutan, Alaska",
          "45 km SSW of Cantwell, Alaska",
          "15 km WSW of Akutan, Alaska",
          "24 km WNW of Akutan, Alaska",
          "14 km WSW of Akutan, Alaska",
          "8 km WSW of Akutan, Alaska",
          "13 km WSW of Akutan, Alaska",
          "2 km NNW of San Bernardino, CA",
          "3 km NW of Dover, Oklahoma",
          "6 km NW of The Geysers, CA",
          "6 km NNW of The Geysers, CA",
          "63 km WNW of Tyonek, Alaska",
          "20 km NNE of Yerington, Nevada",
          "65 km WNW of Beluga, Alaska",
          "3 km NNW of Dover, Oklahoma",
          "4 km NNW of Dover, Oklahoma",
          "3 km NNW of Dover, Oklahoma",
          "37 km NNE of Toms Place, CA",
          "18 km ESE of Anza, CA",
          "87 km W of Tyonek, Alaska",
          "3 km NNW of Dover, Oklahoma",
          "25 km NW of Eureka Roadhouse, Alaska",
          "35 km ESE of West Yellowstone, Montana",
          "16 km NNW of Tehachapi, CA",
          "3 km NNW of Dover, Oklahoma",
          "64 km W of Petersville, Alaska",
          "4 km NNW of The Geysers, CA",
          "21 km E of Finley Point, Montana",
          "61 km WNW of Tyonek, Alaska",
          "58 km NNW of Norðurþing, Iceland",
          "8 km WNW of Cobb, CA",
          "11 km W of Petrolia, CA",
          "1 km S of Indios, Puerto Rico",
          "0 km E of Indios, Puerto Rico",
          "84 km NNW of Karluk, Alaska",
          "33 km ENE of Skwentna, Alaska",
          "8 km NNW of The Geysers, CA",
          "11 km N of Borrego Springs, CA",
          "63 km WNW of Tyonek, Alaska",
          "63 km WNW of Tyonek, Alaska",
          "9 km E of Chickasha, Oklahoma",
          "31 km N of Charlotte Amalie, U.S. Virgin Islands",
          "7 km SSE of Banning, CA",
          "6 km ESE of West Yellowstone, Montana",
          "western Indian-Antarctic Ridge",
          "0 km NE of Indios, Puerto Rico",
          "28 km NW of Toyah, Texas",
          "0 km SE of Indios, Puerto Rico",
          "54 km W of Tyonek, Alaska",
          "66 km WNW of Beluga, Alaska",
          "137 km W of Neiafu, Tonga",
          "10 km NW of Willow Creek, CA",
          "37 km WSW of Salamatof, Alaska",
          "58 km WNW of Petersville, Alaska",
          "2 km SSW of Guánica, Puerto Rico",
          "3 km NNW of Dover, Oklahoma",
          "7 km NE of West Yellowstone, Montana",
          "8 km NE of West Yellowstone, Montana",
          "3 km NW of Dover, Oklahoma",
          "5 km WNW of Cobb, CA",
          "36 km NNW of Culebra, Puerto Rico",
          "14 km W of Stanley, Idaho",
          "3 km NNW of Dover, Oklahoma",
          "41 km SW of Unalaska, Alaska",
          "3 km NNW of Dover, Oklahoma",
          "3 km NW of Dover, Oklahoma",
          "63 km S of Bengkulu, Indonesia",
          "14 km WSW of Stanley, Idaho",
          "3 km NNW of Dover, Oklahoma",
          "4 km NNW of The Geysers, CA",
          "3 km NNW of Dover, Oklahoma",
          "7 km WNW of Cobb, CA",
          "9 km ENE of Milpitas, CA",
          "7 km WNW of Cobb, CA",
          "4 km NNW of Dover, Oklahoma",
          "14 km WSW of Stanley, Idaho",
          "20 km SSE of Pizitou, Taiwan",
          "10 km NW of The Geysers, CA",
          "16 km W of Stanley, Idaho",
          "6 km NW of The Geysers, CA",
          "12 km ENE of Verlot, Washington",
          "63 km SSE of Kokhanok, Alaska",
          "17 km WSW of Johannesburg, CA",
          "50 km W of Mentone, Texas",
          "3 km NNW of Dover, Oklahoma",
          "17 km S of Morton, Washington",
          "39 km NNW of Toyah, Texas",
          "22 km SSE of Mossyrock, Washington",
          "63 km WNW of Tyonek, Alaska",
          "86 km NW of Karluk, Alaska",
          "7 km NW of The Geysers, CA",
          "3 km NW of The Geysers, CA",
          "31 km NNE of Skwentna, Alaska",
          "27 km SE of Susitna North, Alaska",
          "3 km SE of The Geysers, CA",
          "9 km SSW of Tyonek, Alaska",
          "15 km S of Joshua Tree, CA",
          "2 km SSW of La Mirada, CA",
          "65 km WNW of Beluga, Alaska",
          "10 km E of Sparks, Nevada",
          "2 km SW of Guánica, Puerto Rico",
          "62 km WNW of Tyonek, Alaska",
          "16 km WNW of Kalifornsky, Alaska",
          "1 km NNW of The Geysers, CA",
          "14 km N of Mehama, Oregon",
          "41 km ENE of Susitna North, Alaska",
          "23 km SSE of Fry, Greece",
          "18 km ESE of Anza, CA",
          "16 km ESE of South Park, Wyoming",
          "20 km ESE of Spanish Springs, Nevada",
          "43 km E of Denali National Park, Alaska",
          "2 km SE of The Geysers, CA",
          "14 km SSE of Waynoka, Oklahoma",
          "52 km WSW of False Pass, Alaska",
          "56 km S of Silver Peak, Nevada",
          "223 km E of Levuka, Fiji",
          "77 km WNW of Nikiski, Alaska",
          "11 km ENE of Gilroy, CA",
          "81 km SE of Ugashik, Alaska",
          "14 km WNW of Ninilchik, Alaska",
          "23 km ENE of San Lucas, CA",
          "7 km NNW of The Geysers, CA",
          "6 km SW of Palmdale, CA",
          "2 km NNE of Raymond, Washington",
          "48 km N of Chignik Lagoon, Alaska",
          "40 km WNW of Skwentna, Alaska",
          "7 km NNW of The Geysers, CA",
          "235 km SW of La Cruz de Loreto, Mexico",
          "86 km NW of Karluk, Alaska",
          "86 km NW of Karluk, Alaska",
          "5 km NNW of Anza, CA",
          "7 km NW of The Geysers, CA",
          "44 km SW of Nanwalek, Alaska",
          "7 km ESE of Valley Center, CA",
          "5 km S of Guánica, Puerto Rico",
          "53 km NNW of Yakutat, Alaska",
          "11 km NE of Borrego Springs, CA",
          "51 km S of Silver Peak, Nevada",
          "9 km NW of Belfair, Washington",
          "13 km SE of Tehachapi, CA",
          "8 km NW of Orcas, Washington",
          "5 km WNW of Borrego Springs, CA",
          "2 km NNE of The Geysers, CA",
          "3 km NNW of Dover, Oklahoma",
          "3 km ENE of Swede Heaven, Washington",
          "1 km NNW of The Geysers, CA",
          "8 km W of Townsend, Montana",
          "15 km WNW of Emery, Utah",
          "17 km NE of Manley Hot Springs, Alaska",
          "63 km NNE of Petersville, Alaska",
          "51 km SSE of Denali National Park, Alaska",
          "6 km ESE of Valle Vista, CA",
          "48 km ESE of Cordova, Alaska",
          "95 km N of Karluk, Alaska",
          "8 km WNW of Anza, CA",
          "8 km WNW of Anza, CA",
          "2 km E of Aromas, CA",
          "28 km S of Ennis, Montana",
          "63 km WNW of Tyonek, Alaska",
          "24 km ESE of Leilani Estates, Hawaii",
          "4 km WSW of Ault Field, Washington",
          "58 km SSE of Denali National Park, Alaska",
          "24 km ENE of Schurz, Nevada",
          "60 km WNW of Tyonek, Alaska",
          "83 km NW of Karluk, Alaska",
          "93 km NE of Punta Cana, Dominican Republic",
          "8 km E of Meeker, Oklahoma",
          "15 km ENE of Pāhala, Hawaii",
          "Bonin Islands, Japan region",
          "7 km NNW of The Geysers, CA",
          "7 km NNW of The Geysers, CA",
          "Nicobar Islands, India region",
          "3 km ESE of Lake Henshaw, CA",
          "7 km NW of The Geysers, CA",
          "63 km WNW of Tyonek, Alaska",
          "63 km WNW of Tyonek, Alaska",
          "102 km SSW of Cordova, Alaska",
          "23 km E of Dilley, Texas",
          "34 km ESE of Denali National Park, Alaska",
          "3 km NNW of The Geysers, CA",
          "37 km WNW of Nanwalek, Alaska",
          "63 km WNW of Tyonek, Alaska",
          "63 km WNW of Tyonek, Alaska",
          "33 km SSE of Virginia City, Montana",
          "7 km NNW of The Geysers, CA",
          "9 km NW of Anza, CA",
          "18 km ESE of Anza, CA",
          "29 km W of Chignik Lake, Alaska",
          "63 km WNW of Tyonek, Alaska",
          "38 km WSW of Kotzebue, Alaska",
          "246 km WSW of Yakutat, Alaska",
          "6 km NNW of The Geysers, CA",
          "10 km SE of Yucca Valley, CA",
          "2 km  of The Geysers, CA",
          "central East Pacific Rise",
          "6 km WNW of Westbrook, Texas",
          "64 km W of Tyonek, Alaska",
          "64 km W of Tyonek, Alaska",
          "63 km WNW of Anchor Point, Alaska",
          "14 km E of King Cove, Alaska",
          "62 km WNW of Tyonek, Alaska",
          "86 km NNW of Karluk, Alaska",
          "77 km SSE of Perryville, Alaska",
          "71 km SW of Whitestone, Alaska",
          "22 km S of South Van Horn, Alaska",
          "9 km NW of The Geysers, CA",
          "41 km SE of Ugashik, Alaska",
          "5 km WNW of Cobb, CA",
          "16 km WSW of Ferndale, CA",
          "65 km WNW of Beluga, Alaska",
          "35 km WSW of Cantwell, Alaska",
          "2 km SE of Mullan, Idaho",
          "2 km N of Palomar Observatory, CA",
          "38 km N of Chignik Lagoon, Alaska",
          "28 km SE of Caburan, Philippines",
          "37 km S of Jurm, Afghanistan",
          "38 km W of Akhiok, Alaska",
          "2 km WSW of Indios, Puerto Rico",
          "83 km NW of Karluk, Alaska",
          "13 km SSW of Tres Pinos, CA",
          "4 km NNW of The Geysers, CA",
          "61 km SE of Denali National Park, Alaska",
          "37 km NE of Yakutat, Alaska",
          "20 km NE of Gardendale, Texas",
          "7 km NNW of The Geysers, CA",
          "3 km SSW of Cobb, CA",
          "38 km SSE of Morton, Washington",
          "3 km NW of The Geysers, CA",
          "12 km W of Stanton, Texas",
          "10 km SSW of Trapper Creek, Alaska",
          "32 km WSW of Cantwell, Alaska",
          "3 km WNW of Cobb, CA",
          "63 km W of Salamatof, Alaska",
          "8 km NNW of The Geysers, CA",
          "13 km W of Akutan, Alaska",
          "2 km NNE of Palomar Observatory, CA",
          "6 km WNW of Westbrook, Texas",
          "21 km N of Ivanof Bay, Alaska",
          "6 km NW of The Geysers, CA",
          "2 km SW of Pozzuoli, Italy",
          "4 km WSW of Palomar Observatory, CA",
          "17 km WNW of Fishhook, Alaska",
          "39 km NNW of Sutton-Alpine, Alaska",
          "2 km SSE of Banning, CA",
          "5 km N of Moreno Valley, CA",
          "15 km SSE of Waynoka, Oklahoma",
          "41 km W of Salamatof, Alaska",
          "7 km N of Tiptonville, Tennessee",
          "25 km WNW of Hoodsport, Washington",
          "77 km ENE of Tonopah, Nevada",
          "9 km SE of Viola, CA",
          "8 km NNW of Borrego Springs, CA",
          "21 km WNW of Hebgen Lake Estates, Montana",
          "46 km NW of Beatty, Nevada",
          "62 km WNW of Tyonek, Alaska",
          "64 km WNW of Tyonek, Alaska",
          "6 km NNE of Twin Bridges, Montana",
          "8 km WNW of Cobb, CA",
          "64 km WNW of Tyonek, Alaska",
          "58 km WNW of Happy Valley, Alaska",
          "20 km NNW of Wisdom, Montana",
          "6 km WNW of Cobb, CA",
          "16 km W of Dutch Harbor, Alaska",
          "7 km NNW of The Geysers, CA",
          "64 km WNW of Tyonek, Alaska",
          "64 km WNW of Tyonek, Alaska",
          "40 km WSW of Carlsbad, CA",
          "4 km S of Condon, Montana",
          "4 km SSE of Floriston, California",
          "5 km SSE of Floriston, California",
          "5 km SSE of Floriston, California",
          "1 km SSW of Indios, Puerto Rico",
          "2 km SW of Indios, Puerto Rico",
          "3 km E of The Geysers, CA",
          "1 km SSW of Julian, CA",
          "1 km SW of Burien, Washington",
          "111 km WNW of Yakutat, Alaska",
          "1 km SE of Loma Linda, CA",
          "46 km NW of Beatty, Nevada",
          "15 km W of Akutan, Alaska",
          "13 km W of Akutan, Alaska",
          "14 km WSW of Akutan, Alaska",
          "3 km NW of The Geysers, CA",
          "28 km S of Chickaloon, Alaska",
          "4 km E of La Parguera, Puerto Rico",
          "32 km W of Tatitlek, Alaska",
          "46 km NW of Beatty, Nevada",
          "2 km NW of The Geysers, CA",
          "13 km SE of Middletown, CA",
          "17 km NNE of Helena Valley Northwest, Montana",
          "7 km WNW of Palomar Observatory, CA",
          "23 km WSW of Point MacKenzie, Alaska",
          "173 km W of Gorontalo, Indonesia",
          "15 km SSW of Desert Aire, Washington",
          "26 km SE of El Negro, Puerto Rico",
          "7 km NW of The Geysers, CA",
          "7 km WNW of Cobb, CA",
          "20 km ESE of Little Lake, CA",
          "8 km NW of The Geysers, CA",
          "7 km SSW of Lerna, Illinois",
          "17 km NNE of Yerington, Nevada",
          "82 km NNW of Karluk, Alaska",
          "6 km WSW of Anza, CA",
          "17 km E of Finley Point, Montana",
          "11 km NE of Kendrick, Oklahoma",
          "209 km NNW of Houma, Tonga",
          "14 km W of Stanley, Idaho",
          "22 km E of Susitna North, Alaska",
          "13 km NE of Ashford, Washington",
          "48 km N of Norðurþing, Iceland",
          "3 km NNW of The Geysers, CA",
          "3 km W of Orinda, CA",
          "4 km SSE of Devore, CA",
          "16 km W of Johannesburg, CA",
          "62 km ESE of Egegik, Alaska",
          "14 km NE of Pāhala, Hawaii",
          "13 km SW of Toms Place, CA",
          "9 km S of Livermore, CA",
          "8 km NNE of Government Camp, Oregon",
          "22 km SSE of Fern Forest, Hawaii",
          "5 km SSW of Lytle Creek, CA",
          "65 km WNW of Tyonek, Alaska",
          "31 km NNE of Fox River, Alaska",
          "13 km N of Four Mile Road, Alaska",
          "40 km W of Akhiok, Alaska",
          "31 km WNW of Petersville, Alaska",
          "5 km WSW of Julian, CA",
          "14 km SE of Anza, CA",
          "19 km NNW of Halfway, Oregon",
          "21 km NE of San Lucas, CA",
          "11 km ESE of Ishikawa, Japan",
          "60 km W of Atka, Alaska",
          "7 km NW of The Geysers, CA",
          "24 km NE of King City, CA",
          "24 km SSE of Pinnacles, CA",
          "10 km N of Midland, Texas",
          "30 km NE of 28 de Noviembre, Argentina",
          "15 km WSW of Akutan, Alaska",
          "3 km S of Key Center, Washington",
          "6 km ESE of West Yellowstone, Montana",
          "20 km ESE of Susitna North, Alaska",
          "182 km E of Qamdo, China",
          "22 km NW of Valdez, Alaska",
          "15 km E of Little Lake, CA",
          "15 km ESE of Little Lake, CA",
          "44 km W of Akhiok, Alaska",
          "8 km WNW of The Geysers, CA",
          "15 km E of Little Lake, CA",
          "65 km WNW of Beluga, Alaska",
          "8 km NE of West Yellowstone, Montana",
          "15 km E of Little Lake, CA",
          "30 km NE of Firá, Greece",
          "11 km WNW of Nikiski, Alaska",
          "32 km SE of Mina, Nevada",
          "56 km S of Whites City, New Mexico",
          "52 km WSW of Tyonek, Alaska",
          "185 km ESE of Kimbe, Papua New Guinea",
          "12 km WNW of Susitna North, Alaska",
          "18 km WSW of La Ligua, Chile",
          "56 km WNW of Beluga, Alaska",
          "13 km NE of Ashford, Washington",
          "64 km WNW of Tyonek, Alaska",
          "67 km SE of Pedro Bay, Alaska",
          "14 km WSW of Stanley, Idaho",
          "4 km NNW of The Geysers, CA",
          "5 km NNE of Banning, CA",
          "11 km SW of La Playa, Puerto Rico",
          "13 km W of Stanley, Idaho",
          "10 km N of Midland, Texas",
          "29 km NNE of Spencer, Idaho",
          "30 km W of Akhiok, Alaska",
          "83 km NW of Aleneva, Alaska",
          "21 km SSW of La Quinta, CA",
          "25 km N of Ivanof Bay, Alaska",
          "5 km WNW of Borrego Springs, CA",
          "5 km SW of Alamo, CA",
          "16 km WNW of Susitna, Alaska",
          "15 km W of Biratori, Japan",
          "101 km WNW of San Antonio de los Cobres, Argentina",
          "7 km NW of The Geysers, CA",
          "4 km SE of Owasso, Oklahoma",
          "20 km ESE of Anza, CA",
          "6 km WNW of Borrego Springs, CA",
          "1 km SW of East Richmond Heights, CA",
          "0 km N of The Geysers, CA",
          "1 km SSE of Paris, Idaho",
          "4 km S of Idyllwild, CA",
          "22 km ENE of Ashford, Washington",
          "0 km WNW of Susitna North, Alaska",
          "2 km ENE of Marston, Missouri",
          "13 km E of Cloverdale, CA",
          "13 km E of Cloverdale, CA",
          "3 km SE of Sherwood, Oregon",
          "5 km NW of Tiptonville, Tennessee",
          "8 km ENE of McCleary, Washington",
          "46 km WSW of False Pass, Alaska",
          "6 km E of Bonadelle Ranchos-Madera Ranchos, CA",
          "2 km SE of Home Gardens, CA",
          "5 km NNW of The Geysers, CA",
          "7 km ENE of Drumright, Oklahoma",
          "8 km N of Pinnacles, CA",
          "4 km ENE of Ritzville, Washington",
          "7 km NW of The Geysers, CA",
          "5 km E of Butte, Montana",
          "3 km SW of Anderson Springs, CA",
          "4 km WNW of Cobb, CA",
          "51 km WNW of Ninilchik, Alaska",
          "16 km N of Borrego Springs, CA",
          "4 km NNW of The Geysers, CA",
          "8 km NNW of The Geysers, CA",
          "21 km SW of Tyonek, Alaska",
          "71 km N of San Juan, Puerto Rico",
          "4 km SW of Imperial, CA",
          "6 km SSW of Devore, CA",
          "13 km NW of The Geysers, CA",
          "8 km WNW of Cobb, CA",
          "22 km ENE of Ashford, Washington",
          "21 km ENE of Skwentna, Alaska",
          "44 km WNW of Tatitlek, Alaska",
          "55 km WSW of San Antonio, Chile",
          "52 km SSE of Whites City, New Mexico",
          "40 km ENE of Petropavlovsk-Kamchatsky, Russia",
          "145 km WNW of Tobelo, Indonesia",
          "4 km SW of Beaumont, CA",
          "10 km NW of The Geysers, CA",
          "3 km ESE of The Geysers, CA",
          "35 km SSW of Los Ybanez, Texas",
          "19 km SSW of Ocotillo Wells, CA",
          "248 km ENE of Lospalos, Timor Leste",
          "1 km SE of The Geysers, CA",
          "12 km ENE of Borrego Springs, CA",
          "5 km NNW of The Geysers, CA",
          "8 km WNW of Cobb, CA",
          "10 km E of Pāhala, Hawaii",
          "13 km ENE of Borrego Springs, CA",
          "44 km SE of Nelchina, Alaska",
          "51 km WSW of Sungai Penuh, Indonesia",
          "3 km NNW of The Geysers, CA",
          "65 km WNW of Beluga, Alaska",
          "8 km WNW of Cobb, CA",
          "4 km W of Danville, CA",
          "6 km WSW of Anza, CA",
          "6 km SSE of La Parguera, Puerto Rico",
          "3 km SE of The Geysers, CA",
          "7 km NW of The Geysers, CA",
          "10 km NW of The Geysers, CA",
          "7 km WNW of Cobb, CA",
          "6 km WNW of Cobb, CA",
          "8 km WNW of Cobb, CA",
          "8 km WNW of Cobb, CA",
          "94 km SE of Palca, Peru",
          "78 km ENE of Mutsu, Japan",
          "21 km W of Sitka, Alaska",
          "south of the Fiji Islands",
          "16 km SW of Puerto San José, Guatemala",
          "3 km NNW of The Geysers, CA",
          "16 km ENE of Talkeetna, Alaska",
          "7 km NNW of Julian, CA",
          "6 km NNE of Badger, Alaska",
          "10 km NNW of Borrego Springs, CA",
          "15 km SSE of Waynoka, Oklahoma",
          "25 km W of Ninilchik, Alaska",
          "6 km NW of Ridgely, Tennessee",
          "77 km NW of Ninilchik, Alaska",
          "10 km ENE of Nuevo, CA",
          "10 km WNW of Cobb, CA",
          "55 km SE of Denali National Park, Alaska",
          "77 km NE of Tonopah, Nevada",
          "14 km ENE of Borrego Springs, CA",
          "6 km NE of Morgan Hill, CA",
          "8 km NNW of The Geysers, CA",
          "4 km W of Cobb, CA",
          "35 km E of Independence, California",
          "18 km NW of Midland, Texas",
          "22 km SSE of Twentynine Palms, CA",
          "3 km NNW of The Geysers, CA",
          "8 km NNW of The Geysers, CA",
          "29 km S of Chickaloon, Alaska",
          "56 km NW of Tatitlek, Alaska",
          "5 km E of Interlaken, CA",
          "5 km NNW of The Geysers, CA",
          "19 km NW of Midland, Texas",
          "31 km S of Atka, Alaska",
          "19 km NE of Gardendale, Texas",
          "63 km W of Tyonek, Alaska",
          "19 km SSW of Irwin, Idaho",
          "59 km S of Glacier View, Alaska",
          "6 km NNW of The Geysers, CA",
          "43 km WNW of Indian Springs, Nevada",
          "22 km SSW of La Quinta, CA",
          "73 km W of Tyonek, Alaska",
          "17 km SW of Nile, Washington",
          "11 km NE of Running Springs, CA",
          "6 km W of Cobb, CA",
          "5 km NW of The Geysers, CA",
          "68 km WNW of Tyonek, Alaska",
          "12 km SSE of Wasilla, Alaska",
          "6 km ESE of Julian, CA",
          "106 km N of Brenas, Puerto Rico",
          "7 km WNW of Cobb, CA",
          "7 km NNW of Gümüşhacıköy, Turkey",
          "7 km NW of The Geysers, CA",
          "100 km WSW of Ollagüe, Chile",
          "15 km SSE of Waynoka, Oklahoma",
          "58 km ENE of King Cove, Alaska",
          "62 km WNW of Tyonek, Alaska",
          "86 km SSE of King Cove, Alaska",
          "2 km NW of The Geysers, CA",
          "11 km E of Chickasha, Oklahoma",
          "63 km WNW of Tyonek, Alaska",
          "7 km NNW of The Geysers, CA",
          "63 km WNW of Tyonek, Alaska",
          "65 km WNW of Tyonek, Alaska",
          "7 km NNW of The Geysers, CA",
          "53 km W of Nanwalek, Alaska",
          "73 km NE of Punta Cana, Dominican Republic",
          "10 km NW of The Geysers, CA",
          "3 km E of Howardville, Missouri",
          "11 km ESE of Mammoth Lakes, CA",
          "20 km S of Morton, Washington",
          "24 km NNE of Kalat, Pakistan",
          "14 km NE of Pelsor, Arkansas",
          "2 km E of Big Pine, CA",
          "86 km NNW of Karluk, Alaska",
          "116 km SSW of Puerto San José, Guatemala",
          "3 km NNW of The Geysers, CA",
          "108 km N of Charlotte Amalie, U.S. Virgin Islands",
          "2 km ESE of Banning, CA",
          "5 km S of Indios, Puerto Rico",
          "2 km E of Cabazon, CA",
          "3 km NE of The Geysers, CA",
          "3 km NW of The Geysers, CA",
          "40 km W of Akhiok, Alaska",
          "2 km NNE of Diamond Bar, CA",
          "51 km N of Güiria, Venezuela",
          "2 km ESE of Banning, CA",
          "43 km N of Baetovo, Kyrgyzstan",
          "137 km WSW of Akhiok, Alaska",
          "3 km NW of The Geysers, CA",
          "43 km W of Nanwalek, Alaska",
          "South Georgia Island region",
          "16 km W of Anchor Point, Alaska",
          "8 km N of Nash, Oklahoma",
          "8 km WNW of Cobb, CA",
          "13 km SE of Anza, CA",
          "5 km WSW of Mount Vernon, Washington",
          "43 km SW of Beringovskiy, Russia",
          "6 km WNW of Cobb, CA",
          "60 km NW of Toyah, Texas",
          "20 km E of Little Lake, CA",
          "18 km WNW of Aleneva, Alaska",
          "10 km WSW of Niland, CA",
          "12 km E of Dillon, Montana",
          "15 km NW of Lake Pillsbury, CA",
          "15 km NW of Lake Pillsbury, CA",
          "52 km NW of Ninilchik, Alaska",
          "5 km NW of The Geysers, CA",
          "16 km NNE of Borrego Springs, CA",
          "8 km WNW of Cobb, CA",
          "33 km NNW of Charlotte Amalie, U.S. Virgin Islands",
          "32 km NW of Stanley, Idaho",
          "7 km WNW of Cobb, CA",
          "15 km NW of Lake Pillsbury, CA",
          "5 km WNW of Cobb, CA",
          "6 km NNW of The Geysers, CA",
          "60 km WNW of Beluga, Alaska",
          "4 km S of Idyllwild, CA",
          "8 km NNW of The Geysers, CA",
          "8 km WNW of Cobb, CA",
          "15 km SSE of Waynoka, Oklahoma",
          "9 km ESE of Running Springs, CA",
          "11 km S of Metchosin, Canada",
          "8 km NNW of Prague, Oklahoma",
          "16 km NE of Borrego Springs, CA",
          "16 km NE of Borrego Springs, CA",
          "178 km ENE of Dawson City, Canada",
          "50 km WSW of Padangsidempuan, Indonesia",
          "59 km WNW of Nanwalek, Alaska",
          "14 km WSW of Stanley, Idaho",
          "9 km NW of The Geysers, CA",
          "6 km ESE of Madison, Ohio",
          "85 km NNW of Karluk, Alaska",
          "4 km NNW of The Geysers, CA",
          "8 km ESE of Running Springs, CA",
          "109 km W of Palaióchora, Greece",
          "3 km NE of Ocotillo Wells, CA",
          "11 km E of Healdsburg, CA",
          "145 km SE of Atlasovo, Russia",
          "9 km ESE of Running Springs, CA",
          "15 km S of Snowville, Utah",
          "36 km ENE of Pedro Bay, Alaska",
          "8 km ESE of Running Springs, CA",
          "19 km N of Stanley, Idaho",
          "2 km SW of Indios, Puerto Rico",
          "2 km WSW of Indios, Puerto Rico",
          "13 km W of Akutan, Alaska",
          "5 km NNW of The Geysers, CA",
          "9 km ESE of Ciudad General Terán, Mexico",
          "8 km SSW of Trapper Creek, Alaska",
          "14 km W of Stanley, Idaho",
          "5 km WSW of Anza, CA",
          "5 km WSW of Anza, CA",
          "0 km WNW of Ridgely, Tennessee",
          "7 km ESE of Chickasha, Oklahoma",
          "33 km NNW of Güiria, Venezuela",
          "118 km SW of Hihifo, Tonga",
          "4 km ENE of Magna, Utah",
          "59 km NNW of Petersville, Alaska",
          "4 km NNW of The Geysers, CA",
          "14 km ENE of Ronan, Montana",
          "16 km W of Searles Valley, CA",
          "82 km SSE of King Cove, Alaska",
          "3 km E of Magna, Utah",
          "8 km WNW of Cobb, CA",
          "24 km SE of Chickaloon, Alaska",
          "16 km ENE of Borrego Springs, CA",
          "7 km NNW of The Geysers, CA",
          "24 km NNW of Nikiski, Alaska",
          "3 km ESE of Lake Henshaw, CA",
          "82 km WSW of Akhiok, Alaska",
          "25 km W of Anderson, Alaska",
          "17 km W of Searles Valley, CA",
          "30 km W of Hebgen Lake Estates, Montana",
          "24 km W of Garden City, Texas",
          "3 km SW of Indios, Puerto Rico",
          "3 km WNW of Cobb, CA",
          "3 km WNW of Cobb, CA",
          "63 km WNW of Tyonek, Alaska",
          "63 km WNW of Tyonek, Alaska",
          "16 km NE of Pāhala, Hawaii",
          "8 km SW of Niland, CA",
          "4 km N of Lake Isabella, CA",
          "74 km SSE of Pangai, Tonga",
          "8 km ESE of Forks, Washington",
          "3 km WNW of Cobb, CA",
          "13 km SSE of Mammoth Lakes, CA",
          "55 km SW of Beringovskiy, Russia",
          "12 km S of Mammoth Lakes, CA",
          "56 km NE of Adak, Alaska",
          "49 km WSW of Denali National Park, Alaska",
          "5 km S of Meadow Lakes, Alaska",
          "64 km WNW of Yonakuni, Japan",
          "11 km S of Princeton, Canada",
          "124 km W of Rikaze, China",
          "13 km SE of Ocotillo, CA",
          "16 km ENE of Yountville, CA",
          "16 km N of Borrego Springs, CA",
          "6 km NW of The Geysers, CA",
          "7 km SW of Kenai, Alaska",
          "7 km NW of The Geysers, CA",
          "12 km SSE of Anza, CA",
          "2 km ENE of The Geysers, CA",
          "6 km SE of Beluga, Alaska",
          "23 km E of Point Possession, Alaska",
          "7 km NNW of The Geysers, CA",
          "6 km NW of The Geysers, CA",
          "50 km WSW of Akhiok, Alaska",
          "21 km NE of Lebec, CA",
          "64 km WNW of Tyonek, Alaska",
          "6 km WNW of Cobb, CA",
          "15 km NW of Emery, Utah",
          "3 km SW of Volcano, Hawaii",
          "35 km SE of Malaga, New Mexico",
          "3 km S of Anderson Springs, CA",
          "21 km SSW of Ackerly, Texas",
          "13 km S of Fern Forest, Hawaii",
          "162 km ESE of Kimbe, Papua New Guinea",
          "51 km SW of Salcha, Alaska",
          "13 km NNE of Gura Teghii, Romania",
          "9 km WNW of Cobb, CA",
          "19 km N of Susitna, Alaska",
          "7 km NNW of The Geysers, CA",
          "20 km W of Searles Valley, CA",
          "71 km ENE of Chase, Alaska",
          "27 km W of Port-Vila, Vanuatu",
          "62 km WNW of Tyonek, Alaska",
          "141 km W of Adak, Alaska",
          "10 km E of Chickasha, Oklahoma",
          "56 km S of Whites City, New Mexico",
          "55 km WNW of Happy Valley, Alaska",
          "11 km ENE of Kanarraville, Utah",
          "2 km NNW of San Bernardino, CA",
          "West Chile Rise",
          "12 km SSE of Whitehall, Montana",
          "41 km S of Tatitlek, Alaska",
          "8 km WNW of Cobb, CA",
          "25 km NW of Toyah, Texas",
          "31 km NW of Toyah, Texas",
          "121 km WNW of Yakutat, Alaska",
          "11 km N of Borrego Springs, CA",
          "2 km NNE of The Geysers, CA",
          "15 km ESE of Livengood, Alaska",
          "6 km WNW of Cobb, CA",
          "8 km WSW of Central, Alaska",
          "29 km NE of Skwentna, Alaska",
          "8 km ESE of Carbonado, Washington",
          "28 km SSE of Livengood, Alaska",
          "18 km ENE of McKinney Acres, Texas",
          "58 km S of Whites City, New Mexico",
          "21 km ESE of Little Lake, CA",
          "23 km SSW of Knik River, Alaska",
          "2 km SSW of Quilcene, Washington",
          "5 km SSE of Coso Junction, CA",
          "4 km NW of Ault Field, Washington",
          "2 km SW of Anderson Springs, CA",
          "8 km WNW of Cobb, CA",
          "41 km NNW of Chickaloon, Alaska",
          "17 km N of Pāhala, Hawaii",
          "63 km WNW of Tyonek, Alaska",
          "16 km NW of Parkfield, CA",
          "2 km SSE of Indios, Puerto Rico",
          "1 km SSE of Indios, Puerto Rico",
          "13 km SE of Ocotillo, CA",
          "16 km ESE of Livengood, Alaska",
          "15 km SSW of Searles Valley, CA",
          "7 km NNW of The Geysers, CA",
          "35 km NW of Toyah, Texas",
          "7 km NW of The Geysers, CA",
          "30 km NW of Toyah, Texas",
          "37 km WSW of Skwentna, Alaska",
          "6 km WNW of Cobb, CA",
          "54 km WNW of Anchor Point, Alaska",
          "7 km NW of The Geysers, CA",
          "9 km E of Midland, Texas",
          "26 km WNW of Indian Springs, Nevada",
          "5 km SSW of Liborio Negron Torres, Puerto Rico",
          "4 km NNE of Fontana, CA",
          "100 km N of Charlotte Amalie, U.S. Virgin Islands",
          "8 km NNW of The Geysers, CA",
          "58 km NW of Toyah, Texas",
          "38 km ENE of Independence, California",
          "4 km SE of Julian, CA",
          "42 km ENE of Independence, California",
          "5 km N of Susitna, Alaska",
          "39 km SE of Vostok, Russia",
          "3 km NE of Cobb, CA",
          "8 km WNW of Cobb, CA",
          "69 km N of Culebra, Puerto Rico",
          "2 km NNW of The Geysers, CA",
          "5 km NNW of Port-Vila, Vanuatu",
          "13 km NW of The Geysers, CA",
          "22 km SE of Susitna North, Alaska",
          "15 km SE of Waimea, Hawaii",
          "64 km WNW of Tyonek, Alaska",
          "6 km WSW of Anza, CA",
          "24 km N of Ivanof Bay, Alaska",
          "38 km SSW of Los Ybanez, Texas",
          "7 km NW of The Geysers, CA",
          "89 km N of Charlotte Amalie, U.S. Virgin Islands",
          "9 km NW of The Geysers, CA",
          "31 km NNE of Chenega, Alaska",
          "6 km ENE of Puerto Wilches, Colombia",
          "59 km S of Whites City, New Mexico",
          "69 km NW of Ninilchik, Alaska",
          "16 km WNW of Cape Vizcaino, CA",
          "8 km E of Kasilof, Alaska",
          "134 km WNW of Ternate, Indonesia",
          "9 km WNW of Cobb, CA",
          "22 km W of Garden City, Texas",
          "57 km S of Whites City, New Mexico",
          "81 km N of Charlotte Amalie, U.S. Virgin Islands",
          "73 km SSW of Harding-Birch Lakes, Alaska",
          "19 km WSW of Petrolia, CA",
          "108 km W of San Antonio de los Cobres, Argentina",
          "20 km NW of Desert Center, CA",
          "20 km NW of Desert Center, CA",
          "1 km NE of Sedro-Woolley, Washington",
          "4 km E of Avila Beach, CA",
          "64 km NW of Rampart, Alaska",
          "32 km SW of Unalaska, Alaska",
          "21 km WSW of Point MacKenzie, Alaska",
          "6 km SE of Hebgen Lake Estates, Montana",
          "6 km SE of Valle Vista, CA",
          "7 km NW of Jamestown, Washington",
          "Rat Islands, Aleutian Islands, Alaska",
          "33 km ENE of Blangpidie, Indonesia",
          "57 km S of Whites City, New Mexico",
          "15 km W of Petrolia, CA",
          "3 km S of Rowland Heights, CA",
          "45 km WNW of Anchor Point, Alaska",
          "9 km S of Trapper Creek, Alaska",
          "70 km N of Tierras Nuevas Poniente, Puerto Rico",
          "7 km SSE of Midland, Texas",
          "64 km W of Karluk, Alaska",
          "7 km WNW of Lake Elsinore, CA",
          "8 km N of Julian, CA",
          "142 km NNW of Tumxuk, China",
          "11 km NNW of Warner Springs, CA",
          "5 km WNW of Borrego Springs, CA",
          "38 km SSE of Nelchina, Alaska",
          "15 km NW of Stanley, Idaho",
          "80 km NNW of Karluk, Alaska",
          "11 km SE of High Bridge, Kentucky",
          "4 km SW of San Bernardino, CA",
          "4 km SE of Tres Pinos, CA",
          "70 km N of Tierras Nuevas Poniente, Puerto Rico",
          "71 km N of Tierras Nuevas Poniente, Puerto Rico",
          "16 km SE of Pinnacles, CA",
          "24 km W of Lima, Montana",
          "89 km E of Cantwell, Alaska",
          "22 km SE of Pinnacles, CA",
          "180 km SE of Kushimoto, Japan",
          "58 km S of Whites City, New Mexico",
          "22 km NNE of Karluk, Alaska",
          "55 km S of Whites City, New Mexico",
          "4 km SW of Idyllwild, CA",
          "15 km E of Little Lake, CA",
          "16 km SE of Pinnacles, CA",
          "32 km SSW of Karaton, Kazakhstan",
          "22 km SE of San Antonio, Chile",
          "12 km S of Fern Forest, Hawaii",
          "10 km NE of Aguanga, CA",
          "27 km WSW of Atiquipa, Peru",
          "25 km SSW of Westbrook, Texas",
          "17 km WSW of Johannesburg, CA",
          "58 km NNW of Glacier View, Alaska",
          "42 km WNW of Ninilchik, Alaska",
          "73 km NNW of Charlotte Amalie, U.S. Virgin Islands",
          "14 km ENE of Yerington, Nevada",
          "1 km NNW of The Geysers, CA",
          "7 km E of Ridgecrest, CA",
          "19 km NW of Papayal, Peru",
          "54 km NW of Toyah, Texas",
          "9 km ENE of Gardendale, Texas",
          "27 km NNE of Severo-Kuril’sk, Russia",
          "64 km WNW of Tyonek, Alaska",
          "7 km NW of The Geysers, CA",
          "86 km NNW of Finschhafen, Papua New Guinea",
          "71 km E of Cantwell, Alaska",
          "76 km NW of Ninilchik, Alaska",
          "14 km E of Willows, CA",
          "4 km NW of Orocovis, Puerto Rico",
          "6 km ENE of Westmorland, CA",
          "85 km NNW of Karluk, Alaska",
          "11 km S of Guánica, Puerto Rico",
          "6 km WNW of Borrego Springs, CA",
          "16 km NW of Emery, Utah",
          "4 km NNW of The Geysers, CA",
          "5 km WSW of Anza, CA",
          "81 km W of Adak, Alaska",
          "7 km WNW of Cobb, CA",
          "72 km WNW of Beluga, Alaska",
          "38 km S of Morton, Washington",
          "11 km NW of Anza, CA",
          "6 km NNW of The Geysers, CA",
          "91 km N of Brenas, Puerto Rico",
          "57 km S of Whites City, New Mexico",
          "8 km SE of Lake Henshaw, CA",
          "54 km NW of Toyah, Texas",
          "39 km WSW of Clear, Alaska",
          "11 km W of Forsan, Texas",
          "16 km SW of Susitna, Alaska",
          "1 km NE of Esperance, Washington",
          "22 km S of Morton, Washington",
          "16 km WNW of Papayal, Peru",
          "81 km W of Adak, Alaska",
          "16 km NNE of Atka, Alaska",
          "11 km ESE of Cascadia, Oregon",
          "57 km S of Whites City, New Mexico",
          "4 km WNW of Borrego Springs, CA",
          "60 km NW of Rampart, Alaska",
          "15 km E of Happys Inn, Montana",
          "17 km NNW of Lima, Montana",
          "63 km WNW of Tyonek, Alaska",
          "18 km WNW of Beluga, Alaska",
          "3 km SW of Volcano, Hawaii",
          "15 km W of Cañaveral, Peru",
          "10 km NW of The Geysers, CA",
          "57 km S of Whites City, New Mexico",
          "12 km ESE of Puebla, B.C., MX",
          "9 km NW of The Geysers, CA",
          "4 km NNW of The Geysers, CA",
          "4 km NNW of The Geysers, CA",
          "10 km ESE of Puebla, B.C., MX",
          "12 km ESE of Puebla, B.C., MX",
          "55 km S of Whites City, New Mexico",
          "3 km W of Mount Vernon, Washington",
          "18 km WSW of Johannesburg, CA",
          "south of the Fiji Islands",
          "63 km WNW of Tyonek, Alaska",
          "64 km WNW of Tyonek, Alaska",
          "18 km NNE of Atka, Alaska",
          "9 km SSW of South Van Horn, Alaska",
          "Rat Islands, Aleutian Islands, Alaska",
          "6 km WNW of Cobb, CA",
          "9 km N of New Idria, CA",
          "33 km S of Manley Hot Springs, Alaska",
          "1 km NW of The Geysers, CA",
          "81 km W of Adak, Alaska",
          "4 km WSW of Mount Vernon, Washington",
          "6 km E of La Conner, Washington",
          "50 km NE of Chase, Alaska",
          "4 km W of Mount Vernon, Washington",
          "16 km SE of Livengood, Alaska",
          "25 km W of Sitka, Alaska",
          "13 km W of Malibu, CA",
          "14 km ENE of Borrego Springs, CA",
          "5 km WNW of Borrego Springs, CA",
          "55 km SSW of Whites City, New Mexico",
          "16 km WSW of Johannesburg, CA",
          "48 km ESE of Beatty, Nevada",
          "1 km E of Deer Island, Oregon",
          "Rat Islands, Aleutian Islands, Alaska",
          "1 km N of Palomas, Puerto Rico",
          "21 km W of Sitka, Alaska",
          "7 km NW of The Geysers, CA",
          "5 km WNW of Cobb, CA",
          "7 km SSW of Concrete, Washington",
          "6 km WNW of Borrego Springs, CA",
          "47 km ESE of Pedro Bay, Alaska",
          "Rat Islands, Aleutian Islands, Alaska",
          "Rat Islands, Aleutian Islands, Alaska",
          "Rat Islands, Aleutian Islands, Alaska",
          "8 km SSE of Okanagan Falls, Canada",
          "52 km W of Mentone, Texas",
          "Rat Islands, Aleutian Islands, Alaska",
          "Rat Islands, Aleutian Islands, Alaska",
          "63 km WNW of Tyonek, Alaska",
          "3 km NNW of The Geysers, CA",
          "11 km W of Anza, CA",
          "8 km NNW of Anza, CA",
          "9 km WNW of Cobb, CA",
          "9 km E of Ridgecrest, CA",
          "23 km ENE of Cantwell, Alaska",
          "58 km W of Nikolski, Alaska",
          "1 km NNW of The Geysers, CA",
          "8 km WNW of Cobb, CA",
          "65 km W of Tyonek, Alaska",
          "2 km ENE of The Geysers, CA",
          "63 km WNW of Tyonek, Alaska",
          "0 km NNW of Indios, Puerto Rico",
          "8 km NNW of The Geysers, CA",
          "46 km WNW of Petrolia, CA",
          "66 km W of Tyonek, Alaska",
          "67 km W of Tyonek, Alaska",
          "13 km NW of The Geysers, CA",
          "9 km N of Anza, CA",
          "9 km N of Anza, CA",
          "81 km W of Adak, Alaska",
          "2 km WNW of Valdez, Alaska",
          "81 km W of Adak, Alaska",
          "69 km WNW of Tyonek, Alaska",
          "40 km W of Karluk, Alaska",
          "67 km NNE of Arecibo, Puerto Rico",
          "8 km NNW of Anza, CA",
          "81 km W of Adak, Alaska",
          "80 km W of Adak, Alaska",
          "9 km WSW of Marshall, Oklahoma",
          "6 km NNW of The Geysers, CA",
          "7 km NW of The Geysers, CA",
          "24 km W of Cantwell, Alaska",
          "55 km S of Whites City, New Mexico",
          "6 km NNW of The Geysers, CA",
          "4 km SE of Kelly, Wyoming",
          "8 km WNW of Cobb, CA",
          "13 km ENE of Verlot, Washington",
          "2 km SSW of Julian, CA",
          "72 km N of Tierras Nuevas Poniente, Puerto Rico",
          "83 km NNW of Karluk, Alaska",
          "10 km NW of The Geysers, CA",
          "83 km NNW of San Antonio, Puerto Rico",
          "8 km WNW of Cobb, CA",
          "261 km W of Adak, Alaska",
          "27 km S of Masachapa, Nicaragua",
          "4 km SSE of La Parguera, Puerto Rico",
          "63 km WNW of Tyonek, Alaska",
          "61 km WNW of Tyonek, Alaska",
          "8 km E of Kalama, Washington",
          "4 km W of Cobb, CA",
          "55 km SW of Puerto El Triunfo, El Salvador",
          "9 km ENE of Port Lions, Alaska",
          "88 km SE of Chiniak, Alaska",
          "38 km W of Nanwalek, Alaska",
          "26 km W of Sitka, Alaska",
          "6 km ESE of West Yellowstone, Montana",
          "17 km W of Tyonek, Alaska",
          "35 km ENE of Palora, Ecuador",
          "249 km E of Levuka, Fiji",
          "65 km ESE of Pope-Vannoy Landing, Alaska",
          "23 km W of Hebgen Lake Estates, Montana",
          "7 km ESE of West Yellowstone, Montana",
          "19 km E of Finley Point, Montana",
          "72 km N of Masallātah, Libya",
          "7 km ESE of Okanagan Falls, Canada",
          "49 km E of Pedro Bay, Alaska",
          "211 km SE of Perryville, Alaska",
          "5 km SE of Redlands, CA",
          "110 km W of San Antonio de los Cobres, Argentina",
          "72 km WNW of Beluga, Alaska",
          "64 km WNW of Tyonek, Alaska",
          "84 km NW of Ninilchik, Alaska",
          "44 km W of Anchor Point, Alaska",
          "6 km ESE of West Yellowstone, Montana",
          "6 km WNW of Cobb, CA",
          "6 km ESE of West Yellowstone, Montana",
          "39 km NNE of Atka, Alaska",
          "24 km SSE of Skwentna, Alaska",
          "34 km SSE of Hawthorne, Nevada",
          "25 km S of Sequndo, Colorado",
          "61 km WNW of Beluga, Alaska",
          "64 km WNW of Tyonek, Alaska",
          "272 km NNE of Lospalos, Timor Leste",
          "7 km NNE of Orinda, CA",
          "7 km NW of The Geysers, CA",
          "11 km W of Anza, CA",
          "3 km SW of Hidden Valley Lake, CA",
          "135 km SE of Perryville, Alaska",
          "2 km NNW of The Geysers, CA",
          "2 km N of Guayanilla, Puerto Rico",
          "17 km W of Searles Valley, CA",
          "61 km W of Anchor Point, Alaska",
          "83 km NNW of Karluk, Alaska",
          "3 km W of Cobb, CA",
          "10 km ENE of Borrego Springs, CA",
          "52 km W of Mentone, Texas",
          "7 km WNW of Cobb, CA",
          "27 km S of Chickaloon, Alaska",
          "28 km SSE of Mina, Nevada",
          "4 km NNW of The Geysers, CA",
          "6 km WNW of Cobb, CA",
          "8 km WSW of Calimesa, CA",
          "6 km E of La Parguera, Puerto Rico",
          "63 km WNW of Tyonek, Alaska",
          "63 km WNW of Tyonek, Alaska",
          "6 km SE of Hebgen Lake Estates, Montana",
          "67 km WNW of Tyonek, Alaska",
          "12 km NW of The Geysers, CA",
          "11 km NE of Concrete, Washington",
          "7 km NNW of The Geysers, CA",
          "3 km W of Cobb, CA",
          "60 km WNW of Tyonek, Alaska",
          "178 km W of Abepura, Indonesia",
          "64 km WNW of Beluga, Alaska",
          "13 km NW of The Geysers, CA",
          "65 km SSW of Whites City, New Mexico",
          "18 km E of Little Lake, CA",
          "11 km NE of Trabuco Canyon, CA",
          "5 km NW of Aguanga, CA",
          "7 km WNW of Cobb, CA",
          "21 km SE of Greenback, Tennessee",
          "18 km N of Borrego Springs, CA",
          "15 km ESE of Ocotillo, CA",
          "2 km W of Anderson Springs, CA",
          "24 km ESE of Ridgecrest, CA",
          "15 km ESE of Little Lake, CA",
          "24 km E of Funny River, Alaska",
          "south of the Fiji Islands",
          "62 km E of Ugashik, Alaska",
          "30 km SSE of Chickaloon, Alaska",
          "56 km W of Anchor Point, Alaska",
          "4 km NNW of The Geysers, CA",
          "8 km NW of Prague, Oklahoma",
          "12 km WSW of Searles Valley, CA",
          "18 km NW of Naranjal, Ecuador",
          "9 km WNW of Cobb, CA",
          "5 km NNW of The Geysers, CA",
          "4 km ENE of Meridian, Oklahoma",
          "5 km NNW of The Geysers, CA",
          "191 km SSE of Atka, Alaska",
          "5 km NNW of The Geysers, CA",
          "83 km SW of Kurio, Japan",
          "67 km NNW of Charlotte Amalie, U.S. Virgin Islands",
          "10 km NW of The Geysers, CA",
          "64 km WNW of Tyonek, Alaska",
          "12 km NNW of Virginia City, Nevada",
          "12 km NNW of Virginia City, Nevada",
          "263 km W of Adak, Alaska",
          "3 km SE of The Geysers, CA",
          "16 km NNE of Amanda Park, Washington",
          "9 km NW of The Geysers, CA",
          "2 km ENE of Magna, Utah",
          "56 km SSW of Whites City, New Mexico",
          "9 km NE of Kaktovik, Alaska",
          "34 km SSW of Caliente, Nevada",
          "13 km SSE of Fern Forest, Hawaii",
          "32 km NW of Furnace Creek, California",
          "144 km SE of Perryville, Alaska",
          "66 km S of Kokhanok, Alaska",
          "9 km ESE of Chickasha, Oklahoma",
          "15 km ENE of Yerington, Nevada",
          "8 km NNW of The Geysers, CA",
          "2 km WSW of Coleville, California",
          "80 km ESE of Egegik, Alaska",
          "42 km SSE of Adak, Alaska",
          "8 km NW of Prague, Oklahoma",
          "65 km WNW of Beluga, Alaska",
          "64 km SE of Denali National Park, Alaska",
          "7 km NNW of The Geysers, CA",
          "82 km SW of Kaktovik, Alaska",
          "7 km NE of Gardendale, Texas",
          "9 km ENE of Gardendale, Texas",
          "60 km SSE of Adak, Alaska",
          "11 km SSE of Pinnacles, CA",
          "45 km ESE of Pedro Bay, Alaska",
          "86 km NW of Karluk, Alaska",
          "91 km SE of King Cove, Alaska",
          "45 km SE of Akhiok, Alaska",
          "2 km NW of The Geysers, CA",
          "8 km NW of Prague, Oklahoma",
          "17 km S of Pony, Montana",
          "15 km WNW of Emery, Utah",
          "7 km NW of The Geysers, CA",
          "83 km NW of Ninilchik, Alaska",
          "2 km NNW of Hollister, CA",
          "67 km NNE of Cruz Bay, U.S. Virgin Islands",
          "2 km NNE of The Geysers, CA",
          "4 km SSE of Concord, CA",
          "8 km WNW of Cobb, CA",
          "66 km WNW of Beluga, Alaska",
          "5 km NNW of The Geysers, CA",
          "29 km N of Ivanof Bay, Alaska",
          "7 km NE of Ninnekah, Oklahoma",
          "11 km E of Chickasha, Oklahoma",
          "12 km SE of Mammoth Lakes, CA",
          "7 km NNW of The Geysers, CA",
          "2 km SSW of Anderson Springs, CA",
          "2 km SSW of Tallaboa Alta, Puerto Rico",
          "89 km E of Kimbe, Papua New Guinea",
          "6 km NNW of The Geysers, CA",
          "48 km NW of Beatty, Nevada",
          "3 km WNW of Maricao, Puerto Rico",
          "14 km SE of Anza, CA",
          "23 km ENE of West Yellowstone, Montana",
          "80 km WNW of Karluk, Alaska",
          "8 km NW of Prague, Oklahoma",
          "15 km W of Johannesburg, CA",
          "7 km NW of Prague, Oklahoma",
          "8 km NW of Prague, Oklahoma",
          "8 km NW of Prague, Oklahoma",
          "5 km WNW of Cobb, CA",
          "8 km NW of Prague, Oklahoma",
          "68 km NW of Ninilchik, Alaska",
          "70 km SE of Unalaska, Alaska",
          "8 km NW of Prague, Oklahoma",
          "34 km W of Ashkāsham, Afghanistan",
          "83 km NW of Ollagüe, Chile",
          "8 km NW of Prague, Oklahoma",
          "8 km NW of Prague, Oklahoma",
          "70 km WNW of Tyonek, Alaska",
          "8 km NW of Prague, Oklahoma",
          "2 km WSW of Rubidoux, CA",
          "8 km NW of Prague, Oklahoma",
          "163 km SE of Petropavlovsk-Kamchatsky, Russia",
          "21 km WNW of Stanley, Idaho",
          "21 km ESE of Little Lake, CA",
          "17 km WSW of Johannesburg, CA",
          "62 km WNW of Tyonek, Alaska",
          "81 km NW of Ninilchik, Alaska",
          "29 km WSW of Ackerly, Texas",
          "70 km WNW of Tyonek, Alaska",
          "68 km WNW of Tyonek, Alaska",
          "101 km S of McCarthy, Alaska",
          "8 km NW of Prague, Oklahoma",
          "8 km NW of Prague, Oklahoma",
          "80 km NW of Ninilchik, Alaska",
          "8 km NW of Prague, Oklahoma",
          "16 km W of Johannesburg, CA",
          "123 km S of Chenega, Alaska",
          "8 km NW of Prague, Oklahoma",
          "7 km ESE of Valle Vista, CA",
          "7 km ESE of Valle Vista, CA",
          "8 km NW of Prague, Oklahoma",
          "48 km SSE of False Pass, Alaska",
          "8 km NW of Prague, Oklahoma",
          "8 km NW of Prague, Oklahoma",
          "7 km NNW of The Geysers, CA",
          "8 km NW of Prague, Oklahoma",
          "8 km NW of Prague, Oklahoma",
          "66 km N of Tierras Nuevas Poniente, Puerto Rico",
          "8 km NW of Prague, Oklahoma",
          "12 km ENE of Borrego Springs, CA",
          "7 km SSW of Idyllwild, CA",
          "182 km N of Maubara, Timor Leste",
          "48 km SW of Atiquipa, Peru",
          "8 km NW of Prague, Oklahoma",
          "7 km NW of Logan, Montana",
          "8 km NW of Prague, Oklahoma",
          "8 km NW of Prague, Oklahoma",
          "10 km NW of The Geysers, CA",
          "8 km NW of Prague, Oklahoma",
          "8 km NW of Prague, Oklahoma",
          "8 km NW of Prague, Oklahoma",
          "8 km NW of Prague, Oklahoma",
          "8 km NW of Prague, Oklahoma",
          "8 km NW of Prague, Oklahoma",
          "21 km E of Pedro Bay, Alaska",
          "11 km WSW of Akutan, Alaska",
          "8 km NW of Prague, Oklahoma",
          "8 km NW of Prague, Oklahoma",
          "8 km NW of Prague, Oklahoma",
          "7 km NW of Prague, Oklahoma",
          "8 km NW of Prague, Oklahoma",
          "8 km NW of Prague, Oklahoma",
          "8 km NW of Prague, Oklahoma",
          "79 km NW of Ninilchik, Alaska",
          "8 km NW of Prague, Oklahoma",
          "17 km NE of Yerington, Nevada",
          "27 km NE of Beaver, Alaska",
          "6 km NW of The Geysers, CA",
          "19 km W of Searles Valley, CA",
          "66 km ESE of Adak, Alaska",
          "37 km NW of Stanton, Texas",
          "128 km SW of Adak, Alaska",
          "7 km NNW of The Geysers, CA",
          "5 km WNW of Cobb, CA",
          "78 km W of San Antonio de los Cobres, Argentina",
          "3 km NE of Rincón, Puerto Rico",
          "15 km NNE of Atka, Alaska",
          "24 km ESE of Little Lake, CA",
          "4 km W of Cobb, CA",
          "4 km W of Cobb, CA",
          "12 km SSE of Anza, CA",
          "21 km W of Willow, Alaska",
          "Rat Islands, Aleutian Islands, Alaska",
          "64 km W of Tyonek, Alaska",
          "32 km NW of Stanley, Idaho",
          "135 km WNW of Petrolia, CA",
          "11 km ESE of Cascadia, Oregon",
          "23 km NNE of Yerington, Nevada",
          "273 km W of Houma, Tonga",
          "60 km SE of Adak, Alaska",
          "21 km NNW of Tehachapi, CA",
          "187 km E of Atka, Alaska",
          "13 km SSE of Fern Forest, Hawaii",
          "10 km S of Idyllwild, CA",
          "3 km SE of The Geysers, CA",
          "Fiji region",
          "45 km NNW of Pahrump, Nevada",
          "145 km WSW of Adak, Alaska",
          "146 km WSW of Adak, Alaska",
          "63 km W of Tyonek, Alaska",
          "7 km SW of Volcano, Hawaii",
          "94 km SE of King Cove, Alaska",
          "80 km ESE of Denali Park, Alaska",
          "11 km ESE of Chickasha, Oklahoma",
          "2 km SSW of Amboy, Washington",
          "11 km SE of Gorman, CA",
          "282 km ENE of Lospalos, Timor Leste",
          "15 km E of Finley Point, Montana",
          "25 km NNW of Parkfield, CA",
          "2 km WNW of Carnation, Washington",
          "5 km WSW of Anza, CA",
          "4 km WNW of Cobb, CA",
          "30 km E of Bunker Hill, Oregon",
          "15 km SSE of Stanton, Texas",
          "southeast Indian Ridge",
          "15 km SSE of Stanton, Texas",
          "2 km W of Home Gardens, CA",
          "15 km WNW of Malibu, CA",
          "56 km E of Pedro Bay, Alaska",
          "194 km ESE of Atka, Alaska",
          "7 km WNW of Cobb, CA",
          "33 km N of Nikolski, Alaska",
          "10 km E of Pinnacles, CA",
          "185 km E of Atka, Alaska",
          "10 km S of Princeton, Canada",
          "6 km NNW of The Geysers, CA",
          "196 km W of Adak, Alaska",
          "2 km SSW of Indios, Puerto Rico",
          "16 km NW of Emery, Utah",
          "16 km NNE of Ridgecrest, CA",
          "57 km NW of Rampart, Alaska",
          "15 km SSE of Stanton, Texas",
          "9 km NW of The Geysers, CA",
          "63 km SE of Adak, Alaska",
          "7 km WNW of Cobb, CA",
          "47 km E of Fort Bidwell, California",
          "11 km ESE of Boonville, CA",
          "4 km W of Mammoth Lakes, CA",
          "9 km E of Morgan Hill, CA",
          "17 km SSE of Mammoth Lakes, CA",
          "36 km WNW of Tyonek, Alaska",
          "59 km WNW of Tyonek, Alaska",
          "270 km W of Adak, Alaska",
          "78 km NW of Ninilchik, Alaska",
          "south of the Kermadec Islands",
          "5 km ENE of Butte, Montana",
          "8 km NW of The Geysers, CA",
          "72 km NNW of Karluk, Alaska",
          "15 km SSE of Ocotillo Wells, CA",
          "6 km WNW of Cobb, CA",
          "44 km NE of Holtville, CA",
          "89 km NNW of Vallenar, Chile",
          "39 km SW of Skwentna, Alaska",
          "16 km NNE of Indio, CA",
          "57 km W of Petrolia, CA",
          "39 km NE of Yelizovo, Russia",
          "60 km SW of Adak, Alaska",
          "5 km ENE of Lebanon, Oregon",
          "6 km SE of Bonita, CA",
          "5 km ENE of Vallejo, CA",
          "12 km WSW of Stanton, Texas",
          "32 km W of Freedom, Idaho",
          "40 km SW of Skwentna, Alaska",
          "10 km SSE of Dilley, Texas",
          "22 km NNW of Wisdom, Montana",
          "6 km S of Dilley, Texas",
          "74 km WNW of Karluk, Alaska",
          "9 km NE of Port-Vila, Vanuatu",
          "73 km SW of Unalaska, Alaska",
          "3 km ENE of San Fernando, CA",
          "64 km WNW of Tyonek, Alaska",
          "6 km WNW of Cobb, CA",
          "Pagan region, Northern Mariana Islands",
          "13 km NW of The Geysers, CA",
          "37 km NE of Whittier, Alaska",
          "3 km SSW of Tallaboa, Puerto Rico",
          "2 km  of The Geysers, CA",
          "52 km W of Mentone, Texas",
          "46 km NW of Toyah, Texas",
          "35 km E of Larsen Bay, Alaska",
          "45 km NW of Toyah, Texas",
          "13 km WNW of Whitehall, Montana",
          "16 km W of Johannesburg, CA",
          "11 km ENE of East Cathlamet, Washington",
          "17 km NNE of Yerington, Nevada",
          "38 km S of Silver Gate, Montana",
          "88 km NNW of Karluk, Alaska",
          "9 km SSE of McKenna, Washington",
          "5 km WNW of Cobb, CA",
          "27 km S of Westbrook, Texas"
         ],
         "lat": {
          "bdata": "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",
          "dtype": "f8"
         },
         "legendgroup": "",
         "lon": {
          "bdata": "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",
          "dtype": "f8"
         },
         "marker": {
          "color": {
           "bdata": "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",
           "dtype": "f8"
          },
          "coloraxis": "coloraxis",
          "size": {
           "bdata": "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",
           "dtype": "f8"
          },
          "sizemode": "area",
          "sizeref": 0.08,
          "symbol": "circle"
         },
         "mode": "markers",
         "name": "",
         "showlegend": false,
         "type": "scattergeo"
        }
       ],
       "layout": {
        "coloraxis": {
         "colorbar": {
          "title": {
           "text": "震级"
          }
         },
         "colorscale": [
          [
           0,
           "rgb(255,245,240)"
          ],
          [
           0.125,
           "rgb(254,224,210)"
          ],
          [
           0.25,
           "rgb(252,187,161)"
          ],
          [
           0.375,
           "rgb(252,146,114)"
          ],
          [
           0.5,
           "rgb(251,106,74)"
          ],
          [
           0.625,
           "rgb(239,59,44)"
          ],
          [
           0.75,
           "rgb(203,24,29)"
          ],
          [
           0.875,
           "rgb(165,15,21)"
          ],
          [
           1,
           "rgb(103,0,13)"
          ]
         ]
        },
        "geo": {
         "center": {},
         "domain": {
          "x": [
           0,
           1
          ],
          "y": [
           0,
           1
          ]
         },
         "projection": {
          "type": "natural earth"
         }
        },
        "legend": {
         "itemsizing": "constant",
         "tracegroupgap": 0
        },
        "template": {
         "data": {
          "bar": [
           {
            "error_x": {
             "color": "#2a3f5f"
            },
            "error_y": {
             "color": "#2a3f5f"
            },
            "marker": {
             "line": {
              "color": "#E5ECF6",
              "width": 0.5
             },
             "pattern": {
              "fillmode": "overlay",
              "size": 10,
              "solidity": 0.2
             }
            },
            "type": "bar"
           }
          ],
          "barpolar": [
           {
            "marker": {
             "line": {
              "color": "#E5ECF6",
              "width": 0.5
             },
             "pattern": {
              "fillmode": "overlay",
              "size": 10,
              "solidity": 0.2
             }
            },
            "type": "barpolar"
           }
          ],
          "carpet": [
           {
            "aaxis": {
             "endlinecolor": "#2a3f5f",
             "gridcolor": "white",
             "linecolor": "white",
             "minorgridcolor": "white",
             "startlinecolor": "#2a3f5f"
            },
            "baxis": {
             "endlinecolor": "#2a3f5f",
             "gridcolor": "white",
             "linecolor": "white",
             "minorgridcolor": "white",
             "startlinecolor": "#2a3f5f"
            },
            "type": "carpet"
           }
          ],
          "choropleth": [
           {
            "colorbar": {
             "outlinewidth": 0,
             "ticks": ""
            },
            "type": "choropleth"
           }
          ],
          "contour": [
           {
            "colorbar": {
             "outlinewidth": 0,
             "ticks": ""
            },
            "colorscale": [
             [
              0,
              "#0d0887"
             ],
             [
              0.1111111111111111,
              "#46039f"
             ],
             [
              0.2222222222222222,
              "#7201a8"
             ],
             [
              0.3333333333333333,
              "#9c179e"
             ],
             [
              0.4444444444444444,
              "#bd3786"
             ],
             [
              0.5555555555555556,
              "#d8576b"
             ],
             [
              0.6666666666666666,
              "#ed7953"
             ],
             [
              0.7777777777777778,
              "#fb9f3a"
             ],
             [
              0.8888888888888888,
              "#fdca26"
             ],
             [
              1,
              "#f0f921"
             ]
            ],
            "type": "contour"
           }
          ],
          "contourcarpet": [
           {
            "colorbar": {
             "outlinewidth": 0,
             "ticks": ""
            },
            "type": "contourcarpet"
           }
          ],
          "heatmap": [
           {
            "colorbar": {
             "outlinewidth": 0,
             "ticks": ""
            },
            "colorscale": [
             [
              0,
              "#0d0887"
             ],
             [
              0.1111111111111111,
              "#46039f"
             ],
             [
              0.2222222222222222,
              "#7201a8"
             ],
             [
              0.3333333333333333,
              "#9c179e"
             ],
             [
              0.4444444444444444,
              "#bd3786"
             ],
             [
              0.5555555555555556,
              "#d8576b"
             ],
             [
              0.6666666666666666,
              "#ed7953"
             ],
             [
              0.7777777777777778,
              "#fb9f3a"
             ],
             [
              0.8888888888888888,
              "#fdca26"
             ],
             [
              1,
              "#f0f921"
             ]
            ],
            "type": "heatmap"
           }
          ],
          "histogram": [
           {
            "marker": {
             "pattern": {
              "fillmode": "overlay",
              "size": 10,
              "solidity": 0.2
             }
            },
            "type": "histogram"
           }
          ],
          "histogram2d": [
           {
            "colorbar": {
             "outlinewidth": 0,
             "ticks": ""
            },
            "colorscale": [
             [
              0,
              "#0d0887"
             ],
             [
              0.1111111111111111,
              "#46039f"
             ],
             [
              0.2222222222222222,
              "#7201a8"
             ],
             [
              0.3333333333333333,
              "#9c179e"
             ],
             [
              0.4444444444444444,
              "#bd3786"
             ],
             [
              0.5555555555555556,
              "#d8576b"
             ],
             [
              0.6666666666666666,
              "#ed7953"
             ],
             [
              0.7777777777777778,
              "#fb9f3a"
             ],
             [
              0.8888888888888888,
              "#fdca26"
             ],
             [
              1,
              "#f0f921"
             ]
            ],
            "type": "histogram2d"
           }
          ],
          "histogram2dcontour": [
           {
            "colorbar": {
             "outlinewidth": 0,
             "ticks": ""
            },
            "colorscale": [
             [
              0,
              "#0d0887"
             ],
             [
              0.1111111111111111,
              "#46039f"
             ],
             [
              0.2222222222222222,
              "#7201a8"
             ],
             [
              0.3333333333333333,
              "#9c179e"
             ],
             [
              0.4444444444444444,
              "#bd3786"
             ],
             [
              0.5555555555555556,
              "#d8576b"
             ],
             [
              0.6666666666666666,
              "#ed7953"
             ],
             [
              0.7777777777777778,
              "#fb9f3a"
             ],
             [
              0.8888888888888888,
              "#fdca26"
             ],
             [
              1,
              "#f0f921"
             ]
            ],
            "type": "histogram2dcontour"
           }
          ],
          "mesh3d": [
           {
            "colorbar": {
             "outlinewidth": 0,
             "ticks": ""
            },
            "type": "mesh3d"
           }
          ],
          "parcoords": [
           {
            "line": {
             "colorbar": {
              "outlinewidth": 0,
              "ticks": ""
             }
            },
            "type": "parcoords"
           }
          ],
          "pie": [
           {
            "automargin": true,
            "type": "pie"
           }
          ],
          "scatter": [
           {
            "fillpattern": {
             "fillmode": "overlay",
             "size": 10,
             "solidity": 0.2
            },
            "type": "scatter"
           }
          ],
          "scatter3d": [
           {
            "line": {
             "colorbar": {
              "outlinewidth": 0,
              "ticks": ""
             }
            },
            "marker": {
             "colorbar": {
              "outlinewidth": 0,
              "ticks": ""
             }
            },
            "type": "scatter3d"
           }
          ],
          "scattercarpet": [
           {
            "marker": {
             "colorbar": {
              "outlinewidth": 0,
              "ticks": ""
             }
            },
            "type": "scattercarpet"
           }
          ],
          "scattergeo": [
           {
            "marker": {
             "colorbar": {
              "outlinewidth": 0,
              "ticks": ""
             }
            },
            "type": "scattergeo"
           }
          ],
          "scattergl": [
           {
            "marker": {
             "colorbar": {
              "outlinewidth": 0,
              "ticks": ""
             }
            },
            "type": "scattergl"
           }
          ],
          "scattermap": [
           {
            "marker": {
             "colorbar": {
              "outlinewidth": 0,
              "ticks": ""
             }
            },
            "type": "scattermap"
           }
          ],
          "scattermapbox": [
           {
            "marker": {
             "colorbar": {
              "outlinewidth": 0,
              "ticks": ""
             }
            },
            "type": "scattermapbox"
           }
          ],
          "scatterpolar": [
           {
            "marker": {
             "colorbar": {
              "outlinewidth": 0,
              "ticks": ""
             }
            },
            "type": "scatterpolar"
           }
          ],
          "scatterpolargl": [
           {
            "marker": {
             "colorbar": {
              "outlinewidth": 0,
              "ticks": ""
             }
            },
            "type": "scatterpolargl"
           }
          ],
          "scatterternary": [
           {
            "marker": {
             "colorbar": {
              "outlinewidth": 0,
              "ticks": ""
             }
            },
            "type": "scatterternary"
           }
          ],
          "surface": [
           {
            "colorbar": {
             "outlinewidth": 0,
             "ticks": ""
            },
            "colorscale": [
             [
              0,
              "#0d0887"
             ],
             [
              0.1111111111111111,
              "#46039f"
             ],
             [
              0.2222222222222222,
              "#7201a8"
             ],
             [
              0.3333333333333333,
              "#9c179e"
             ],
             [
              0.4444444444444444,
              "#bd3786"
             ],
             [
              0.5555555555555556,
              "#d8576b"
             ],
             [
              0.6666666666666666,
              "#ed7953"
             ],
             [
              0.7777777777777778,
              "#fb9f3a"
             ],
             [
              0.8888888888888888,
              "#fdca26"
             ],
             [
              1,
              "#f0f921"
             ]
            ],
            "type": "surface"
           }
          ],
          "table": [
           {
            "cells": {
             "fill": {
              "color": "#EBF0F8"
             },
             "line": {
              "color": "white"
             }
            },
            "header": {
             "fill": {
              "color": "#C8D4E3"
             },
             "line": {
              "color": "white"
             }
            },
            "type": "table"
           }
          ]
         },
         "layout": {
          "annotationdefaults": {
           "arrowcolor": "#2a3f5f",
           "arrowhead": 0,
           "arrowwidth": 1
          },
          "autotypenumbers": "strict",
          "coloraxis": {
           "colorbar": {
            "outlinewidth": 0,
            "ticks": ""
           }
          },
          "colorscale": {
           "diverging": [
            [
             0,
             "#8e0152"
            ],
            [
             0.1,
             "#c51b7d"
            ],
            [
             0.2,
             "#de77ae"
            ],
            [
             0.3,
             "#f1b6da"
            ],
            [
             0.4,
             "#fde0ef"
            ],
            [
             0.5,
             "#f7f7f7"
            ],
            [
             0.6,
             "#e6f5d0"
            ],
            [
             0.7,
             "#b8e186"
            ],
            [
             0.8,
             "#7fbc41"
            ],
            [
             0.9,
             "#4d9221"
            ],
            [
             1,
             "#276419"
            ]
           ],
           "sequential": [
            [
             0,
             "#0d0887"
            ],
            [
             0.1111111111111111,
             "#46039f"
            ],
            [
             0.2222222222222222,
             "#7201a8"
            ],
            [
             0.3333333333333333,
             "#9c179e"
            ],
            [
             0.4444444444444444,
             "#bd3786"
            ],
            [
             0.5555555555555556,
             "#d8576b"
            ],
            [
             0.6666666666666666,
             "#ed7953"
            ],
            [
             0.7777777777777778,
             "#fb9f3a"
            ],
            [
             0.8888888888888888,
             "#fdca26"
            ],
            [
             1,
             "#f0f921"
            ]
           ],
           "sequentialminus": [
            [
             0,
             "#0d0887"
            ],
            [
             0.1111111111111111,
             "#46039f"
            ],
            [
             0.2222222222222222,
             "#7201a8"
            ],
            [
             0.3333333333333333,
             "#9c179e"
            ],
            [
             0.4444444444444444,
             "#bd3786"
            ],
            [
             0.5555555555555556,
             "#d8576b"
            ],
            [
             0.6666666666666666,
             "#ed7953"
            ],
            [
             0.7777777777777778,
             "#fb9f3a"
            ],
            [
             0.8888888888888888,
             "#fdca26"
            ],
            [
             1,
             "#f0f921"
            ]
           ]
          },
          "colorway": [
           "#636efa",
           "#EF553B",
           "#00cc96",
           "#ab63fa",
           "#FFA15A",
           "#19d3f3",
           "#FF6692",
           "#B6E880",
           "#FF97FF",
           "#FECB52"
          ],
          "font": {
           "color": "#2a3f5f"
          },
          "geo": {
           "bgcolor": "white",
           "lakecolor": "white",
           "landcolor": "#E5ECF6",
           "showlakes": true,
           "showland": true,
           "subunitcolor": "white"
          },
          "hoverlabel": {
           "align": "left"
          },
          "hovermode": "closest",
          "mapbox": {
           "style": "light"
          },
          "paper_bgcolor": "white",
          "plot_bgcolor": "#E5ECF6",
          "polar": {
           "angularaxis": {
            "gridcolor": "white",
            "linecolor": "white",
            "ticks": ""
           },
           "bgcolor": "#E5ECF6",
           "radialaxis": {
            "gridcolor": "white",
            "linecolor": "white",
            "ticks": ""
           }
          },
          "scene": {
           "xaxis": {
            "backgroundcolor": "#E5ECF6",
            "gridcolor": "white",
            "gridwidth": 2,
            "linecolor": "white",
            "showbackground": true,
            "ticks": "",
            "zerolinecolor": "white"
           },
           "yaxis": {
            "backgroundcolor": "#E5ECF6",
            "gridcolor": "white",
            "gridwidth": 2,
            "linecolor": "white",
            "showbackground": true,
            "ticks": "",
            "zerolinecolor": "white"
           },
           "zaxis": {
            "backgroundcolor": "#E5ECF6",
            "gridcolor": "white",
            "gridwidth": 2,
            "linecolor": "white",
            "showbackground": true,
            "ticks": "",
            "zerolinecolor": "white"
           }
          },
          "shapedefaults": {
           "line": {
            "color": "#2a3f5f"
           }
          },
          "ternary": {
           "aaxis": {
            "gridcolor": "white",
            "linecolor": "white",
            "ticks": ""
           },
           "baxis": {
            "gridcolor": "white",
            "linecolor": "white",
            "ticks": ""
           },
           "bgcolor": "#E5ECF6",
           "caxis": {
            "gridcolor": "white",
            "linecolor": "white",
            "ticks": ""
           }
          },
          "title": {
           "x": 0.05
          },
          "xaxis": {
           "automargin": true,
           "gridcolor": "white",
           "linecolor": "white",
           "ticks": "",
           "title": {
            "standoff": 15
           },
           "zerolinecolor": "white",
           "zerolinewidth": 2
          },
          "yaxis": {
           "automargin": true,
           "gridcolor": "white",
           "linecolor": "white",
           "ticks": "",
           "title": {
            "standoff": 15
           },
           "zerolinecolor": "white",
           "zerolinewidth": 2
          }
         }
        },
        "title": {
         "text": "全球地震分布"
        }
       }
      }
     },
     "metadata": {},
     "output_type": "display_data"
    }
   ],
   "source": [
    "import pandas as pd\n",
    "from pymongo import MongoClient\n",
    "import plotly.express as px\n",
    "import datetime\n",
    "\n",
    "# 连接MongoDB\n",
    "client = MongoClient('mongodb://localhost:27017/')\n",
    "db = client['geo_demo']\n",
    "collection = db['earthquakes']\n",
    "\n",
    "# 查询地震数据（只取部分字段，限制数量可加 limit）\n",
    "cursor = collection.find({}, {\n",
    "    'geometry.coordinates': 1,\n",
    "    'properties.place': 1,\n",
    "    'properties.time': 1,\n",
    "    'properties.mag': 1\n",
    "})\n",
    "\n",
    "# 整理为DataFrame\n",
    "records = []\n",
    "for doc in cursor:\n",
    "    coords = doc['geometry']['coordinates']\n",
    "    lon, lat = coords[0], coords[1]\n",
    "    mag = doc['properties'].get('mag', None)\n",
    "    place = doc['properties'].get('place', '')\n",
    "    time = doc['properties'].get('time', 0)\n",
    "    # 时间戳转字符串\n",
    "    time_str = datetime.datetime.utcfromtimestamp(time/1000).strftime('%Y-%m-%d %H:%M:%S')\n",
    "    records.append({\n",
    "        '经度': lon,\n",
    "        '纬度': lat,\n",
    "        '地点': place,\n",
    "        '时间': time_str,\n",
    "        '震级': mag\n",
    "    })\n",
    "\n",
    "df = pd.DataFrame(records)\n",
    "\n",
    "# 用plotly画世界地图\n",
    "# 震级小于0的取绝对值，并设置最小marker size，避免负值和0\n",
    "df['marker_size'] = df['震级'].abs().clip(lower=0.1) * 5  # 可调整乘数以改变点大小\n",
    "\n",
    "fig = px.scatter_geo(\n",
    "    df,\n",
    "    lon='经度',\n",
    "    lat='纬度',\n",
    "    hover_name='地点',\n",
    "    hover_data=['时间', '震级'],\n",
    "    color='震级',\n",
    "    color_continuous_scale='Reds',\n",
    "    size='marker_size',\n",
    "    projection='natural earth',\n",
    "    title='全球地震分布'\n",
    ")\n",
    "fig.show()"
   ]
  }
 ],
 "metadata": {
  "kernelspec": {
   "display_name": "Python 3",
   "language": "python",
   "name": "python3"
  },
  "language_info": {
   "codemirror_mode": {
    "name": "ipython",
    "version": 3
   },
   "file_extension": ".py",
   "mimetype": "text/x-python",
   "name": "python",
   "nbconvert_exporter": "python",
   "pygments_lexer": "ipython3",
   "version": "3.11.8"
  }
 },
 "nbformat": 4,
 "nbformat_minor": 5
}
